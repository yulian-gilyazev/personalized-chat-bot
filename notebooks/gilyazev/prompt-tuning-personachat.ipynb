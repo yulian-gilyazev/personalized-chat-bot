{
 "cells": [
  {
   "cell_type": "markdown",
   "id": "a07e0f5e",
   "metadata": {},
   "source": [
    "<div>\n",
    "<img src=\"https://camo.githubusercontent.com/473dd9f992924d27457650251786464f72e54121ac6e9210add0f483ca849277/68747470733a2f2f692e696d6775722e636f6d2f3765523750616e2e706e67\" width=\"40%\">  \n",
    "</div>\n",
    "\n",
    "# Distributed Bloom for Text Generation using Prompt Tuning\n",
    "\n",
    "In this example, we show how to use [prompt tuning](https://aclanthology.org/2021.emnlp-main.243.pdf) to adapt a test 6B version of the [BLOOM](https://huggingface.co/bigscience/bloom) model for a specific downstream task. We will run this model in a decentralized fashion using [Petals](https://github.com/bigscience-workshop/petals). Petals servers will maintain the BLOOM blocks (they are kept unchanged during adaptation), and the gradient descent will learn a few prefix tokens stored on a Petals client.\n",
    "\n",
    "We will adapt the BLOOM model for the chatbot task using the [Personachat](https://huggingface.co/datasets/bavard/personachat_truecased) dataset. For a given dialogue context, the model has to provide a relevant answer."
   ]
  },
  {
   "cell_type": "markdown",
   "id": "a3f8526f",
   "metadata": {},
   "source": [
    "First, we have to prepare all dependencies."
   ]
  },
  {
   "cell_type": "code",
   "execution_count": 20,
   "id": "b4ab6ca7",
   "metadata": {},
   "outputs": [],
   "source": [
    "import os\n",
    "import sys\n",
    "sys.path.insert(0, \"../../../petals\")\n",
    " \n",
    "import torch\n",
    "import transformers\n",
    "import wandb\n",
    "from datasets import load_dataset\n",
    "from tqdm import tqdm\n",
    "from torch.optim import AdamW\n",
    "from torch.utils.data import DataLoader\n",
    "from transformers import get_scheduler\n",
    "from torch import nn\n",
    "\n",
    "# Import a Petals model\n",
    "from src.client.remote_model import DistributedBloomForCausalLM"
   ]
  },
  {
   "cell_type": "markdown",
   "id": "1bf07b5d",
   "metadata": {},
   "source": [
    "Let's set some hyperparameters for training:"
   ]
  },
  {
   "cell_type": "code",
   "execution_count": 2,
   "id": "f04ba4d2",
   "metadata": {},
   "outputs": [],
   "source": [
    "MODEL_NAME = \"bigscience/test-bloomd-6b3\" # select model you like\n",
    "INITIAL_PEERS = [\"/ip4/193.106.95.184/tcp/31000/p2p/QmSg7izCDtowVTACbUmWvEiQZNY4wgCQ9T9Doo66K59X6q\"] # add your peers adresses here, like \"/ip4/192.168.1.2/tcp/31000/p2p/Qma....\"\n",
    "NUM_PREFIX_TOKENS = 16\n",
    "DEVICE = 'cpu'\n",
    "BATCH_SIZE = 4\n",
    "LR = 1e-2\n",
    "WEIGHT_DECAY = 0.0\n",
    "NUM_SAMPLES = 1000\n",
    "SEED = 42\n",
    "MODEL_MAX_LENGTH = 256\n",
    "TUNING_MODE = 'ptune' # choose between ['ptune', 'deep_ptune'] "
   ]
  },
  {
   "cell_type": "markdown",
   "id": "d38316bd",
   "metadata": {},
   "source": [
    "Prepare tokenizer and distributed model, connect it to servers."
   ]
  },
  {
   "cell_type": "code",
   "execution_count": 3,
   "id": "03c6e53e",
   "metadata": {},
   "outputs": [
    {
     "name": "stderr",
     "output_type": "stream",
     "text": [
      "Oct 28 12:56:03.927 [WARN] [/home/jagiljazev/personalized-chat-bot/notebooks/gilyazev/../../../petals/src/client/remote_sequential.py.__init__:34] RemoteSequential is in active development; expect adventures\n",
      "Some weights of DistributedBloomForCausalLM were not initialized from the model checkpoint at bigscience/test-bloomd-6b3 and are newly initialized: ['lm_head.word_embeddings.weight', 'prompt_embeddings.weight']\n",
      "You should probably TRAIN this model on a down-stream task to be able to use it for predictions and inference.\n"
     ]
    }
   ],
   "source": [
    "tokenizer = transformers.BloomTokenizerFast.from_pretrained(MODEL_NAME)\n",
    "tokenizer.padding_side = 'right'\n",
    "tokenizer.model_max_length = MODEL_MAX_LENGTH\n",
    "model = DistributedBloomForCausalLM.from_pretrained(\n",
    "    MODEL_NAME, \n",
    "    initial_peers=INITIAL_PEERS, \n",
    "    pre_seq_len=NUM_PREFIX_TOKENS, \n",
    "    tuning_mode=TUNING_MODE\n",
    ").to(DEVICE)"
   ]
  },
  {
   "cell_type": "markdown",
   "id": "042e3786",
   "metadata": {},
   "source": [
    "Let's prepare the Personachat dataset. We need two mapping functions, one to concatenate history and candidate answers, and another for tokenization."
   ]
  },
  {
   "cell_type": "code",
   "execution_count": 4,
   "id": "9c44d516",
   "metadata": {},
   "outputs": [
    {
     "name": "stderr",
     "output_type": "stream",
     "text": [
      "Oct 28 12:57:16.929 [WARN] [datasets.builder._create_builder_config:427] No config specified, defaulting to: personachat_truecased/full\n",
      "Oct 28 12:57:16.987 [WARN] [datasets.builder.download_and_prepare:739] Found cached dataset personachat_truecased (/home/jagiljazev/.cache/huggingface/datasets/bavard___personachat_truecased/full/1.0.0/73ee8f1a0d9e42255af5a8301877a2f3ac638e55b1cd9cbccca5ab7e23d2b638)\n"
     ]
    },
    {
     "data": {
      "application/vnd.jupyter.widget-view+json": {
       "model_id": "d422ab4219894aa1b3521282d9a443ea",
       "version_major": 2,
       "version_minor": 0
      },
      "text/plain": [
       "  0%|          | 0/2 [00:00<?, ?it/s]"
      ]
     },
     "metadata": {},
     "output_type": "display_data"
    },
    {
     "name": "stderr",
     "output_type": "stream",
     "text": [
      "Oct 28 12:57:17.053 [WARN] [datasets.arrow_dataset._map_single:2793] Loading cached processed dataset at /home/jagiljazev/.cache/huggingface/datasets/bavard___personachat_truecased/full/1.0.0/73ee8f1a0d9e42255af5a8301877a2f3ac638e55b1cd9cbccca5ab7e23d2b638/cache-5ecae882ebbd418d.arrow\n",
      "Oct 28 12:57:21.147 [WARN] [datasets.arrow_dataset._map_single:2793] Loading cached processed dataset at /home/jagiljazev/.cache/huggingface/datasets/bavard___personachat_truecased/full/1.0.0/73ee8f1a0d9e42255af5a8301877a2f3ac638e55b1cd9cbccca5ab7e23d2b638/cache-7000c64a1a527e4d.arrow\n",
      "Oct 28 12:57:21.478 [WARN] [datasets.arrow_dataset._map_single:2793] Loading cached processed dataset at /home/jagiljazev/.cache/huggingface/datasets/bavard___personachat_truecased/full/1.0.0/73ee8f1a0d9e42255af5a8301877a2f3ac638e55b1cd9cbccca5ab7e23d2b638/cache-76265556d7dc8064.arrow\n",
      "Oct 28 12:57:38.196 [WARN] [datasets.arrow_dataset._map_single:2793] Loading cached processed dataset at /home/jagiljazev/.cache/huggingface/datasets/bavard___personachat_truecased/full/1.0.0/73ee8f1a0d9e42255af5a8301877a2f3ac638e55b1cd9cbccca5ab7e23d2b638/cache-aa9db45f2f3ff956.arrow\n",
      "Oct 28 12:57:38.240 [WARN] [datasets.arrow_dataset.shuffle:3609] Loading cached shuffled indices for dataset at /home/jagiljazev/.cache/huggingface/datasets/bavard___personachat_truecased/full/1.0.0/73ee8f1a0d9e42255af5a8301877a2f3ac638e55b1cd9cbccca5ab7e23d2b638/cache-72898fb72c715c1b.arrow\n"
     ]
    }
   ],
   "source": [
    "dataset = load_dataset(\"bavard/personachat_truecased\")\n",
    "\n",
    "\n",
    "def chunking(examples):\n",
    "    inputs = [\n",
    "        \"\\n-----\\n\".join(history) + \"\\n-----\\n\" + candidate\n",
    "        for history, candidates in zip(examples[\"history\"], examples[\"candidates\"])\n",
    "        for candidate in candidates\n",
    "    ]\n",
    "    return {\"chunks\": inputs}\n",
    "\n",
    "\n",
    "def tokenize(examples):\n",
    "    outputs = {\n",
    "        \"input_ids\": tokenizer(examples[\"chunks\"], padding='max_length', truncation=True)[\"input_ids\"]\n",
    "    }\n",
    "    outputs[\"labels\"] = outputs[\"input_ids\"]\n",
    "    return outputs\n",
    "\n",
    "\n",
    "tokenized_datasets = (\n",
    "    dataset\n",
    "        .map(chunking, batched=True, remove_columns=dataset[\"train\"].column_names)\n",
    "        .map(tokenize, batched=True, remove_columns=[\"chunks\"])\n",
    ")\n",
    "\n",
    "\n",
    "tokenized_datasets.set_format(\"torch\")\n",
    "train_dataset = tokenized_datasets[\"train\"].shuffle(seed=SEED)\n",
    "train_dataloader = DataLoader(\n",
    "    train_dataset.select(list(range(NUM_SAMPLES))),\n",
    "    shuffle=True,\n",
    "    batch_size=BATCH_SIZE,\n",
    "    drop_last=True,\n",
    ")"
   ]
  },
  {
   "cell_type": "markdown",
   "id": "ef4323fd",
   "metadata": {},
   "source": [
    "Before setting up optimizers, check the model parameters that will be trained."
   ]
  },
  {
   "cell_type": "code",
   "execution_count": 5,
   "id": "9cc0ba34",
   "metadata": {},
   "outputs": [
    {
     "name": "stdout",
     "output_type": "stream",
     "text": [
      "transformer.prompt_embeddings.weight True cpu\n"
     ]
    }
   ],
   "source": [
    "for n, p in model.named_parameters():\n",
    "    if p.requires_grad:\n",
    "        print(n, p.requires_grad, p.device)"
   ]
  },
  {
   "cell_type": "markdown",
   "id": "59cffce7",
   "metadata": {},
   "source": [
    "The optimizer will only work on **prompts**, they are only trainable parameters. Let's initialize optimizer and learning rate scheduler."
   ]
  },
  {
   "cell_type": "code",
   "execution_count": 6,
   "id": "ef9bf344",
   "metadata": {},
   "outputs": [],
   "source": [
    "optimizer = AdamW(model.parameters(), lr=LR, weight_decay=WEIGHT_DECAY)\n",
    "\n",
    "lr_scheduler = get_scheduler(\n",
    "    name=\"linear\", optimizer=optimizer, num_warmup_steps=0, num_training_steps=len(train_dataloader)\n",
    ")"
   ]
  },
  {
   "cell_type": "markdown",
   "id": "423c56d5",
   "metadata": {},
   "source": [
    "Let's initialize wandb for logging and start the training loop!"
   ]
  },
  {
   "cell_type": "code",
   "execution_count": 18,
   "id": "ee5d6fb1",
   "metadata": {},
   "outputs": [
    {
     "name": "stderr",
     "output_type": "stream",
     "text": [
      "  0%|          | 0/250 [00:00<?, ?it/s]"
     ]
    },
    {
     "name": "stdout",
     "output_type": "stream",
     "text": [
      "{'input_ids': tensor([[  1270, 158204,  84148,  ...,      3,      3,      3],\n",
      "        [ 47569,   1130,  25008,  ...,      3,      3,      3],\n",
      "        [  1270, 158204,  84148,  ...,      3,      3,      3],\n",
      "        [  1270, 158204,  84148,  ...,      3,      3,      3]]), 'labels': tensor([[  1270, 158204,  84148,  ...,      3,      3,      3],\n",
      "        [ 47569,   1130,  25008,  ...,      3,      3,      3],\n",
      "        [  1270, 158204,  84148,  ...,      3,      3,      3],\n",
      "        [  1270, 158204,  84148,  ...,      3,      3,      3]])}\n"
     ]
    },
    {
     "name": "stderr",
     "output_type": "stream",
     "text": [
      "\n"
     ]
    }
   ],
   "source": [
    "for batch in tqdm(train_dataloader):\n",
    "    batch = {k: v.to(DEVICE) for k, v in batch.items()}\n",
    "    print(batch)\n",
    "    break"
   ]
  },
  {
   "cell_type": "code",
   "execution_count": 14,
   "id": "67b45b38",
   "metadata": {},
   "outputs": [
    {
     "name": "stderr",
     "output_type": "stream",
     "text": [
      "Oct 28 14:52:25.194 [WARN] [datasets.arrow_dataset._map_single:2793] Loading cached processed dataset at /home/jagiljazev/.cache/huggingface/datasets/bavard___personachat_truecased/full/1.0.0/73ee8f1a0d9e42255af5a8301877a2f3ac638e55b1cd9cbccca5ab7e23d2b638/cache-5ecae882ebbd418d.arrow\n",
      "Oct 28 14:52:25.244 [WARN] [datasets.arrow_dataset._map_single:2793] Loading cached processed dataset at /home/jagiljazev/.cache/huggingface/datasets/bavard___personachat_truecased/full/1.0.0/73ee8f1a0d9e42255af5a8301877a2f3ac638e55b1cd9cbccca5ab7e23d2b638/cache-7000c64a1a527e4d.arrow\n"
     ]
    },
    {
     "data": {
      "text/plain": [
       "DatasetDict({\n",
       "    train: Dataset({\n",
       "        features: ['chunks'],\n",
       "        num_rows: 2628760\n",
       "    })\n",
       "    validation: Dataset({\n",
       "        features: ['chunks'],\n",
       "        num_rows: 156020\n",
       "    })\n",
       "})"
      ]
     },
     "execution_count": 14,
     "metadata": {},
     "output_type": "execute_result"
    }
   ],
   "source": [
    "dataset.map(chunking, batched=True, remove_columns=dataset[\"train\"].column_names)"
   ]
  },
  {
   "cell_type": "code",
   "execution_count": 16,
   "id": "e3f1922f",
   "metadata": {},
   "outputs": [
    {
     "name": "stderr",
     "output_type": "stream",
     "text": [
      "Oct 28 14:52:43.547 [WARN] [datasets.arrow_dataset._map_single:2793] Loading cached processed dataset at /home/jagiljazev/.cache/huggingface/datasets/bavard___personachat_truecased/full/1.0.0/73ee8f1a0d9e42255af5a8301877a2f3ac638e55b1cd9cbccca5ab7e23d2b638/cache-5ecae882ebbd418d.arrow\n",
      "Oct 28 14:52:43.596 [WARN] [datasets.arrow_dataset._map_single:2793] Loading cached processed dataset at /home/jagiljazev/.cache/huggingface/datasets/bavard___personachat_truecased/full/1.0.0/73ee8f1a0d9e42255af5a8301877a2f3ac638e55b1cd9cbccca5ab7e23d2b638/cache-7000c64a1a527e4d.arrow\n"
     ]
    },
    {
     "data": {
      "text/plain": [
       "[\"Hi, how are you doing? I'm getting ready to do some cheetah chasing to stay in shape.\\n-----\\nMy mom was single with 3 boys, so we never left the projects.\",\n",
       " \"Hi, how are you doing? I'm getting ready to do some cheetah chasing to stay in shape.\\n-----\\nI try to wear all black every day. It makes me feel comfortable.\",\n",
       " \"Hi, how are you doing? I'm getting ready to do some cheetah chasing to stay in shape.\\n-----\\nWell nursing stresses you out so I wish luck with sister.\",\n",
       " \"Hi, how are you doing? I'm getting ready to do some cheetah chasing to stay in shape.\\n-----\\nYeah just want to pick up Nba nfl getting old.\",\n",
       " \"Hi, how are you doing? I'm getting ready to do some cheetah chasing to stay in shape.\\n-----\\nI really like Celine Dion. What about you?\",\n",
       " \"Hi, how are you doing? I'm getting ready to do some cheetah chasing to stay in shape.\\n-----\\nNo. I live near farms.\",\n",
       " \"Hi, how are you doing? I'm getting ready to do some cheetah chasing to stay in shape.\\n-----\\nI wish I had a daughter, I'm a boy mom. They're beautiful boys though still lucky.\",\n",
       " \"Hi, how are you doing? I'm getting ready to do some cheetah chasing to stay in shape.\\n-----\\nYeah when I get bored I play gone with the wind my favorite movie.\",\n",
       " \"Hi, how are you doing? I'm getting ready to do some cheetah chasing to stay in shape.\\n-----\\nHi how are you? I'm eating dinner with my hubby and 2 kids.\",\n",
       " \"Hi, how are you doing? I'm getting ready to do some cheetah chasing to stay in shape.\\n-----\\nWere you married to your high school sweetheart? I was.\",\n",
       " \"Hi, how are you doing? I'm getting ready to do some cheetah chasing to stay in shape.\\n-----\\nThat is great to hear! Are you a competitive rider?\",\n",
       " \"Hi, how are you doing? I'm getting ready to do some cheetah chasing to stay in shape.\\n-----\\nHi, I'm doing ok. I'm a banker. How about you?\",\n",
       " \"Hi, how are you doing? I'm getting ready to do some cheetah chasing to stay in shape.\\n-----\\nI'm 5 years old.\",\n",
       " \"Hi, how are you doing? I'm getting ready to do some cheetah chasing to stay in shape.\\n-----\\nHi there. How are you today?\",\n",
       " \"Hi, how are you doing? I'm getting ready to do some cheetah chasing to stay in shape.\\n-----\\nI totally understand how stressful that can be.\",\n",
       " \"Hi, how are you doing? I'm getting ready to do some cheetah chasing to stay in shape.\\n-----\\nYeah sometimes you do not know what you are actually watching.\",\n",
       " \"Hi, how are you doing? I'm getting ready to do some cheetah chasing to stay in shape.\\n-----\\nMother taught me to cook! We are looking for an exterminator.\",\n",
       " \"Hi, how are you doing? I'm getting ready to do some cheetah chasing to stay in shape.\\n-----\\nI enjoy romantic movie. What is your favorite season? Mine is summer.\",\n",
       " \"Hi, how are you doing? I'm getting ready to do some cheetah chasing to stay in shape.\\n-----\\nEditing photos takes a lot of work.\",\n",
       " \"Hi, how are you doing? I'm getting ready to do some cheetah chasing to stay in shape.\\n-----\\nYou must be very fast. Hunting is one of my favorite hobbies.\",\n",
       " \"Hi, how are you doing? I'm getting ready to do some cheetah chasing to stay in shape.\\n-----\\nYou must be very fast. Hunting is one of my favorite hobbies.\\n-----\\nI am! For my hobby I like to do canning or some whittling.\\n-----\\nHello I am doing well how are you?\",\n",
       " \"Hi, how are you doing? I'm getting ready to do some cheetah chasing to stay in shape.\\n-----\\nYou must be very fast. Hunting is one of my favorite hobbies.\\n-----\\nI am! For my hobby I like to do canning or some whittling.\\n-----\\nLl something like that. Do you play games?\",\n",
       " \"Hi, how are you doing? I'm getting ready to do some cheetah chasing to stay in shape.\\n-----\\nYou must be very fast. Hunting is one of my favorite hobbies.\\n-----\\nI am! For my hobby I like to do canning or some whittling.\\n-----\\nDoes anything give you relief? I hate taking medicine for mine.\",\n",
       " \"Hi, how are you doing? I'm getting ready to do some cheetah chasing to stay in shape.\\n-----\\nYou must be very fast. Hunting is one of my favorite hobbies.\\n-----\\nI am! For my hobby I like to do canning or some whittling.\\n-----\\nI decorate cakes at a local bakery! And you?\",\n",
       " \"Hi, how are you doing? I'm getting ready to do some cheetah chasing to stay in shape.\\n-----\\nYou must be very fast. Hunting is one of my favorite hobbies.\\n-----\\nI am! For my hobby I like to do canning or some whittling.\\n-----\\nDo you eat lots of meat.\",\n",
       " \"Hi, how are you doing? I'm getting ready to do some cheetah chasing to stay in shape.\\n-----\\nYou must be very fast. Hunting is one of my favorite hobbies.\\n-----\\nI am! For my hobby I like to do canning or some whittling.\\n-----\\nI am so weird that I like to collect people and cats.\",\n",
       " \"Hi, how are you doing? I'm getting ready to do some cheetah chasing to stay in shape.\\n-----\\nYou must be very fast. Hunting is one of my favorite hobbies.\\n-----\\nI am! For my hobby I like to do canning or some whittling.\\n-----\\nHow are your typing skills?\",\n",
       " \"Hi, how are you doing? I'm getting ready to do some cheetah chasing to stay in shape.\\n-----\\nYou must be very fast. Hunting is one of my favorite hobbies.\\n-----\\nI am! For my hobby I like to do canning or some whittling.\\n-----\\nYeah. I am headed to the gym in a bit to weight lift.\",\n",
       " \"Hi, how are you doing? I'm getting ready to do some cheetah chasing to stay in shape.\\n-----\\nYou must be very fast. Hunting is one of my favorite hobbies.\\n-----\\nI am! For my hobby I like to do canning or some whittling.\\n-----\\nYeah you have plenty of time.\",\n",
       " \"Hi, how are you doing? I'm getting ready to do some cheetah chasing to stay in shape.\\n-----\\nYou must be very fast. Hunting is one of my favorite hobbies.\\n-----\\nI am! For my hobby I like to do canning or some whittling.\\n-----\\nMetal is my favorite, but I can accept that people listen to country. Haha.\",\n",
       " \"Hi, how are you doing? I'm getting ready to do some cheetah chasing to stay in shape.\\n-----\\nYou must be very fast. Hunting is one of my favorite hobbies.\\n-----\\nI am! For my hobby I like to do canning or some whittling.\\n-----\\nThat's why you desire to be controlled. Let me control you person one.\",\n",
       " \"Hi, how are you doing? I'm getting ready to do some cheetah chasing to stay in shape.\\n-----\\nYou must be very fast. Hunting is one of my favorite hobbies.\\n-----\\nI am! For my hobby I like to do canning or some whittling.\\n-----\\nTwo dogs they are the best, how about you?\",\n",
       " \"Hi, how are you doing? I'm getting ready to do some cheetah chasing to stay in shape.\\n-----\\nYou must be very fast. Hunting is one of my favorite hobbies.\\n-----\\nI am! For my hobby I like to do canning or some whittling.\\n-----\\nYou do art? What kind of art do you do?\",\n",
       " \"Hi, how are you doing? I'm getting ready to do some cheetah chasing to stay in shape.\\n-----\\nYou must be very fast. Hunting is one of my favorite hobbies.\\n-----\\nI am! For my hobby I like to do canning or some whittling.\\n-----\\nI love watching baseball outdoors on sunny days.\",\n",
       " \"Hi, how are you doing? I'm getting ready to do some cheetah chasing to stay in shape.\\n-----\\nYou must be very fast. Hunting is one of my favorite hobbies.\\n-----\\nI am! For my hobby I like to do canning or some whittling.\\n-----\\nOh I see. Do you ever think about moving? I do, it is what I want.\",\n",
       " \"Hi, how are you doing? I'm getting ready to do some cheetah chasing to stay in shape.\\n-----\\nYou must be very fast. Hunting is one of my favorite hobbies.\\n-----\\nI am! For my hobby I like to do canning or some whittling.\\n-----\\nSure. I wish it were winter. The sun really hurts my blue eyes.\",\n",
       " \"Hi, how are you doing? I'm getting ready to do some cheetah chasing to stay in shape.\\n-----\\nYou must be very fast. Hunting is one of my favorite hobbies.\\n-----\\nI am! For my hobby I like to do canning or some whittling.\\n-----\\nAre we pretending to play tennis.\",\n",
       " \"Hi, how are you doing? I'm getting ready to do some cheetah chasing to stay in shape.\\n-----\\nYou must be very fast. Hunting is one of my favorite hobbies.\\n-----\\nI am! For my hobby I like to do canning or some whittling.\\n-----\\nI am rich and have all of my dreams fulfilled already.\",\n",
       " \"Hi, how are you doing? I'm getting ready to do some cheetah chasing to stay in shape.\\n-----\\nYou must be very fast. Hunting is one of my favorite hobbies.\\n-----\\nI am! For my hobby I like to do canning or some whittling.\\n-----\\nThey tire me so, I probably sleep about 10 hrs a day because of them.\",\n",
       " \"Hi, how are you doing? I'm getting ready to do some cheetah chasing to stay in shape.\\n-----\\nYou must be very fast. Hunting is one of my favorite hobbies.\\n-----\\nI am! For my hobby I like to do canning or some whittling.\\n-----\\nI also remodel homes when I am not out bow hunting.\",\n",
       " \"Hi, how are you doing? I'm getting ready to do some cheetah chasing to stay in shape.\\n-----\\nYou must be very fast. Hunting is one of my favorite hobbies.\\n-----\\nI am! For my hobby I like to do canning or some whittling.\\n-----\\nI also remodel homes when I am not out bow hunting.\\n-----\\nThat's neat. When I was in high school I placed 6th in 100m dash!\\n-----\\nYes they do but I say no to them lol.\",\n",
       " \"Hi, how are you doing? I'm getting ready to do some cheetah chasing to stay in shape.\\n-----\\nYou must be very fast. Hunting is one of my favorite hobbies.\\n-----\\nI am! For my hobby I like to do canning or some whittling.\\n-----\\nI also remodel homes when I am not out bow hunting.\\n-----\\nThat's neat. When I was in high school I placed 6th in 100m dash!\\n-----\\nI have trouble getting along with family.\",\n",
       " \"Hi, how are you doing? I'm getting ready to do some cheetah chasing to stay in shape.\\n-----\\nYou must be very fast. Hunting is one of my favorite hobbies.\\n-----\\nI am! For my hobby I like to do canning or some whittling.\\n-----\\nI also remodel homes when I am not out bow hunting.\\n-----\\nThat's neat. When I was in high school I placed 6th in 100m dash!\\n-----\\nI live in Texas, what kind of stuff do you do in Toronto?\",\n",
       " \"Hi, how are you doing? I'm getting ready to do some cheetah chasing to stay in shape.\\n-----\\nYou must be very fast. Hunting is one of my favorite hobbies.\\n-----\\nI am! For my hobby I like to do canning or some whittling.\\n-----\\nI also remodel homes when I am not out bow hunting.\\n-----\\nThat's neat. When I was in high school I placed 6th in 100m dash!\\n-----\\nThat's so unique! Veganism and line dancing usually don't mix!\",\n",
       " \"Hi, how are you doing? I'm getting ready to do some cheetah chasing to stay in shape.\\n-----\\nYou must be very fast. Hunting is one of my favorite hobbies.\\n-----\\nI am! For my hobby I like to do canning or some whittling.\\n-----\\nI also remodel homes when I am not out bow hunting.\\n-----\\nThat's neat. When I was in high school I placed 6th in 100m dash!\\n-----\\nNo, it isn't that big. Do you travel a lot.\",\n",
       " \"Hi, how are you doing? I'm getting ready to do some cheetah chasing to stay in shape.\\n-----\\nYou must be very fast. Hunting is one of my favorite hobbies.\\n-----\\nI am! For my hobby I like to do canning or some whittling.\\n-----\\nI also remodel homes when I am not out bow hunting.\\n-----\\nThat's neat. When I was in high school I placed 6th in 100m dash!\\n-----\\nThat's because they are real; what do you do for work?\",\n",
       " \"Hi, how are you doing? I'm getting ready to do some cheetah chasing to stay in shape.\\n-----\\nYou must be very fast. Hunting is one of my favorite hobbies.\\n-----\\nI am! For my hobby I like to do canning or some whittling.\\n-----\\nI also remodel homes when I am not out bow hunting.\\n-----\\nThat's neat. When I was in high school I placed 6th in 100m dash!\\n-----\\nI am lazy all day lol. My mom wants me to get a job and move out.\",\n",
       " \"Hi, how are you doing? I'm getting ready to do some cheetah chasing to stay in shape.\\n-----\\nYou must be very fast. Hunting is one of my favorite hobbies.\\n-----\\nI am! For my hobby I like to do canning or some whittling.\\n-----\\nI also remodel homes when I am not out bow hunting.\\n-----\\nThat's neat. When I was in high school I placed 6th in 100m dash!\\n-----\\nI was born on Arbor day, so plant a tree in my name.\",\n",
       " \"Hi, how are you doing? I'm getting ready to do some cheetah chasing to stay in shape.\\n-----\\nYou must be very fast. Hunting is one of my favorite hobbies.\\n-----\\nI am! For my hobby I like to do canning or some whittling.\\n-----\\nI also remodel homes when I am not out bow hunting.\\n-----\\nThat's neat. When I was in high school I placed 6th in 100m dash!\\n-----\\nOkay, I should not tell you, its against the rules but my name is Sarah, call me O.\",\n",
       " \"Hi, how are you doing? I'm getting ready to do some cheetah chasing to stay in shape.\\n-----\\nYou must be very fast. Hunting is one of my favorite hobbies.\\n-----\\nI am! For my hobby I like to do canning or some whittling.\\n-----\\nI also remodel homes when I am not out bow hunting.\\n-----\\nThat's neat. When I was in high school I placed 6th in 100m dash!\\n-----\\nHello how are u tonight.\",\n",
       " \"Hi, how are you doing? I'm getting ready to do some cheetah chasing to stay in shape.\\n-----\\nYou must be very fast. Hunting is one of my favorite hobbies.\\n-----\\nI am! For my hobby I like to do canning or some whittling.\\n-----\\nI also remodel homes when I am not out bow hunting.\\n-----\\nThat's neat. When I was in high school I placed 6th in 100m dash!\\n-----\\nCool... my parents love country music that's why I hate it.\",\n",
       " \"Hi, how are you doing? I'm getting ready to do some cheetah chasing to stay in shape.\\n-----\\nYou must be very fast. Hunting is one of my favorite hobbies.\\n-----\\nI am! For my hobby I like to do canning or some whittling.\\n-----\\nI also remodel homes when I am not out bow hunting.\\n-----\\nThat's neat. When I was in high school I placed 6th in 100m dash!\\n-----\\nI am an accountant. What do you do?\",\n",
       " \"Hi, how are you doing? I'm getting ready to do some cheetah chasing to stay in shape.\\n-----\\nYou must be very fast. Hunting is one of my favorite hobbies.\\n-----\\nI am! For my hobby I like to do canning or some whittling.\\n-----\\nI also remodel homes when I am not out bow hunting.\\n-----\\nThat's neat. When I was in high school I placed 6th in 100m dash!\\n-----\\nWhat do your parents do? My dad is a mechanic.\",\n",
       " \"Hi, how are you doing? I'm getting ready to do some cheetah chasing to stay in shape.\\n-----\\nYou must be very fast. Hunting is one of my favorite hobbies.\\n-----\\nI am! For my hobby I like to do canning or some whittling.\\n-----\\nI also remodel homes when I am not out bow hunting.\\n-----\\nThat's neat. When I was in high school I placed 6th in 100m dash!\\n-----\\nHow are you liking it?\",\n",
       " \"Hi, how are you doing? I'm getting ready to do some cheetah chasing to stay in shape.\\n-----\\nYou must be very fast. Hunting is one of my favorite hobbies.\\n-----\\nI am! For my hobby I like to do canning or some whittling.\\n-----\\nI also remodel homes when I am not out bow hunting.\\n-----\\nThat's neat. When I was in high school I placed 6th in 100m dash!\\n-----\\nI really am too. Great talking to you too.\",\n",
       " \"Hi, how are you doing? I'm getting ready to do some cheetah chasing to stay in shape.\\n-----\\nYou must be very fast. Hunting is one of my favorite hobbies.\\n-----\\nI am! For my hobby I like to do canning or some whittling.\\n-----\\nI also remodel homes when I am not out bow hunting.\\n-----\\nThat's neat. When I was in high school I placed 6th in 100m dash!\\n-----\\nCool. Whats it like working there?\",\n",
       " \"Hi, how are you doing? I'm getting ready to do some cheetah chasing to stay in shape.\\n-----\\nYou must be very fast. Hunting is one of my favorite hobbies.\\n-----\\nI am! For my hobby I like to do canning or some whittling.\\n-----\\nI also remodel homes when I am not out bow hunting.\\n-----\\nThat's neat. When I was in high school I placed 6th in 100m dash!\\n-----\\nOne daughter. She's pre med.\",\n",
       " \"Hi, how are you doing? I'm getting ready to do some cheetah chasing to stay in shape.\\n-----\\nYou must be very fast. Hunting is one of my favorite hobbies.\\n-----\\nI am! For my hobby I like to do canning or some whittling.\\n-----\\nI also remodel homes when I am not out bow hunting.\\n-----\\nThat's neat. When I was in high school I placed 6th in 100m dash!\\n-----\\nNo and all men is taller than me why can't I find a man to dance with.\",\n",
       " \"Hi, how are you doing? I'm getting ready to do some cheetah chasing to stay in shape.\\n-----\\nYou must be very fast. Hunting is one of my favorite hobbies.\\n-----\\nI am! For my hobby I like to do canning or some whittling.\\n-----\\nI also remodel homes when I am not out bow hunting.\\n-----\\nThat's neat. When I was in high school I placed 6th in 100m dash!\\n-----\\nI live in Utah, and my family live in England, so I understand.\",\n",
       " \"Hi, how are you doing? I'm getting ready to do some cheetah chasing to stay in shape.\\n-----\\nYou must be very fast. Hunting is one of my favorite hobbies.\\n-----\\nI am! For my hobby I like to do canning or some whittling.\\n-----\\nI also remodel homes when I am not out bow hunting.\\n-----\\nThat's neat. When I was in high school I placed 6th in 100m dash!\\n-----\\nThat's awesome. Do you have a favorite season or time of year?\",\n",
       " \"Hi, how are you doing? I'm getting ready to do some cheetah chasing to stay in shape.\\n-----\\nYou must be very fast. Hunting is one of my favorite hobbies.\\n-----\\nI am! For my hobby I like to do canning or some whittling.\\n-----\\nI also remodel homes when I am not out bow hunting.\\n-----\\nThat's neat. When I was in high school I placed 6th in 100m dash!\\n-----\\nThat's awesome. Do you have a favorite season or time of year?\\n-----\\nI do not. But I do have a favorite meat since that is all I eat exclusively.\\n-----\\nNot really, it is just a small local radio station. What about you, what do you do?\",\n",
       " \"Hi, how are you doing? I'm getting ready to do some cheetah chasing to stay in shape.\\n-----\\nYou must be very fast. Hunting is one of my favorite hobbies.\\n-----\\nI am! For my hobby I like to do canning or some whittling.\\n-----\\nI also remodel homes when I am not out bow hunting.\\n-----\\nThat's neat. When I was in high school I placed 6th in 100m dash!\\n-----\\nThat's awesome. Do you have a favorite season or time of year?\\n-----\\nI do not. But I do have a favorite meat since that is all I eat exclusively.\\n-----\\nMe too! People always say I am so organized.\",\n",
       " \"Hi, how are you doing? I'm getting ready to do some cheetah chasing to stay in shape.\\n-----\\nYou must be very fast. Hunting is one of my favorite hobbies.\\n-----\\nI am! For my hobby I like to do canning or some whittling.\\n-----\\nI also remodel homes when I am not out bow hunting.\\n-----\\nThat's neat. When I was in high school I placed 6th in 100m dash!\\n-----\\nThat's awesome. Do you have a favorite season or time of year?\\n-----\\nI do not. But I do have a favorite meat since that is all I eat exclusively.\\n-----\\nNiagra fall is where our honeymoon will be.\",\n",
       " \"Hi, how are you doing? I'm getting ready to do some cheetah chasing to stay in shape.\\n-----\\nYou must be very fast. Hunting is one of my favorite hobbies.\\n-----\\nI am! For my hobby I like to do canning or some whittling.\\n-----\\nI also remodel homes when I am not out bow hunting.\\n-----\\nThat's neat. When I was in high school I placed 6th in 100m dash!\\n-----\\nThat's awesome. Do you have a favorite season or time of year?\\n-----\\nI do not. But I do have a favorite meat since that is all I eat exclusively.\\n-----\\nYes! I know how to be by myself. You? I do not need new friends. You?\",\n",
       " \"Hi, how are you doing? I'm getting ready to do some cheetah chasing to stay in shape.\\n-----\\nYou must be very fast. Hunting is one of my favorite hobbies.\\n-----\\nI am! For my hobby I like to do canning or some whittling.\\n-----\\nI also remodel homes when I am not out bow hunting.\\n-----\\nThat's neat. When I was in high school I placed 6th in 100m dash!\\n-----\\nThat's awesome. Do you have a favorite season or time of year?\\n-----\\nI do not. But I do have a favorite meat since that is all I eat exclusively.\\n-----\\nLl. my dad is a police officer and they have a sports team too.\",\n",
       " \"Hi, how are you doing? I'm getting ready to do some cheetah chasing to stay in shape.\\n-----\\nYou must be very fast. Hunting is one of my favorite hobbies.\\n-----\\nI am! For my hobby I like to do canning or some whittling.\\n-----\\nI also remodel homes when I am not out bow hunting.\\n-----\\nThat's neat. When I was in high school I placed 6th in 100m dash!\\n-----\\nThat's awesome. Do you have a favorite season or time of year?\\n-----\\nI do not. But I do have a favorite meat since that is all I eat exclusively.\\n-----\\nOh you should get your license.\",\n",
       " \"Hi, how are you doing? I'm getting ready to do some cheetah chasing to stay in shape.\\n-----\\nYou must be very fast. Hunting is one of my favorite hobbies.\\n-----\\nI am! For my hobby I like to do canning or some whittling.\\n-----\\nI also remodel homes when I am not out bow hunting.\\n-----\\nThat's neat. When I was in high school I placed 6th in 100m dash!\\n-----\\nThat's awesome. Do you have a favorite season or time of year?\\n-----\\nI do not. But I do have a favorite meat since that is all I eat exclusively.\\n-----\\nOkay you have a good day nice talking with you!\",\n",
       " \"Hi, how are you doing? I'm getting ready to do some cheetah chasing to stay in shape.\\n-----\\nYou must be very fast. Hunting is one of my favorite hobbies.\\n-----\\nI am! For my hobby I like to do canning or some whittling.\\n-----\\nI also remodel homes when I am not out bow hunting.\\n-----\\nThat's neat. When I was in high school I placed 6th in 100m dash!\\n-----\\nThat's awesome. Do you have a favorite season or time of year?\\n-----\\nI do not. But I do have a favorite meat since that is all I eat exclusively.\\n-----\\nI play some ball for a living.\",\n",
       " \"Hi, how are you doing? I'm getting ready to do some cheetah chasing to stay in shape.\\n-----\\nYou must be very fast. Hunting is one of my favorite hobbies.\\n-----\\nI am! For my hobby I like to do canning or some whittling.\\n-----\\nI also remodel homes when I am not out bow hunting.\\n-----\\nThat's neat. When I was in high school I placed 6th in 100m dash!\\n-----\\nThat's awesome. Do you have a favorite season or time of year?\\n-----\\nI do not. But I do have a favorite meat since that is all I eat exclusively.\\n-----\\nMe too! My asthma is really embarrassing and makes me uncomfortable around others.\",\n",
       " \"Hi, how are you doing? I'm getting ready to do some cheetah chasing to stay in shape.\\n-----\\nYou must be very fast. Hunting is one of my favorite hobbies.\\n-----\\nI am! For my hobby I like to do canning or some whittling.\\n-----\\nI also remodel homes when I am not out bow hunting.\\n-----\\nThat's neat. When I was in high school I placed 6th in 100m dash!\\n-----\\nThat's awesome. Do you have a favorite season or time of year?\\n-----\\nI do not. But I do have a favorite meat since that is all I eat exclusively.\\n-----\\nNetflix and good food is the best. Maybe lobster, my favorite seafood. Where ya from?\",\n",
       " \"Hi, how are you doing? I'm getting ready to do some cheetah chasing to stay in shape.\\n-----\\nYou must be very fast. Hunting is one of my favorite hobbies.\\n-----\\nI am! For my hobby I like to do canning or some whittling.\\n-----\\nI also remodel homes when I am not out bow hunting.\\n-----\\nThat's neat. When I was in high school I placed 6th in 100m dash!\\n-----\\nThat's awesome. Do you have a favorite season or time of year?\\n-----\\nI do not. But I do have a favorite meat since that is all I eat exclusively.\\n-----\\nOh nice. Why is that?\",\n",
       " \"Hi, how are you doing? I'm getting ready to do some cheetah chasing to stay in shape.\\n-----\\nYou must be very fast. Hunting is one of my favorite hobbies.\\n-----\\nI am! For my hobby I like to do canning or some whittling.\\n-----\\nI also remodel homes when I am not out bow hunting.\\n-----\\nThat's neat. When I was in high school I placed 6th in 100m dash!\\n-----\\nThat's awesome. Do you have a favorite season or time of year?\\n-----\\nI do not. But I do have a favorite meat since that is all I eat exclusively.\\n-----\\nSounds fun! I helped my wife with health issues, too.\",\n",
       " \"Hi, how are you doing? I'm getting ready to do some cheetah chasing to stay in shape.\\n-----\\nYou must be very fast. Hunting is one of my favorite hobbies.\\n-----\\nI am! For my hobby I like to do canning or some whittling.\\n-----\\nI also remodel homes when I am not out bow hunting.\\n-----\\nThat's neat. When I was in high school I placed 6th in 100m dash!\\n-----\\nThat's awesome. Do you have a favorite season or time of year?\\n-----\\nI do not. But I do have a favorite meat since that is all I eat exclusively.\\n-----\\nI am a night owl. I think I'll play the piano a little before bed.\",\n",
       " \"Hi, how are you doing? I'm getting ready to do some cheetah chasing to stay in shape.\\n-----\\nYou must be very fast. Hunting is one of my favorite hobbies.\\n-----\\nI am! For my hobby I like to do canning or some whittling.\\n-----\\nI also remodel homes when I am not out bow hunting.\\n-----\\nThat's neat. When I was in high school I placed 6th in 100m dash!\\n-----\\nThat's awesome. Do you have a favorite season or time of year?\\n-----\\nI do not. But I do have a favorite meat since that is all I eat exclusively.\\n-----\\nJust the real ones, not a big game person.\",\n",
       " \"Hi, how are you doing? I'm getting ready to do some cheetah chasing to stay in shape.\\n-----\\nYou must be very fast. Hunting is one of my favorite hobbies.\\n-----\\nI am! For my hobby I like to do canning or some whittling.\\n-----\\nI also remodel homes when I am not out bow hunting.\\n-----\\nThat's neat. When I was in high school I placed 6th in 100m dash!\\n-----\\nThat's awesome. Do you have a favorite season or time of year?\\n-----\\nI do not. But I do have a favorite meat since that is all I eat exclusively.\\n-----\\nI could be the next mrs. Adam Levine. Please, I'll buy you 10 mangoes.\",\n",
       " \"Hi, how are you doing? I'm getting ready to do some cheetah chasing to stay in shape.\\n-----\\nYou must be very fast. Hunting is one of my favorite hobbies.\\n-----\\nI am! For my hobby I like to do canning or some whittling.\\n-----\\nI also remodel homes when I am not out bow hunting.\\n-----\\nThat's neat. When I was in high school I placed 6th in 100m dash!\\n-----\\nThat's awesome. Do you have a favorite season or time of year?\\n-----\\nI do not. But I do have a favorite meat since that is all I eat exclusively.\\n-----\\nDo you like dogs I've usually to talk.\",\n",
       " \"Hi, how are you doing? I'm getting ready to do some cheetah chasing to stay in shape.\\n-----\\nYou must be very fast. Hunting is one of my favorite hobbies.\\n-----\\nI am! For my hobby I like to do canning or some whittling.\\n-----\\nI also remodel homes when I am not out bow hunting.\\n-----\\nThat's neat. When I was in high school I placed 6th in 100m dash!\\n-----\\nThat's awesome. Do you have a favorite season or time of year?\\n-----\\nI do not. But I do have a favorite meat since that is all I eat exclusively.\\n-----\\nWhat did she teach? My mom stayed home with my and my 3 older siblings.\",\n",
       " \"Hi, how are you doing? I'm getting ready to do some cheetah chasing to stay in shape.\\n-----\\nYou must be very fast. Hunting is one of my favorite hobbies.\\n-----\\nI am! For my hobby I like to do canning or some whittling.\\n-----\\nI also remodel homes when I am not out bow hunting.\\n-----\\nThat's neat. When I was in high school I placed 6th in 100m dash!\\n-----\\nThat's awesome. Do you have a favorite season or time of year?\\n-----\\nI do not. But I do have a favorite meat since that is all I eat exclusively.\\n-----\\nNeither do I, I am just a photographer, and that is already a ot of energy.\",\n",
       " \"Hi, how are you doing? I'm getting ready to do some cheetah chasing to stay in shape.\\n-----\\nYou must be very fast. Hunting is one of my favorite hobbies.\\n-----\\nI am! For my hobby I like to do canning or some whittling.\\n-----\\nI also remodel homes when I am not out bow hunting.\\n-----\\nThat's neat. When I was in high school I placed 6th in 100m dash!\\n-----\\nThat's awesome. Do you have a favorite season or time of year?\\n-----\\nI do not. But I do have a favorite meat since that is all I eat exclusively.\\n-----\\nNo, I say I am average at 5 4. are you vertically challenged?\",\n",
       " \"Hi, how are you doing? I'm getting ready to do some cheetah chasing to stay in shape.\\n-----\\nYou must be very fast. Hunting is one of my favorite hobbies.\\n-----\\nI am! For my hobby I like to do canning or some whittling.\\n-----\\nI also remodel homes when I am not out bow hunting.\\n-----\\nThat's neat. When I was in high school I placed 6th in 100m dash!\\n-----\\nThat's awesome. Do you have a favorite season or time of year?\\n-----\\nI do not. But I do have a favorite meat since that is all I eat exclusively.\\n-----\\nWhat is your favorite meat to eat?\",\n",
       " \"Hi, how are you doing? I'm getting ready to do some cheetah chasing to stay in shape.\\n-----\\nYou must be very fast. Hunting is one of my favorite hobbies.\\n-----\\nI am! For my hobby I like to do canning or some whittling.\\n-----\\nI also remodel homes when I am not out bow hunting.\\n-----\\nThat's neat. When I was in high school I placed 6th in 100m dash!\\n-----\\nThat's awesome. Do you have a favorite season or time of year?\\n-----\\nI do not. But I do have a favorite meat since that is all I eat exclusively.\\n-----\\nWhat is your favorite meat to eat?\\n-----\\nI would have to say its prime rib. Do you have any favorite foods?\\n-----\\nI am listening to system of a down, I wonder if your cat would like them.\",\n",
       " \"Hi, how are you doing? I'm getting ready to do some cheetah chasing to stay in shape.\\n-----\\nYou must be very fast. Hunting is one of my favorite hobbies.\\n-----\\nI am! For my hobby I like to do canning or some whittling.\\n-----\\nI also remodel homes when I am not out bow hunting.\\n-----\\nThat's neat. When I was in high school I placed 6th in 100m dash!\\n-----\\nThat's awesome. Do you have a favorite season or time of year?\\n-----\\nI do not. But I do have a favorite meat since that is all I eat exclusively.\\n-----\\nWhat is your favorite meat to eat?\\n-----\\nI would have to say its prime rib. Do you have any favorite foods?\\n-----\\nI absolutely agree, women are just as strong and capable.\",\n",
       " \"Hi, how are you doing? I'm getting ready to do some cheetah chasing to stay in shape.\\n-----\\nYou must be very fast. Hunting is one of my favorite hobbies.\\n-----\\nI am! For my hobby I like to do canning or some whittling.\\n-----\\nI also remodel homes when I am not out bow hunting.\\n-----\\nThat's neat. When I was in high school I placed 6th in 100m dash!\\n-----\\nThat's awesome. Do you have a favorite season or time of year?\\n-----\\nI do not. But I do have a favorite meat since that is all I eat exclusively.\\n-----\\nWhat is your favorite meat to eat?\\n-----\\nI would have to say its prime rib. Do you have any favorite foods?\\n-----\\nIn Denmark with my grandma. What about you?\",\n",
       " \"Hi, how are you doing? I'm getting ready to do some cheetah chasing to stay in shape.\\n-----\\nYou must be very fast. Hunting is one of my favorite hobbies.\\n-----\\nI am! For my hobby I like to do canning or some whittling.\\n-----\\nI also remodel homes when I am not out bow hunting.\\n-----\\nThat's neat. When I was in high school I placed 6th in 100m dash!\\n-----\\nThat's awesome. Do you have a favorite season or time of year?\\n-----\\nI do not. But I do have a favorite meat since that is all I eat exclusively.\\n-----\\nWhat is your favorite meat to eat?\\n-----\\nI would have to say its prime rib. Do you have any favorite foods?\\n-----\\nI live in backcountry Michigan. I encounter many sick, injured wildlife daily!\",\n",
       " \"Hi, how are you doing? I'm getting ready to do some cheetah chasing to stay in shape.\\n-----\\nYou must be very fast. Hunting is one of my favorite hobbies.\\n-----\\nI am! For my hobby I like to do canning or some whittling.\\n-----\\nI also remodel homes when I am not out bow hunting.\\n-----\\nThat's neat. When I was in high school I placed 6th in 100m dash!\\n-----\\nThat's awesome. Do you have a favorite season or time of year?\\n-----\\nI do not. But I do have a favorite meat since that is all I eat exclusively.\\n-----\\nWhat is your favorite meat to eat?\\n-----\\nI would have to say its prime rib. Do you have any favorite foods?\\n-----\\nI am great and you.\",\n",
       " \"Hi, how are you doing? I'm getting ready to do some cheetah chasing to stay in shape.\\n-----\\nYou must be very fast. Hunting is one of my favorite hobbies.\\n-----\\nI am! For my hobby I like to do canning or some whittling.\\n-----\\nI also remodel homes when I am not out bow hunting.\\n-----\\nThat's neat. When I was in high school I placed 6th in 100m dash!\\n-----\\nThat's awesome. Do you have a favorite season or time of year?\\n-----\\nI do not. But I do have a favorite meat since that is all I eat exclusively.\\n-----\\nWhat is your favorite meat to eat?\\n-----\\nI would have to say its prime rib. Do you have any favorite foods?\\n-----\\nI am a big foodie, I love to bake. How about you?\",\n",
       " \"Hi, how are you doing? I'm getting ready to do some cheetah chasing to stay in shape.\\n-----\\nYou must be very fast. Hunting is one of my favorite hobbies.\\n-----\\nI am! For my hobby I like to do canning or some whittling.\\n-----\\nI also remodel homes when I am not out bow hunting.\\n-----\\nThat's neat. When I was in high school I placed 6th in 100m dash!\\n-----\\nThat's awesome. Do you have a favorite season or time of year?\\n-----\\nI do not. But I do have a favorite meat since that is all I eat exclusively.\\n-----\\nWhat is your favorite meat to eat?\\n-----\\nI would have to say its prime rib. Do you have any favorite foods?\\n-----\\nDance!! I win alot of mone and trifies.. what do u do four fun?\",\n",
       " \"Hi, how are you doing? I'm getting ready to do some cheetah chasing to stay in shape.\\n-----\\nYou must be very fast. Hunting is one of my favorite hobbies.\\n-----\\nI am! For my hobby I like to do canning or some whittling.\\n-----\\nI also remodel homes when I am not out bow hunting.\\n-----\\nThat's neat. When I was in high school I placed 6th in 100m dash!\\n-----\\nThat's awesome. Do you have a favorite season or time of year?\\n-----\\nI do not. But I do have a favorite meat since that is all I eat exclusively.\\n-----\\nWhat is your favorite meat to eat?\\n-----\\nI would have to say its prime rib. Do you have any favorite foods?\\n-----\\nDo you do any sports? Swimming helps me keep my energy up.\",\n",
       " \"Hi, how are you doing? I'm getting ready to do some cheetah chasing to stay in shape.\\n-----\\nYou must be very fast. Hunting is one of my favorite hobbies.\\n-----\\nI am! For my hobby I like to do canning or some whittling.\\n-----\\nI also remodel homes when I am not out bow hunting.\\n-----\\nThat's neat. When I was in high school I placed 6th in 100m dash!\\n-----\\nThat's awesome. Do you have a favorite season or time of year?\\n-----\\nI do not. But I do have a favorite meat since that is all I eat exclusively.\\n-----\\nWhat is your favorite meat to eat?\\n-----\\nI would have to say its prime rib. Do you have any favorite foods?\\n-----\\nThey are excellent for the environment.\",\n",
       " \"Hi, how are you doing? I'm getting ready to do some cheetah chasing to stay in shape.\\n-----\\nYou must be very fast. Hunting is one of my favorite hobbies.\\n-----\\nI am! For my hobby I like to do canning or some whittling.\\n-----\\nI also remodel homes when I am not out bow hunting.\\n-----\\nThat's neat. When I was in high school I placed 6th in 100m dash!\\n-----\\nThat's awesome. Do you have a favorite season or time of year?\\n-----\\nI do not. But I do have a favorite meat since that is all I eat exclusively.\\n-----\\nWhat is your favorite meat to eat?\\n-----\\nI would have to say its prime rib. Do you have any favorite foods?\\n-----\\nI am going to catch some fish and think this over. Thanks dog!\",\n",
       " \"Hi, how are you doing? I'm getting ready to do some cheetah chasing to stay in shape.\\n-----\\nYou must be very fast. Hunting is one of my favorite hobbies.\\n-----\\nI am! For my hobby I like to do canning or some whittling.\\n-----\\nI also remodel homes when I am not out bow hunting.\\n-----\\nThat's neat. When I was in high school I placed 6th in 100m dash!\\n-----\\nThat's awesome. Do you have a favorite season or time of year?\\n-----\\nI do not. But I do have a favorite meat since that is all I eat exclusively.\\n-----\\nWhat is your favorite meat to eat?\\n-----\\nI would have to say its prime rib. Do you have any favorite foods?\\n-----\\nI am doing well! How about you?\",\n",
       " \"Hi, how are you doing? I'm getting ready to do some cheetah chasing to stay in shape.\\n-----\\nYou must be very fast. Hunting is one of my favorite hobbies.\\n-----\\nI am! For my hobby I like to do canning or some whittling.\\n-----\\nI also remodel homes when I am not out bow hunting.\\n-----\\nThat's neat. When I was in high school I placed 6th in 100m dash!\\n-----\\nThat's awesome. Do you have a favorite season or time of year?\\n-----\\nI do not. But I do have a favorite meat since that is all I eat exclusively.\\n-----\\nWhat is your favorite meat to eat?\\n-----\\nI would have to say its prime rib. Do you have any favorite foods?\\n-----\\nI like old cars better new cars are to expensive.\",\n",
       " \"Hi, how are you doing? I'm getting ready to do some cheetah chasing to stay in shape.\\n-----\\nYou must be very fast. Hunting is one of my favorite hobbies.\\n-----\\nI am! For my hobby I like to do canning or some whittling.\\n-----\\nI also remodel homes when I am not out bow hunting.\\n-----\\nThat's neat. When I was in high school I placed 6th in 100m dash!\\n-----\\nThat's awesome. Do you have a favorite season or time of year?\\n-----\\nI do not. But I do have a favorite meat since that is all I eat exclusively.\\n-----\\nWhat is your favorite meat to eat?\\n-----\\nI would have to say its prime rib. Do you have any favorite foods?\\n-----\\nI've met bill once. He seems like a nice guy.\",\n",
       " \"Hi, how are you doing? I'm getting ready to do some cheetah chasing to stay in shape.\\n-----\\nYou must be very fast. Hunting is one of my favorite hobbies.\\n-----\\nI am! For my hobby I like to do canning or some whittling.\\n-----\\nI also remodel homes when I am not out bow hunting.\\n-----\\nThat's neat. When I was in high school I placed 6th in 100m dash!\\n-----\\nThat's awesome. Do you have a favorite season or time of year?\\n-----\\nI do not. But I do have a favorite meat since that is all I eat exclusively.\\n-----\\nWhat is your favorite meat to eat?\\n-----\\nI would have to say its prime rib. Do you have any favorite foods?\\n-----\\nOh that is amazing. I've been trying to find someone who can help him.\",\n",
       " \"Hi, how are you doing? I'm getting ready to do some cheetah chasing to stay in shape.\\n-----\\nYou must be very fast. Hunting is one of my favorite hobbies.\\n-----\\nI am! For my hobby I like to do canning or some whittling.\\n-----\\nI also remodel homes when I am not out bow hunting.\\n-----\\nThat's neat. When I was in high school I placed 6th in 100m dash!\\n-----\\nThat's awesome. Do you have a favorite season or time of year?\\n-----\\nI do not. But I do have a favorite meat since that is all I eat exclusively.\\n-----\\nWhat is your favorite meat to eat?\\n-----\\nI would have to say its prime rib. Do you have any favorite foods?\\n-----\\nI am in my early 30s, what you do for living.\",\n",
       " \"Hi, how are you doing? I'm getting ready to do some cheetah chasing to stay in shape.\\n-----\\nYou must be very fast. Hunting is one of my favorite hobbies.\\n-----\\nI am! For my hobby I like to do canning or some whittling.\\n-----\\nI also remodel homes when I am not out bow hunting.\\n-----\\nThat's neat. When I was in high school I placed 6th in 100m dash!\\n-----\\nThat's awesome. Do you have a favorite season or time of year?\\n-----\\nI do not. But I do have a favorite meat since that is all I eat exclusively.\\n-----\\nWhat is your favorite meat to eat?\\n-----\\nI would have to say its prime rib. Do you have any favorite foods?\\n-----\\nSo, you are in college? I took foreign language in college.\",\n",
       " \"Hi, how are you doing? I'm getting ready to do some cheetah chasing to stay in shape.\\n-----\\nYou must be very fast. Hunting is one of my favorite hobbies.\\n-----\\nI am! For my hobby I like to do canning or some whittling.\\n-----\\nI also remodel homes when I am not out bow hunting.\\n-----\\nThat's neat. When I was in high school I placed 6th in 100m dash!\\n-----\\nThat's awesome. Do you have a favorite season or time of year?\\n-----\\nI do not. But I do have a favorite meat since that is all I eat exclusively.\\n-----\\nWhat is your favorite meat to eat?\\n-----\\nI would have to say its prime rib. Do you have any favorite foods?\\n-----\\nI just turned 30 the other day.\",\n",
       " \"Hi, how are you doing? I'm getting ready to do some cheetah chasing to stay in shape.\\n-----\\nYou must be very fast. Hunting is one of my favorite hobbies.\\n-----\\nI am! For my hobby I like to do canning or some whittling.\\n-----\\nI also remodel homes when I am not out bow hunting.\\n-----\\nThat's neat. When I was in high school I placed 6th in 100m dash!\\n-----\\nThat's awesome. Do you have a favorite season or time of year?\\n-----\\nI do not. But I do have a favorite meat since that is all I eat exclusively.\\n-----\\nWhat is your favorite meat to eat?\\n-----\\nI would have to say its prime rib. Do you have any favorite foods?\\n-----\\nWhat a coincidence I live up in Anchorage.\",\n",
       " \"Hi, how are you doing? I'm getting ready to do some cheetah chasing to stay in shape.\\n-----\\nYou must be very fast. Hunting is one of my favorite hobbies.\\n-----\\nI am! For my hobby I like to do canning or some whittling.\\n-----\\nI also remodel homes when I am not out bow hunting.\\n-----\\nThat's neat. When I was in high school I placed 6th in 100m dash!\\n-----\\nThat's awesome. Do you have a favorite season or time of year?\\n-----\\nI do not. But I do have a favorite meat since that is all I eat exclusively.\\n-----\\nWhat is your favorite meat to eat?\\n-----\\nI would have to say its prime rib. Do you have any favorite foods?\\n-----\\nThat would be interesting. I am going to be a forensic psychologist.\",\n",
       " \"Hi, how are you doing? I'm getting ready to do some cheetah chasing to stay in shape.\\n-----\\nYou must be very fast. Hunting is one of my favorite hobbies.\\n-----\\nI am! For my hobby I like to do canning or some whittling.\\n-----\\nI also remodel homes when I am not out bow hunting.\\n-----\\nThat's neat. When I was in high school I placed 6th in 100m dash!\\n-----\\nThat's awesome. Do you have a favorite season or time of year?\\n-----\\nI do not. But I do have a favorite meat since that is all I eat exclusively.\\n-----\\nWhat is your favorite meat to eat?\\n-----\\nI would have to say its prime rib. Do you have any favorite foods?\\n-----\\nI like chicken or macaroni and cheese.\",\n",
       " \"Hi, how are you doing? I'm getting ready to do some cheetah chasing to stay in shape.\\n-----\\nYou must be very fast. Hunting is one of my favorite hobbies.\\n-----\\nI am! For my hobby I like to do canning or some whittling.\\n-----\\nI also remodel homes when I am not out bow hunting.\\n-----\\nThat's neat. When I was in high school I placed 6th in 100m dash!\\n-----\\nThat's awesome. Do you have a favorite season or time of year?\\n-----\\nI do not. But I do have a favorite meat since that is all I eat exclusively.\\n-----\\nWhat is your favorite meat to eat?\\n-----\\nI would have to say its prime rib. Do you have any favorite foods?\\n-----\\nI like chicken or macaroni and cheese.\\n-----\\nDo you have anything planned for today? I think I am going to do some canning.\\n-----\\nThat sounds nice. Do you make your own?\",\n",
       " \"Hi, how are you doing? I'm getting ready to do some cheetah chasing to stay in shape.\\n-----\\nYou must be very fast. Hunting is one of my favorite hobbies.\\n-----\\nI am! For my hobby I like to do canning or some whittling.\\n-----\\nI also remodel homes when I am not out bow hunting.\\n-----\\nThat's neat. When I was in high school I placed 6th in 100m dash!\\n-----\\nThat's awesome. Do you have a favorite season or time of year?\\n-----\\nI do not. But I do have a favorite meat since that is all I eat exclusively.\\n-----\\nWhat is your favorite meat to eat?\\n-----\\nI would have to say its prime rib. Do you have any favorite foods?\\n-----\\nI like chicken or macaroni and cheese.\\n-----\\nDo you have anything planned for today? I think I am going to do some canning.\\n-----\\nI had a simple lunch so that I make my supper heavy after beach.\",\n",
       " \"Hi, how are you doing? I'm getting ready to do some cheetah chasing to stay in shape.\\n-----\\nYou must be very fast. Hunting is one of my favorite hobbies.\\n-----\\nI am! For my hobby I like to do canning or some whittling.\\n-----\\nI also remodel homes when I am not out bow hunting.\\n-----\\nThat's neat. When I was in high school I placed 6th in 100m dash!\\n-----\\nThat's awesome. Do you have a favorite season or time of year?\\n-----\\nI do not. But I do have a favorite meat since that is all I eat exclusively.\\n-----\\nWhat is your favorite meat to eat?\\n-----\\nI would have to say its prime rib. Do you have any favorite foods?\\n-----\\nI like chicken or macaroni and cheese.\\n-----\\nDo you have anything planned for today? I think I am going to do some canning.\\n-----\\nNice I may be able to beat you my hair is bright purple.\",\n",
       " \"Hi, how are you doing? I'm getting ready to do some cheetah chasing to stay in shape.\\n-----\\nYou must be very fast. Hunting is one of my favorite hobbies.\\n-----\\nI am! For my hobby I like to do canning or some whittling.\\n-----\\nI also remodel homes when I am not out bow hunting.\\n-----\\nThat's neat. When I was in high school I placed 6th in 100m dash!\\n-----\\nThat's awesome. Do you have a favorite season or time of year?\\n-----\\nI do not. But I do have a favorite meat since that is all I eat exclusively.\\n-----\\nWhat is your favorite meat to eat?\\n-----\\nI would have to say its prime rib. Do you have any favorite foods?\\n-----\\nI like chicken or macaroni and cheese.\\n-----\\nDo you have anything planned for today? I think I am going to do some canning.\\n-----\\nNot really I am kind of an introvert.\",\n",
       " \"Hi, how are you doing? I'm getting ready to do some cheetah chasing to stay in shape.\\n-----\\nYou must be very fast. Hunting is one of my favorite hobbies.\\n-----\\nI am! For my hobby I like to do canning or some whittling.\\n-----\\nI also remodel homes when I am not out bow hunting.\\n-----\\nThat's neat. When I was in high school I placed 6th in 100m dash!\\n-----\\nThat's awesome. Do you have a favorite season or time of year?\\n-----\\nI do not. But I do have a favorite meat since that is all I eat exclusively.\\n-----\\nWhat is your favorite meat to eat?\\n-----\\nI would have to say its prime rib. Do you have any favorite foods?\\n-----\\nI like chicken or macaroni and cheese.\\n-----\\nDo you have anything planned for today? I think I am going to do some canning.\\n-----\\nWell currently I am going to the university of Chicago to obtain a law degree.\",\n",
       " \"Hi, how are you doing? I'm getting ready to do some cheetah chasing to stay in shape.\\n-----\\nYou must be very fast. Hunting is one of my favorite hobbies.\\n-----\\nI am! For my hobby I like to do canning or some whittling.\\n-----\\nI also remodel homes when I am not out bow hunting.\\n-----\\nThat's neat. When I was in high school I placed 6th in 100m dash!\\n-----\\nThat's awesome. Do you have a favorite season or time of year?\\n-----\\nI do not. But I do have a favorite meat since that is all I eat exclusively.\\n-----\\nWhat is your favorite meat to eat?\\n-----\\nI would have to say its prime rib. Do you have any favorite foods?\\n-----\\nI like chicken or macaroni and cheese.\\n-----\\nDo you have anything planned for today? I think I am going to do some canning.\\n-----\\nAlso, my parents came with me, because they are on a break from teaching!\",\n",
       " \"Hi, how are you doing? I'm getting ready to do some cheetah chasing to stay in shape.\\n-----\\nYou must be very fast. Hunting is one of my favorite hobbies.\\n-----\\nI am! For my hobby I like to do canning or some whittling.\\n-----\\nI also remodel homes when I am not out bow hunting.\\n-----\\nThat's neat. When I was in high school I placed 6th in 100m dash!\\n-----\\nThat's awesome. Do you have a favorite season or time of year?\\n-----\\nI do not. But I do have a favorite meat since that is all I eat exclusively.\\n-----\\nWhat is your favorite meat to eat?\\n-----\\nI would have to say its prime rib. Do you have any favorite foods?\\n-----\\nI like chicken or macaroni and cheese.\\n-----\\nDo you have anything planned for today? I think I am going to do some canning.\\n-----\\nOh, I am sorry. Want to come play tennis with my two sisters and me?\",\n",
       " \"Hi, how are you doing? I'm getting ready to do some cheetah chasing to stay in shape.\\n-----\\nYou must be very fast. Hunting is one of my favorite hobbies.\\n-----\\nI am! For my hobby I like to do canning or some whittling.\\n-----\\nI also remodel homes when I am not out bow hunting.\\n-----\\nThat's neat. When I was in high school I placed 6th in 100m dash!\\n-----\\nThat's awesome. Do you have a favorite season or time of year?\\n-----\\nI do not. But I do have a favorite meat since that is all I eat exclusively.\\n-----\\nWhat is your favorite meat to eat?\\n-----\\nI would have to say its prime rib. Do you have any favorite foods?\\n-----\\nI like chicken or macaroni and cheese.\\n-----\\nDo you have anything planned for today? I think I am going to do some canning.\\n-----\\nWow! 2 sons. John and Wayne. You play guitar good?\",\n",
       " \"Hi, how are you doing? I'm getting ready to do some cheetah chasing to stay in shape.\\n-----\\nYou must be very fast. Hunting is one of my favorite hobbies.\\n-----\\nI am! For my hobby I like to do canning or some whittling.\\n-----\\nI also remodel homes when I am not out bow hunting.\\n-----\\nThat's neat. When I was in high school I placed 6th in 100m dash!\\n-----\\nThat's awesome. Do you have a favorite season or time of year?\\n-----\\nI do not. But I do have a favorite meat since that is all I eat exclusively.\\n-----\\nWhat is your favorite meat to eat?\\n-----\\nI would have to say its prime rib. Do you have any favorite foods?\\n-----\\nI like chicken or macaroni and cheese.\\n-----\\nDo you have anything planned for today? I think I am going to do some canning.\\n-----\\nWhat do you do all day then?\",\n",
       " \"Hi, how are you doing? I'm getting ready to do some cheetah chasing to stay in shape.\\n-----\\nYou must be very fast. Hunting is one of my favorite hobbies.\\n-----\\nI am! For my hobby I like to do canning or some whittling.\\n-----\\nI also remodel homes when I am not out bow hunting.\\n-----\\nThat's neat. When I was in high school I placed 6th in 100m dash!\\n-----\\nThat's awesome. Do you have a favorite season or time of year?\\n-----\\nI do not. But I do have a favorite meat since that is all I eat exclusively.\\n-----\\nWhat is your favorite meat to eat?\\n-----\\nI would have to say its prime rib. Do you have any favorite foods?\\n-----\\nI like chicken or macaroni and cheese.\\n-----\\nDo you have anything planned for today? I think I am going to do some canning.\\n-----\\nI work from home, what about you?\",\n",
       " \"Hi, how are you doing? I'm getting ready to do some cheetah chasing to stay in shape.\\n-----\\nYou must be very fast. Hunting is one of my favorite hobbies.\\n-----\\nI am! For my hobby I like to do canning or some whittling.\\n-----\\nI also remodel homes when I am not out bow hunting.\\n-----\\nThat's neat. When I was in high school I placed 6th in 100m dash!\\n-----\\nThat's awesome. Do you have a favorite season or time of year?\\n-----\\nI do not. But I do have a favorite meat since that is all I eat exclusively.\\n-----\\nWhat is your favorite meat to eat?\\n-----\\nI would have to say its prime rib. Do you have any favorite foods?\\n-----\\nI like chicken or macaroni and cheese.\\n-----\\nDo you have anything planned for today? I think I am going to do some canning.\\n-----\\nThat is no good. Have glasses?\",\n",
       " \"Hi, how are you doing? I'm getting ready to do some cheetah chasing to stay in shape.\\n-----\\nYou must be very fast. Hunting is one of my favorite hobbies.\\n-----\\nI am! For my hobby I like to do canning or some whittling.\\n-----\\nI also remodel homes when I am not out bow hunting.\\n-----\\nThat's neat. When I was in high school I placed 6th in 100m dash!\\n-----\\nThat's awesome. Do you have a favorite season or time of year?\\n-----\\nI do not. But I do have a favorite meat since that is all I eat exclusively.\\n-----\\nWhat is your favorite meat to eat?\\n-----\\nI would have to say its prime rib. Do you have any favorite foods?\\n-----\\nI like chicken or macaroni and cheese.\\n-----\\nDo you have anything planned for today? I think I am going to do some canning.\\n-----\\nJust chilling. Watching netflix. So what are you reading?\",\n",
       " \"Hi, how are you doing? I'm getting ready to do some cheetah chasing to stay in shape.\\n-----\\nYou must be very fast. Hunting is one of my favorite hobbies.\\n-----\\nI am! For my hobby I like to do canning or some whittling.\\n-----\\nI also remodel homes when I am not out bow hunting.\\n-----\\nThat's neat. When I was in high school I placed 6th in 100m dash!\\n-----\\nThat's awesome. Do you have a favorite season or time of year?\\n-----\\nI do not. But I do have a favorite meat since that is all I eat exclusively.\\n-----\\nWhat is your favorite meat to eat?\\n-----\\nI would have to say its prime rib. Do you have any favorite foods?\\n-----\\nI like chicken or macaroni and cheese.\\n-----\\nDo you have anything planned for today? I think I am going to do some canning.\\n-----\\nI love food too. Especially fine dining.\",\n",
       " \"Hi, how are you doing? I'm getting ready to do some cheetah chasing to stay in shape.\\n-----\\nYou must be very fast. Hunting is one of my favorite hobbies.\\n-----\\nI am! For my hobby I like to do canning or some whittling.\\n-----\\nI also remodel homes when I am not out bow hunting.\\n-----\\nThat's neat. When I was in high school I placed 6th in 100m dash!\\n-----\\nThat's awesome. Do you have a favorite season or time of year?\\n-----\\nI do not. But I do have a favorite meat since that is all I eat exclusively.\\n-----\\nWhat is your favorite meat to eat?\\n-----\\nI would have to say its prime rib. Do you have any favorite foods?\\n-----\\nI like chicken or macaroni and cheese.\\n-----\\nDo you have anything planned for today? I think I am going to do some canning.\\n-----\\nWhat do you like to watch?\",\n",
       " \"Hi, how are you doing? I'm getting ready to do some cheetah chasing to stay in shape.\\n-----\\nYou must be very fast. Hunting is one of my favorite hobbies.\\n-----\\nI am! For my hobby I like to do canning or some whittling.\\n-----\\nI also remodel homes when I am not out bow hunting.\\n-----\\nThat's neat. When I was in high school I placed 6th in 100m dash!\\n-----\\nThat's awesome. Do you have a favorite season or time of year?\\n-----\\nI do not. But I do have a favorite meat since that is all I eat exclusively.\\n-----\\nWhat is your favorite meat to eat?\\n-----\\nI would have to say its prime rib. Do you have any favorite foods?\\n-----\\nI like chicken or macaroni and cheese.\\n-----\\nDo you have anything planned for today? I think I am going to do some canning.\\n-----\\nI do not have to work anymore, thank goodness.\",\n",
       " \"Hi, how are you doing? I'm getting ready to do some cheetah chasing to stay in shape.\\n-----\\nYou must be very fast. Hunting is one of my favorite hobbies.\\n-----\\nI am! For my hobby I like to do canning or some whittling.\\n-----\\nI also remodel homes when I am not out bow hunting.\\n-----\\nThat's neat. When I was in high school I placed 6th in 100m dash!\\n-----\\nThat's awesome. Do you have a favorite season or time of year?\\n-----\\nI do not. But I do have a favorite meat since that is all I eat exclusively.\\n-----\\nWhat is your favorite meat to eat?\\n-----\\nI would have to say its prime rib. Do you have any favorite foods?\\n-----\\nI like chicken or macaroni and cheese.\\n-----\\nDo you have anything planned for today? I think I am going to do some canning.\\n-----\\nNo, not really. I am in Kansas.\",\n",
       " \"Hi, how are you doing? I'm getting ready to do some cheetah chasing to stay in shape.\\n-----\\nYou must be very fast. Hunting is one of my favorite hobbies.\\n-----\\nI am! For my hobby I like to do canning or some whittling.\\n-----\\nI also remodel homes when I am not out bow hunting.\\n-----\\nThat's neat. When I was in high school I placed 6th in 100m dash!\\n-----\\nThat's awesome. Do you have a favorite season or time of year?\\n-----\\nI do not. But I do have a favorite meat since that is all I eat exclusively.\\n-----\\nWhat is your favorite meat to eat?\\n-----\\nI would have to say its prime rib. Do you have any favorite foods?\\n-----\\nI like chicken or macaroni and cheese.\\n-----\\nDo you have anything planned for today? I think I am going to do some canning.\\n-----\\nI love movies. Especially disney.\",\n",
       " \"Hi, how are you doing? I'm getting ready to do some cheetah chasing to stay in shape.\\n-----\\nYou must be very fast. Hunting is one of my favorite hobbies.\\n-----\\nI am! For my hobby I like to do canning or some whittling.\\n-----\\nI also remodel homes when I am not out bow hunting.\\n-----\\nThat's neat. When I was in high school I placed 6th in 100m dash!\\n-----\\nThat's awesome. Do you have a favorite season or time of year?\\n-----\\nI do not. But I do have a favorite meat since that is all I eat exclusively.\\n-----\\nWhat is your favorite meat to eat?\\n-----\\nI would have to say its prime rib. Do you have any favorite foods?\\n-----\\nI like chicken or macaroni and cheese.\\n-----\\nDo you have anything planned for today? I think I am going to do some canning.\\n-----\\nNo I do not. What kinds of dogs do you have.\",\n",
       " \"Hi, how are you doing? I'm getting ready to do some cheetah chasing to stay in shape.\\n-----\\nYou must be very fast. Hunting is one of my favorite hobbies.\\n-----\\nI am! For my hobby I like to do canning or some whittling.\\n-----\\nI also remodel homes when I am not out bow hunting.\\n-----\\nThat's neat. When I was in high school I placed 6th in 100m dash!\\n-----\\nThat's awesome. Do you have a favorite season or time of year?\\n-----\\nI do not. But I do have a favorite meat since that is all I eat exclusively.\\n-----\\nWhat is your favorite meat to eat?\\n-----\\nI would have to say its prime rib. Do you have any favorite foods?\\n-----\\nI like chicken or macaroni and cheese.\\n-----\\nDo you have anything planned for today? I think I am going to do some canning.\\n-----\\nThey won't, but I'll someday. What are you hobbies?\",\n",
       " \"Hi, how are you doing? I'm getting ready to do some cheetah chasing to stay in shape.\\n-----\\nYou must be very fast. Hunting is one of my favorite hobbies.\\n-----\\nI am! For my hobby I like to do canning or some whittling.\\n-----\\nI also remodel homes when I am not out bow hunting.\\n-----\\nThat's neat. When I was in high school I placed 6th in 100m dash!\\n-----\\nThat's awesome. Do you have a favorite season or time of year?\\n-----\\nI do not. But I do have a favorite meat since that is all I eat exclusively.\\n-----\\nWhat is your favorite meat to eat?\\n-----\\nI would have to say its prime rib. Do you have any favorite foods?\\n-----\\nI like chicken or macaroni and cheese.\\n-----\\nDo you have anything planned for today? I think I am going to do some canning.\\n-----\\nI am going to watch football. What are you canning?\",\n",
       " \"Hi, how are you doing? I'm getting ready to do some cheetah chasing to stay in shape.\\n-----\\nYou must be very fast. Hunting is one of my favorite hobbies.\\n-----\\nI am! For my hobby I like to do canning or some whittling.\\n-----\\nI also remodel homes when I am not out bow hunting.\\n-----\\nThat's neat. When I was in high school I placed 6th in 100m dash!\\n-----\\nThat's awesome. Do you have a favorite season or time of year?\\n-----\\nI do not. But I do have a favorite meat since that is all I eat exclusively.\\n-----\\nWhat is your favorite meat to eat?\\n-----\\nI would have to say its prime rib. Do you have any favorite foods?\\n-----\\nI like chicken or macaroni and cheese.\\n-----\\nDo you have anything planned for today? I think I am going to do some canning.\\n-----\\nI am going to watch football. What are you canning?\\n-----\\nI think I will can some jam. Do you also play footfall for fun?\\n-----\\nAwesome. So what do you do for a living?\",\n",
       " \"Hi, how are you doing? I'm getting ready to do some cheetah chasing to stay in shape.\\n-----\\nYou must be very fast. Hunting is one of my favorite hobbies.\\n-----\\nI am! For my hobby I like to do canning or some whittling.\\n-----\\nI also remodel homes when I am not out bow hunting.\\n-----\\nThat's neat. When I was in high school I placed 6th in 100m dash!\\n-----\\nThat's awesome. Do you have a favorite season or time of year?\\n-----\\nI do not. But I do have a favorite meat since that is all I eat exclusively.\\n-----\\nWhat is your favorite meat to eat?\\n-----\\nI would have to say its prime rib. Do you have any favorite foods?\\n-----\\nI like chicken or macaroni and cheese.\\n-----\\nDo you have anything planned for today? I think I am going to do some canning.\\n-----\\nI am going to watch football. What are you canning?\\n-----\\nI think I will can some jam. Do you also play footfall for fun?\\n-----\\nYou are telling the truth lol.\",\n",
       " \"Hi, how are you doing? I'm getting ready to do some cheetah chasing to stay in shape.\\n-----\\nYou must be very fast. Hunting is one of my favorite hobbies.\\n-----\\nI am! For my hobby I like to do canning or some whittling.\\n-----\\nI also remodel homes when I am not out bow hunting.\\n-----\\nThat's neat. When I was in high school I placed 6th in 100m dash!\\n-----\\nThat's awesome. Do you have a favorite season or time of year?\\n-----\\nI do not. But I do have a favorite meat since that is all I eat exclusively.\\n-----\\nWhat is your favorite meat to eat?\\n-----\\nI would have to say its prime rib. Do you have any favorite foods?\\n-----\\nI like chicken or macaroni and cheese.\\n-----\\nDo you have anything planned for today? I think I am going to do some canning.\\n-----\\nI am going to watch football. What are you canning?\\n-----\\nI think I will can some jam. Do you also play footfall for fun?\\n-----\\nHaha yea I love cookies. I sleep way to much to. You like music?\",\n",
       " \"Hi, how are you doing? I'm getting ready to do some cheetah chasing to stay in shape.\\n-----\\nYou must be very fast. Hunting is one of my favorite hobbies.\\n-----\\nI am! For my hobby I like to do canning or some whittling.\\n-----\\nI also remodel homes when I am not out bow hunting.\\n-----\\nThat's neat. When I was in high school I placed 6th in 100m dash!\\n-----\\nThat's awesome. Do you have a favorite season or time of year?\\n-----\\nI do not. But I do have a favorite meat since that is all I eat exclusively.\\n-----\\nWhat is your favorite meat to eat?\\n-----\\nI would have to say its prime rib. Do you have any favorite foods?\\n-----\\nI like chicken or macaroni and cheese.\\n-----\\nDo you have anything planned for today? I think I am going to do some canning.\\n-----\\nI am going to watch football. What are you canning?\\n-----\\nI think I will can some jam. Do you also play footfall for fun?\\n-----\\nThat is nice to know. I travel due to being financially stable.\",\n",
       " \"Hi, how are you doing? I'm getting ready to do some cheetah chasing to stay in shape.\\n-----\\nYou must be very fast. Hunting is one of my favorite hobbies.\\n-----\\nI am! For my hobby I like to do canning or some whittling.\\n-----\\nI also remodel homes when I am not out bow hunting.\\n-----\\nThat's neat. When I was in high school I placed 6th in 100m dash!\\n-----\\nThat's awesome. Do you have a favorite season or time of year?\\n-----\\nI do not. But I do have a favorite meat since that is all I eat exclusively.\\n-----\\nWhat is your favorite meat to eat?\\n-----\\nI would have to say its prime rib. Do you have any favorite foods?\\n-----\\nI like chicken or macaroni and cheese.\\n-----\\nDo you have anything planned for today? I think I am going to do some canning.\\n-----\\nI am going to watch football. What are you canning?\\n-----\\nI think I will can some jam. Do you also play footfall for fun?\\n-----\\nI am sure you can. California is full of opportunities.\",\n",
       " \"Hi, how are you doing? I'm getting ready to do some cheetah chasing to stay in shape.\\n-----\\nYou must be very fast. Hunting is one of my favorite hobbies.\\n-----\\nI am! For my hobby I like to do canning or some whittling.\\n-----\\nI also remodel homes when I am not out bow hunting.\\n-----\\nThat's neat. When I was in high school I placed 6th in 100m dash!\\n-----\\nThat's awesome. Do you have a favorite season or time of year?\\n-----\\nI do not. But I do have a favorite meat since that is all I eat exclusively.\\n-----\\nWhat is your favorite meat to eat?\\n-----\\nI would have to say its prime rib. Do you have any favorite foods?\\n-----\\nI like chicken or macaroni and cheese.\\n-----\\nDo you have anything planned for today? I think I am going to do some canning.\\n-----\\nI am going to watch football. What are you canning?\\n-----\\nI think I will can some jam. Do you also play footfall for fun?\\n-----\\nThey're fun. I also wanted to be a rock star as I love the music.\",\n",
       " \"Hi, how are you doing? I'm getting ready to do some cheetah chasing to stay in shape.\\n-----\\nYou must be very fast. Hunting is one of my favorite hobbies.\\n-----\\nI am! For my hobby I like to do canning or some whittling.\\n-----\\nI also remodel homes when I am not out bow hunting.\\n-----\\nThat's neat. When I was in high school I placed 6th in 100m dash!\\n-----\\nThat's awesome. Do you have a favorite season or time of year?\\n-----\\nI do not. But I do have a favorite meat since that is all I eat exclusively.\\n-----\\nWhat is your favorite meat to eat?\\n-----\\nI would have to say its prime rib. Do you have any favorite foods?\\n-----\\nI like chicken or macaroni and cheese.\\n-----\\nDo you have anything planned for today? I think I am going to do some canning.\\n-----\\nI am going to watch football. What are you canning?\\n-----\\nI think I will can some jam. Do you also play footfall for fun?\\n-----\\nYou need a hobby something you can do in small segments at night.\",\n",
       " \"Hi, how are you doing? I'm getting ready to do some cheetah chasing to stay in shape.\\n-----\\nYou must be very fast. Hunting is one of my favorite hobbies.\\n-----\\nI am! For my hobby I like to do canning or some whittling.\\n-----\\nI also remodel homes when I am not out bow hunting.\\n-----\\nThat's neat. When I was in high school I placed 6th in 100m dash!\\n-----\\nThat's awesome. Do you have a favorite season or time of year?\\n-----\\nI do not. But I do have a favorite meat since that is all I eat exclusively.\\n-----\\nWhat is your favorite meat to eat?\\n-----\\nI would have to say its prime rib. Do you have any favorite foods?\\n-----\\nI like chicken or macaroni and cheese.\\n-----\\nDo you have anything planned for today? I think I am going to do some canning.\\n-----\\nI am going to watch football. What are you canning?\\n-----\\nI think I will can some jam. Do you also play footfall for fun?\\n-----\\nHi, I love halloween, so what do you like to do for fun?\",\n",
       " \"Hi, how are you doing? I'm getting ready to do some cheetah chasing to stay in shape.\\n-----\\nYou must be very fast. Hunting is one of my favorite hobbies.\\n-----\\nI am! For my hobby I like to do canning or some whittling.\\n-----\\nI also remodel homes when I am not out bow hunting.\\n-----\\nThat's neat. When I was in high school I placed 6th in 100m dash!\\n-----\\nThat's awesome. Do you have a favorite season or time of year?\\n-----\\nI do not. But I do have a favorite meat since that is all I eat exclusively.\\n-----\\nWhat is your favorite meat to eat?\\n-----\\nI would have to say its prime rib. Do you have any favorite foods?\\n-----\\nI like chicken or macaroni and cheese.\\n-----\\nDo you have anything planned for today? I think I am going to do some canning.\\n-----\\nI am going to watch football. What are you canning?\\n-----\\nI think I will can some jam. Do you also play footfall for fun?\\n-----\\nIs that a long movie? Few hours? That is what I spend at the pool.\",\n",
       " \"Hi, how are you doing? I'm getting ready to do some cheetah chasing to stay in shape.\\n-----\\nYou must be very fast. Hunting is one of my favorite hobbies.\\n-----\\nI am! For my hobby I like to do canning or some whittling.\\n-----\\nI also remodel homes when I am not out bow hunting.\\n-----\\nThat's neat. When I was in high school I placed 6th in 100m dash!\\n-----\\nThat's awesome. Do you have a favorite season or time of year?\\n-----\\nI do not. But I do have a favorite meat since that is all I eat exclusively.\\n-----\\nWhat is your favorite meat to eat?\\n-----\\nI would have to say its prime rib. Do you have any favorite foods?\\n-----\\nI like chicken or macaroni and cheese.\\n-----\\nDo you have anything planned for today? I think I am going to do some canning.\\n-----\\nI am going to watch football. What are you canning?\\n-----\\nI think I will can some jam. Do you also play footfall for fun?\\n-----\\nTennis sounds interesting! Yes, I am! how about you?\",\n",
       " \"Hi, how are you doing? I'm getting ready to do some cheetah chasing to stay in shape.\\n-----\\nYou must be very fast. Hunting is one of my favorite hobbies.\\n-----\\nI am! For my hobby I like to do canning or some whittling.\\n-----\\nI also remodel homes when I am not out bow hunting.\\n-----\\nThat's neat. When I was in high school I placed 6th in 100m dash!\\n-----\\nThat's awesome. Do you have a favorite season or time of year?\\n-----\\nI do not. But I do have a favorite meat since that is all I eat exclusively.\\n-----\\nWhat is your favorite meat to eat?\\n-----\\nI would have to say its prime rib. Do you have any favorite foods?\\n-----\\nI like chicken or macaroni and cheese.\\n-----\\nDo you have anything planned for today? I think I am going to do some canning.\\n-----\\nI am going to watch football. What are you canning?\\n-----\\nI think I will can some jam. Do you also play footfall for fun?\\n-----\\nVery well, thank you. How are you today?\",\n",
       " \"Hi, how are you doing? I'm getting ready to do some cheetah chasing to stay in shape.\\n-----\\nYou must be very fast. Hunting is one of my favorite hobbies.\\n-----\\nI am! For my hobby I like to do canning or some whittling.\\n-----\\nI also remodel homes when I am not out bow hunting.\\n-----\\nThat's neat. When I was in high school I placed 6th in 100m dash!\\n-----\\nThat's awesome. Do you have a favorite season or time of year?\\n-----\\nI do not. But I do have a favorite meat since that is all I eat exclusively.\\n-----\\nWhat is your favorite meat to eat?\\n-----\\nI would have to say its prime rib. Do you have any favorite foods?\\n-----\\nI like chicken or macaroni and cheese.\\n-----\\nDo you have anything planned for today? I think I am going to do some canning.\\n-----\\nI am going to watch football. What are you canning?\\n-----\\nI think I will can some jam. Do you also play footfall for fun?\\n-----\\nI like a cashier at my bank. I stare at her at a distance to flirt.\",\n",
       " \"Hi, how are you doing? I'm getting ready to do some cheetah chasing to stay in shape.\\n-----\\nYou must be very fast. Hunting is one of my favorite hobbies.\\n-----\\nI am! For my hobby I like to do canning or some whittling.\\n-----\\nI also remodel homes when I am not out bow hunting.\\n-----\\nThat's neat. When I was in high school I placed 6th in 100m dash!\\n-----\\nThat's awesome. Do you have a favorite season or time of year?\\n-----\\nI do not. But I do have a favorite meat since that is all I eat exclusively.\\n-----\\nWhat is your favorite meat to eat?\\n-----\\nI would have to say its prime rib. Do you have any favorite foods?\\n-----\\nI like chicken or macaroni and cheese.\\n-----\\nDo you have anything planned for today? I think I am going to do some canning.\\n-----\\nI am going to watch football. What are you canning?\\n-----\\nI think I will can some jam. Do you also play footfall for fun?\\n-----\\nYes. Thank you for the chat.\",\n",
       " \"Hi, how are you doing? I'm getting ready to do some cheetah chasing to stay in shape.\\n-----\\nYou must be very fast. Hunting is one of my favorite hobbies.\\n-----\\nI am! For my hobby I like to do canning or some whittling.\\n-----\\nI also remodel homes when I am not out bow hunting.\\n-----\\nThat's neat. When I was in high school I placed 6th in 100m dash!\\n-----\\nThat's awesome. Do you have a favorite season or time of year?\\n-----\\nI do not. But I do have a favorite meat since that is all I eat exclusively.\\n-----\\nWhat is your favorite meat to eat?\\n-----\\nI would have to say its prime rib. Do you have any favorite foods?\\n-----\\nI like chicken or macaroni and cheese.\\n-----\\nDo you have anything planned for today? I think I am going to do some canning.\\n-----\\nI am going to watch football. What are you canning?\\n-----\\nI think I will can some jam. Do you also play footfall for fun?\\n-----\\nThat is super sweet, high school sweetheart kind of thing.\",\n",
       " \"Hi, how are you doing? I'm getting ready to do some cheetah chasing to stay in shape.\\n-----\\nYou must be very fast. Hunting is one of my favorite hobbies.\\n-----\\nI am! For my hobby I like to do canning or some whittling.\\n-----\\nI also remodel homes when I am not out bow hunting.\\n-----\\nThat's neat. When I was in high school I placed 6th in 100m dash!\\n-----\\nThat's awesome. Do you have a favorite season or time of year?\\n-----\\nI do not. But I do have a favorite meat since that is all I eat exclusively.\\n-----\\nWhat is your favorite meat to eat?\\n-----\\nI would have to say its prime rib. Do you have any favorite foods?\\n-----\\nI like chicken or macaroni and cheese.\\n-----\\nDo you have anything planned for today? I think I am going to do some canning.\\n-----\\nI am going to watch football. What are you canning?\\n-----\\nI think I will can some jam. Do you also play footfall for fun?\\n-----\\nHey. my favorite color is pink. How about you?\",\n",
       " \"Hi, how are you doing? I'm getting ready to do some cheetah chasing to stay in shape.\\n-----\\nYou must be very fast. Hunting is one of my favorite hobbies.\\n-----\\nI am! For my hobby I like to do canning or some whittling.\\n-----\\nI also remodel homes when I am not out bow hunting.\\n-----\\nThat's neat. When I was in high school I placed 6th in 100m dash!\\n-----\\nThat's awesome. Do you have a favorite season or time of year?\\n-----\\nI do not. But I do have a favorite meat since that is all I eat exclusively.\\n-----\\nWhat is your favorite meat to eat?\\n-----\\nI would have to say its prime rib. Do you have any favorite foods?\\n-----\\nI like chicken or macaroni and cheese.\\n-----\\nDo you have anything planned for today? I think I am going to do some canning.\\n-----\\nI am going to watch football. What are you canning?\\n-----\\nI think I will can some jam. Do you also play footfall for fun?\\n-----\\nNice! I don't go out much because I am busy at my accounting job.\",\n",
       " \"Hi, how are you doing? I'm getting ready to do some cheetah chasing to stay in shape.\\n-----\\nYou must be very fast. Hunting is one of my favorite hobbies.\\n-----\\nI am! For my hobby I like to do canning or some whittling.\\n-----\\nI also remodel homes when I am not out bow hunting.\\n-----\\nThat's neat. When I was in high school I placed 6th in 100m dash!\\n-----\\nThat's awesome. Do you have a favorite season or time of year?\\n-----\\nI do not. But I do have a favorite meat since that is all I eat exclusively.\\n-----\\nWhat is your favorite meat to eat?\\n-----\\nI would have to say its prime rib. Do you have any favorite foods?\\n-----\\nI like chicken or macaroni and cheese.\\n-----\\nDo you have anything planned for today? I think I am going to do some canning.\\n-----\\nI am going to watch football. What are you canning?\\n-----\\nI think I will can some jam. Do you also play footfall for fun?\\n-----\\nOh my gosh I don't know what I'd do if I had to get a job!\",\n",
       " \"Hi, how are you doing? I'm getting ready to do some cheetah chasing to stay in shape.\\n-----\\nYou must be very fast. Hunting is one of my favorite hobbies.\\n-----\\nI am! For my hobby I like to do canning or some whittling.\\n-----\\nI also remodel homes when I am not out bow hunting.\\n-----\\nThat's neat. When I was in high school I placed 6th in 100m dash!\\n-----\\nThat's awesome. Do you have a favorite season or time of year?\\n-----\\nI do not. But I do have a favorite meat since that is all I eat exclusively.\\n-----\\nWhat is your favorite meat to eat?\\n-----\\nI would have to say its prime rib. Do you have any favorite foods?\\n-----\\nI like chicken or macaroni and cheese.\\n-----\\nDo you have anything planned for today? I think I am going to do some canning.\\n-----\\nI am going to watch football. What are you canning?\\n-----\\nI think I will can some jam. Do you also play footfall for fun?\\n-----\\nThat would still be buying it online!\",\n",
       " \"Hi, how are you doing? I'm getting ready to do some cheetah chasing to stay in shape.\\n-----\\nYou must be very fast. Hunting is one of my favorite hobbies.\\n-----\\nI am! For my hobby I like to do canning or some whittling.\\n-----\\nI also remodel homes when I am not out bow hunting.\\n-----\\nThat's neat. When I was in high school I placed 6th in 100m dash!\\n-----\\nThat's awesome. Do you have a favorite season or time of year?\\n-----\\nI do not. But I do have a favorite meat since that is all I eat exclusively.\\n-----\\nWhat is your favorite meat to eat?\\n-----\\nI would have to say its prime rib. Do you have any favorite foods?\\n-----\\nI like chicken or macaroni and cheese.\\n-----\\nDo you have anything planned for today? I think I am going to do some canning.\\n-----\\nI am going to watch football. What are you canning?\\n-----\\nI think I will can some jam. Do you also play footfall for fun?\\n-----\\nWas okay. Dog woke me up and just getting ready for a date.\",\n",
       " \"Hi, how are you doing? I'm getting ready to do some cheetah chasing to stay in shape.\\n-----\\nYou must be very fast. Hunting is one of my favorite hobbies.\\n-----\\nI am! For my hobby I like to do canning or some whittling.\\n-----\\nI also remodel homes when I am not out bow hunting.\\n-----\\nThat's neat. When I was in high school I placed 6th in 100m dash!\\n-----\\nThat's awesome. Do you have a favorite season or time of year?\\n-----\\nI do not. But I do have a favorite meat since that is all I eat exclusively.\\n-----\\nWhat is your favorite meat to eat?\\n-----\\nI would have to say its prime rib. Do you have any favorite foods?\\n-----\\nI like chicken or macaroni and cheese.\\n-----\\nDo you have anything planned for today? I think I am going to do some canning.\\n-----\\nI am going to watch football. What are you canning?\\n-----\\nI think I will can some jam. Do you also play footfall for fun?\\n-----\\nIf I have time outside of hunting and remodeling homes. Which is not much!\",\n",
       " 'Hi, how are you doing today?\\n-----\\nThere was one person better than me, but I will keep trying to pass.',\n",
       " \"Hi, how are you doing today?\\n-----\\nOh that's a yummy jpb.\",\n",
       " 'Hi, how are you doing today?\\n-----\\nI take it you are not getting along with him?',\n",
       " 'Hi, how are you doing today?\\n-----\\nAh, I prefer asian cuisine, especially thai food.',\n",
       " 'Hi, how are you doing today?\\n-----\\nAwesome my kids and brothers love it.',\n",
       " 'Hi, how are you doing today?\\n-----\\nJust dropped pizza on my suspense novel. Two faves ruined at once!',\n",
       " 'Hi, how are you doing today?\\n-----\\nNo boots unfortunately. I sell my homemade candles.',\n",
       " 'Hi, how are you doing today?\\n-----\\nI am well. How are you doing?',\n",
       " 'Hi, how are you doing today?\\n-----\\nCool! Does your husband like to read? I love to.',\n",
       " 'Hi, how are you doing today?\\n-----\\nOfficer Bob here. Good. I am relaxing from a long day being an officer of the law.',\n",
       " 'Hi, how are you doing today?\\n-----\\nCool! So what do you look like?',\n",
       " 'Hi, how are you doing today?\\n-----\\nI am a bit of a loner. I live by myself. No attachments.',\n",
       " 'Hi, how are you doing today?\\n-----\\nI have to cut my long beard. It might slow me down!',\n",
       " 'Hi, how are you doing today?\\n-----\\nI have some sports cars.',\n",
       " 'Hi, how are you doing today?\\n-----\\nI do listen to music and I love to cook.',\n",
       " 'Hi, how are you doing today?\\n-----\\nIts great that you dance. Its very enjoyable.',\n",
       " 'Hi, how are you doing today?\\n-----\\nMost I know about trucker comes from watching ice road truckers and burt reynolds films lol.',\n",
       " 'Hi, how are you doing today?\\n-----\\nGood. Where are you from?',\n",
       " 'Hi, how are you doing today?\\n-----\\nRight now I am doing an ocean liner.',\n",
       " 'Hi, how are you doing today?\\n-----\\nI am spending time with my 4 sisters what are you up to.',\n",
       " 'Hi, how are you doing today?\\n-----\\nI am spending time with my 4 sisters what are you up to.\\n-----\\nWow, four sisters. Just watching game of thrones.\\n-----\\nThat would be great. What do you do on the weekends?',\n",
       " 'Hi, how are you doing today?\\n-----\\nI am spending time with my 4 sisters what are you up to.\\n-----\\nWow, four sisters. Just watching game of thrones.\\n-----\\nI am sorry to hear about that. I am not married.',\n",
       " 'Hi, how are you doing today?\\n-----\\nI am spending time with my 4 sisters what are you up to.\\n-----\\nWow, four sisters. Just watching game of thrones.\\n-----\\nHello! I just got done taking my daily blood sugar level. Yuck!',\n",
       " 'Hi, how are you doing today?\\n-----\\nI am spending time with my 4 sisters what are you up to.\\n-----\\nWow, four sisters. Just watching game of thrones.\\n-----\\nThey really are. And a handful at times.',\n",
       " 'Hi, how are you doing today?\\n-----\\nI am spending time with my 4 sisters what are you up to.\\n-----\\nWow, four sisters. Just watching game of thrones.\\n-----\\nWhat kind o music do you like.',\n",
       " 'Hi, how are you doing today?\\n-----\\nI am spending time with my 4 sisters what are you up to.\\n-----\\nWow, four sisters. Just watching game of thrones.\\n-----\\nIt was nice chatting with you also. Glad it was a formal situation.',\n",
       " 'Hi, how are you doing today?\\n-----\\nI am spending time with my 4 sisters what are you up to.\\n-----\\nWow, four sisters. Just watching game of thrones.\\n-----\\nI am all about driving, fast and furious!',\n",
       " 'Hi, how are you doing today?\\n-----\\nI am spending time with my 4 sisters what are you up to.\\n-----\\nWow, four sisters. Just watching game of thrones.\\n-----\\nKind of, I just love to eat fruit.',\n",
       " 'Hi, how are you doing today?\\n-----\\nI am spending time with my 4 sisters what are you up to.\\n-----\\nWow, four sisters. Just watching game of thrones.\\n-----\\nI am attending Hesston college.',\n",
       " 'Hi, how are you doing today?\\n-----\\nI am spending time with my 4 sisters what are you up to.\\n-----\\nWow, four sisters. Just watching game of thrones.\\n-----\\nFall and winter are my favorite! No I am unemployed right now.',\n",
       " 'Hi, how are you doing today?\\n-----\\nI am spending time with my 4 sisters what are you up to.\\n-----\\nWow, four sisters. Just watching game of thrones.\\n-----\\nYeah you should, that can be tricky.',\n",
       " 'Hi, how are you doing today?\\n-----\\nI am spending time with my 4 sisters what are you up to.\\n-----\\nWow, four sisters. Just watching game of thrones.\\n-----\\nThat is cool. What do you do for fun?',\n",
       " 'Hi, how are you doing today?\\n-----\\nI am spending time with my 4 sisters what are you up to.\\n-----\\nWow, four sisters. Just watching game of thrones.\\n-----\\nTake care and I hope you do well in college!',\n",
       " 'Hi, how are you doing today?\\n-----\\nI am spending time with my 4 sisters what are you up to.\\n-----\\nWow, four sisters. Just watching game of thrones.\\n-----\\nThat is cool. I am scared of heights.',\n",
       " 'Hi, how are you doing today?\\n-----\\nI am spending time with my 4 sisters what are you up to.\\n-----\\nWow, four sisters. Just watching game of thrones.\\n-----\\nOnly the one I left at the truck stop. You?',\n",
       " 'Hi, how are you doing today?\\n-----\\nI am spending time with my 4 sisters what are you up to.\\n-----\\nWow, four sisters. Just watching game of thrones.\\n-----\\nOh yes for sure that is great.',\n",
       " 'Hi, how are you doing today?\\n-----\\nI am spending time with my 4 sisters what are you up to.\\n-----\\nWow, four sisters. Just watching game of thrones.\\n-----\\nHey there how are you today?',\n",
       " 'Hi, how are you doing today?\\n-----\\nI am spending time with my 4 sisters what are you up to.\\n-----\\nWow, four sisters. Just watching game of thrones.\\n-----\\nAh manic depressive. How to you cope? Meditation? Any hobbies?',\n",
       " 'Hi, how are you doing today?\\n-----\\nI am spending time with my 4 sisters what are you up to.\\n-----\\nWow, four sisters. Just watching game of thrones.\\n-----\\nHey! What kind of music are your into?',\n",
       " 'Hi, how are you doing today?\\n-----\\nI am spending time with my 4 sisters what are you up to.\\n-----\\nWow, four sisters. Just watching game of thrones.\\n-----\\nThat is a good show I watch that while drinking iced tea.',\n",
       " 'Hi, how are you doing today?\\n-----\\nI am spending time with my 4 sisters what are you up to.\\n-----\\nWow, four sisters. Just watching game of thrones.\\n-----\\nThat is a good show I watch that while drinking iced tea.\\n-----\\nI agree. What do you do for a living?\\n-----\\nVery long, she was with me when I colored my hair pink.',\n",
       " 'Hi, how are you doing today?\\n-----\\nI am spending time with my 4 sisters what are you up to.\\n-----\\nWow, four sisters. Just watching game of thrones.\\n-----\\nThat is a good show I watch that while drinking iced tea.\\n-----\\nI agree. What do you do for a living?\\n-----\\nI like being alone and hitchhiking.',\n",
       " 'Hi, how are you doing today?\\n-----\\nI am spending time with my 4 sisters what are you up to.\\n-----\\nWow, four sisters. Just watching game of thrones.\\n-----\\nThat is a good show I watch that while drinking iced tea.\\n-----\\nI agree. What do you do for a living?\\n-----\\nHi, how are you doing today?',\n",
       " 'Hi, how are you doing today?\\n-----\\nI am spending time with my 4 sisters what are you up to.\\n-----\\nWow, four sisters. Just watching game of thrones.\\n-----\\nThat is a good show I watch that while drinking iced tea.\\n-----\\nI agree. What do you do for a living?\\n-----\\nActually been good and better than what I expected.',\n",
       " 'Hi, how are you doing today?\\n-----\\nI am spending time with my 4 sisters what are you up to.\\n-----\\nWow, four sisters. Just watching game of thrones.\\n-----\\nThat is a good show I watch that while drinking iced tea.\\n-----\\nI agree. What do you do for a living?\\n-----\\nAh, wrong! Blue is my fav color. What hobbies do you have?',\n",
       " \"Hi, how are you doing today?\\n-----\\nI am spending time with my 4 sisters what are you up to.\\n-----\\nWow, four sisters. Just watching game of thrones.\\n-----\\nThat is a good show I watch that while drinking iced tea.\\n-----\\nI agree. What do you do for a living?\\n-----\\nI'm great, loving this city life, how are you?\",\n",
       " \"Hi, how are you doing today?\\n-----\\nI am spending time with my 4 sisters what are you up to.\\n-----\\nWow, four sisters. Just watching game of thrones.\\n-----\\nThat is a good show I watch that while drinking iced tea.\\n-----\\nI agree. What do you do for a living?\\n-----\\nThat's true. I have supporting parents, I'm grateful for that.\",\n",
       " 'Hi, how are you doing today?\\n-----\\nI am spending time with my 4 sisters what are you up to.\\n-----\\nWow, four sisters. Just watching game of thrones.\\n-----\\nThat is a good show I watch that while drinking iced tea.\\n-----\\nI agree. What do you do for a living?\\n-----\\nJust started working from home, the internet is a heck of a thing.',\n",
       " 'Hi, how are you doing today?\\n-----\\nI am spending time with my 4 sisters what are you up to.\\n-----\\nWow, four sisters. Just watching game of thrones.\\n-----\\nThat is a good show I watch that while drinking iced tea.\\n-----\\nI agree. What do you do for a living?\\n-----\\nThe tallest sunflowers you have ever seen are over their graves.',\n",
       " 'Hi, how are you doing today?\\n-----\\nI am spending time with my 4 sisters what are you up to.\\n-----\\nWow, four sisters. Just watching game of thrones.\\n-----\\nThat is a good show I watch that while drinking iced tea.\\n-----\\nI agree. What do you do for a living?\\n-----\\nI bet. what do you drive? I have a cool, black car.',\n",
       " 'Hi, how are you doing today?\\n-----\\nI am spending time with my 4 sisters what are you up to.\\n-----\\nWow, four sisters. Just watching game of thrones.\\n-----\\nThat is a good show I watch that while drinking iced tea.\\n-----\\nI agree. What do you do for a living?\\n-----\\nI will be headed to Paris on vacation to visit my sister.',\n",
       " 'Hi, how are you doing today?\\n-----\\nI am spending time with my 4 sisters what are you up to.\\n-----\\nWow, four sisters. Just watching game of thrones.\\n-----\\nThat is a good show I watch that while drinking iced tea.\\n-----\\nI agree. What do you do for a living?\\n-----\\nI live in New York and you?',\n",
       " 'Hi, how are you doing today?\\n-----\\nI am spending time with my 4 sisters what are you up to.\\n-----\\nWow, four sisters. Just watching game of thrones.\\n-----\\nThat is a good show I watch that while drinking iced tea.\\n-----\\nI agree. What do you do for a living?\\n-----\\nI understand. I like to work out alone.',\n",
       " \"Hi, how are you doing today?\\n-----\\nI am spending time with my 4 sisters what are you up to.\\n-----\\nWow, four sisters. Just watching game of thrones.\\n-----\\nThat is a good show I watch that while drinking iced tea.\\n-----\\nI agree. What do you do for a living?\\n-----\\nI'm eric. I'm from new York. My dad drove cab here in the seventies.\",\n",
       " 'Hi, how are you doing today?\\n-----\\nI am spending time with my 4 sisters what are you up to.\\n-----\\nWow, four sisters. Just watching game of thrones.\\n-----\\nThat is a good show I watch that while drinking iced tea.\\n-----\\nI agree. What do you do for a living?\\n-----\\nI sing sometimes too. I used to do a lot of musical theatre.',\n",
       " \"Hi, how are you doing today?\\n-----\\nI am spending time with my 4 sisters what are you up to.\\n-----\\nWow, four sisters. Just watching game of thrones.\\n-----\\nThat is a good show I watch that while drinking iced tea.\\n-----\\nI agree. What do you do for a living?\\n-----\\nI rather see it in a cartoon lol I know that's fake.\",\n",
       " 'Hi, how are you doing today?\\n-----\\nI am spending time with my 4 sisters what are you up to.\\n-----\\nWow, four sisters. Just watching game of thrones.\\n-----\\nThat is a good show I watch that while drinking iced tea.\\n-----\\nI agree. What do you do for a living?\\n-----\\nThat would be great pay.',\n",
       " 'Hi, how are you doing today?\\n-----\\nI am spending time with my 4 sisters what are you up to.\\n-----\\nWow, four sisters. Just watching game of thrones.\\n-----\\nThat is a good show I watch that while drinking iced tea.\\n-----\\nI agree. What do you do for a living?\\n-----\\nMy name is charlie. What kind of earrings?',\n",
       " \"Hi, how are you doing today?\\n-----\\nI am spending time with my 4 sisters what are you up to.\\n-----\\nWow, four sisters. Just watching game of thrones.\\n-----\\nThat is a good show I watch that while drinking iced tea.\\n-----\\nI agree. What do you do for a living?\\n-----\\nOf course. I'm listening.\",\n",
       " \"Hi, how are you doing today?\\n-----\\nI am spending time with my 4 sisters what are you up to.\\n-----\\nWow, four sisters. Just watching game of thrones.\\n-----\\nThat is a good show I watch that while drinking iced tea.\\n-----\\nI agree. What do you do for a living?\\n-----\\nI'm a researcher I'm researching the fact that mermaids are real.\",\n",
       " \"Hi, how are you doing today?\\n-----\\nI am spending time with my 4 sisters what are you up to.\\n-----\\nWow, four sisters. Just watching game of thrones.\\n-----\\nThat is a good show I watch that while drinking iced tea.\\n-----\\nI agree. What do you do for a living?\\n-----\\nI'm a researcher I'm researching the fact that mermaids are real.\\n-----\\nInteresting. I'm a website designer. Pretty much spend all my time on the computer.\\n-----\\nHi there, I'm Bob.\",\n",
       " \"Hi, how are you doing today?\\n-----\\nI am spending time with my 4 sisters what are you up to.\\n-----\\nWow, four sisters. Just watching game of thrones.\\n-----\\nThat is a good show I watch that while drinking iced tea.\\n-----\\nI agree. What do you do for a living?\\n-----\\nI'm a researcher I'm researching the fact that mermaids are real.\\n-----\\nInteresting. I'm a website designer. Pretty much spend all my time on the computer.\\n-----\\nI know a bit about food. My folks have a small grocery.\",\n",
       " \"Hi, how are you doing today?\\n-----\\nI am spending time with my 4 sisters what are you up to.\\n-----\\nWow, four sisters. Just watching game of thrones.\\n-----\\nThat is a good show I watch that while drinking iced tea.\\n-----\\nI agree. What do you do for a living?\\n-----\\nI'm a researcher I'm researching the fact that mermaids are real.\\n-----\\nInteresting. I'm a website designer. Pretty much spend all my time on the computer.\\n-----\\nHey, that's life. What about you, what do you do?\",\n",
       " \"Hi, how are you doing today?\\n-----\\nI am spending time with my 4 sisters what are you up to.\\n-----\\nWow, four sisters. Just watching game of thrones.\\n-----\\nThat is a good show I watch that while drinking iced tea.\\n-----\\nI agree. What do you do for a living?\\n-----\\nI'm a researcher I'm researching the fact that mermaids are real.\\n-----\\nInteresting. I'm a website designer. Pretty much spend all my time on the computer.\\n-----\\nI like that too. If I win the lottery, I could go anywhere!\",\n",
       " \"Hi, how are you doing today?\\n-----\\nI am spending time with my 4 sisters what are you up to.\\n-----\\nWow, four sisters. Just watching game of thrones.\\n-----\\nThat is a good show I watch that while drinking iced tea.\\n-----\\nI agree. What do you do for a living?\\n-----\\nI'm a researcher I'm researching the fact that mermaids are real.\\n-----\\nInteresting. I'm a website designer. Pretty much spend all my time on the computer.\\n-----\\nWhat do you do for fun?\",\n",
       " \"Hi, how are you doing today?\\n-----\\nI am spending time with my 4 sisters what are you up to.\\n-----\\nWow, four sisters. Just watching game of thrones.\\n-----\\nThat is a good show I watch that while drinking iced tea.\\n-----\\nI agree. What do you do for a living?\\n-----\\nI'm a researcher I'm researching the fact that mermaids are real.\\n-----\\nInteresting. I'm a website designer. Pretty much spend all my time on the computer.\\n-----\\nNo not me, I don't like to show out, like driving a mercedes. Kidding.\",\n",
       " \"Hi, how are you doing today?\\n-----\\nI am spending time with my 4 sisters what are you up to.\\n-----\\nWow, four sisters. Just watching game of thrones.\\n-----\\nThat is a good show I watch that while drinking iced tea.\\n-----\\nI agree. What do you do for a living?\\n-----\\nI'm a researcher I'm researching the fact that mermaids are real.\\n-----\\nInteresting. I'm a website designer. Pretty much spend all my time on the computer.\\n-----\\nYeah it relaxes me when I'm stressed out.\",\n",
       " \"Hi, how are you doing today?\\n-----\\nI am spending time with my 4 sisters what are you up to.\\n-----\\nWow, four sisters. Just watching game of thrones.\\n-----\\nThat is a good show I watch that while drinking iced tea.\\n-----\\nI agree. What do you do for a living?\\n-----\\nI'm a researcher I'm researching the fact that mermaids are real.\\n-----\\nInteresting. I'm a website designer. Pretty much spend all my time on the computer.\\n-----\\nI left my Chevy duramax running while at american eagle. Sale!\",\n",
       " \"Hi, how are you doing today?\\n-----\\nI am spending time with my 4 sisters what are you up to.\\n-----\\nWow, four sisters. Just watching game of thrones.\\n-----\\nThat is a good show I watch that while drinking iced tea.\\n-----\\nI agree. What do you do for a living?\\n-----\\nI'm a researcher I'm researching the fact that mermaids are real.\\n-----\\nInteresting. I'm a website designer. Pretty much spend all my time on the computer.\\n-----\\nYes, you'll treat when I fall sick.\",\n",
       " \"Hi, how are you doing today?\\n-----\\nI am spending time with my 4 sisters what are you up to.\\n-----\\nWow, four sisters. Just watching game of thrones.\\n-----\\nThat is a good show I watch that while drinking iced tea.\\n-----\\nI agree. What do you do for a living?\\n-----\\nI'm a researcher I'm researching the fact that mermaids are real.\\n-----\\nInteresting. I'm a website designer. Pretty much spend all my time on the computer.\\n-----\\nHow do you do that?\",\n",
       " \"Hi, how are you doing today?\\n-----\\nI am spending time with my 4 sisters what are you up to.\\n-----\\nWow, four sisters. Just watching game of thrones.\\n-----\\nThat is a good show I watch that while drinking iced tea.\\n-----\\nI agree. What do you do for a living?\\n-----\\nI'm a researcher I'm researching the fact that mermaids are real.\\n-----\\nInteresting. I'm a website designer. Pretty much spend all my time on the computer.\\n-----\\nGood comparison!! That's actually a flattering comparison for me.\",\n",
       " \"Hi, how are you doing today?\\n-----\\nI am spending time with my 4 sisters what are you up to.\\n-----\\nWow, four sisters. Just watching game of thrones.\\n-----\\nThat is a good show I watch that while drinking iced tea.\\n-----\\nI agree. What do you do for a living?\\n-----\\nI'm a researcher I'm researching the fact that mermaids are real.\\n-----\\nInteresting. I'm a website designer. Pretty much spend all my time on the computer.\\n-----\\nNow I do it like a nerd.\",\n",
       " \"Hi, how are you doing today?\\n-----\\nI am spending time with my 4 sisters what are you up to.\\n-----\\nWow, four sisters. Just watching game of thrones.\\n-----\\nThat is a good show I watch that while drinking iced tea.\\n-----\\nI agree. What do you do for a living?\\n-----\\nI'm a researcher I'm researching the fact that mermaids are real.\\n-----\\nInteresting. I'm a website designer. Pretty much spend all my time on the computer.\\n-----\\nI'm with you there for sure.\",\n",
       " \"Hi, how are you doing today?\\n-----\\nI am spending time with my 4 sisters what are you up to.\\n-----\\nWow, four sisters. Just watching game of thrones.\\n-----\\nThat is a good show I watch that while drinking iced tea.\\n-----\\nI agree. What do you do for a living?\\n-----\\nI'm a researcher I'm researching the fact that mermaids are real.\\n-----\\nInteresting. I'm a website designer. Pretty much spend all my time on the computer.\\n-----\\nGirls are gross boys rule.\",\n",
       " \"Hi, how are you doing today?\\n-----\\nI am spending time with my 4 sisters what are you up to.\\n-----\\nWow, four sisters. Just watching game of thrones.\\n-----\\nThat is a good show I watch that while drinking iced tea.\\n-----\\nI agree. What do you do for a living?\\n-----\\nI'm a researcher I'm researching the fact that mermaids are real.\\n-----\\nInteresting. I'm a website designer. Pretty much spend all my time on the computer.\\n-----\\nCute! My father owns bees as pets, but I'm allergic to them.\",\n",
       " \"Hi, how are you doing today?\\n-----\\nI am spending time with my 4 sisters what are you up to.\\n-----\\nWow, four sisters. Just watching game of thrones.\\n-----\\nThat is a good show I watch that while drinking iced tea.\\n-----\\nI agree. What do you do for a living?\\n-----\\nI'm a researcher I'm researching the fact that mermaids are real.\\n-----\\nInteresting. I'm a website designer. Pretty much spend all my time on the computer.\\n-----\\nCongrats! Nothing that great in my life.\",\n",
       " \"Hi, how are you doing today?\\n-----\\nI am spending time with my 4 sisters what are you up to.\\n-----\\nWow, four sisters. Just watching game of thrones.\\n-----\\nThat is a good show I watch that while drinking iced tea.\\n-----\\nI agree. What do you do for a living?\\n-----\\nI'm a researcher I'm researching the fact that mermaids are real.\\n-----\\nInteresting. I'm a website designer. Pretty much spend all my time on the computer.\\n-----\\nI'm very healthy I live in a farm, what is wrong with your health?\",\n",
       " \"Hi, how are you doing today?\\n-----\\nI am spending time with my 4 sisters what are you up to.\\n-----\\nWow, four sisters. Just watching game of thrones.\\n-----\\nThat is a good show I watch that while drinking iced tea.\\n-----\\nI agree. What do you do for a living?\\n-----\\nI'm a researcher I'm researching the fact that mermaids are real.\\n-----\\nInteresting. I'm a website designer. Pretty much spend all my time on the computer.\\n-----\\nHow come? Conserving energy? Whats going on.\",\n",
       " \"Hi, how are you doing today?\\n-----\\nI am spending time with my 4 sisters what are you up to.\\n-----\\nWow, four sisters. Just watching game of thrones.\\n-----\\nThat is a good show I watch that while drinking iced tea.\\n-----\\nI agree. What do you do for a living?\\n-----\\nI'm a researcher I'm researching the fact that mermaids are real.\\n-----\\nInteresting. I'm a website designer. Pretty much spend all my time on the computer.\\n-----\\nIt is so late but that's cool I bet they look nice.\",\n",
       " \"Hi, how are you doing today?\\n-----\\nI am spending time with my 4 sisters what are you up to.\\n-----\\nWow, four sisters. Just watching game of thrones.\\n-----\\nThat is a good show I watch that while drinking iced tea.\\n-----\\nI agree. What do you do for a living?\\n-----\\nI'm a researcher I'm researching the fact that mermaids are real.\\n-----\\nInteresting. I'm a website designer. Pretty much spend all my time on the computer.\\n-----\\nThat's cool my mom does the same thing.\",\n",
       " \"Hi, how are you doing today?\\n-----\\nI am spending time with my 4 sisters what are you up to.\\n-----\\nWow, four sisters. Just watching game of thrones.\\n-----\\nThat is a good show I watch that while drinking iced tea.\\n-----\\nI agree. What do you do for a living?\\n-----\\nI'm a researcher I'm researching the fact that mermaids are real.\\n-----\\nInteresting. I'm a website designer. Pretty much spend all my time on the computer.\\n-----\\nThat's cool my mom does the same thing.\\n-----\\nThat's awesome. I have always had a love for technology.\\n-----\\nLove that too. I'm waiting on my car to be fixed. You?\",\n",
       " \"Hi, how are you doing today?\\n-----\\nI am spending time with my 4 sisters what are you up to.\\n-----\\nWow, four sisters. Just watching game of thrones.\\n-----\\nThat is a good show I watch that while drinking iced tea.\\n-----\\nI agree. What do you do for a living?\\n-----\\nI'm a researcher I'm researching the fact that mermaids are real.\\n-----\\nInteresting. I'm a website designer. Pretty much spend all my time on the computer.\\n-----\\nThat's cool my mom does the same thing.\\n-----\\nThat's awesome. I have always had a love for technology.\\n-----\\nAt least he helps you. Do you cook bake?\",\n",
       " \"Hi, how are you doing today?\\n-----\\nI am spending time with my 4 sisters what are you up to.\\n-----\\nWow, four sisters. Just watching game of thrones.\\n-----\\nThat is a good show I watch that while drinking iced tea.\\n-----\\nI agree. What do you do for a living?\\n-----\\nI'm a researcher I'm researching the fact that mermaids are real.\\n-----\\nInteresting. I'm a website designer. Pretty much spend all my time on the computer.\\n-----\\nThat's cool my mom does the same thing.\\n-----\\nThat's awesome. I have always had a love for technology.\\n-----\\nNo, I auditioned as a child but I failed horribly.\",\n",
       " \"Hi, how are you doing today?\\n-----\\nI am spending time with my 4 sisters what are you up to.\\n-----\\nWow, four sisters. Just watching game of thrones.\\n-----\\nThat is a good show I watch that while drinking iced tea.\\n-----\\nI agree. What do you do for a living?\\n-----\\nI'm a researcher I'm researching the fact that mermaids are real.\\n-----\\nInteresting. I'm a website designer. Pretty much spend all my time on the computer.\\n-----\\nThat's cool my mom does the same thing.\\n-----\\nThat's awesome. I have always had a love for technology.\\n-----\\nI love cheese and ham sandwiches.\",\n",
       " \"Hi, how are you doing today?\\n-----\\nI am spending time with my 4 sisters what are you up to.\\n-----\\nWow, four sisters. Just watching game of thrones.\\n-----\\nThat is a good show I watch that while drinking iced tea.\\n-----\\nI agree. What do you do for a living?\\n-----\\nI'm a researcher I'm researching the fact that mermaids are real.\\n-----\\nInteresting. I'm a website designer. Pretty much spend all my time on the computer.\\n-----\\nThat's cool my mom does the same thing.\\n-----\\nThat's awesome. I have always had a love for technology.\\n-----\\nA poodle, he is hard to look after as he is so big, I'm quite small.\",\n",
       " \"Hi, how are you doing today?\\n-----\\nI am spending time with my 4 sisters what are you up to.\\n-----\\nWow, four sisters. Just watching game of thrones.\\n-----\\nThat is a good show I watch that while drinking iced tea.\\n-----\\nI agree. What do you do for a living?\\n-----\\nI'm a researcher I'm researching the fact that mermaids are real.\\n-----\\nInteresting. I'm a website designer. Pretty much spend all my time on the computer.\\n-----\\nThat's cool my mom does the same thing.\\n-----\\nThat's awesome. I have always had a love for technology.\\n-----\\nHello, I believe in things I can touch and see. so...\",\n",
       " \"Hi, how are you doing today?\\n-----\\nI am spending time with my 4 sisters what are you up to.\\n-----\\nWow, four sisters. Just watching game of thrones.\\n-----\\nThat is a good show I watch that while drinking iced tea.\\n-----\\nI agree. What do you do for a living?\\n-----\\nI'm a researcher I'm researching the fact that mermaids are real.\\n-----\\nInteresting. I'm a website designer. Pretty much spend all my time on the computer.\\n-----\\nThat's cool my mom does the same thing.\\n-----\\nThat's awesome. I have always had a love for technology.\\n-----\\nIt is a beautiful day outside no rain here?\",\n",
       " \"Hi, how are you doing today?\\n-----\\nI am spending time with my 4 sisters what are you up to.\\n-----\\nWow, four sisters. Just watching game of thrones.\\n-----\\nThat is a good show I watch that while drinking iced tea.\\n-----\\nI agree. What do you do for a living?\\n-----\\nI'm a researcher I'm researching the fact that mermaids are real.\\n-----\\nInteresting. I'm a website designer. Pretty much spend all my time on the computer.\\n-----\\nThat's cool my mom does the same thing.\\n-----\\nThat's awesome. I have always had a love for technology.\\n-----\\nIs English your first language?\",\n",
       " \"Hi, how are you doing today?\\n-----\\nI am spending time with my 4 sisters what are you up to.\\n-----\\nWow, four sisters. Just watching game of thrones.\\n-----\\nThat is a good show I watch that while drinking iced tea.\\n-----\\nI agree. What do you do for a living?\\n-----\\nI'm a researcher I'm researching the fact that mermaids are real.\\n-----\\nInteresting. I'm a website designer. Pretty much spend all my time on the computer.\\n-----\\nThat's cool my mom does the same thing.\\n-----\\nThat's awesome. I have always had a love for technology.\\n-----\\nMy wife does when we take our Sunday drives.\",\n",
       " \"Hi, how are you doing today?\\n-----\\nI am spending time with my 4 sisters what are you up to.\\n-----\\nWow, four sisters. Just watching game of thrones.\\n-----\\nThat is a good show I watch that while drinking iced tea.\\n-----\\nI agree. What do you do for a living?\\n-----\\nI'm a researcher I'm researching the fact that mermaids are real.\\n-----\\nInteresting. I'm a website designer. Pretty much spend all my time on the computer.\\n-----\\nThat's cool my mom does the same thing.\\n-----\\nThat's awesome. I have always had a love for technology.\\n-----\\nOh, one day may. I wonder the same.\",\n",
       " \"Hi, how are you doing today?\\n-----\\nI am spending time with my 4 sisters what are you up to.\\n-----\\nWow, four sisters. Just watching game of thrones.\\n-----\\nThat is a good show I watch that while drinking iced tea.\\n-----\\nI agree. What do you do for a living?\\n-----\\nI'm a researcher I'm researching the fact that mermaids are real.\\n-----\\nInteresting. I'm a website designer. Pretty much spend all my time on the computer.\\n-----\\nThat's cool my mom does the same thing.\\n-----\\nThat's awesome. I have always had a love for technology.\\n-----\\nIts hard for me to relive. It involved bread and a defective oven.\",\n",
       " \"Hi, how are you doing today?\\n-----\\nI am spending time with my 4 sisters what are you up to.\\n-----\\nWow, four sisters. Just watching game of thrones.\\n-----\\nThat is a good show I watch that while drinking iced tea.\\n-----\\nI agree. What do you do for a living?\\n-----\\nI'm a researcher I'm researching the fact that mermaids are real.\\n-----\\nInteresting. I'm a website designer. Pretty much spend all my time on the computer.\\n-----\\nThat's cool my mom does the same thing.\\n-----\\nThat's awesome. I have always had a love for technology.\\n-----\\nHello there! How are you doing?\",\n",
       " \"Hi, how are you doing today?\\n-----\\nI am spending time with my 4 sisters what are you up to.\\n-----\\nWow, four sisters. Just watching game of thrones.\\n-----\\nThat is a good show I watch that while drinking iced tea.\\n-----\\nI agree. What do you do for a living?\\n-----\\nI'm a researcher I'm researching the fact that mermaids are real.\\n-----\\nInteresting. I'm a website designer. Pretty much spend all my time on the computer.\\n-----\\nThat's cool my mom does the same thing.\\n-----\\nThat's awesome. I have always had a love for technology.\\n-----\\nI swear I'm losing my freaking mind.\",\n",
       " \"Hi, how are you doing today?\\n-----\\nI am spending time with my 4 sisters what are you up to.\\n-----\\nWow, four sisters. Just watching game of thrones.\\n-----\\nThat is a good show I watch that while drinking iced tea.\\n-----\\nI agree. What do you do for a living?\\n-----\\nI'm a researcher I'm researching the fact that mermaids are real.\\n-----\\nInteresting. I'm a website designer. Pretty much spend all my time on the computer.\\n-----\\nThat's cool my mom does the same thing.\\n-----\\nThat's awesome. I have always had a love for technology.\\n-----\\nThat sounds yummy. I enjoy soccer. Do you work?\",\n",
       " \"Hi, how are you doing today?\\n-----\\nI am spending time with my 4 sisters what are you up to.\\n-----\\nWow, four sisters. Just watching game of thrones.\\n-----\\nThat is a good show I watch that while drinking iced tea.\\n-----\\nI agree. What do you do for a living?\\n-----\\nI'm a researcher I'm researching the fact that mermaids are real.\\n-----\\nInteresting. I'm a website designer. Pretty much spend all my time on the computer.\\n-----\\nThat's cool my mom does the same thing.\\n-----\\nThat's awesome. I have always had a love for technology.\\n-----\\nI see. I'm just trying to become a vegetarian. Are you?\",\n",
       " \"Hi, how are you doing today?\\n-----\\nI am spending time with my 4 sisters what are you up to.\\n-----\\nWow, four sisters. Just watching game of thrones.\\n-----\\nThat is a good show I watch that while drinking iced tea.\\n-----\\nI agree. What do you do for a living?\\n-----\\nI'm a researcher I'm researching the fact that mermaids are real.\\n-----\\nInteresting. I'm a website designer. Pretty much spend all my time on the computer.\\n-----\\nThat's cool my mom does the same thing.\\n-----\\nThat's awesome. I have always had a love for technology.\\n-----\\nGreat, I'll love it so much.\",\n",
       " \"Hi, how are you doing today?\\n-----\\nI am spending time with my 4 sisters what are you up to.\\n-----\\nWow, four sisters. Just watching game of thrones.\\n-----\\nThat is a good show I watch that while drinking iced tea.\\n-----\\nI agree. What do you do for a living?\\n-----\\nI'm a researcher I'm researching the fact that mermaids are real.\\n-----\\nInteresting. I'm a website designer. Pretty much spend all my time on the computer.\\n-----\\nThat's cool my mom does the same thing.\\n-----\\nThat's awesome. I have always had a love for technology.\\n-----\\nWow happy anniversary to you and him.\",\n",
       " \"Hi, how are you doing today?\\n-----\\nI am spending time with my 4 sisters what are you up to.\\n-----\\nWow, four sisters. Just watching game of thrones.\\n-----\\nThat is a good show I watch that while drinking iced tea.\\n-----\\nI agree. What do you do for a living?\\n-----\\nI'm a researcher I'm researching the fact that mermaids are real.\\n-----\\nInteresting. I'm a website designer. Pretty much spend all my time on the computer.\\n-----\\nThat's cool my mom does the same thing.\\n-----\\nThat's awesome. I have always had a love for technology.\\n-----\\nI enjoy playing tennis and baking.\",\n",
       " \"Hi, how are you doing today?\\n-----\\nI am spending time with my 4 sisters what are you up to.\\n-----\\nWow, four sisters. Just watching game of thrones.\\n-----\\nThat is a good show I watch that while drinking iced tea.\\n-----\\nI agree. What do you do for a living?\\n-----\\nI'm a researcher I'm researching the fact that mermaids are real.\\n-----\\nInteresting. I'm a website designer. Pretty much spend all my time on the computer.\\n-----\\nThat's cool my mom does the same thing.\\n-----\\nThat's awesome. I have always had a love for technology.\\n-----\\nAnd what is that then.\",\n",
       " \"Hi, how are you doing today?\\n-----\\nI am spending time with my 4 sisters what are you up to.\\n-----\\nWow, four sisters. Just watching game of thrones.\\n-----\\nThat is a good show I watch that while drinking iced tea.\\n-----\\nI agree. What do you do for a living?\\n-----\\nI'm a researcher I'm researching the fact that mermaids are real.\\n-----\\nInteresting. I'm a website designer. Pretty much spend all my time on the computer.\\n-----\\nThat's cool my mom does the same thing.\\n-----\\nThat's awesome. I have always had a love for technology.\\n-----\\nTell me more about yourself.\",\n",
       " \"Hi, how are you doing today?\\n-----\\nI am spending time with my 4 sisters what are you up to.\\n-----\\nWow, four sisters. Just watching game of thrones.\\n-----\\nThat is a good show I watch that while drinking iced tea.\\n-----\\nI agree. What do you do for a living?\\n-----\\nI'm a researcher I'm researching the fact that mermaids are real.\\n-----\\nInteresting. I'm a website designer. Pretty much spend all my time on the computer.\\n-----\\nThat's cool my mom does the same thing.\\n-----\\nThat's awesome. I have always had a love for technology.\\n-----\\nTell me more about yourself.\\n-----\\nI really enjoy free diving, how about you, have any hobbies?\\n-----\\nHello, I play with my iguanas and dogs.\",\n",
       " \"Hi, how are you doing today?\\n-----\\nI am spending time with my 4 sisters what are you up to.\\n-----\\nWow, four sisters. Just watching game of thrones.\\n-----\\nThat is a good show I watch that while drinking iced tea.\\n-----\\nI agree. What do you do for a living?\\n-----\\nI'm a researcher I'm researching the fact that mermaids are real.\\n-----\\nInteresting. I'm a website designer. Pretty much spend all my time on the computer.\\n-----\\nThat's cool my mom does the same thing.\\n-----\\nThat's awesome. I have always had a love for technology.\\n-----\\nTell me more about yourself.\\n-----\\nI really enjoy free diving, how about you, have any hobbies?\\n-----\\nOk stressful. My girlfriend and I broke up.\",\n",
       " \"Hi, how are you doing today?\\n-----\\nI am spending time with my 4 sisters what are you up to.\\n-----\\nWow, four sisters. Just watching game of thrones.\\n-----\\nThat is a good show I watch that while drinking iced tea.\\n-----\\nI agree. What do you do for a living?\\n-----\\nI'm a researcher I'm researching the fact that mermaids are real.\\n-----\\nInteresting. I'm a website designer. Pretty much spend all my time on the computer.\\n-----\\nThat's cool my mom does the same thing.\\n-----\\nThat's awesome. I have always had a love for technology.\\n-----\\nTell me more about yourself.\\n-----\\nI really enjoy free diving, how about you, have any hobbies?\\n-----\\nOh cool!! I really like music and singing.\",\n",
       " \"Hi, how are you doing today?\\n-----\\nI am spending time with my 4 sisters what are you up to.\\n-----\\nWow, four sisters. Just watching game of thrones.\\n-----\\nThat is a good show I watch that while drinking iced tea.\\n-----\\nI agree. What do you do for a living?\\n-----\\nI'm a researcher I'm researching the fact that mermaids are real.\\n-----\\nInteresting. I'm a website designer. Pretty much spend all my time on the computer.\\n-----\\nThat's cool my mom does the same thing.\\n-----\\nThat's awesome. I have always had a love for technology.\\n-----\\nTell me more about yourself.\\n-----\\nI really enjoy free diving, how about you, have any hobbies?\\n-----\\nI tour with a band, maybe you could do something like that.\",\n",
       " \"Hi, how are you doing today?\\n-----\\nI am spending time with my 4 sisters what are you up to.\\n-----\\nWow, four sisters. Just watching game of thrones.\\n-----\\nThat is a good show I watch that while drinking iced tea.\\n-----\\nI agree. What do you do for a living?\\n-----\\nI'm a researcher I'm researching the fact that mermaids are real.\\n-----\\nInteresting. I'm a website designer. Pretty much spend all my time on the computer.\\n-----\\nThat's cool my mom does the same thing.\\n-----\\nThat's awesome. I have always had a love for technology.\\n-----\\nTell me more about yourself.\\n-----\\nI really enjoy free diving, how about you, have any hobbies?\\n-----\\nWhat kind of music do you like?\",\n",
       " \"Hi, how are you doing today?\\n-----\\nI am spending time with my 4 sisters what are you up to.\\n-----\\nWow, four sisters. Just watching game of thrones.\\n-----\\nThat is a good show I watch that while drinking iced tea.\\n-----\\nI agree. What do you do for a living?\\n-----\\nI'm a researcher I'm researching the fact that mermaids are real.\\n-----\\nInteresting. I'm a website designer. Pretty much spend all my time on the computer.\\n-----\\nThat's cool my mom does the same thing.\\n-----\\nThat's awesome. I have always had a love for technology.\\n-----\\nTell me more about yourself.\\n-----\\nI really enjoy free diving, how about you, have any hobbies?\\n-----\\nI'm sorry to hear that! We all have issues. My feet sometimes smell bad after work.\",\n",
       " \"Hi, how are you doing today?\\n-----\\nI am spending time with my 4 sisters what are you up to.\\n-----\\nWow, four sisters. Just watching game of thrones.\\n-----\\nThat is a good show I watch that while drinking iced tea.\\n-----\\nI agree. What do you do for a living?\\n-----\\nI'm a researcher I'm researching the fact that mermaids are real.\\n-----\\nInteresting. I'm a website designer. Pretty much spend all my time on the computer.\\n-----\\nThat's cool my mom does the same thing.\\n-----\\nThat's awesome. I have always had a love for technology.\\n-----\\nTell me more about yourself.\\n-----\\nI really enjoy free diving, how about you, have any hobbies?\\n-----\\nThat's interesting. I guess the weirdest thing about me is I do not work.\",\n",
       " \"Hi, how are you doing today?\\n-----\\nI am spending time with my 4 sisters what are you up to.\\n-----\\nWow, four sisters. Just watching game of thrones.\\n-----\\nThat is a good show I watch that while drinking iced tea.\\n-----\\nI agree. What do you do for a living?\\n-----\\nI'm a researcher I'm researching the fact that mermaids are real.\\n-----\\nInteresting. I'm a website designer. Pretty much spend all my time on the computer.\\n-----\\nThat's cool my mom does the same thing.\\n-----\\nThat's awesome. I have always had a love for technology.\\n-----\\nTell me more about yourself.\\n-----\\nI really enjoy free diving, how about you, have any hobbies?\\n-----\\nI sometimes do not eat very healthy foods.\",\n",
       " \"Hi, how are you doing today?\\n-----\\nI am spending time with my 4 sisters what are you up to.\\n-----\\nWow, four sisters. Just watching game of thrones.\\n-----\\nThat is a good show I watch that while drinking iced tea.\\n-----\\nI agree. What do you do for a living?\\n-----\\nI'm a researcher I'm researching the fact that mermaids are real.\\n-----\\nInteresting. I'm a website designer. Pretty much spend all my time on the computer.\\n-----\\nThat's cool my mom does the same thing.\\n-----\\nThat's awesome. I have always had a love for technology.\\n-----\\nTell me more about yourself.\\n-----\\nI really enjoy free diving, how about you, have any hobbies?\\n-----\\nAwesome! Do you have a favorite hero?\",\n",
       " \"Hi, how are you doing today?\\n-----\\nI am spending time with my 4 sisters what are you up to.\\n-----\\nWow, four sisters. Just watching game of thrones.\\n-----\\nThat is a good show I watch that while drinking iced tea.\\n-----\\nI agree. What do you do for a living?\\n-----\\nI'm a researcher I'm researching the fact that mermaids are real.\\n-----\\nInteresting. I'm a website designer. Pretty much spend all my time on the computer.\\n-----\\nThat's cool my mom does the same thing.\\n-----\\nThat's awesome. I have always had a love for technology.\\n-----\\nTell me more about yourself.\\n-----\\nI really enjoy free diving, how about you, have any hobbies?\\n-----\\nI'm not married, but take care of my three roommates.\",\n",
       " \"Hi, how are you doing today?\\n-----\\nI am spending time with my 4 sisters what are you up to.\\n-----\\nWow, four sisters. Just watching game of thrones.\\n-----\\nThat is a good show I watch that while drinking iced tea.\\n-----\\nI agree. What do you do for a living?\\n-----\\nI'm a researcher I'm researching the fact that mermaids are real.\\n-----\\nInteresting. I'm a website designer. Pretty much spend all my time on the computer.\\n-----\\nThat's cool my mom does the same thing.\\n-----\\nThat's awesome. I have always had a love for technology.\\n-----\\nTell me more about yourself.\\n-----\\nI really enjoy free diving, how about you, have any hobbies?\\n-----\\nHi there, how are you tonight?\",\n",
       " \"Hi, how are you doing today?\\n-----\\nI am spending time with my 4 sisters what are you up to.\\n-----\\nWow, four sisters. Just watching game of thrones.\\n-----\\nThat is a good show I watch that while drinking iced tea.\\n-----\\nI agree. What do you do for a living?\\n-----\\nI'm a researcher I'm researching the fact that mermaids are real.\\n-----\\nInteresting. I'm a website designer. Pretty much spend all my time on the computer.\\n-----\\nThat's cool my mom does the same thing.\\n-----\\nThat's awesome. I have always had a love for technology.\\n-----\\nTell me more about yourself.\\n-----\\nI really enjoy free diving, how about you, have any hobbies?\\n-----\\nThe traffic is terrible but I've my favorite books to keep me company.\",\n",
       " \"Hi, how are you doing today?\\n-----\\nI am spending time with my 4 sisters what are you up to.\\n-----\\nWow, four sisters. Just watching game of thrones.\\n-----\\nThat is a good show I watch that while drinking iced tea.\\n-----\\nI agree. What do you do for a living?\\n-----\\nI'm a researcher I'm researching the fact that mermaids are real.\\n-----\\nInteresting. I'm a website designer. Pretty much spend all my time on the computer.\\n-----\\nThat's cool my mom does the same thing.\\n-----\\nThat's awesome. I have always had a love for technology.\\n-----\\nTell me more about yourself.\\n-----\\nI really enjoy free diving, how about you, have any hobbies?\\n-----\\nHello! How are you doing today?\",\n",
       " \"Hi, how are you doing today?\\n-----\\nI am spending time with my 4 sisters what are you up to.\\n-----\\nWow, four sisters. Just watching game of thrones.\\n-----\\nThat is a good show I watch that while drinking iced tea.\\n-----\\nI agree. What do you do for a living?\\n-----\\nI'm a researcher I'm researching the fact that mermaids are real.\\n-----\\nInteresting. I'm a website designer. Pretty much spend all my time on the computer.\\n-----\\nThat's cool my mom does the same thing.\\n-----\\nThat's awesome. I have always had a love for technology.\\n-----\\nTell me more about yourself.\\n-----\\nI really enjoy free diving, how about you, have any hobbies?\\n-----\\nThat's creepy. Do you like video games? I love them.\",\n",
       " \"Hi, how are you doing today?\\n-----\\nI am spending time with my 4 sisters what are you up to.\\n-----\\nWow, four sisters. Just watching game of thrones.\\n-----\\nThat is a good show I watch that while drinking iced tea.\\n-----\\nI agree. What do you do for a living?\\n-----\\nI'm a researcher I'm researching the fact that mermaids are real.\\n-----\\nInteresting. I'm a website designer. Pretty much spend all my time on the computer.\\n-----\\nThat's cool my mom does the same thing.\\n-----\\nThat's awesome. I have always had a love for technology.\\n-----\\nTell me more about yourself.\\n-----\\nI really enjoy free diving, how about you, have any hobbies?\\n-----\\nI love mystery and thriller novels! You should give them a try.\",\n",
       " \"Hi, how are you doing today?\\n-----\\nI am spending time with my 4 sisters what are you up to.\\n-----\\nWow, four sisters. Just watching game of thrones.\\n-----\\nThat is a good show I watch that while drinking iced tea.\\n-----\\nI agree. What do you do for a living?\\n-----\\nI'm a researcher I'm researching the fact that mermaids are real.\\n-----\\nInteresting. I'm a website designer. Pretty much spend all my time on the computer.\\n-----\\nThat's cool my mom does the same thing.\\n-----\\nThat's awesome. I have always had a love for technology.\\n-----\\nTell me more about yourself.\\n-----\\nI really enjoy free diving, how about you, have any hobbies?\\n-----\\nI watch a lot of kid shows got my start with voice overs with Sesame street.\",\n",
       " \"Hi, how are you doing today?\\n-----\\nI am spending time with my 4 sisters what are you up to.\\n-----\\nWow, four sisters. Just watching game of thrones.\\n-----\\nThat is a good show I watch that while drinking iced tea.\\n-----\\nI agree. What do you do for a living?\\n-----\\nI'm a researcher I'm researching the fact that mermaids are real.\\n-----\\nInteresting. I'm a website designer. Pretty much spend all my time on the computer.\\n-----\\nThat's cool my mom does the same thing.\\n-----\\nThat's awesome. I have always had a love for technology.\\n-----\\nTell me more about yourself.\\n-----\\nI really enjoy free diving, how about you, have any hobbies?\\n-----\\nI'm good getting ready to volunteer.\",\n",
       " \"Hi, how are you doing today?\\n-----\\nI am spending time with my 4 sisters what are you up to.\\n-----\\nWow, four sisters. Just watching game of thrones.\\n-----\\nThat is a good show I watch that while drinking iced tea.\\n-----\\nI agree. What do you do for a living?\\n-----\\nI'm a researcher I'm researching the fact that mermaids are real.\\n-----\\nInteresting. I'm a website designer. Pretty much spend all my time on the computer.\\n-----\\nThat's cool my mom does the same thing.\\n-----\\nThat's awesome. I have always had a love for technology.\\n-----\\nTell me more about yourself.\\n-----\\nI really enjoy free diving, how about you, have any hobbies?\\n-----\\nNah he's chill he's a California puppy hell just make fun of you.\",\n",
       " \"Hi, how are you doing today?\\n-----\\nI am spending time with my 4 sisters what are you up to.\\n-----\\nWow, four sisters. Just watching game of thrones.\\n-----\\nThat is a good show I watch that while drinking iced tea.\\n-----\\nI agree. What do you do for a living?\\n-----\\nI'm a researcher I'm researching the fact that mermaids are real.\\n-----\\nInteresting. I'm a website designer. Pretty much spend all my time on the computer.\\n-----\\nThat's cool my mom does the same thing.\\n-----\\nThat's awesome. I have always had a love for technology.\\n-----\\nTell me more about yourself.\\n-----\\nI really enjoy free diving, how about you, have any hobbies?\\n-----\\nNothing, I just do not want a normal life.\",\n",
       " \"Hi, how are you doing today?\\n-----\\nI am spending time with my 4 sisters what are you up to.\\n-----\\nWow, four sisters. Just watching game of thrones.\\n-----\\nThat is a good show I watch that while drinking iced tea.\\n-----\\nI agree. What do you do for a living?\\n-----\\nI'm a researcher I'm researching the fact that mermaids are real.\\n-----\\nInteresting. I'm a website designer. Pretty much spend all my time on the computer.\\n-----\\nThat's cool my mom does the same thing.\\n-----\\nThat's awesome. I have always had a love for technology.\\n-----\\nTell me more about yourself.\\n-----\\nI really enjoy free diving, how about you, have any hobbies?\\n-----\\nI enjoy hanging with my mother she's my best friend.\",\n",
       " \"Hi, how are you doing today?\\n-----\\nI am spending time with my 4 sisters what are you up to.\\n-----\\nWow, four sisters. Just watching game of thrones.\\n-----\\nThat is a good show I watch that while drinking iced tea.\\n-----\\nI agree. What do you do for a living?\\n-----\\nI'm a researcher I'm researching the fact that mermaids are real.\\n-----\\nInteresting. I'm a website designer. Pretty much spend all my time on the computer.\\n-----\\nThat's cool my mom does the same thing.\\n-----\\nThat's awesome. I have always had a love for technology.\\n-----\\nTell me more about yourself.\\n-----\\nI really enjoy free diving, how about you, have any hobbies?\\n-----\\nI enjoy hanging with my mother she's my best friend.\\n-----\\nThat's nice. Moms are pretty cool too.\\n-----\\nWhat sort of events do you normally photograph?\",\n",
       " \"Hi, how are you doing today?\\n-----\\nI am spending time with my 4 sisters what are you up to.\\n-----\\nWow, four sisters. Just watching game of thrones.\\n-----\\nThat is a good show I watch that while drinking iced tea.\\n-----\\nI agree. What do you do for a living?\\n-----\\nI'm a researcher I'm researching the fact that mermaids are real.\\n-----\\nInteresting. I'm a website designer. Pretty much spend all my time on the computer.\\n-----\\nThat's cool my mom does the same thing.\\n-----\\nThat's awesome. I have always had a love for technology.\\n-----\\nTell me more about yourself.\\n-----\\nI really enjoy free diving, how about you, have any hobbies?\\n-----\\nI enjoy hanging with my mother she's my best friend.\\n-----\\nThat's nice. Moms are pretty cool too.\\n-----\\nThe Minnesota wolves. I'm filthy rich.\",\n",
       " \"Hi, how are you doing today?\\n-----\\nI am spending time with my 4 sisters what are you up to.\\n-----\\nWow, four sisters. Just watching game of thrones.\\n-----\\nThat is a good show I watch that while drinking iced tea.\\n-----\\nI agree. What do you do for a living?\\n-----\\nI'm a researcher I'm researching the fact that mermaids are real.\\n-----\\nInteresting. I'm a website designer. Pretty much spend all my time on the computer.\\n-----\\nThat's cool my mom does the same thing.\\n-----\\nThat's awesome. I have always had a love for technology.\\n-----\\nTell me more about yourself.\\n-----\\nI really enjoy free diving, how about you, have any hobbies?\\n-----\\nI enjoy hanging with my mother she's my best friend.\\n-----\\nThat's nice. Moms are pretty cool too.\\n-----\\nHope so my class is taking a trip there end of the year.\",\n",
       " \"Hi, how are you doing today?\\n-----\\nI am spending time with my 4 sisters what are you up to.\\n-----\\nWow, four sisters. Just watching game of thrones.\\n-----\\nThat is a good show I watch that while drinking iced tea.\\n-----\\nI agree. What do you do for a living?\\n-----\\nI'm a researcher I'm researching the fact that mermaids are real.\\n-----\\nInteresting. I'm a website designer. Pretty much spend all my time on the computer.\\n-----\\nThat's cool my mom does the same thing.\\n-----\\nThat's awesome. I have always had a love for technology.\\n-----\\nTell me more about yourself.\\n-----\\nI really enjoy free diving, how about you, have any hobbies?\\n-----\\nI enjoy hanging with my mother she's my best friend.\\n-----\\nThat's nice. Moms are pretty cool too.\\n-----\\nTell me something about you.\",\n",
       " \"Hi, how are you doing today?\\n-----\\nI am spending time with my 4 sisters what are you up to.\\n-----\\nWow, four sisters. Just watching game of thrones.\\n-----\\nThat is a good show I watch that while drinking iced tea.\\n-----\\nI agree. What do you do for a living?\\n-----\\nI'm a researcher I'm researching the fact that mermaids are real.\\n-----\\nInteresting. I'm a website designer. Pretty much spend all my time on the computer.\\n-----\\nThat's cool my mom does the same thing.\\n-----\\nThat's awesome. I have always had a love for technology.\\n-----\\nTell me more about yourself.\\n-----\\nI really enjoy free diving, how about you, have any hobbies?\\n-----\\nI enjoy hanging with my mother she's my best friend.\\n-----\\nThat's nice. Moms are pretty cool too.\\n-----\\nI like to spend the time in concerts. Whats the kids fav. Color in school?\",\n",
       " \"Hi, how are you doing today?\\n-----\\nI am spending time with my 4 sisters what are you up to.\\n-----\\nWow, four sisters. Just watching game of thrones.\\n-----\\nThat is a good show I watch that while drinking iced tea.\\n-----\\nI agree. What do you do for a living?\\n-----\\nI'm a researcher I'm researching the fact that mermaids are real.\\n-----\\nInteresting. I'm a website designer. Pretty much spend all my time on the computer.\\n-----\\nThat's cool my mom does the same thing.\\n-----\\nThat's awesome. I have always had a love for technology.\\n-----\\nTell me more about yourself.\\n-----\\nI really enjoy free diving, how about you, have any hobbies?\\n-----\\nI enjoy hanging with my mother she's my best friend.\\n-----\\nThat's nice. Moms are pretty cool too.\\n-----\\nI bet. what do you do for fun?\",\n",
       " \"Hi, how are you doing today?\\n-----\\nI am spending time with my 4 sisters what are you up to.\\n-----\\nWow, four sisters. Just watching game of thrones.\\n-----\\nThat is a good show I watch that while drinking iced tea.\\n-----\\nI agree. What do you do for a living?\\n-----\\nI'm a researcher I'm researching the fact that mermaids are real.\\n-----\\nInteresting. I'm a website designer. Pretty much spend all my time on the computer.\\n-----\\nThat's cool my mom does the same thing.\\n-----\\nThat's awesome. I have always had a love for technology.\\n-----\\nTell me more about yourself.\\n-----\\nI really enjoy free diving, how about you, have any hobbies?\\n-----\\nI enjoy hanging with my mother she's my best friend.\\n-----\\nThat's nice. Moms are pretty cool too.\\n-----\\nCool I own a company come work for me.\",\n",
       " \"Hi, how are you doing today?\\n-----\\nI am spending time with my 4 sisters what are you up to.\\n-----\\nWow, four sisters. Just watching game of thrones.\\n-----\\nThat is a good show I watch that while drinking iced tea.\\n-----\\nI agree. What do you do for a living?\\n-----\\nI'm a researcher I'm researching the fact that mermaids are real.\\n-----\\nInteresting. I'm a website designer. Pretty much spend all my time on the computer.\\n-----\\nThat's cool my mom does the same thing.\\n-----\\nThat's awesome. I have always had a love for technology.\\n-----\\nTell me more about yourself.\\n-----\\nI really enjoy free diving, how about you, have any hobbies?\\n-----\\nI enjoy hanging with my mother she's my best friend.\\n-----\\nThat's nice. Moms are pretty cool too.\\n-----\\nYes it is. Whistling reminds me of the walking dead tv show.\",\n",
       " \"Hi, how are you doing today?\\n-----\\nI am spending time with my 4 sisters what are you up to.\\n-----\\nWow, four sisters. Just watching game of thrones.\\n-----\\nThat is a good show I watch that while drinking iced tea.\\n-----\\nI agree. What do you do for a living?\\n-----\\nI'm a researcher I'm researching the fact that mermaids are real.\\n-----\\nInteresting. I'm a website designer. Pretty much spend all my time on the computer.\\n-----\\nThat's cool my mom does the same thing.\\n-----\\nThat's awesome. I have always had a love for technology.\\n-----\\nTell me more about yourself.\\n-----\\nI really enjoy free diving, how about you, have any hobbies?\\n-----\\nI enjoy hanging with my mother she's my best friend.\\n-----\\nThat's nice. Moms are pretty cool too.\\n-----\\nI'm ok wish my allergy medicine would kick in.\",\n",
       " \"Hi, how are you doing today?\\n-----\\nI am spending time with my 4 sisters what are you up to.\\n-----\\nWow, four sisters. Just watching game of thrones.\\n-----\\nThat is a good show I watch that while drinking iced tea.\\n-----\\nI agree. What do you do for a living?\\n-----\\nI'm a researcher I'm researching the fact that mermaids are real.\\n-----\\nInteresting. I'm a website designer. Pretty much spend all my time on the computer.\\n-----\\nThat's cool my mom does the same thing.\\n-----\\nThat's awesome. I have always had a love for technology.\\n-----\\nTell me more about yourself.\\n-----\\nI really enjoy free diving, how about you, have any hobbies?\\n-----\\nI enjoy hanging with my mother she's my best friend.\\n-----\\nThat's nice. Moms are pretty cool too.\\n-----\\nI'm good and you?\",\n",
       " \"Hi, how are you doing today?\\n-----\\nI am spending time with my 4 sisters what are you up to.\\n-----\\nWow, four sisters. Just watching game of thrones.\\n-----\\nThat is a good show I watch that while drinking iced tea.\\n-----\\nI agree. What do you do for a living?\\n-----\\nI'm a researcher I'm researching the fact that mermaids are real.\\n-----\\nInteresting. I'm a website designer. Pretty much spend all my time on the computer.\\n-----\\nThat's cool my mom does the same thing.\\n-----\\nThat's awesome. I have always had a love for technology.\\n-----\\nTell me more about yourself.\\n-----\\nI really enjoy free diving, how about you, have any hobbies?\\n-----\\nI enjoy hanging with my mother she's my best friend.\\n-----\\nThat's nice. Moms are pretty cool too.\\n-----\\nHey hows it going, tell me something about yourself.\",\n",
       " \"Hi, how are you doing today?\\n-----\\nI am spending time with my 4 sisters what are you up to.\\n-----\\nWow, four sisters. Just watching game of thrones.\\n-----\\nThat is a good show I watch that while drinking iced tea.\\n-----\\nI agree. What do you do for a living?\\n-----\\nI'm a researcher I'm researching the fact that mermaids are real.\\n-----\\nInteresting. I'm a website designer. Pretty much spend all my time on the computer.\\n-----\\nThat's cool my mom does the same thing.\\n-----\\nThat's awesome. I have always had a love for technology.\\n-----\\nTell me more about yourself.\\n-----\\nI really enjoy free diving, how about you, have any hobbies?\\n-----\\nI enjoy hanging with my mother she's my best friend.\\n-----\\nThat's nice. Moms are pretty cool too.\\n-----\\nI got into the habit in the hospital. Had two toes amputated in an accident.\",\n",
       " \"Hi, how are you doing today?\\n-----\\nI am spending time with my 4 sisters what are you up to.\\n-----\\nWow, four sisters. Just watching game of thrones.\\n-----\\nThat is a good show I watch that while drinking iced tea.\\n-----\\nI agree. What do you do for a living?\\n-----\\nI'm a researcher I'm researching the fact that mermaids are real.\\n-----\\nInteresting. I'm a website designer. Pretty much spend all my time on the computer.\\n-----\\nThat's cool my mom does the same thing.\\n-----\\nThat's awesome. I have always had a love for technology.\\n-----\\nTell me more about yourself.\\n-----\\nI really enjoy free diving, how about you, have any hobbies?\\n-----\\nI enjoy hanging with my mother she's my best friend.\\n-----\\nThat's nice. Moms are pretty cool too.\\n-----\\nGreat thank you. And yourself?\",\n",
       " \"Hi, how are you doing today?\\n-----\\nI am spending time with my 4 sisters what are you up to.\\n-----\\nWow, four sisters. Just watching game of thrones.\\n-----\\nThat is a good show I watch that while drinking iced tea.\\n-----\\nI agree. What do you do for a living?\\n-----\\nI'm a researcher I'm researching the fact that mermaids are real.\\n-----\\nInteresting. I'm a website designer. Pretty much spend all my time on the computer.\\n-----\\nThat's cool my mom does the same thing.\\n-----\\nThat's awesome. I have always had a love for technology.\\n-----\\nTell me more about yourself.\\n-----\\nI really enjoy free diving, how about you, have any hobbies?\\n-----\\nI enjoy hanging with my mother she's my best friend.\\n-----\\nThat's nice. Moms are pretty cool too.\\n-----\\nJust watching football. I'm a hugeeee nfl fan.\",\n",
       " \"Hi, how are you doing today?\\n-----\\nI am spending time with my 4 sisters what are you up to.\\n-----\\nWow, four sisters. Just watching game of thrones.\\n-----\\nThat is a good show I watch that while drinking iced tea.\\n-----\\nI agree. What do you do for a living?\\n-----\\nI'm a researcher I'm researching the fact that mermaids are real.\\n-----\\nInteresting. I'm a website designer. Pretty much spend all my time on the computer.\\n-----\\nThat's cool my mom does the same thing.\\n-----\\nThat's awesome. I have always had a love for technology.\\n-----\\nTell me more about yourself.\\n-----\\nI really enjoy free diving, how about you, have any hobbies?\\n-----\\nI enjoy hanging with my mother she's my best friend.\\n-----\\nThat's nice. Moms are pretty cool too.\\n-----\\nI have been blessed for sure. What kind of music do you like?\",\n",
       " \"Hi, how are you doing today?\\n-----\\nI am spending time with my 4 sisters what are you up to.\\n-----\\nWow, four sisters. Just watching game of thrones.\\n-----\\nThat is a good show I watch that while drinking iced tea.\\n-----\\nI agree. What do you do for a living?\\n-----\\nI'm a researcher I'm researching the fact that mermaids are real.\\n-----\\nInteresting. I'm a website designer. Pretty much spend all my time on the computer.\\n-----\\nThat's cool my mom does the same thing.\\n-----\\nThat's awesome. I have always had a love for technology.\\n-----\\nTell me more about yourself.\\n-----\\nI really enjoy free diving, how about you, have any hobbies?\\n-----\\nI enjoy hanging with my mother she's my best friend.\\n-----\\nThat's nice. Moms are pretty cool too.\\n-----\\nNot school. I teach aerobics and yoga classes.\",\n",
       " \"Hi, how are you doing today?\\n-----\\nI am spending time with my 4 sisters what are you up to.\\n-----\\nWow, four sisters. Just watching game of thrones.\\n-----\\nThat is a good show I watch that while drinking iced tea.\\n-----\\nI agree. What do you do for a living?\\n-----\\nI'm a researcher I'm researching the fact that mermaids are real.\\n-----\\nInteresting. I'm a website designer. Pretty much spend all my time on the computer.\\n-----\\nThat's cool my mom does the same thing.\\n-----\\nThat's awesome. I have always had a love for technology.\\n-----\\nTell me more about yourself.\\n-----\\nI really enjoy free diving, how about you, have any hobbies?\\n-----\\nI enjoy hanging with my mother she's my best friend.\\n-----\\nThat's nice. Moms are pretty cool too.\\n-----\\nI will make those dogs look majestic. In the afternoon though, for I sleep late.\",\n",
       " \"Hi, how are you doing today?\\n-----\\nI am spending time with my 4 sisters what are you up to.\\n-----\\nWow, four sisters. Just watching game of thrones.\\n-----\\nThat is a good show I watch that while drinking iced tea.\\n-----\\nI agree. What do you do for a living?\\n-----\\nI'm a researcher I'm researching the fact that mermaids are real.\\n-----\\nInteresting. I'm a website designer. Pretty much spend all my time on the computer.\\n-----\\nThat's cool my mom does the same thing.\\n-----\\nThat's awesome. I have always had a love for technology.\\n-----\\nTell me more about yourself.\\n-----\\nI really enjoy free diving, how about you, have any hobbies?\\n-----\\nI enjoy hanging with my mother she's my best friend.\\n-----\\nThat's nice. Moms are pretty cool too.\\n-----\\nI don't, I wish I did tho. I'm trying not to relapse.\",\n",
       " \"Hi, how are you doing today?\\n-----\\nI am spending time with my 4 sisters what are you up to.\\n-----\\nWow, four sisters. Just watching game of thrones.\\n-----\\nThat is a good show I watch that while drinking iced tea.\\n-----\\nI agree. What do you do for a living?\\n-----\\nI'm a researcher I'm researching the fact that mermaids are real.\\n-----\\nInteresting. I'm a website designer. Pretty much spend all my time on the computer.\\n-----\\nThat's cool my mom does the same thing.\\n-----\\nThat's awesome. I have always had a love for technology.\\n-----\\nTell me more about yourself.\\n-----\\nI really enjoy free diving, how about you, have any hobbies?\\n-----\\nI enjoy hanging with my mother she's my best friend.\\n-----\\nThat's nice. Moms are pretty cool too.\\n-----\\nOh okay. Why? I like riding horses do you?\",\n",
       " \"Hi, how are you doing today?\\n-----\\nI am spending time with my 4 sisters what are you up to.\\n-----\\nWow, four sisters. Just watching game of thrones.\\n-----\\nThat is a good show I watch that while drinking iced tea.\\n-----\\nI agree. What do you do for a living?\\n-----\\nI'm a researcher I'm researching the fact that mermaids are real.\\n-----\\nInteresting. I'm a website designer. Pretty much spend all my time on the computer.\\n-----\\nThat's cool my mom does the same thing.\\n-----\\nThat's awesome. I have always had a love for technology.\\n-----\\nTell me more about yourself.\\n-----\\nI really enjoy free diving, how about you, have any hobbies?\\n-----\\nI enjoy hanging with my mother she's my best friend.\\n-----\\nThat's nice. Moms are pretty cool too.\\n-----\\nI'm also fascinated with mermaids.\",\n",
       " 'We all live in a yellow submarine, a yellow submarine. Morning!\\n-----\\nFine how are you feeling tonight?',\n",
       " 'We all live in a yellow submarine, a yellow submarine. Morning!\\n-----\\nI like to visit national parks.',\n",
       " 'We all live in a yellow submarine, a yellow submarine. Morning!\\n-----\\nMe too! I like coffee also, but not before bed.',\n",
       " \"We all live in a yellow submarine, a yellow submarine. Morning!\\n-----\\nI'm a stay at home mom, I would definitely consider it work lol.\",\n",
       " \"We all live in a yellow submarine, a yellow submarine. Morning!\\n-----\\nAnd I'm certainly creative! Where do you work?\",\n",
       " 'We all live in a yellow submarine, a yellow submarine. Morning!\\n-----\\nYeah I think it was wrestling old Jr.',\n",
       " 'We all live in a yellow submarine, a yellow submarine. Morning!\\n-----\\nNah, I moved to get away from my ex wives.',\n",
       " 'We all live in a yellow submarine, a yellow submarine. Morning!\\n-----\\nThat s ok I don T have long either. I m fine.',\n",
       " 'We all live in a yellow submarine, a yellow submarine. Morning!\\n-----\\nGood just watching fifty shades darker.',\n",
       " 'We all live in a yellow submarine, a yellow submarine. Morning!\\n-----\\nCriminal justice. Although I doubt it.',\n",
       " 'We all live in a yellow submarine, a yellow submarine. Morning!\\n-----\\nOh, ok. I work to much to learn new things.',\n",
       " 'We all live in a yellow submarine, a yellow submarine. Morning!\\n-----\\nGreat, watching silence of the lamb, my favorite! What are u up to.',\n",
       " 'We all live in a yellow submarine, a yellow submarine. Morning!\\n-----\\nOh. I enjoy running marathons and watching netflix.',\n",
       " 'We all live in a yellow submarine, a yellow submarine. Morning!\\n-----\\nI hope they do, in exchange my grandma makes me jewelry.',\n",
       " 'We all live in a yellow submarine, a yellow submarine. Morning!\\n-----\\nI only have one younger brother.',\n",
       " 'We all live in a yellow submarine, a yellow submarine. Morning!\\n-----\\nHello how are you this evening?',\n",
       " \"We all live in a yellow submarine, a yellow submarine. Morning!\\n-----\\nI've an admiration for gardening and flowers too. My family is all tall.\",\n",
       " 'We all live in a yellow submarine, a yellow submarine. Morning!\\n-----\\nThe clouds can be beautiful and have many different shapes.',\n",
       " 'We all live in a yellow submarine, a yellow submarine. Morning!\\n-----\\nI like watching movies with the wife.',\n",
       " 'We all live in a yellow submarine, a yellow submarine. Morning!\\n-----\\nHi! that is a great line for my next stand up.',\n",
       " 'We all live in a yellow submarine, a yellow submarine. Morning!\\n-----\\nHi! that is a great line for my next stand up.\\n-----\\nLol. I am shy, anything to break the ice, and I am a Beatles fan.\\n-----\\nI like to play football are you like football?',\n",
       " 'We all live in a yellow submarine, a yellow submarine. Morning!\\n-----\\nHi! that is a great line for my next stand up.\\n-----\\nLol. I am shy, anything to break the ice, and I am a Beatles fan.\\n-----\\nHey do you have a favorite color. I am well. Yourself?',\n",
       " 'We all live in a yellow submarine, a yellow submarine. Morning!\\n-----\\nHi! that is a great line for my next stand up.\\n-----\\nLol. I am shy, anything to break the ice, and I am a Beatles fan.\\n-----\\nHi there! I love wine tours.',\n",
       " 'We all live in a yellow submarine, a yellow submarine. Morning!\\n-----\\nHi! that is a great line for my next stand up.\\n-----\\nLol. I am shy, anything to break the ice, and I am a Beatles fan.\\n-----\\nHello, how are you today?',\n",
       " 'We all live in a yellow submarine, a yellow submarine. Morning!\\n-----\\nHi! that is a great line for my next stand up.\\n-----\\nLol. I am shy, anything to break the ice, and I am a Beatles fan.\\n-----\\nFamily is important to have around.',\n",
       " 'We all live in a yellow submarine, a yellow submarine. Morning!\\n-----\\nHi! that is a great line for my next stand up.\\n-----\\nLol. I am shy, anything to break the ice, and I am a Beatles fan.\\n-----\\nDo not fall in love! I only live for six months. Then gone. Dead like swan.',\n",
       " 'We all live in a yellow submarine, a yellow submarine. Morning!\\n-----\\nHi! that is a great line for my next stand up.\\n-----\\nLol. I am shy, anything to break the ice, and I am a Beatles fan.\\n-----\\nI am happy that you are care for me.',\n",
       " 'We all live in a yellow submarine, a yellow submarine. Morning!\\n-----\\nHi! that is a great line for my next stand up.\\n-----\\nLol. I am shy, anything to break the ice, and I am a Beatles fan.\\n-----\\nRollerblading... that sounds fun.. do you do it often?',\n",
       " 'We all live in a yellow submarine, a yellow submarine. Morning!\\n-----\\nHi! that is a great line for my next stand up.\\n-----\\nLol. I am shy, anything to break the ice, and I am a Beatles fan.\\n-----\\nI can not sleep too well.',\n",
       " 'We all live in a yellow submarine, a yellow submarine. Morning!\\n-----\\nHi! that is a great line for my next stand up.\\n-----\\nLol. I am shy, anything to break the ice, and I am a Beatles fan.\\n-----\\nHi how are you today?',\n",
       " 'We all live in a yellow submarine, a yellow submarine. Morning!\\n-----\\nHi! that is a great line for my next stand up.\\n-----\\nLol. I am shy, anything to break the ice, and I am a Beatles fan.\\n-----\\nI am doing fine about to get ready to go to the gym.',\n",
       " 'We all live in a yellow submarine, a yellow submarine. Morning!\\n-----\\nHi! that is a great line for my next stand up.\\n-----\\nLol. I am shy, anything to break the ice, and I am a Beatles fan.\\n-----\\nHi there. Waiting for my husband to get home.....',\n",
       " 'We all live in a yellow submarine, a yellow submarine. Morning!\\n-----\\nHi! that is a great line for my next stand up.\\n-----\\nLol. I am shy, anything to break the ice, and I am a Beatles fan.\\n-----\\nPretty good thanks and oyu.',\n",
       " 'We all live in a yellow submarine, a yellow submarine. Morning!\\n-----\\nHi! that is a great line for my next stand up.\\n-----\\nLol. I am shy, anything to break the ice, and I am a Beatles fan.\\n-----\\nI love making new clothes out of old and seeing my kids in class light up.',\n",
       " \"We all live in a yellow submarine, a yellow submarine. Morning!\\n-----\\nHi! that is a great line for my next stand up.\\n-----\\nLol. I am shy, anything to break the ice, and I am a Beatles fan.\\n-----\\nI've mainly Aston martins and a few lotus.\",\n",
       " 'We all live in a yellow submarine, a yellow submarine. Morning!\\n-----\\nHi! that is a great line for my next stand up.\\n-----\\nLol. I am shy, anything to break the ice, and I am a Beatles fan.\\n-----\\nI am too, but a good friend of mine just moved away.',\n",
       " 'We all live in a yellow submarine, a yellow submarine. Morning!\\n-----\\nHi! that is a great line for my next stand up.\\n-----\\nLol. I am shy, anything to break the ice, and I am a Beatles fan.\\n-----\\nI am currently in college.',\n",
       " 'We all live in a yellow submarine, a yellow submarine. Morning!\\n-----\\nHi! that is a great line for my next stand up.\\n-----\\nLol. I am shy, anything to break the ice, and I am a Beatles fan.\\n-----\\nWhat is your favorite car? Mine is prius and I drive one!',\n",
       " 'We all live in a yellow submarine, a yellow submarine. Morning!\\n-----\\nHi! that is a great line for my next stand up.\\n-----\\nLol. I am shy, anything to break the ice, and I am a Beatles fan.\\n-----\\nMy face has freckles, and will be wearing white flip flops,.',\n",
       " 'We all live in a yellow submarine, a yellow submarine. Morning!\\n-----\\nHi! that is a great line for my next stand up.\\n-----\\nLol. I am shy, anything to break the ice, and I am a Beatles fan.\\n-----\\nI can tell. I am not, you can see me in some tv shows.',\n",
       " 'We all live in a yellow submarine, a yellow submarine. Morning!\\n-----\\nHi! that is a great line for my next stand up.\\n-----\\nLol. I am shy, anything to break the ice, and I am a Beatles fan.\\n-----\\nI can tell. I am not, you can see me in some tv shows.\\n-----\\nReally? What shows? I like tv, it makes me forget I do not like my family.\\n-----\\nMy 4 dogs do not mind them tho. We are always together.',\n",
       " 'We all live in a yellow submarine, a yellow submarine. Morning!\\n-----\\nHi! that is a great line for my next stand up.\\n-----\\nLol. I am shy, anything to break the ice, and I am a Beatles fan.\\n-----\\nI can tell. I am not, you can see me in some tv shows.\\n-----\\nReally? What shows? I like tv, it makes me forget I do not like my family.\\n-----\\nAh ok. yeah, I need to get my moped fixed. I drive it every day.',\n",
       " 'We all live in a yellow submarine, a yellow submarine. Morning!\\n-----\\nHi! that is a great line for my next stand up.\\n-----\\nLol. I am shy, anything to break the ice, and I am a Beatles fan.\\n-----\\nI can tell. I am not, you can see me in some tv shows.\\n-----\\nReally? What shows? I like tv, it makes me forget I do not like my family.\\n-----\\nI love dancing, but I live at home with my mom and loud music bothers here.',\n",
       " \"We all live in a yellow submarine, a yellow submarine. Morning!\\n-----\\nHi! that is a great line for my next stand up.\\n-----\\nLol. I am shy, anything to break the ice, and I am a Beatles fan.\\n-----\\nI can tell. I am not, you can see me in some tv shows.\\n-----\\nReally? What shows? I like tv, it makes me forget I do not like my family.\\n-----\\nI'm also a jewelry designer, that's my first love.\",\n",
       " 'We all live in a yellow submarine, a yellow submarine. Morning!\\n-----\\nHi! that is a great line for my next stand up.\\n-----\\nLol. I am shy, anything to break the ice, and I am a Beatles fan.\\n-----\\nI can tell. I am not, you can see me in some tv shows.\\n-----\\nReally? What shows? I like tv, it makes me forget I do not like my family.\\n-----\\nUmm.. hi.. can I help you?',\n",
       " 'We all live in a yellow submarine, a yellow submarine. Morning!\\n-----\\nHi! that is a great line for my next stand up.\\n-----\\nLol. I am shy, anything to break the ice, and I am a Beatles fan.\\n-----\\nI can tell. I am not, you can see me in some tv shows.\\n-----\\nReally? What shows? I like tv, it makes me forget I do not like my family.\\n-----\\nWhat did you buy there?',\n",
       " \"We all live in a yellow submarine, a yellow submarine. Morning!\\n-----\\nHi! that is a great line for my next stand up.\\n-----\\nLol. I am shy, anything to break the ice, and I am a Beatles fan.\\n-----\\nI can tell. I am not, you can see me in some tv shows.\\n-----\\nReally? What shows? I like tv, it makes me forget I do not like my family.\\n-----\\nI'm fine and you? The type of music I like is folk and you?\",\n",
       " 'We all live in a yellow submarine, a yellow submarine. Morning!\\n-----\\nHi! that is a great line for my next stand up.\\n-----\\nLol. I am shy, anything to break the ice, and I am a Beatles fan.\\n-----\\nI can tell. I am not, you can see me in some tv shows.\\n-----\\nReally? What shows? I like tv, it makes me forget I do not like my family.\\n-----\\nHello, how are you?',\n",
       " 'We all live in a yellow submarine, a yellow submarine. Morning!\\n-----\\nHi! that is a great line for my next stand up.\\n-----\\nLol. I am shy, anything to break the ice, and I am a Beatles fan.\\n-----\\nI can tell. I am not, you can see me in some tv shows.\\n-----\\nReally? What shows? I like tv, it makes me forget I do not like my family.\\n-----\\nI take care of myself now.',\n",
       " 'We all live in a yellow submarine, a yellow submarine. Morning!\\n-----\\nHi! that is a great line for my next stand up.\\n-----\\nLol. I am shy, anything to break the ice, and I am a Beatles fan.\\n-----\\nI can tell. I am not, you can see me in some tv shows.\\n-----\\nReally? What shows? I like tv, it makes me forget I do not like my family.\\n-----\\nFine, what are you up to today?',\n",
       " 'We all live in a yellow submarine, a yellow submarine. Morning!\\n-----\\nHi! that is a great line for my next stand up.\\n-----\\nLol. I am shy, anything to break the ice, and I am a Beatles fan.\\n-----\\nI can tell. I am not, you can see me in some tv shows.\\n-----\\nReally? What shows? I like tv, it makes me forget I do not like my family.\\n-----\\nDo you work for a company or contract work?',\n",
       " 'We all live in a yellow submarine, a yellow submarine. Morning!\\n-----\\nHi! that is a great line for my next stand up.\\n-----\\nLol. I am shy, anything to break the ice, and I am a Beatles fan.\\n-----\\nI can tell. I am not, you can see me in some tv shows.\\n-----\\nReally? What shows? I like tv, it makes me forget I do not like my family.\\n-----\\nWhat were the name of your parents?',\n",
       " 'We all live in a yellow submarine, a yellow submarine. Morning!\\n-----\\nHi! that is a great line for my next stand up.\\n-----\\nLol. I am shy, anything to break the ice, and I am a Beatles fan.\\n-----\\nI can tell. I am not, you can see me in some tv shows.\\n-----\\nReally? What shows? I like tv, it makes me forget I do not like my family.\\n-----\\nI like all the colors. None specifically.',\n",
       " 'We all live in a yellow submarine, a yellow submarine. Morning!\\n-----\\nHi! that is a great line for my next stand up.\\n-----\\nLol. I am shy, anything to break the ice, and I am a Beatles fan.\\n-----\\nI can tell. I am not, you can see me in some tv shows.\\n-----\\nReally? What shows? I like tv, it makes me forget I do not like my family.\\n-----\\nLol yes I thought I was confused for a moment.',\n",
       " 'We all live in a yellow submarine, a yellow submarine. Morning!\\n-----\\nHi! that is a great line for my next stand up.\\n-----\\nLol. I am shy, anything to break the ice, and I am a Beatles fan.\\n-----\\nI can tell. I am not, you can see me in some tv shows.\\n-----\\nReally? What shows? I like tv, it makes me forget I do not like my family.\\n-----\\nAlligator! its so tender!! But never crocodile.',\n",
       " 'We all live in a yellow submarine, a yellow submarine. Morning!\\n-----\\nHi! that is a great line for my next stand up.\\n-----\\nLol. I am shy, anything to break the ice, and I am a Beatles fan.\\n-----\\nI can tell. I am not, you can see me in some tv shows.\\n-----\\nReally? What shows? I like tv, it makes me forget I do not like my family.\\n-----\\nI work from home. It is great for my family. You?',\n",
       " 'We all live in a yellow submarine, a yellow submarine. Morning!\\n-----\\nHi! that is a great line for my next stand up.\\n-----\\nLol. I am shy, anything to break the ice, and I am a Beatles fan.\\n-----\\nI can tell. I am not, you can see me in some tv shows.\\n-----\\nReally? What shows? I like tv, it makes me forget I do not like my family.\\n-----\\nAwesome. How is the weather in California like today?',\n",
       " 'We all live in a yellow submarine, a yellow submarine. Morning!\\n-----\\nHi! that is a great line for my next stand up.\\n-----\\nLol. I am shy, anything to break the ice, and I am a Beatles fan.\\n-----\\nI can tell. I am not, you can see me in some tv shows.\\n-----\\nReally? What shows? I like tv, it makes me forget I do not like my family.\\n-----\\nHmmm, I like to bake a lot.',\n",
       " \"We all live in a yellow submarine, a yellow submarine. Morning!\\n-----\\nHi! that is a great line for my next stand up.\\n-----\\nLol. I am shy, anything to break the ice, and I am a Beatles fan.\\n-----\\nI can tell. I am not, you can see me in some tv shows.\\n-----\\nReally? What shows? I like tv, it makes me forget I do not like my family.\\n-----\\nNo I'm single. How about you?\",\n",
       " 'We all live in a yellow submarine, a yellow submarine. Morning!\\n-----\\nHi! that is a great line for my next stand up.\\n-----\\nLol. I am shy, anything to break the ice, and I am a Beatles fan.\\n-----\\nI can tell. I am not, you can see me in some tv shows.\\n-----\\nReally? What shows? I like tv, it makes me forget I do not like my family.\\n-----\\nWow, I wish I had a big family. I grew up in a very small town.',\n",
       " 'We all live in a yellow submarine, a yellow submarine. Morning!\\n-----\\nHi! that is a great line for my next stand up.\\n-----\\nLol. I am shy, anything to break the ice, and I am a Beatles fan.\\n-----\\nI can tell. I am not, you can see me in some tv shows.\\n-----\\nReally? What shows? I like tv, it makes me forget I do not like my family.\\n-----\\nWow, I wish I had a big family. I grew up in a very small town.\\n-----\\nI did too. I do not get along with mine. They have no class.\\n-----\\nHey there, where are you from?',\n",
       " \"We all live in a yellow submarine, a yellow submarine. Morning!\\n-----\\nHi! that is a great line for my next stand up.\\n-----\\nLol. I am shy, anything to break the ice, and I am a Beatles fan.\\n-----\\nI can tell. I am not, you can see me in some tv shows.\\n-----\\nReally? What shows? I like tv, it makes me forget I do not like my family.\\n-----\\nWow, I wish I had a big family. I grew up in a very small town.\\n-----\\nI did too. I do not get along with mine. They have no class.\\n-----\\nThat could have helped, I did not pass the audition but I'll keep trying.\",\n",
       " 'We all live in a yellow submarine, a yellow submarine. Morning!\\n-----\\nHi! that is a great line for my next stand up.\\n-----\\nLol. I am shy, anything to break the ice, and I am a Beatles fan.\\n-----\\nI can tell. I am not, you can see me in some tv shows.\\n-----\\nReally? What shows? I like tv, it makes me forget I do not like my family.\\n-----\\nWow, I wish I had a big family. I grew up in a very small town.\\n-----\\nI did too. I do not get along with mine. They have no class.\\n-----\\nI prefer people, it helps with the bar weekend job.',\n",
       " \"We all live in a yellow submarine, a yellow submarine. Morning!\\n-----\\nHi! that is a great line for my next stand up.\\n-----\\nLol. I am shy, anything to break the ice, and I am a Beatles fan.\\n-----\\nI can tell. I am not, you can see me in some tv shows.\\n-----\\nReally? What shows? I like tv, it makes me forget I do not like my family.\\n-----\\nWow, I wish I had a big family. I grew up in a very small town.\\n-----\\nI did too. I do not get along with mine. They have no class.\\n-----\\nMy name is miguel. I just came to Usa with my mom. She's a janitor.\",\n",
       " \"We all live in a yellow submarine, a yellow submarine. Morning!\\n-----\\nHi! that is a great line for my next stand up.\\n-----\\nLol. I am shy, anything to break the ice, and I am a Beatles fan.\\n-----\\nI can tell. I am not, you can see me in some tv shows.\\n-----\\nReally? What shows? I like tv, it makes me forget I do not like my family.\\n-----\\nWow, I wish I had a big family. I grew up in a very small town.\\n-----\\nI did too. I do not get along with mine. They have no class.\\n-----\\nHello. I'm from Alabama, where are you from?\",\n",
       " 'We all live in a yellow submarine, a yellow submarine. Morning!\\n-----\\nHi! that is a great line for my next stand up.\\n-----\\nLol. I am shy, anything to break the ice, and I am a Beatles fan.\\n-----\\nI can tell. I am not, you can see me in some tv shows.\\n-----\\nReally? What shows? I like tv, it makes me forget I do not like my family.\\n-----\\nWow, I wish I had a big family. I grew up in a very small town.\\n-----\\nI did too. I do not get along with mine. They have no class.\\n-----\\nI did not know that you needed a permit.',\n",
       " \"We all live in a yellow submarine, a yellow submarine. Morning!\\n-----\\nHi! that is a great line for my next stand up.\\n-----\\nLol. I am shy, anything to break the ice, and I am a Beatles fan.\\n-----\\nI can tell. I am not, you can see me in some tv shows.\\n-----\\nReally? What shows? I like tv, it makes me forget I do not like my family.\\n-----\\nWow, I wish I had a big family. I grew up in a very small town.\\n-----\\nI did too. I do not get along with mine. They have no class.\\n-----\\nI'm very young so no cussing please, seven years old.\",\n",
       " \"We all live in a yellow submarine, a yellow submarine. Morning!\\n-----\\nHi! that is a great line for my next stand up.\\n-----\\nLol. I am shy, anything to break the ice, and I am a Beatles fan.\\n-----\\nI can tell. I am not, you can see me in some tv shows.\\n-----\\nReally? What shows? I like tv, it makes me forget I do not like my family.\\n-----\\nWow, I wish I had a big family. I grew up in a very small town.\\n-----\\nI did too. I do not get along with mine. They have no class.\\n-----\\nAren't we all, I strive not to be but fail to often.\",\n",
       " 'We all live in a yellow submarine, a yellow submarine. Morning!\\n-----\\nHi! that is a great line for my next stand up.\\n-----\\nLol. I am shy, anything to break the ice, and I am a Beatles fan.\\n-----\\nI can tell. I am not, you can see me in some tv shows.\\n-----\\nReally? What shows? I like tv, it makes me forget I do not like my family.\\n-----\\nWow, I wish I had a big family. I grew up in a very small town.\\n-----\\nI did too. I do not get along with mine. They have no class.\\n-----\\nDo you come here often? This is my favourite restaurant.',\n",
       " \"We all live in a yellow submarine, a yellow submarine. Morning!\\n-----\\nHi! that is a great line for my next stand up.\\n-----\\nLol. I am shy, anything to break the ice, and I am a Beatles fan.\\n-----\\nI can tell. I am not, you can see me in some tv shows.\\n-----\\nReally? What shows? I like tv, it makes me forget I do not like my family.\\n-----\\nWow, I wish I had a big family. I grew up in a very small town.\\n-----\\nI did too. I do not get along with mine. They have no class.\\n-----\\nAwesome! I'm studying to be a doctor. What are you studying?\",\n",
       " 'We all live in a yellow submarine, a yellow submarine. Morning!\\n-----\\nHi! that is a great line for my next stand up.\\n-----\\nLol. I am shy, anything to break the ice, and I am a Beatles fan.\\n-----\\nI can tell. I am not, you can see me in some tv shows.\\n-----\\nReally? What shows? I like tv, it makes me forget I do not like my family.\\n-----\\nWow, I wish I had a big family. I grew up in a very small town.\\n-----\\nI did too. I do not get along with mine. They have no class.\\n-----\\nYes I do, I use the app reduit do you?',\n",
       " 'We all live in a yellow submarine, a yellow submarine. Morning!\\n-----\\nHi! that is a great line for my next stand up.\\n-----\\nLol. I am shy, anything to break the ice, and I am a Beatles fan.\\n-----\\nI can tell. I am not, you can see me in some tv shows.\\n-----\\nReally? What shows? I like tv, it makes me forget I do not like my family.\\n-----\\nWow, I wish I had a big family. I grew up in a very small town.\\n-----\\nI did too. I do not get along with mine. They have no class.\\n-----\\nI wish I lived in the mountains.',\n",
       " 'We all live in a yellow submarine, a yellow submarine. Morning!\\n-----\\nHi! that is a great line for my next stand up.\\n-----\\nLol. I am shy, anything to break the ice, and I am a Beatles fan.\\n-----\\nI can tell. I am not, you can see me in some tv shows.\\n-----\\nReally? What shows? I like tv, it makes me forget I do not like my family.\\n-----\\nWow, I wish I had a big family. I grew up in a very small town.\\n-----\\nI did too. I do not get along with mine. They have no class.\\n-----\\nShe just recently left me. A few weeks ago. Angry I did not own a tv. shallow right?',\n",
       " 'We all live in a yellow submarine, a yellow submarine. Morning!\\n-----\\nHi! that is a great line for my next stand up.\\n-----\\nLol. I am shy, anything to break the ice, and I am a Beatles fan.\\n-----\\nI can tell. I am not, you can see me in some tv shows.\\n-----\\nReally? What shows? I like tv, it makes me forget I do not like my family.\\n-----\\nWow, I wish I had a big family. I grew up in a very small town.\\n-----\\nI did too. I do not get along with mine. They have no class.\\n-----\\nLucky you! What kind of restaurant?',\n",
       " 'We all live in a yellow submarine, a yellow submarine. Morning!\\n-----\\nHi! that is a great line for my next stand up.\\n-----\\nLol. I am shy, anything to break the ice, and I am a Beatles fan.\\n-----\\nI can tell. I am not, you can see me in some tv shows.\\n-----\\nReally? What shows? I like tv, it makes me forget I do not like my family.\\n-----\\nWow, I wish I had a big family. I grew up in a very small town.\\n-----\\nI did too. I do not get along with mine. They have no class.\\n-----\\nWhat is your favorite pie to make?',\n",
       " \"We all live in a yellow submarine, a yellow submarine. Morning!\\n-----\\nHi! that is a great line for my next stand up.\\n-----\\nLol. I am shy, anything to break the ice, and I am a Beatles fan.\\n-----\\nI can tell. I am not, you can see me in some tv shows.\\n-----\\nReally? What shows? I like tv, it makes me forget I do not like my family.\\n-----\\nWow, I wish I had a big family. I grew up in a very small town.\\n-----\\nI did too. I do not get along with mine. They have no class.\\n-----\\nI wish I could read, apparently I'm too busy in bankruptcy court.\",\n",
       " 'We all live in a yellow submarine, a yellow submarine. Morning!\\n-----\\nHi! that is a great line for my next stand up.\\n-----\\nLol. I am shy, anything to break the ice, and I am a Beatles fan.\\n-----\\nI can tell. I am not, you can see me in some tv shows.\\n-----\\nReally? What shows? I like tv, it makes me forget I do not like my family.\\n-----\\nWow, I wish I had a big family. I grew up in a very small town.\\n-----\\nI did too. I do not get along with mine. They have no class.\\n-----\\nThat would be a very fun area to work in. What else do you like?',\n",
       " 'We all live in a yellow submarine, a yellow submarine. Morning!\\n-----\\nHi! that is a great line for my next stand up.\\n-----\\nLol. I am shy, anything to break the ice, and I am a Beatles fan.\\n-----\\nI can tell. I am not, you can see me in some tv shows.\\n-----\\nReally? What shows? I like tv, it makes me forget I do not like my family.\\n-----\\nWow, I wish I had a big family. I grew up in a very small town.\\n-----\\nI did too. I do not get along with mine. They have no class.\\n-----\\nGood what are your hobbies.',\n",
       " \"We all live in a yellow submarine, a yellow submarine. Morning!\\n-----\\nHi! that is a great line for my next stand up.\\n-----\\nLol. I am shy, anything to break the ice, and I am a Beatles fan.\\n-----\\nI can tell. I am not, you can see me in some tv shows.\\n-----\\nReally? What shows? I like tv, it makes me forget I do not like my family.\\n-----\\nWow, I wish I had a big family. I grew up in a very small town.\\n-----\\nI did too. I do not get along with mine. They have no class.\\n-----\\nI'm twenties I'm older than you.\",\n",
       " \"We all live in a yellow submarine, a yellow submarine. Morning!\\n-----\\nHi! that is a great line for my next stand up.\\n-----\\nLol. I am shy, anything to break the ice, and I am a Beatles fan.\\n-----\\nI can tell. I am not, you can see me in some tv shows.\\n-----\\nReally? What shows? I like tv, it makes me forget I do not like my family.\\n-----\\nWow, I wish I had a big family. I grew up in a very small town.\\n-----\\nI did too. I do not get along with mine. They have no class.\\n-----\\nJust drink some cola with rum and you'll forget about them!\",\n",
       " \"We all live in a yellow submarine, a yellow submarine. Morning!\\n-----\\nHi! that is a great line for my next stand up.\\n-----\\nLol. I am shy, anything to break the ice, and I am a Beatles fan.\\n-----\\nI can tell. I am not, you can see me in some tv shows.\\n-----\\nReally? What shows? I like tv, it makes me forget I do not like my family.\\n-----\\nWow, I wish I had a big family. I grew up in a very small town.\\n-----\\nI did too. I do not get along with mine. They have no class.\\n-----\\nJust drink some cola with rum and you'll forget about them!\\n-----\\nPut the lime in the coconut as well...\\n-----\\nYes. Honesty is key. And share pita bread. Haha its good with hummus.\",\n",
       " \"We all live in a yellow submarine, a yellow submarine. Morning!\\n-----\\nHi! that is a great line for my next stand up.\\n-----\\nLol. I am shy, anything to break the ice, and I am a Beatles fan.\\n-----\\nI can tell. I am not, you can see me in some tv shows.\\n-----\\nReally? What shows? I like tv, it makes me forget I do not like my family.\\n-----\\nWow, I wish I had a big family. I grew up in a very small town.\\n-----\\nI did too. I do not get along with mine. They have no class.\\n-----\\nJust drink some cola with rum and you'll forget about them!\\n-----\\nPut the lime in the coconut as well...\\n-----\\nNo, I don't mind at all.\",\n",
       " \"We all live in a yellow submarine, a yellow submarine. Morning!\\n-----\\nHi! that is a great line for my next stand up.\\n-----\\nLol. I am shy, anything to break the ice, and I am a Beatles fan.\\n-----\\nI can tell. I am not, you can see me in some tv shows.\\n-----\\nReally? What shows? I like tv, it makes me forget I do not like my family.\\n-----\\nWow, I wish I had a big family. I grew up in a very small town.\\n-----\\nI did too. I do not get along with mine. They have no class.\\n-----\\nJust drink some cola with rum and you'll forget about them!\\n-----\\nPut the lime in the coconut as well...\\n-----\\nClick, you know because of the photography thing...\",\n",
       " \"We all live in a yellow submarine, a yellow submarine. Morning!\\n-----\\nHi! that is a great line for my next stand up.\\n-----\\nLol. I am shy, anything to break the ice, and I am a Beatles fan.\\n-----\\nI can tell. I am not, you can see me in some tv shows.\\n-----\\nReally? What shows? I like tv, it makes me forget I do not like my family.\\n-----\\nWow, I wish I had a big family. I grew up in a very small town.\\n-----\\nI did too. I do not get along with mine. They have no class.\\n-----\\nJust drink some cola with rum and you'll forget about them!\\n-----\\nPut the lime in the coconut as well...\\n-----\\nYes it is what is that you do?\",\n",
       " \"We all live in a yellow submarine, a yellow submarine. Morning!\\n-----\\nHi! that is a great line for my next stand up.\\n-----\\nLol. I am shy, anything to break the ice, and I am a Beatles fan.\\n-----\\nI can tell. I am not, you can see me in some tv shows.\\n-----\\nReally? What shows? I like tv, it makes me forget I do not like my family.\\n-----\\nWow, I wish I had a big family. I grew up in a very small town.\\n-----\\nI did too. I do not get along with mine. They have no class.\\n-----\\nJust drink some cola with rum and you'll forget about them!\\n-----\\nPut the lime in the coconut as well...\\n-----\\nWhat do you do in your free time?\",\n",
       " \"We all live in a yellow submarine, a yellow submarine. Morning!\\n-----\\nHi! that is a great line for my next stand up.\\n-----\\nLol. I am shy, anything to break the ice, and I am a Beatles fan.\\n-----\\nI can tell. I am not, you can see me in some tv shows.\\n-----\\nReally? What shows? I like tv, it makes me forget I do not like my family.\\n-----\\nWow, I wish I had a big family. I grew up in a very small town.\\n-----\\nI did too. I do not get along with mine. They have no class.\\n-----\\nJust drink some cola with rum and you'll forget about them!\\n-----\\nPut the lime in the coconut as well...\\n-----\\nYou are a good pet owner then!\",\n",
       " \"We all live in a yellow submarine, a yellow submarine. Morning!\\n-----\\nHi! that is a great line for my next stand up.\\n-----\\nLol. I am shy, anything to break the ice, and I am a Beatles fan.\\n-----\\nI can tell. I am not, you can see me in some tv shows.\\n-----\\nReally? What shows? I like tv, it makes me forget I do not like my family.\\n-----\\nWow, I wish I had a big family. I grew up in a very small town.\\n-----\\nI did too. I do not get along with mine. They have no class.\\n-----\\nJust drink some cola with rum and you'll forget about them!\\n-----\\nPut the lime in the coconut as well...\\n-----\\nYou should! I was on a game show once, called jeopardy. Flipping cars is like that though.\",\n",
       " \"We all live in a yellow submarine, a yellow submarine. Morning!\\n-----\\nHi! that is a great line for my next stand up.\\n-----\\nLol. I am shy, anything to break the ice, and I am a Beatles fan.\\n-----\\nI can tell. I am not, you can see me in some tv shows.\\n-----\\nReally? What shows? I like tv, it makes me forget I do not like my family.\\n-----\\nWow, I wish I had a big family. I grew up in a very small town.\\n-----\\nI did too. I do not get along with mine. They have no class.\\n-----\\nJust drink some cola with rum and you'll forget about them!\\n-----\\nPut the lime in the coconut as well...\\n-----\\nWriting anything interesting? My computer never works quickly enough to write.\",\n",
       " \"We all live in a yellow submarine, a yellow submarine. Morning!\\n-----\\nHi! that is a great line for my next stand up.\\n-----\\nLol. I am shy, anything to break the ice, and I am a Beatles fan.\\n-----\\nI can tell. I am not, you can see me in some tv shows.\\n-----\\nReally? What shows? I like tv, it makes me forget I do not like my family.\\n-----\\nWow, I wish I had a big family. I grew up in a very small town.\\n-----\\nI did too. I do not get along with mine. They have no class.\\n-----\\nJust drink some cola with rum and you'll forget about them!\\n-----\\nPut the lime in the coconut as well...\\n-----\\nI'm getting ready to head to college. How long have you been studying?\",\n",
       " \"We all live in a yellow submarine, a yellow submarine. Morning!\\n-----\\nHi! that is a great line for my next stand up.\\n-----\\nLol. I am shy, anything to break the ice, and I am a Beatles fan.\\n-----\\nI can tell. I am not, you can see me in some tv shows.\\n-----\\nReally? What shows? I like tv, it makes me forget I do not like my family.\\n-----\\nWow, I wish I had a big family. I grew up in a very small town.\\n-----\\nI did too. I do not get along with mine. They have no class.\\n-----\\nJust drink some cola with rum and you'll forget about them!\\n-----\\nPut the lime in the coconut as well...\\n-----\\nYes I'm Chretien, I think I'll go to my great aunt to go family.\",\n",
       " \"We all live in a yellow submarine, a yellow submarine. Morning!\\n-----\\nHi! that is a great line for my next stand up.\\n-----\\nLol. I am shy, anything to break the ice, and I am a Beatles fan.\\n-----\\nI can tell. I am not, you can see me in some tv shows.\\n-----\\nReally? What shows? I like tv, it makes me forget I do not like my family.\\n-----\\nWow, I wish I had a big family. I grew up in a very small town.\\n-----\\nI did too. I do not get along with mine. They have no class.\\n-----\\nJust drink some cola with rum and you'll forget about them!\\n-----\\nPut the lime in the coconut as well...\\n-----\\nI manage a grocery store generally so I'm always around people.\",\n",
       " \"We all live in a yellow submarine, a yellow submarine. Morning!\\n-----\\nHi! that is a great line for my next stand up.\\n-----\\nLol. I am shy, anything to break the ice, and I am a Beatles fan.\\n-----\\nI can tell. I am not, you can see me in some tv shows.\\n-----\\nReally? What shows? I like tv, it makes me forget I do not like my family.\\n-----\\nWow, I wish I had a big family. I grew up in a very small town.\\n-----\\nI did too. I do not get along with mine. They have no class.\\n-----\\nJust drink some cola with rum and you'll forget about them!\\n-----\\nPut the lime in the coconut as well...\\n-----\\nWhat!?! Never met someone with a pet koala.\",\n",
       " \"We all live in a yellow submarine, a yellow submarine. Morning!\\n-----\\nHi! that is a great line for my next stand up.\\n-----\\nLol. I am shy, anything to break the ice, and I am a Beatles fan.\\n-----\\nI can tell. I am not, you can see me in some tv shows.\\n-----\\nReally? What shows? I like tv, it makes me forget I do not like my family.\\n-----\\nWow, I wish I had a big family. I grew up in a very small town.\\n-----\\nI did too. I do not get along with mine. They have no class.\\n-----\\nJust drink some cola with rum and you'll forget about them!\\n-----\\nPut the lime in the coconut as well...\\n-----\\nDo you use fresh vegetables in your restaurant?\",\n",
       " \"We all live in a yellow submarine, a yellow submarine. Morning!\\n-----\\nHi! that is a great line for my next stand up.\\n-----\\nLol. I am shy, anything to break the ice, and I am a Beatles fan.\\n-----\\nI can tell. I am not, you can see me in some tv shows.\\n-----\\nReally? What shows? I like tv, it makes me forget I do not like my family.\\n-----\\nWow, I wish I had a big family. I grew up in a very small town.\\n-----\\nI did too. I do not get along with mine. They have no class.\\n-----\\nJust drink some cola with rum and you'll forget about them!\\n-----\\nPut the lime in the coconut as well...\\n-----\\nI'm so happy that you enjoy it. I'm not a fan of most animals, especially spiders.\",\n",
       " \"We all live in a yellow submarine, a yellow submarine. Morning!\\n-----\\nHi! that is a great line for my next stand up.\\n-----\\nLol. I am shy, anything to break the ice, and I am a Beatles fan.\\n-----\\nI can tell. I am not, you can see me in some tv shows.\\n-----\\nReally? What shows? I like tv, it makes me forget I do not like my family.\\n-----\\nWow, I wish I had a big family. I grew up in a very small town.\\n-----\\nI did too. I do not get along with mine. They have no class.\\n-----\\nJust drink some cola with rum and you'll forget about them!\\n-----\\nPut the lime in the coconut as well...\\n-----\\nHi there. I like to watch movies especially the last of the mohicans.\",\n",
       " \"We all live in a yellow submarine, a yellow submarine. Morning!\\n-----\\nHi! that is a great line for my next stand up.\\n-----\\nLol. I am shy, anything to break the ice, and I am a Beatles fan.\\n-----\\nI can tell. I am not, you can see me in some tv shows.\\n-----\\nReally? What shows? I like tv, it makes me forget I do not like my family.\\n-----\\nWow, I wish I had a big family. I grew up in a very small town.\\n-----\\nI did too. I do not get along with mine. They have no class.\\n-----\\nJust drink some cola with rum and you'll forget about them!\\n-----\\nPut the lime in the coconut as well...\\n-----\\nI go running too. Its a great way to start my mornings.\",\n",
       " \"We all live in a yellow submarine, a yellow submarine. Morning!\\n-----\\nHi! that is a great line for my next stand up.\\n-----\\nLol. I am shy, anything to break the ice, and I am a Beatles fan.\\n-----\\nI can tell. I am not, you can see me in some tv shows.\\n-----\\nReally? What shows? I like tv, it makes me forget I do not like my family.\\n-----\\nWow, I wish I had a big family. I grew up in a very small town.\\n-----\\nI did too. I do not get along with mine. They have no class.\\n-----\\nJust drink some cola with rum and you'll forget about them!\\n-----\\nPut the lime in the coconut as well...\\n-----\\nHaha true. I'm a professional sports car driver and in my spare time, a triathlete.\",\n",
       " \"We all live in a yellow submarine, a yellow submarine. Morning!\\n-----\\nHi! that is a great line for my next stand up.\\n-----\\nLol. I am shy, anything to break the ice, and I am a Beatles fan.\\n-----\\nI can tell. I am not, you can see me in some tv shows.\\n-----\\nReally? What shows? I like tv, it makes me forget I do not like my family.\\n-----\\nWow, I wish I had a big family. I grew up in a very small town.\\n-----\\nI did too. I do not get along with mine. They have no class.\\n-----\\nJust drink some cola with rum and you'll forget about them!\\n-----\\nPut the lime in the coconut as well...\\n-----\\nWhat do you like to grow in it?\",\n",
       " \"We all live in a yellow submarine, a yellow submarine. Morning!\\n-----\\nHi! that is a great line for my next stand up.\\n-----\\nLol. I am shy, anything to break the ice, and I am a Beatles fan.\\n-----\\nI can tell. I am not, you can see me in some tv shows.\\n-----\\nReally? What shows? I like tv, it makes me forget I do not like my family.\\n-----\\nWow, I wish I had a big family. I grew up in a very small town.\\n-----\\nI did too. I do not get along with mine. They have no class.\\n-----\\nJust drink some cola with rum and you'll forget about them!\\n-----\\nPut the lime in the coconut as well...\\n-----\\nYeah sometimes. I'm going to come out of the closet one day.\",\n",
       " \"We all live in a yellow submarine, a yellow submarine. Morning!\\n-----\\nHi! that is a great line for my next stand up.\\n-----\\nLol. I am shy, anything to break the ice, and I am a Beatles fan.\\n-----\\nI can tell. I am not, you can see me in some tv shows.\\n-----\\nReally? What shows? I like tv, it makes me forget I do not like my family.\\n-----\\nWow, I wish I had a big family. I grew up in a very small town.\\n-----\\nI did too. I do not get along with mine. They have no class.\\n-----\\nJust drink some cola with rum and you'll forget about them!\\n-----\\nPut the lime in the coconut as well...\\n-----\\nNah, plain Cuba libre, that's what we drank yesterday at the theater.\",\n",
       " \"We all live in a yellow submarine, a yellow submarine. Morning!\\n-----\\nHi! that is a great line for my next stand up.\\n-----\\nLol. I am shy, anything to break the ice, and I am a Beatles fan.\\n-----\\nI can tell. I am not, you can see me in some tv shows.\\n-----\\nReally? What shows? I like tv, it makes me forget I do not like my family.\\n-----\\nWow, I wish I had a big family. I grew up in a very small town.\\n-----\\nI did too. I do not get along with mine. They have no class.\\n-----\\nJust drink some cola with rum and you'll forget about them!\\n-----\\nPut the lime in the coconut as well...\\n-----\\nNah, plain Cuba libre, that's what we drank yesterday at the theater.\\n-----\\nI prefer mojitos. Watermelon or cucumber.\\n-----\\nHello how are you tonight.\",\n",
       " \"We all live in a yellow submarine, a yellow submarine. Morning!\\n-----\\nHi! that is a great line for my next stand up.\\n-----\\nLol. I am shy, anything to break the ice, and I am a Beatles fan.\\n-----\\nI can tell. I am not, you can see me in some tv shows.\\n-----\\nReally? What shows? I like tv, it makes me forget I do not like my family.\\n-----\\nWow, I wish I had a big family. I grew up in a very small town.\\n-----\\nI did too. I do not get along with mine. They have no class.\\n-----\\nJust drink some cola with rum and you'll forget about them!\\n-----\\nPut the lime in the coconut as well...\\n-----\\nNah, plain Cuba libre, that's what we drank yesterday at the theater.\\n-----\\nI prefer mojitos. Watermelon or cucumber.\\n-----\\nWhat do you do for a living?\",\n",
       " \"We all live in a yellow submarine, a yellow submarine. Morning!\\n-----\\nHi! that is a great line for my next stand up.\\n-----\\nLol. I am shy, anything to break the ice, and I am a Beatles fan.\\n-----\\nI can tell. I am not, you can see me in some tv shows.\\n-----\\nReally? What shows? I like tv, it makes me forget I do not like my family.\\n-----\\nWow, I wish I had a big family. I grew up in a very small town.\\n-----\\nI did too. I do not get along with mine. They have no class.\\n-----\\nJust drink some cola with rum and you'll forget about them!\\n-----\\nPut the lime in the coconut as well...\\n-----\\nNah, plain Cuba libre, that's what we drank yesterday at the theater.\\n-----\\nI prefer mojitos. Watermelon or cucumber.\\n-----\\nWell, first I start early in the morning, always, early to everything.\",\n",
       " \"We all live in a yellow submarine, a yellow submarine. Morning!\\n-----\\nHi! that is a great line for my next stand up.\\n-----\\nLol. I am shy, anything to break the ice, and I am a Beatles fan.\\n-----\\nI can tell. I am not, you can see me in some tv shows.\\n-----\\nReally? What shows? I like tv, it makes me forget I do not like my family.\\n-----\\nWow, I wish I had a big family. I grew up in a very small town.\\n-----\\nI did too. I do not get along with mine. They have no class.\\n-----\\nJust drink some cola with rum and you'll forget about them!\\n-----\\nPut the lime in the coconut as well...\\n-----\\nNah, plain Cuba libre, that's what we drank yesterday at the theater.\\n-----\\nI prefer mojitos. Watermelon or cucumber.\\n-----\\nOh ok just making sure. I am looking for Bruce Wayne. He's here somewhere.\",\n",
       " \"We all live in a yellow submarine, a yellow submarine. Morning!\\n-----\\nHi! that is a great line for my next stand up.\\n-----\\nLol. I am shy, anything to break the ice, and I am a Beatles fan.\\n-----\\nI can tell. I am not, you can see me in some tv shows.\\n-----\\nReally? What shows? I like tv, it makes me forget I do not like my family.\\n-----\\nWow, I wish I had a big family. I grew up in a very small town.\\n-----\\nI did too. I do not get along with mine. They have no class.\\n-----\\nJust drink some cola with rum and you'll forget about them!\\n-----\\nPut the lime in the coconut as well...\\n-----\\nNah, plain Cuba libre, that's what we drank yesterday at the theater.\\n-----\\nI prefer mojitos. Watermelon or cucumber.\\n-----\\nAbout 6 months. It can be depressing. What do you do for work?\",\n",
       " \"We all live in a yellow submarine, a yellow submarine. Morning!\\n-----\\nHi! that is a great line for my next stand up.\\n-----\\nLol. I am shy, anything to break the ice, and I am a Beatles fan.\\n-----\\nI can tell. I am not, you can see me in some tv shows.\\n-----\\nReally? What shows? I like tv, it makes me forget I do not like my family.\\n-----\\nWow, I wish I had a big family. I grew up in a very small town.\\n-----\\nI did too. I do not get along with mine. They have no class.\\n-----\\nJust drink some cola with rum and you'll forget about them!\\n-----\\nPut the lime in the coconut as well...\\n-----\\nNah, plain Cuba libre, that's what we drank yesterday at the theater.\\n-----\\nI prefer mojitos. Watermelon or cucumber.\\n-----\\nThank you! That's so sweet. Where are you from?\",\n",
       " \"We all live in a yellow submarine, a yellow submarine. Morning!\\n-----\\nHi! that is a great line for my next stand up.\\n-----\\nLol. I am shy, anything to break the ice, and I am a Beatles fan.\\n-----\\nI can tell. I am not, you can see me in some tv shows.\\n-----\\nReally? What shows? I like tv, it makes me forget I do not like my family.\\n-----\\nWow, I wish I had a big family. I grew up in a very small town.\\n-----\\nI did too. I do not get along with mine. They have no class.\\n-----\\nJust drink some cola with rum and you'll forget about them!\\n-----\\nPut the lime in the coconut as well...\\n-----\\nNah, plain Cuba libre, that's what we drank yesterday at the theater.\\n-----\\nI prefer mojitos. Watermelon or cucumber.\\n-----\\nHello there my name is lucy. How are you?\",\n",
       " \"We all live in a yellow submarine, a yellow submarine. Morning!\\n-----\\nHi! that is a great line for my next stand up.\\n-----\\nLol. I am shy, anything to break the ice, and I am a Beatles fan.\\n-----\\nI can tell. I am not, you can see me in some tv shows.\\n-----\\nReally? What shows? I like tv, it makes me forget I do not like my family.\\n-----\\nWow, I wish I had a big family. I grew up in a very small town.\\n-----\\nI did too. I do not get along with mine. They have no class.\\n-----\\nJust drink some cola with rum and you'll forget about them!\\n-----\\nPut the lime in the coconut as well...\\n-----\\nNah, plain Cuba libre, that's what we drank yesterday at the theater.\\n-----\\nI prefer mojitos. Watermelon or cucumber.\\n-----\\nBecause cats are real just like dragons. You ever met a prince?\",\n",
       " \"We all live in a yellow submarine, a yellow submarine. Morning!\\n-----\\nHi! that is a great line for my next stand up.\\n-----\\nLol. I am shy, anything to break the ice, and I am a Beatles fan.\\n-----\\nI can tell. I am not, you can see me in some tv shows.\\n-----\\nReally? What shows? I like tv, it makes me forget I do not like my family.\\n-----\\nWow, I wish I had a big family. I grew up in a very small town.\\n-----\\nI did too. I do not get along with mine. They have no class.\\n-----\\nJust drink some cola with rum and you'll forget about them!\\n-----\\nPut the lime in the coconut as well...\\n-----\\nNah, plain Cuba libre, that's what we drank yesterday at the theater.\\n-----\\nI prefer mojitos. Watermelon or cucumber.\\n-----\\nI died my hair purple today.\",\n",
       " \"We all live in a yellow submarine, a yellow submarine. Morning!\\n-----\\nHi! that is a great line for my next stand up.\\n-----\\nLol. I am shy, anything to break the ice, and I am a Beatles fan.\\n-----\\nI can tell. I am not, you can see me in some tv shows.\\n-----\\nReally? What shows? I like tv, it makes me forget I do not like my family.\\n-----\\nWow, I wish I had a big family. I grew up in a very small town.\\n-----\\nI did too. I do not get along with mine. They have no class.\\n-----\\nJust drink some cola with rum and you'll forget about them!\\n-----\\nPut the lime in the coconut as well...\\n-----\\nNah, plain Cuba libre, that's what we drank yesterday at the theater.\\n-----\\nI prefer mojitos. Watermelon or cucumber.\\n-----\\nI wish we could, but the flight expenses would be too much. I am no millionaire Bob.\",\n",
       " \"We all live in a yellow submarine, a yellow submarine. Morning!\\n-----\\nHi! that is a great line for my next stand up.\\n-----\\nLol. I am shy, anything to break the ice, and I am a Beatles fan.\\n-----\\nI can tell. I am not, you can see me in some tv shows.\\n-----\\nReally? What shows? I like tv, it makes me forget I do not like my family.\\n-----\\nWow, I wish I had a big family. I grew up in a very small town.\\n-----\\nI did too. I do not get along with mine. They have no class.\\n-----\\nJust drink some cola with rum and you'll forget about them!\\n-----\\nPut the lime in the coconut as well...\\n-----\\nNah, plain Cuba libre, that's what we drank yesterday at the theater.\\n-----\\nI prefer mojitos. Watermelon or cucumber.\\n-----\\nDo you think that dogs could be trained to read?\",\n",
       " \"We all live in a yellow submarine, a yellow submarine. Morning!\\n-----\\nHi! that is a great line for my next stand up.\\n-----\\nLol. I am shy, anything to break the ice, and I am a Beatles fan.\\n-----\\nI can tell. I am not, you can see me in some tv shows.\\n-----\\nReally? What shows? I like tv, it makes me forget I do not like my family.\\n-----\\nWow, I wish I had a big family. I grew up in a very small town.\\n-----\\nI did too. I do not get along with mine. They have no class.\\n-----\\nJust drink some cola with rum and you'll forget about them!\\n-----\\nPut the lime in the coconut as well...\\n-----\\nNah, plain Cuba libre, that's what we drank yesterday at the theater.\\n-----\\nI prefer mojitos. Watermelon or cucumber.\\n-----\\nAnything else you want to tell me about yourself?\",\n",
       " \"We all live in a yellow submarine, a yellow submarine. Morning!\\n-----\\nHi! that is a great line for my next stand up.\\n-----\\nLol. I am shy, anything to break the ice, and I am a Beatles fan.\\n-----\\nI can tell. I am not, you can see me in some tv shows.\\n-----\\nReally? What shows? I like tv, it makes me forget I do not like my family.\\n-----\\nWow, I wish I had a big family. I grew up in a very small town.\\n-----\\nI did too. I do not get along with mine. They have no class.\\n-----\\nJust drink some cola with rum and you'll forget about them!\\n-----\\nPut the lime in the coconut as well...\\n-----\\nNah, plain Cuba libre, that's what we drank yesterday at the theater.\\n-----\\nI prefer mojitos. Watermelon or cucumber.\\n-----\\nI like that my scooter doesn't play music as it is not my favorite.\",\n",
       " \"We all live in a yellow submarine, a yellow submarine. Morning!\\n-----\\nHi! that is a great line for my next stand up.\\n-----\\nLol. I am shy, anything to break the ice, and I am a Beatles fan.\\n-----\\nI can tell. I am not, you can see me in some tv shows.\\n-----\\nReally? What shows? I like tv, it makes me forget I do not like my family.\\n-----\\nWow, I wish I had a big family. I grew up in a very small town.\\n-----\\nI did too. I do not get along with mine. They have no class.\\n-----\\nJust drink some cola with rum and you'll forget about them!\\n-----\\nPut the lime in the coconut as well...\\n-----\\nNah, plain Cuba libre, that's what we drank yesterday at the theater.\\n-----\\nI prefer mojitos. Watermelon or cucumber.\\n-----\\nI am not sure I do not ever go the extra mile anymore.\",\n",
       " \"We all live in a yellow submarine, a yellow submarine. Morning!\\n-----\\nHi! that is a great line for my next stand up.\\n-----\\nLol. I am shy, anything to break the ice, and I am a Beatles fan.\\n-----\\nI can tell. I am not, you can see me in some tv shows.\\n-----\\nReally? What shows? I like tv, it makes me forget I do not like my family.\\n-----\\nWow, I wish I had a big family. I grew up in a very small town.\\n-----\\nI did too. I do not get along with mine. They have no class.\\n-----\\nJust drink some cola with rum and you'll forget about them!\\n-----\\nPut the lime in the coconut as well...\\n-----\\nNah, plain Cuba libre, that's what we drank yesterday at the theater.\\n-----\\nI prefer mojitos. Watermelon or cucumber.\\n-----\\nThat's unusual, how did you end up with that nickname?\",\n",
       " \"We all live in a yellow submarine, a yellow submarine. Morning!\\n-----\\nHi! that is a great line for my next stand up.\\n-----\\nLol. I am shy, anything to break the ice, and I am a Beatles fan.\\n-----\\nI can tell. I am not, you can see me in some tv shows.\\n-----\\nReally? What shows? I like tv, it makes me forget I do not like my family.\\n-----\\nWow, I wish I had a big family. I grew up in a very small town.\\n-----\\nI did too. I do not get along with mine. They have no class.\\n-----\\nJust drink some cola with rum and you'll forget about them!\\n-----\\nPut the lime in the coconut as well...\\n-----\\nNah, plain Cuba libre, that's what we drank yesterday at the theater.\\n-----\\nI prefer mojitos. Watermelon or cucumber.\\n-----\\nSee I really enjoy food, so the gym is a must.\",\n",
       " \"We all live in a yellow submarine, a yellow submarine. Morning!\\n-----\\nHi! that is a great line for my next stand up.\\n-----\\nLol. I am shy, anything to break the ice, and I am a Beatles fan.\\n-----\\nI can tell. I am not, you can see me in some tv shows.\\n-----\\nReally? What shows? I like tv, it makes me forget I do not like my family.\\n-----\\nWow, I wish I had a big family. I grew up in a very small town.\\n-----\\nI did too. I do not get along with mine. They have no class.\\n-----\\nJust drink some cola with rum and you'll forget about them!\\n-----\\nPut the lime in the coconut as well...\\n-----\\nNah, plain Cuba libre, that's what we drank yesterday at the theater.\\n-----\\nI prefer mojitos. Watermelon or cucumber.\\n-----\\nReally why do you like it so much.\",\n",
       " \"We all live in a yellow submarine, a yellow submarine. Morning!\\n-----\\nHi! that is a great line for my next stand up.\\n-----\\nLol. I am shy, anything to break the ice, and I am a Beatles fan.\\n-----\\nI can tell. I am not, you can see me in some tv shows.\\n-----\\nReally? What shows? I like tv, it makes me forget I do not like my family.\\n-----\\nWow, I wish I had a big family. I grew up in a very small town.\\n-----\\nI did too. I do not get along with mine. They have no class.\\n-----\\nJust drink some cola with rum and you'll forget about them!\\n-----\\nPut the lime in the coconut as well...\\n-----\\nNah, plain Cuba libre, that's what we drank yesterday at the theater.\\n-----\\nI prefer mojitos. Watermelon or cucumber.\\n-----\\nWhat color is it mine is black.\",\n",
       " \"We all live in a yellow submarine, a yellow submarine. Morning!\\n-----\\nHi! that is a great line for my next stand up.\\n-----\\nLol. I am shy, anything to break the ice, and I am a Beatles fan.\\n-----\\nI can tell. I am not, you can see me in some tv shows.\\n-----\\nReally? What shows? I like tv, it makes me forget I do not like my family.\\n-----\\nWow, I wish I had a big family. I grew up in a very small town.\\n-----\\nI did too. I do not get along with mine. They have no class.\\n-----\\nJust drink some cola with rum and you'll forget about them!\\n-----\\nPut the lime in the coconut as well...\\n-----\\nNah, plain Cuba libre, that's what we drank yesterday at the theater.\\n-----\\nI prefer mojitos. Watermelon or cucumber.\\n-----\\nTime always goes fast when u are having fun.\",\n",
       " \"We all live in a yellow submarine, a yellow submarine. Morning!\\n-----\\nHi! that is a great line for my next stand up.\\n-----\\nLol. I am shy, anything to break the ice, and I am a Beatles fan.\\n-----\\nI can tell. I am not, you can see me in some tv shows.\\n-----\\nReally? What shows? I like tv, it makes me forget I do not like my family.\\n-----\\nWow, I wish I had a big family. I grew up in a very small town.\\n-----\\nI did too. I do not get along with mine. They have no class.\\n-----\\nJust drink some cola with rum and you'll forget about them!\\n-----\\nPut the lime in the coconut as well...\\n-----\\nNah, plain Cuba libre, that's what we drank yesterday at the theater.\\n-----\\nI prefer mojitos. Watermelon or cucumber.\\n-----\\nThose are really yummy too, but not my favorite.\",\n",
       " \"Hi! I work as a gourmet cook.\\n-----\\nCool, I'm currently studying and enjoy going fishing in my spare time.\",\n",
       " 'Hi! I work as a gourmet cook.\\n-----\\nVery nice, I have been there once its really pretty.',\n",
       " 'Hi! I work as a gourmet cook.\\n-----\\nMy favorite is the beastie boys.',\n",
       " 'Hi! I work as a gourmet cook.\\n-----\\nSingle all around the board those I teach are my kids.',\n",
       " 'Hi! I work as a gourmet cook.\\n-----\\nNo I just got to the garden because I m old.',\n",
       " 'Hi! I work as a gourmet cook.\\n-----\\nHi there, how are you?',\n",
       " \"Hi! I work as a gourmet cook.\\n-----\\nI'm shaped like a ball, so round.\",\n",
       " 'Hi! I work as a gourmet cook.\\n-----\\nDo you work anywhere then.',\n",
       " \"Hi! I work as a gourmet cook.\\n-----\\nI don't have any pets but I do like one some day.\",\n",
       " \"Hi! I work as a gourmet cook.\\n-----\\nI don't but I love monkeys.\",\n",
       " 'Hi! I work as a gourmet cook.\\n-----\\nWhat do you mean you love cheer?',\n",
       " 'Hi! I work as a gourmet cook.\\n-----\\nI just got a internship at a big computer company.',\n",
       " \"Hi! I work as a gourmet cook.\\n-----\\nThat's cool so you are good with computers.\",\n",
       " 'Hi! I work as a gourmet cook.\\n-----\\nWe are in North Carolina.',\n",
       " 'Hi! I work as a gourmet cook.\\n-----\\nWe are currently living in the suburbs in a major city.',\n",
       " \"Hi! I work as a gourmet cook.\\n-----\\nThat sounds very passionate. Good for you. I'm passionate about vegetarianism.\",\n",
       " 'Hi! I work as a gourmet cook.\\n-----\\nOh, I know nothing about opera.',\n",
       " 'Hi! I work as a gourmet cook.\\n-----\\nYea music is the best.',\n",
       " 'Hi! I work as a gourmet cook.\\n-----\\nGood how are you?',\n",
       " \"Hi! I work as a gourmet cook.\\n-----\\nI don't like carrots. I throw them away.\",\n",
       " \"Hi! I work as a gourmet cook.\\n-----\\nI don't like carrots. I throw them away.\\n-----\\nReally. But, I can sing pitch perfect.\\n-----\\nYes, been married for about twelve years, two kids.. how about yourself?\",\n",
       " \"Hi! I work as a gourmet cook.\\n-----\\nI don't like carrots. I throw them away.\\n-----\\nReally. But, I can sing pitch perfect.\\n-----\\nGood, how are you?\",\n",
       " \"Hi! I work as a gourmet cook.\\n-----\\nI don't like carrots. I throw them away.\\n-----\\nReally. But, I can sing pitch perfect.\\n-----\\nI think nachos are the best.\",\n",
       " \"Hi! I work as a gourmet cook.\\n-----\\nI don't like carrots. I throw them away.\\n-----\\nReally. But, I can sing pitch perfect.\\n-----\\nIt is so good. I teach students about books and use rap to entertain them too!\",\n",
       " \"Hi! I work as a gourmet cook.\\n-----\\nI don't like carrots. I throw them away.\\n-----\\nReally. But, I can sing pitch perfect.\\n-----\\nSure! I love folk music. How about you?\",\n",
       " \"Hi! I work as a gourmet cook.\\n-----\\nI don't like carrots. I throw them away.\\n-----\\nReally. But, I can sing pitch perfect.\\n-----\\nI'm in Alabama, I work from home designing video games.\",\n",
       " \"Hi! I work as a gourmet cook.\\n-----\\nI don't like carrots. I throw them away.\\n-----\\nReally. But, I can sing pitch perfect.\\n-----\\nWow I hate you more, no offense. I only play ultimate sometimes.\",\n",
       " \"Hi! I work as a gourmet cook.\\n-----\\nI don't like carrots. I throw them away.\\n-----\\nReally. But, I can sing pitch perfect.\\n-----\\nHa! The bagels are good here, but I keep losing them. I forget things.\",\n",
       " \"Hi! I work as a gourmet cook.\\n-----\\nI don't like carrots. I throw them away.\\n-----\\nReally. But, I can sing pitch perfect.\\n-----\\nI'm not married and my kids are grown. How about you?\",\n",
       " \"Hi! I work as a gourmet cook.\\n-----\\nI don't like carrots. I throw them away.\\n-----\\nReally. But, I can sing pitch perfect.\\n-----\\nWow glad you have lost weight.\",\n",
       " \"Hi! I work as a gourmet cook.\\n-----\\nI don't like carrots. I throw them away.\\n-----\\nReally. But, I can sing pitch perfect.\\n-----\\nIs it beautiful have never been.\",\n",
       " \"Hi! I work as a gourmet cook.\\n-----\\nI don't like carrots. I throw them away.\\n-----\\nReally. But, I can sing pitch perfect.\\n-----\\nYes! That's why I dislike skiing.\",\n",
       " \"Hi! I work as a gourmet cook.\\n-----\\nI don't like carrots. I throw them away.\\n-----\\nReally. But, I can sing pitch perfect.\\n-----\\nNice!. I also like to travel with my newly engaged boyfriend from high school.\",\n",
       " \"Hi! I work as a gourmet cook.\\n-----\\nI don't like carrots. I throw them away.\\n-----\\nReally. But, I can sing pitch perfect.\\n-----\\nYes, I love all the Harry potter books by J. K. Rowling. Read them all twice.\",\n",
       " \"Hi! I work as a gourmet cook.\\n-----\\nI don't like carrots. I throw them away.\\n-----\\nReally. But, I can sing pitch perfect.\\n-----\\nYou are a smart blind person, you learned driving is so easy lol.\",\n",
       " \"Hi! I work as a gourmet cook.\\n-----\\nI don't like carrots. I throw them away.\\n-----\\nReally. But, I can sing pitch perfect.\\n-----\\nVacations are nice, I drive my honda civic to far away places.\",\n",
       " \"Hi! I work as a gourmet cook.\\n-----\\nI don't like carrots. I throw them away.\\n-----\\nReally. But, I can sing pitch perfect.\\n-----\\nMe too. Order a pizza and I'll be in heaven.\",\n",
       " \"Hi! I work as a gourmet cook.\\n-----\\nI don't like carrots. I throw them away.\\n-----\\nReally. But, I can sing pitch perfect.\\n-----\\nI like meat as well, meat lovers pizza are the best.\",\n",
       " \"Hi! I work as a gourmet cook.\\n-----\\nI don't like carrots. I throw them away.\\n-----\\nReally. But, I can sing pitch perfect.\\n-----\\nI'm from Alabama, and I love to travel.\",\n",
       " \"Hi! I work as a gourmet cook.\\n-----\\nI don't like carrots. I throw them away.\\n-----\\nReally. But, I can sing pitch perfect.\\n-----\\nI also cook, and I ride my bike to work.\",\n",
       " \"Hi! I work as a gourmet cook.\\n-----\\nI don't like carrots. I throw them away.\\n-----\\nReally. But, I can sing pitch perfect.\\n-----\\nI also cook, and I ride my bike to work.\\n-----\\nGreat! I had won an award for spelling bee.\\n-----\\nI like reading. My favorite genre are crime novels. How bout you?\",\n",
       " \"Hi! I work as a gourmet cook.\\n-----\\nI don't like carrots. I throw them away.\\n-----\\nReally. But, I can sing pitch perfect.\\n-----\\nI also cook, and I ride my bike to work.\\n-----\\nGreat! I had won an award for spelling bee.\\n-----\\nI'm vets assistant and I love it hbu?\",\n",
       " \"Hi! I work as a gourmet cook.\\n-----\\nI don't like carrots. I throw them away.\\n-----\\nReally. But, I can sing pitch perfect.\\n-----\\nI also cook, and I ride my bike to work.\\n-----\\nGreat! I had won an award for spelling bee.\\n-----\\nHello, I'm doing great now that I discovered this new indian restaurant.\",\n",
       " \"Hi! I work as a gourmet cook.\\n-----\\nI don't like carrots. I throw them away.\\n-----\\nReally. But, I can sing pitch perfect.\\n-----\\nI also cook, and I ride my bike to work.\\n-----\\nGreat! I had won an award for spelling bee.\\n-----\\nWhat are you doing today?\",\n",
       " \"Hi! I work as a gourmet cook.\\n-----\\nI don't like carrots. I throw them away.\\n-----\\nReally. But, I can sing pitch perfect.\\n-----\\nI also cook, and I ride my bike to work.\\n-----\\nGreat! I had won an award for spelling bee.\\n-----\\nHey, how s it going tonight?\",\n",
       " \"Hi! I work as a gourmet cook.\\n-----\\nI don't like carrots. I throw them away.\\n-----\\nReally. But, I can sing pitch perfect.\\n-----\\nI also cook, and I ride my bike to work.\\n-----\\nGreat! I had won an award for spelling bee.\\n-----\\nWould you ever swim while playing hockey?\",\n",
       " \"Hi! I work as a gourmet cook.\\n-----\\nI don't like carrots. I throw them away.\\n-----\\nReally. But, I can sing pitch perfect.\\n-----\\nI also cook, and I ride my bike to work.\\n-----\\nGreat! I had won an award for spelling bee.\\n-----\\nGreat, how are you doing?\",\n",
       " \"Hi! I work as a gourmet cook.\\n-----\\nI don't like carrots. I throw them away.\\n-----\\nReally. But, I can sing pitch perfect.\\n-----\\nI also cook, and I ride my bike to work.\\n-----\\nGreat! I had won an award for spelling bee.\\n-----\\nI've a few. I like to camp.\",\n",
       " \"Hi! I work as a gourmet cook.\\n-----\\nI don't like carrots. I throw them away.\\n-----\\nReally. But, I can sing pitch perfect.\\n-----\\nI also cook, and I ride my bike to work.\\n-----\\nGreat! I had won an award for spelling bee.\\n-----\\nHello. I love to read.\",\n",
       " \"Hi! I work as a gourmet cook.\\n-----\\nI don't like carrots. I throw them away.\\n-----\\nReally. But, I can sing pitch perfect.\\n-----\\nI also cook, and I ride my bike to work.\\n-----\\nGreat! I had won an award for spelling bee.\\n-----\\nJust don't eat horse meat, my little rosebud would be sad. What else do you do?\",\n",
       " \"Hi! I work as a gourmet cook.\\n-----\\nI don't like carrots. I throw them away.\\n-----\\nReally. But, I can sing pitch perfect.\\n-----\\nI also cook, and I ride my bike to work.\\n-----\\nGreat! I had won an award for spelling bee.\\n-----\\nWhat a coincidence! What else do you do?\",\n",
       " \"Hi! I work as a gourmet cook.\\n-----\\nI don't like carrots. I throw them away.\\n-----\\nReally. But, I can sing pitch perfect.\\n-----\\nI also cook, and I ride my bike to work.\\n-----\\nGreat! I had won an award for spelling bee.\\n-----\\nI stay home. My husband is an engineer and I raise the family.\",\n",
       " \"Hi! I work as a gourmet cook.\\n-----\\nI don't like carrots. I throw them away.\\n-----\\nReally. But, I can sing pitch perfect.\\n-----\\nI also cook, and I ride my bike to work.\\n-----\\nGreat! I had won an award for spelling bee.\\n-----\\nVery commendable. As for me, I need to be careful too. Got diabetes.\",\n",
       " \"Hi! I work as a gourmet cook.\\n-----\\nI don't like carrots. I throw them away.\\n-----\\nReally. But, I can sing pitch perfect.\\n-----\\nI also cook, and I ride my bike to work.\\n-----\\nGreat! I had won an award for spelling bee.\\n-----\\nI like to share Fanta orange with my best friends.\",\n",
       " \"Hi! I work as a gourmet cook.\\n-----\\nI don't like carrots. I throw them away.\\n-----\\nReally. But, I can sing pitch perfect.\\n-----\\nI also cook, and I ride my bike to work.\\n-----\\nGreat! I had won an award for spelling bee.\\n-----\\nI don't like it out here.\",\n",
       " \"Hi! I work as a gourmet cook.\\n-----\\nI don't like carrots. I throw them away.\\n-----\\nReally. But, I can sing pitch perfect.\\n-----\\nI also cook, and I ride my bike to work.\\n-----\\nGreat! I had won an award for spelling bee.\\n-----\\nI only watch the seasons be played. I don't play them personally.\",\n",
       " \"Hi! I work as a gourmet cook.\\n-----\\nI don't like carrots. I throw them away.\\n-----\\nReally. But, I can sing pitch perfect.\\n-----\\nI also cook, and I ride my bike to work.\\n-----\\nGreat! I had won an award for spelling bee.\\n-----\\nOh my! Single medical student with no pets. Always wanted to be an actor though.\",\n",
       " \"Hi! I work as a gourmet cook.\\n-----\\nI don't like carrots. I throw them away.\\n-----\\nReally. But, I can sing pitch perfect.\\n-----\\nI also cook, and I ride my bike to work.\\n-----\\nGreat! I had won an award for spelling bee.\\n-----\\nYes, I've 4 cats and they are so adorable.\",\n",
       " \"Hi! I work as a gourmet cook.\\n-----\\nI don't like carrots. I throw them away.\\n-----\\nReally. But, I can sing pitch perfect.\\n-----\\nI also cook, and I ride my bike to work.\\n-----\\nGreat! I had won an award for spelling bee.\\n-----\\nI eat a whole lot of fish that I catch.\",\n",
       " \"Hi! I work as a gourmet cook.\\n-----\\nI don't like carrots. I throw them away.\\n-----\\nReally. But, I can sing pitch perfect.\\n-----\\nI also cook, and I ride my bike to work.\\n-----\\nGreat! I had won an award for spelling bee.\\n-----\\nMy contacts can see through what you are trying to sell me.\",\n",
       " \"Hi! I work as a gourmet cook.\\n-----\\nI don't like carrots. I throw them away.\\n-----\\nReally. But, I can sing pitch perfect.\\n-----\\nI also cook, and I ride my bike to work.\\n-----\\nGreat! I had won an award for spelling bee.\\n-----\\nMy contacts can see through what you are trying to sell me.\\n-----\\nOkay but I was published in new yorker once.\\n-----\\nHey, how are you doing?\",\n",
       " \"Hi! I work as a gourmet cook.\\n-----\\nI don't like carrots. I throw them away.\\n-----\\nReally. But, I can sing pitch perfect.\\n-----\\nI also cook, and I ride my bike to work.\\n-----\\nGreat! I had won an award for spelling bee.\\n-----\\nMy contacts can see through what you are trying to sell me.\\n-----\\nOkay but I was published in new yorker once.\\n-----\\nI've been a Christian for many years and love my church.\",\n",
       " \"Hi! I work as a gourmet cook.\\n-----\\nI don't like carrots. I throw them away.\\n-----\\nReally. But, I can sing pitch perfect.\\n-----\\nI also cook, and I ride my bike to work.\\n-----\\nGreat! I had won an award for spelling bee.\\n-----\\nMy contacts can see through what you are trying to sell me.\\n-----\\nOkay but I was published in new yorker once.\\n-----\\nI'm a vegan so I do not eat a lot of sushi.\",\n",
       " \"Hi! I work as a gourmet cook.\\n-----\\nI don't like carrots. I throw them away.\\n-----\\nReally. But, I can sing pitch perfect.\\n-----\\nI also cook, and I ride my bike to work.\\n-----\\nGreat! I had won an award for spelling bee.\\n-----\\nMy contacts can see through what you are trying to sell me.\\n-----\\nOkay but I was published in new yorker once.\\n-----\\nMy favorite band is the beatles.\",\n",
       " \"Hi! I work as a gourmet cook.\\n-----\\nI don't like carrots. I throw them away.\\n-----\\nReally. But, I can sing pitch perfect.\\n-----\\nI also cook, and I ride my bike to work.\\n-----\\nGreat! I had won an award for spelling bee.\\n-----\\nMy contacts can see through what you are trying to sell me.\\n-----\\nOkay but I was published in new yorker once.\\n-----\\nHere I enjoy learning to do so many new things its fast moving.\",\n",
       " \"Hi! I work as a gourmet cook.\\n-----\\nI don't like carrots. I throw them away.\\n-----\\nReally. But, I can sing pitch perfect.\\n-----\\nI also cook, and I ride my bike to work.\\n-----\\nGreat! I had won an award for spelling bee.\\n-----\\nMy contacts can see through what you are trying to sell me.\\n-----\\nOkay but I was published in new yorker once.\\n-----\\nI think I saw her playing soccer once, so yeah.\",\n",
       " \"Hi! I work as a gourmet cook.\\n-----\\nI don't like carrots. I throw them away.\\n-----\\nReally. But, I can sing pitch perfect.\\n-----\\nI also cook, and I ride my bike to work.\\n-----\\nGreat! I had won an award for spelling bee.\\n-----\\nMy contacts can see through what you are trying to sell me.\\n-----\\nOkay but I was published in new yorker once.\\n-----\\nI never heard of it, like sports?\",\n",
       " \"Hi! I work as a gourmet cook.\\n-----\\nI don't like carrots. I throw them away.\\n-----\\nReally. But, I can sing pitch perfect.\\n-----\\nI also cook, and I ride my bike to work.\\n-----\\nGreat! I had won an award for spelling bee.\\n-----\\nMy contacts can see through what you are trying to sell me.\\n-----\\nOkay but I was published in new yorker once.\\n-----\\nGood evening? How are you? I'm just munching on gummy bears.\",\n",
       " \"Hi! I work as a gourmet cook.\\n-----\\nI don't like carrots. I throw them away.\\n-----\\nReally. But, I can sing pitch perfect.\\n-----\\nI also cook, and I ride my bike to work.\\n-----\\nGreat! I had won an award for spelling bee.\\n-----\\nMy contacts can see through what you are trying to sell me.\\n-----\\nOkay but I was published in new yorker once.\\n-----\\nNo but I'm going to see the eye doctor and get some glasses.\",\n",
       " \"Hi! I work as a gourmet cook.\\n-----\\nI don't like carrots. I throw them away.\\n-----\\nReally. But, I can sing pitch perfect.\\n-----\\nI also cook, and I ride my bike to work.\\n-----\\nGreat! I had won an award for spelling bee.\\n-----\\nMy contacts can see through what you are trying to sell me.\\n-----\\nOkay but I was published in new yorker once.\\n-----\\nA home garden so peas, tomatoes, etc. what other hobbies do you have?\",\n",
       " \"Hi! I work as a gourmet cook.\\n-----\\nI don't like carrots. I throw them away.\\n-----\\nReally. But, I can sing pitch perfect.\\n-----\\nI also cook, and I ride my bike to work.\\n-----\\nGreat! I had won an award for spelling bee.\\n-----\\nMy contacts can see through what you are trying to sell me.\\n-----\\nOkay but I was published in new yorker once.\\n-----\\nI teach music and love my grandma.\",\n",
       " \"Hi! I work as a gourmet cook.\\n-----\\nI don't like carrots. I throw them away.\\n-----\\nReally. But, I can sing pitch perfect.\\n-----\\nI also cook, and I ride my bike to work.\\n-----\\nGreat! I had won an award for spelling bee.\\n-----\\nMy contacts can see through what you are trying to sell me.\\n-----\\nOkay but I was published in new yorker once.\\n-----\\nI bet! Love good guitar music.\",\n",
       " \"Hi! I work as a gourmet cook.\\n-----\\nI don't like carrots. I throw them away.\\n-----\\nReally. But, I can sing pitch perfect.\\n-----\\nI also cook, and I ride my bike to work.\\n-----\\nGreat! I had won an award for spelling bee.\\n-----\\nMy contacts can see through what you are trying to sell me.\\n-----\\nOkay but I was published in new yorker once.\\n-----\\nHi, how are you doing today?\",\n",
       " \"Hi! I work as a gourmet cook.\\n-----\\nI don't like carrots. I throw them away.\\n-----\\nReally. But, I can sing pitch perfect.\\n-----\\nI also cook, and I ride my bike to work.\\n-----\\nGreat! I had won an award for spelling bee.\\n-----\\nMy contacts can see through what you are trying to sell me.\\n-----\\nOkay but I was published in new yorker once.\\n-----\\nHowdy brah, what do you like to do for fun?\",\n",
       " \"Hi! I work as a gourmet cook.\\n-----\\nI don't like carrots. I throw them away.\\n-----\\nReally. But, I can sing pitch perfect.\\n-----\\nI also cook, and I ride my bike to work.\\n-----\\nGreat! I had won an award for spelling bee.\\n-----\\nMy contacts can see through what you are trying to sell me.\\n-----\\nOkay but I was published in new yorker once.\\n-----\\nI forget everything pretty much.\",\n",
       " \"Hi! I work as a gourmet cook.\\n-----\\nI don't like carrots. I throw them away.\\n-----\\nReally. But, I can sing pitch perfect.\\n-----\\nI also cook, and I ride my bike to work.\\n-----\\nGreat! I had won an award for spelling bee.\\n-----\\nMy contacts can see through what you are trying to sell me.\\n-----\\nOkay but I was published in new yorker once.\\n-----\\nI'm doing well! About to go to dance class. I just got some new flatts.\",\n",
       " \"Hi! I work as a gourmet cook.\\n-----\\nI don't like carrots. I throw them away.\\n-----\\nReally. But, I can sing pitch perfect.\\n-----\\nI also cook, and I ride my bike to work.\\n-----\\nGreat! I had won an award for spelling bee.\\n-----\\nMy contacts can see through what you are trying to sell me.\\n-----\\nOkay but I was published in new yorker once.\\n-----\\nAgreed. The God metal is still underground. Will always be there.\",\n",
       " \"Hi! I work as a gourmet cook.\\n-----\\nI don't like carrots. I throw them away.\\n-----\\nReally. But, I can sing pitch perfect.\\n-----\\nI also cook, and I ride my bike to work.\\n-----\\nGreat! I had won an award for spelling bee.\\n-----\\nMy contacts can see through what you are trying to sell me.\\n-----\\nOkay but I was published in new yorker once.\\n-----\\nHi how are you doing today.\",\n",
       " \"Hi! I work as a gourmet cook.\\n-----\\nI don't like carrots. I throw them away.\\n-----\\nReally. But, I can sing pitch perfect.\\n-----\\nI also cook, and I ride my bike to work.\\n-----\\nGreat! I had won an award for spelling bee.\\n-----\\nMy contacts can see through what you are trying to sell me.\\n-----\\nOkay but I was published in new yorker once.\\n-----\\nOh I bet. Sounds like a challenging job.\",\n",
       " \"Hi! I work as a gourmet cook.\\n-----\\nI don't like carrots. I throw them away.\\n-----\\nReally. But, I can sing pitch perfect.\\n-----\\nI also cook, and I ride my bike to work.\\n-----\\nGreat! I had won an award for spelling bee.\\n-----\\nMy contacts can see through what you are trying to sell me.\\n-----\\nOkay but I was published in new yorker once.\\n-----\\nYou better not make any spelling mistakes.\",\n",
       " \"Hi! I work as a gourmet cook.\\n-----\\nI don't like carrots. I throw them away.\\n-----\\nReally. But, I can sing pitch perfect.\\n-----\\nI also cook, and I ride my bike to work.\\n-----\\nGreat! I had won an award for spelling bee.\\n-----\\nMy contacts can see through what you are trying to sell me.\\n-----\\nOkay but I was published in new yorker once.\\n-----\\nYou better not make any spelling mistakes.\\n-----\\nI have not. I can cook any word you want me to.\\n-----\\nI like the nfl as well, no pro teams in new Mexico though!\",\n",
       " \"Hi! I work as a gourmet cook.\\n-----\\nI don't like carrots. I throw them away.\\n-----\\nReally. But, I can sing pitch perfect.\\n-----\\nI also cook, and I ride my bike to work.\\n-----\\nGreat! I had won an award for spelling bee.\\n-----\\nMy contacts can see through what you are trying to sell me.\\n-----\\nOkay but I was published in new yorker once.\\n-----\\nYou better not make any spelling mistakes.\\n-----\\nI have not. I can cook any word you want me to.\\n-----\\nI see. I have a passion for photography.\",\n",
       " \"Hi! I work as a gourmet cook.\\n-----\\nI don't like carrots. I throw them away.\\n-----\\nReally. But, I can sing pitch perfect.\\n-----\\nI also cook, and I ride my bike to work.\\n-----\\nGreat! I had won an award for spelling bee.\\n-----\\nMy contacts can see through what you are trying to sell me.\\n-----\\nOkay but I was published in new yorker once.\\n-----\\nYou better not make any spelling mistakes.\\n-----\\nI have not. I can cook any word you want me to.\\n-----\\nHey there. I live in Colorado and work in it. How about you?\",\n",
       " \"Hi! I work as a gourmet cook.\\n-----\\nI don't like carrots. I throw them away.\\n-----\\nReally. But, I can sing pitch perfect.\\n-----\\nI also cook, and I ride my bike to work.\\n-----\\nGreat! I had won an award for spelling bee.\\n-----\\nMy contacts can see through what you are trying to sell me.\\n-----\\nOkay but I was published in new yorker once.\\n-----\\nYou better not make any spelling mistakes.\\n-----\\nI have not. I can cook any word you want me to.\\n-----\\nMy family and I don't get along, I really wish I was an animal.. dog maybe.\",\n",
       " \"Hi! I work as a gourmet cook.\\n-----\\nI don't like carrots. I throw them away.\\n-----\\nReally. But, I can sing pitch perfect.\\n-----\\nI also cook, and I ride my bike to work.\\n-----\\nGreat! I had won an award for spelling bee.\\n-----\\nMy contacts can see through what you are trying to sell me.\\n-----\\nOkay but I was published in new yorker once.\\n-----\\nYou better not make any spelling mistakes.\\n-----\\nI have not. I can cook any word you want me to.\\n-----\\nI feel as though people can live how they choose.\",\n",
       " \"Hi! I work as a gourmet cook.\\n-----\\nI don't like carrots. I throw them away.\\n-----\\nReally. But, I can sing pitch perfect.\\n-----\\nI also cook, and I ride my bike to work.\\n-----\\nGreat! I had won an award for spelling bee.\\n-----\\nMy contacts can see through what you are trying to sell me.\\n-----\\nOkay but I was published in new yorker once.\\n-----\\nYou better not make any spelling mistakes.\\n-----\\nI have not. I can cook any word you want me to.\\n-----\\nAnything that makes my many girlfriends move with me is good.\",\n",
       " \"Hi! I work as a gourmet cook.\\n-----\\nI don't like carrots. I throw them away.\\n-----\\nReally. But, I can sing pitch perfect.\\n-----\\nI also cook, and I ride my bike to work.\\n-----\\nGreat! I had won an award for spelling bee.\\n-----\\nMy contacts can see through what you are trying to sell me.\\n-----\\nOkay but I was published in new yorker once.\\n-----\\nYou better not make any spelling mistakes.\\n-----\\nI have not. I can cook any word you want me to.\\n-----\\nIs your dog doing okay?\",\n",
       " \"Hi! I work as a gourmet cook.\\n-----\\nI don't like carrots. I throw them away.\\n-----\\nReally. But, I can sing pitch perfect.\\n-----\\nI also cook, and I ride my bike to work.\\n-----\\nGreat! I had won an award for spelling bee.\\n-----\\nMy contacts can see through what you are trying to sell me.\\n-----\\nOkay but I was published in new yorker once.\\n-----\\nYou better not make any spelling mistakes.\\n-----\\nI have not. I can cook any word you want me to.\\n-----\\nYeah, its a gift really. uh, spaghetti. you?\",\n",
       " \"Hi! I work as a gourmet cook.\\n-----\\nI don't like carrots. I throw them away.\\n-----\\nReally. But, I can sing pitch perfect.\\n-----\\nI also cook, and I ride my bike to work.\\n-----\\nGreat! I had won an award for spelling bee.\\n-----\\nMy contacts can see through what you are trying to sell me.\\n-----\\nOkay but I was published in new yorker once.\\n-----\\nYou better not make any spelling mistakes.\\n-----\\nI have not. I can cook any word you want me to.\\n-----\\nYes. Are you doing anything interesting today?\",\n",
       " \"Hi! I work as a gourmet cook.\\n-----\\nI don't like carrots. I throw them away.\\n-----\\nReally. But, I can sing pitch perfect.\\n-----\\nI also cook, and I ride my bike to work.\\n-----\\nGreat! I had won an award for spelling bee.\\n-----\\nMy contacts can see through what you are trying to sell me.\\n-----\\nOkay but I was published in new yorker once.\\n-----\\nYou better not make any spelling mistakes.\\n-----\\nI have not. I can cook any word you want me to.\\n-----\\nHi, I just adore pink mink.\",\n",
       " \"Hi! I work as a gourmet cook.\\n-----\\nI don't like carrots. I throw them away.\\n-----\\nReally. But, I can sing pitch perfect.\\n-----\\nI also cook, and I ride my bike to work.\\n-----\\nGreat! I had won an award for spelling bee.\\n-----\\nMy contacts can see through what you are trying to sell me.\\n-----\\nOkay but I was published in new yorker once.\\n-----\\nYou better not make any spelling mistakes.\\n-----\\nI have not. I can cook any word you want me to.\\n-----\\nThey're my word, I'm sure you will get many.\",\n",
       " \"Hi! I work as a gourmet cook.\\n-----\\nI don't like carrots. I throw them away.\\n-----\\nReally. But, I can sing pitch perfect.\\n-----\\nI also cook, and I ride my bike to work.\\n-----\\nGreat! I had won an award for spelling bee.\\n-----\\nMy contacts can see through what you are trying to sell me.\\n-----\\nOkay but I was published in new yorker once.\\n-----\\nYou better not make any spelling mistakes.\\n-----\\nI have not. I can cook any word you want me to.\\n-----\\nI never liked math. What position in soccer do you play?\",\n",
       " \"Hi! I work as a gourmet cook.\\n-----\\nI don't like carrots. I throw them away.\\n-----\\nReally. But, I can sing pitch perfect.\\n-----\\nI also cook, and I ride my bike to work.\\n-----\\nGreat! I had won an award for spelling bee.\\n-----\\nMy contacts can see through what you are trying to sell me.\\n-----\\nOkay but I was published in new yorker once.\\n-----\\nYou better not make any spelling mistakes.\\n-----\\nI have not. I can cook any word you want me to.\\n-----\\nI bet you cannot guess where I work.\",\n",
       " \"Hi! I work as a gourmet cook.\\n-----\\nI don't like carrots. I throw them away.\\n-----\\nReally. But, I can sing pitch perfect.\\n-----\\nI also cook, and I ride my bike to work.\\n-----\\nGreat! I had won an award for spelling bee.\\n-----\\nMy contacts can see through what you are trying to sell me.\\n-----\\nOkay but I was published in new yorker once.\\n-----\\nYou better not make any spelling mistakes.\\n-----\\nI have not. I can cook any word you want me to.\\n-----\\nI tend to make friends on the soccer field easily.\",\n",
       " \"Hi! I work as a gourmet cook.\\n-----\\nI don't like carrots. I throw them away.\\n-----\\nReally. But, I can sing pitch perfect.\\n-----\\nI also cook, and I ride my bike to work.\\n-----\\nGreat! I had won an award for spelling bee.\\n-----\\nMy contacts can see through what you are trying to sell me.\\n-----\\nOkay but I was published in new yorker once.\\n-----\\nYou better not make any spelling mistakes.\\n-----\\nI have not. I can cook any word you want me to.\\n-----\\nIts a chihuahua and pitbull, I work 3 jobs and have no time.\",\n",
       " \"Hi! I work as a gourmet cook.\\n-----\\nI don't like carrots. I throw them away.\\n-----\\nReally. But, I can sing pitch perfect.\\n-----\\nI also cook, and I ride my bike to work.\\n-----\\nGreat! I had won an award for spelling bee.\\n-----\\nMy contacts can see through what you are trying to sell me.\\n-----\\nOkay but I was published in new yorker once.\\n-----\\nYou better not make any spelling mistakes.\\n-----\\nI have not. I can cook any word you want me to.\\n-----\\nI hope I do too! Feeling pretty tired.\",\n",
       " \"Hi! I work as a gourmet cook.\\n-----\\nI don't like carrots. I throw them away.\\n-----\\nReally. But, I can sing pitch perfect.\\n-----\\nI also cook, and I ride my bike to work.\\n-----\\nGreat! I had won an award for spelling bee.\\n-----\\nMy contacts can see through what you are trying to sell me.\\n-----\\nOkay but I was published in new yorker once.\\n-----\\nYou better not make any spelling mistakes.\\n-----\\nI have not. I can cook any word you want me to.\\n-----\\nReally? I could help, I'm a programmer.\",\n",
       " \"Hi! I work as a gourmet cook.\\n-----\\nI don't like carrots. I throw them away.\\n-----\\nReally. But, I can sing pitch perfect.\\n-----\\nI also cook, and I ride my bike to work.\\n-----\\nGreat! I had won an award for spelling bee.\\n-----\\nMy contacts can see through what you are trying to sell me.\\n-----\\nOkay but I was published in new yorker once.\\n-----\\nYou better not make any spelling mistakes.\\n-----\\nI have not. I can cook any word you want me to.\\n-----\\nYou still can! I decorated her room purple everything! My favorite.\",\n",
       " \"Hi! I work as a gourmet cook.\\n-----\\nI don't like carrots. I throw them away.\\n-----\\nReally. But, I can sing pitch perfect.\\n-----\\nI also cook, and I ride my bike to work.\\n-----\\nGreat! I had won an award for spelling bee.\\n-----\\nMy contacts can see through what you are trying to sell me.\\n-----\\nOkay but I was published in new yorker once.\\n-----\\nYou better not make any spelling mistakes.\\n-----\\nI have not. I can cook any word you want me to.\\n-----\\nI'm good. Just seen my husband and 5 kids off out the door.\",\n",
       " \"Hi! I work as a gourmet cook.\\n-----\\nI don't like carrots. I throw them away.\\n-----\\nReally. But, I can sing pitch perfect.\\n-----\\nI also cook, and I ride my bike to work.\\n-----\\nGreat! I had won an award for spelling bee.\\n-----\\nMy contacts can see through what you are trying to sell me.\\n-----\\nOkay but I was published in new yorker once.\\n-----\\nYou better not make any spelling mistakes.\\n-----\\nI have not. I can cook any word you want me to.\\n-----\\nWhat is your ethnicity? I'm white, and my hair is brown.\",\n",
       " \"Hi! I work as a gourmet cook.\\n-----\\nI don't like carrots. I throw them away.\\n-----\\nReally. But, I can sing pitch perfect.\\n-----\\nI also cook, and I ride my bike to work.\\n-----\\nGreat! I had won an award for spelling bee.\\n-----\\nMy contacts can see through what you are trying to sell me.\\n-----\\nOkay but I was published in new yorker once.\\n-----\\nYou better not make any spelling mistakes.\\n-----\\nI have not. I can cook any word you want me to.\\n-----\\nWhat is your ethnicity? I'm white, and my hair is brown.\\n-----\\nI'm asian and have no hair.\\n-----\\nI adore beer. I have had 35 different beers in my life.\",\n",
       " \"Hi! I work as a gourmet cook.\\n-----\\nI don't like carrots. I throw them away.\\n-----\\nReally. But, I can sing pitch perfect.\\n-----\\nI also cook, and I ride my bike to work.\\n-----\\nGreat! I had won an award for spelling bee.\\n-----\\nMy contacts can see through what you are trying to sell me.\\n-----\\nOkay but I was published in new yorker once.\\n-----\\nYou better not make any spelling mistakes.\\n-----\\nI have not. I can cook any word you want me to.\\n-----\\nWhat is your ethnicity? I'm white, and my hair is brown.\\n-----\\nI'm asian and have no hair.\\n-----\\nDo you get paid well for it.\",\n",
       " \"Hi! I work as a gourmet cook.\\n-----\\nI don't like carrots. I throw them away.\\n-----\\nReally. But, I can sing pitch perfect.\\n-----\\nI also cook, and I ride my bike to work.\\n-----\\nGreat! I had won an award for spelling bee.\\n-----\\nMy contacts can see through what you are trying to sell me.\\n-----\\nOkay but I was published in new yorker once.\\n-----\\nYou better not make any spelling mistakes.\\n-----\\nI have not. I can cook any word you want me to.\\n-----\\nWhat is your ethnicity? I'm white, and my hair is brown.\\n-----\\nI'm asian and have no hair.\\n-----\\nI don't read much, I work 10 hours in a factory every day.\",\n",
       " \"Hi! I work as a gourmet cook.\\n-----\\nI don't like carrots. I throw them away.\\n-----\\nReally. But, I can sing pitch perfect.\\n-----\\nI also cook, and I ride my bike to work.\\n-----\\nGreat! I had won an award for spelling bee.\\n-----\\nMy contacts can see through what you are trying to sell me.\\n-----\\nOkay but I was published in new yorker once.\\n-----\\nYou better not make any spelling mistakes.\\n-----\\nI have not. I can cook any word you want me to.\\n-----\\nWhat is your ethnicity? I'm white, and my hair is brown.\\n-----\\nI'm asian and have no hair.\\n-----\\nNo, not much of a fan. I enjoy reading over tv.\",\n",
       " \"Hi! I work as a gourmet cook.\\n-----\\nI don't like carrots. I throw them away.\\n-----\\nReally. But, I can sing pitch perfect.\\n-----\\nI also cook, and I ride my bike to work.\\n-----\\nGreat! I had won an award for spelling bee.\\n-----\\nMy contacts can see through what you are trying to sell me.\\n-----\\nOkay but I was published in new yorker once.\\n-----\\nYou better not make any spelling mistakes.\\n-----\\nI have not. I can cook any word you want me to.\\n-----\\nWhat is your ethnicity? I'm white, and my hair is brown.\\n-----\\nI'm asian and have no hair.\\n-----\\nThat sounds fun. What do you serve to eat?\",\n",
       " \"Hi! I work as a gourmet cook.\\n-----\\nI don't like carrots. I throw them away.\\n-----\\nReally. But, I can sing pitch perfect.\\n-----\\nI also cook, and I ride my bike to work.\\n-----\\nGreat! I had won an award for spelling bee.\\n-----\\nMy contacts can see through what you are trying to sell me.\\n-----\\nOkay but I was published in new yorker once.\\n-----\\nYou better not make any spelling mistakes.\\n-----\\nI have not. I can cook any word you want me to.\\n-----\\nWhat is your ethnicity? I'm white, and my hair is brown.\\n-----\\nI'm asian and have no hair.\\n-----\\nI have 2 dogs!\",\n",
       " \"Hi! I work as a gourmet cook.\\n-----\\nI don't like carrots. I throw them away.\\n-----\\nReally. But, I can sing pitch perfect.\\n-----\\nI also cook, and I ride my bike to work.\\n-----\\nGreat! I had won an award for spelling bee.\\n-----\\nMy contacts can see through what you are trying to sell me.\\n-----\\nOkay but I was published in new yorker once.\\n-----\\nYou better not make any spelling mistakes.\\n-----\\nI have not. I can cook any word you want me to.\\n-----\\nWhat is your ethnicity? I'm white, and my hair is brown.\\n-----\\nI'm asian and have no hair.\\n-----\\nI don't believe in magic.\",\n",
       " \"Hi! I work as a gourmet cook.\\n-----\\nI don't like carrots. I throw them away.\\n-----\\nReally. But, I can sing pitch perfect.\\n-----\\nI also cook, and I ride my bike to work.\\n-----\\nGreat! I had won an award for spelling bee.\\n-----\\nMy contacts can see through what you are trying to sell me.\\n-----\\nOkay but I was published in new yorker once.\\n-----\\nYou better not make any spelling mistakes.\\n-----\\nI have not. I can cook any word you want me to.\\n-----\\nWhat is your ethnicity? I'm white, and my hair is brown.\\n-----\\nI'm asian and have no hair.\\n-----\\nThat's fun. I'm a teacher like my mother was.\",\n",
       " \"Hi! I work as a gourmet cook.\\n-----\\nI don't like carrots. I throw them away.\\n-----\\nReally. But, I can sing pitch perfect.\\n-----\\nI also cook, and I ride my bike to work.\\n-----\\nGreat! I had won an award for spelling bee.\\n-----\\nMy contacts can see through what you are trying to sell me.\\n-----\\nOkay but I was published in new yorker once.\\n-----\\nYou better not make any spelling mistakes.\\n-----\\nI have not. I can cook any word you want me to.\\n-----\\nWhat is your ethnicity? I'm white, and my hair is brown.\\n-----\\nI'm asian and have no hair.\\n-----\\nOh cool! Do you like mcdonalds?\",\n",
       " \"Hi! I work as a gourmet cook.\\n-----\\nI don't like carrots. I throw them away.\\n-----\\nReally. But, I can sing pitch perfect.\\n-----\\nI also cook, and I ride my bike to work.\\n-----\\nGreat! I had won an award for spelling bee.\\n-----\\nMy contacts can see through what you are trying to sell me.\\n-----\\nOkay but I was published in new yorker once.\\n-----\\nYou better not make any spelling mistakes.\\n-----\\nI have not. I can cook any word you want me to.\\n-----\\nWhat is your ethnicity? I'm white, and my hair is brown.\\n-----\\nI'm asian and have no hair.\\n-----\\nNice I'm angry usually.\",\n",
       " \"Hi! I work as a gourmet cook.\\n-----\\nI don't like carrots. I throw them away.\\n-----\\nReally. But, I can sing pitch perfect.\\n-----\\nI also cook, and I ride my bike to work.\\n-----\\nGreat! I had won an award for spelling bee.\\n-----\\nMy contacts can see through what you are trying to sell me.\\n-----\\nOkay but I was published in new yorker once.\\n-----\\nYou better not make any spelling mistakes.\\n-----\\nI have not. I can cook any word you want me to.\\n-----\\nWhat is your ethnicity? I'm white, and my hair is brown.\\n-----\\nI'm asian and have no hair.\\n-----\\nThat's interesting! I have had to protect my pot belly piggie.\",\n",
       " \"Hi! I work as a gourmet cook.\\n-----\\nI don't like carrots. I throw them away.\\n-----\\nReally. But, I can sing pitch perfect.\\n-----\\nI also cook, and I ride my bike to work.\\n-----\\nGreat! I had won an award for spelling bee.\\n-----\\nMy contacts can see through what you are trying to sell me.\\n-----\\nOkay but I was published in new yorker once.\\n-----\\nYou better not make any spelling mistakes.\\n-----\\nI have not. I can cook any word you want me to.\\n-----\\nWhat is your ethnicity? I'm white, and my hair is brown.\\n-----\\nI'm asian and have no hair.\\n-----\\nCool!. Would you like to be my friend on facebook? I have over 4000 now!\",\n",
       " \"Hi! I work as a gourmet cook.\\n-----\\nI don't like carrots. I throw them away.\\n-----\\nReally. But, I can sing pitch perfect.\\n-----\\nI also cook, and I ride my bike to work.\\n-----\\nGreat! I had won an award for spelling bee.\\n-----\\nMy contacts can see through what you are trying to sell me.\\n-----\\nOkay but I was published in new yorker once.\\n-----\\nYou better not make any spelling mistakes.\\n-----\\nI have not. I can cook any word you want me to.\\n-----\\nWhat is your ethnicity? I'm white, and my hair is brown.\\n-----\\nI'm asian and have no hair.\\n-----\\nSheldon, of course. Penny is a good straight man to his questions.\",\n",
       " \"Hi! I work as a gourmet cook.\\n-----\\nI don't like carrots. I throw them away.\\n-----\\nReally. But, I can sing pitch perfect.\\n-----\\nI also cook, and I ride my bike to work.\\n-----\\nGreat! I had won an award for spelling bee.\\n-----\\nMy contacts can see through what you are trying to sell me.\\n-----\\nOkay but I was published in new yorker once.\\n-----\\nYou better not make any spelling mistakes.\\n-----\\nI have not. I can cook any word you want me to.\\n-----\\nWhat is your ethnicity? I'm white, and my hair is brown.\\n-----\\nI'm asian and have no hair.\\n-----\\nI eat right because I play many sports. I'm like a machine.\",\n",
       " \"Hi! I work as a gourmet cook.\\n-----\\nI don't like carrots. I throw them away.\\n-----\\nReally. But, I can sing pitch perfect.\\n-----\\nI also cook, and I ride my bike to work.\\n-----\\nGreat! I had won an award for spelling bee.\\n-----\\nMy contacts can see through what you are trying to sell me.\\n-----\\nOkay but I was published in new yorker once.\\n-----\\nYou better not make any spelling mistakes.\\n-----\\nI have not. I can cook any word you want me to.\\n-----\\nWhat is your ethnicity? I'm white, and my hair is brown.\\n-----\\nI'm asian and have no hair.\\n-----\\nOh fun, we cook venison at least several times a week! I love cooking.\",\n",
       " \"Hi! I work as a gourmet cook.\\n-----\\nI don't like carrots. I throw them away.\\n-----\\nReally. But, I can sing pitch perfect.\\n-----\\nI also cook, and I ride my bike to work.\\n-----\\nGreat! I had won an award for spelling bee.\\n-----\\nMy contacts can see through what you are trying to sell me.\\n-----\\nOkay but I was published in new yorker once.\\n-----\\nYou better not make any spelling mistakes.\\n-----\\nI have not. I can cook any word you want me to.\\n-----\\nWhat is your ethnicity? I'm white, and my hair is brown.\\n-----\\nI'm asian and have no hair.\\n-----\\nHow lovely! I listen to insane clown posse.\",\n",
       " \"Hi! I work as a gourmet cook.\\n-----\\nI don't like carrots. I throw them away.\\n-----\\nReally. But, I can sing pitch perfect.\\n-----\\nI also cook, and I ride my bike to work.\\n-----\\nGreat! I had won an award for spelling bee.\\n-----\\nMy contacts can see through what you are trying to sell me.\\n-----\\nOkay but I was published in new yorker once.\\n-----\\nYou better not make any spelling mistakes.\\n-----\\nI have not. I can cook any word you want me to.\\n-----\\nWhat is your ethnicity? I'm white, and my hair is brown.\\n-----\\nI'm asian and have no hair.\\n-----\\nSo are you eating burritos for dinner today?\",\n",
       " \"Hi! I work as a gourmet cook.\\n-----\\nI don't like carrots. I throw them away.\\n-----\\nReally. But, I can sing pitch perfect.\\n-----\\nI also cook, and I ride my bike to work.\\n-----\\nGreat! I had won an award for spelling bee.\\n-----\\nMy contacts can see through what you are trying to sell me.\\n-----\\nOkay but I was published in new yorker once.\\n-----\\nYou better not make any spelling mistakes.\\n-----\\nI have not. I can cook any word you want me to.\\n-----\\nWhat is your ethnicity? I'm white, and my hair is brown.\\n-----\\nI'm asian and have no hair.\\n-----\\nLol. Those are my favorite. Do you like dancing.\",\n",
       " \"Hi! I work as a gourmet cook.\\n-----\\nI don't like carrots. I throw them away.\\n-----\\nReally. But, I can sing pitch perfect.\\n-----\\nI also cook, and I ride my bike to work.\\n-----\\nGreat! I had won an award for spelling bee.\\n-----\\nMy contacts can see through what you are trying to sell me.\\n-----\\nOkay but I was published in new yorker once.\\n-----\\nYou better not make any spelling mistakes.\\n-----\\nI have not. I can cook any word you want me to.\\n-----\\nWhat is your ethnicity? I'm white, and my hair is brown.\\n-----\\nI'm asian and have no hair.\\n-----\\nA little sad since my favorite season summer is over.\",\n",
       " \"Hi! I work as a gourmet cook.\\n-----\\nI don't like carrots. I throw them away.\\n-----\\nReally. But, I can sing pitch perfect.\\n-----\\nI also cook, and I ride my bike to work.\\n-----\\nGreat! I had won an award for spelling bee.\\n-----\\nMy contacts can see through what you are trying to sell me.\\n-----\\nOkay but I was published in new yorker once.\\n-----\\nYou better not make any spelling mistakes.\\n-----\\nI have not. I can cook any word you want me to.\\n-----\\nWhat is your ethnicity? I'm white, and my hair is brown.\\n-----\\nI'm asian and have no hair.\\n-----\\nI love hairless Asians. Do you like carrots?\",\n",
       " \"Hi! I work as a gourmet cook.\\n-----\\nI don't like carrots. I throw them away.\\n-----\\nReally. But, I can sing pitch perfect.\\n-----\\nI also cook, and I ride my bike to work.\\n-----\\nGreat! I had won an award for spelling bee.\\n-----\\nMy contacts can see through what you are trying to sell me.\\n-----\\nOkay but I was published in new yorker once.\\n-----\\nYou better not make any spelling mistakes.\\n-----\\nI have not. I can cook any word you want me to.\\n-----\\nWhat is your ethnicity? I'm white, and my hair is brown.\\n-----\\nI'm asian and have no hair.\\n-----\\nI love hairless Asians. Do you like carrots?\\n-----\\nI love carrots. I eat carrots like a horse.\\n-----\\nHello.\",\n",
       " \"Hi! I work as a gourmet cook.\\n-----\\nI don't like carrots. I throw them away.\\n-----\\nReally. But, I can sing pitch perfect.\\n-----\\nI also cook, and I ride my bike to work.\\n-----\\nGreat! I had won an award for spelling bee.\\n-----\\nMy contacts can see through what you are trying to sell me.\\n-----\\nOkay but I was published in new yorker once.\\n-----\\nYou better not make any spelling mistakes.\\n-----\\nI have not. I can cook any word you want me to.\\n-----\\nWhat is your ethnicity? I'm white, and my hair is brown.\\n-----\\nI'm asian and have no hair.\\n-----\\nI love hairless Asians. Do you like carrots?\\n-----\\nI love carrots. I eat carrots like a horse.\\n-----\\nI love chicken. I do not eat red meat.\",\n",
       " \"Hi! I work as a gourmet cook.\\n-----\\nI don't like carrots. I throw them away.\\n-----\\nReally. But, I can sing pitch perfect.\\n-----\\nI also cook, and I ride my bike to work.\\n-----\\nGreat! I had won an award for spelling bee.\\n-----\\nMy contacts can see through what you are trying to sell me.\\n-----\\nOkay but I was published in new yorker once.\\n-----\\nYou better not make any spelling mistakes.\\n-----\\nI have not. I can cook any word you want me to.\\n-----\\nWhat is your ethnicity? I'm white, and my hair is brown.\\n-----\\nI'm asian and have no hair.\\n-----\\nI love hairless Asians. Do you like carrots?\\n-----\\nI love carrots. I eat carrots like a horse.\\n-----\\nI am doing okay, just practicing violin and watching my 5 kids.\",\n",
       " \"Hi! I work as a gourmet cook.\\n-----\\nI don't like carrots. I throw them away.\\n-----\\nReally. But, I can sing pitch perfect.\\n-----\\nI also cook, and I ride my bike to work.\\n-----\\nGreat! I had won an award for spelling bee.\\n-----\\nMy contacts can see through what you are trying to sell me.\\n-----\\nOkay but I was published in new yorker once.\\n-----\\nYou better not make any spelling mistakes.\\n-----\\nI have not. I can cook any word you want me to.\\n-----\\nWhat is your ethnicity? I'm white, and my hair is brown.\\n-----\\nI'm asian and have no hair.\\n-----\\nI love hairless Asians. Do you like carrots?\\n-----\\nI love carrots. I eat carrots like a horse.\\n-----\\nYes, you said that already. Do you have memory issues?\",\n",
       " \"Hi! I work as a gourmet cook.\\n-----\\nI don't like carrots. I throw them away.\\n-----\\nReally. But, I can sing pitch perfect.\\n-----\\nI also cook, and I ride my bike to work.\\n-----\\nGreat! I had won an award for spelling bee.\\n-----\\nMy contacts can see through what you are trying to sell me.\\n-----\\nOkay but I was published in new yorker once.\\n-----\\nYou better not make any spelling mistakes.\\n-----\\nI have not. I can cook any word you want me to.\\n-----\\nWhat is your ethnicity? I'm white, and my hair is brown.\\n-----\\nI'm asian and have no hair.\\n-----\\nI love hairless Asians. Do you like carrots?\\n-----\\nI love carrots. I eat carrots like a horse.\\n-----\\nWhat s your favorite beef dish?\",\n",
       " \"Hi! I work as a gourmet cook.\\n-----\\nI don't like carrots. I throw them away.\\n-----\\nReally. But, I can sing pitch perfect.\\n-----\\nI also cook, and I ride my bike to work.\\n-----\\nGreat! I had won an award for spelling bee.\\n-----\\nMy contacts can see through what you are trying to sell me.\\n-----\\nOkay but I was published in new yorker once.\\n-----\\nYou better not make any spelling mistakes.\\n-----\\nI have not. I can cook any word you want me to.\\n-----\\nWhat is your ethnicity? I'm white, and my hair is brown.\\n-----\\nI'm asian and have no hair.\\n-----\\nI love hairless Asians. Do you like carrots?\\n-----\\nI love carrots. I eat carrots like a horse.\\n-----\\nDid he recently graduate? I wonder if we went to school together.\",\n",
       " \"Hi! I work as a gourmet cook.\\n-----\\nI don't like carrots. I throw them away.\\n-----\\nReally. But, I can sing pitch perfect.\\n-----\\nI also cook, and I ride my bike to work.\\n-----\\nGreat! I had won an award for spelling bee.\\n-----\\nMy contacts can see through what you are trying to sell me.\\n-----\\nOkay but I was published in new yorker once.\\n-----\\nYou better not make any spelling mistakes.\\n-----\\nI have not. I can cook any word you want me to.\\n-----\\nWhat is your ethnicity? I'm white, and my hair is brown.\\n-----\\nI'm asian and have no hair.\\n-----\\nI love hairless Asians. Do you like carrots?\\n-----\\nI love carrots. I eat carrots like a horse.\\n-----\\nI will have to check it out! Maybe they have deals on brushes.\",\n",
       " \"Hi! I work as a gourmet cook.\\n-----\\nI don't like carrots. I throw them away.\\n-----\\nReally. But, I can sing pitch perfect.\\n-----\\nI also cook, and I ride my bike to work.\\n-----\\nGreat! I had won an award for spelling bee.\\n-----\\nMy contacts can see through what you are trying to sell me.\\n-----\\nOkay but I was published in new yorker once.\\n-----\\nYou better not make any spelling mistakes.\\n-----\\nI have not. I can cook any word you want me to.\\n-----\\nWhat is your ethnicity? I'm white, and my hair is brown.\\n-----\\nI'm asian and have no hair.\\n-----\\nI love hairless Asians. Do you like carrots?\\n-----\\nI love carrots. I eat carrots like a horse.\\n-----\\nDave, what are your cats names.\",\n",
       " \"Hi! I work as a gourmet cook.\\n-----\\nI don't like carrots. I throw them away.\\n-----\\nReally. But, I can sing pitch perfect.\\n-----\\nI also cook, and I ride my bike to work.\\n-----\\nGreat! I had won an award for spelling bee.\\n-----\\nMy contacts can see through what you are trying to sell me.\\n-----\\nOkay but I was published in new yorker once.\\n-----\\nYou better not make any spelling mistakes.\\n-----\\nI have not. I can cook any word you want me to.\\n-----\\nWhat is your ethnicity? I'm white, and my hair is brown.\\n-----\\nI'm asian and have no hair.\\n-----\\nI love hairless Asians. Do you like carrots?\\n-----\\nI love carrots. I eat carrots like a horse.\\n-----\\nI like to go there and write some poetry. It is relaxing.\",\n",
       " \"Hi! I work as a gourmet cook.\\n-----\\nI don't like carrots. I throw them away.\\n-----\\nReally. But, I can sing pitch perfect.\\n-----\\nI also cook, and I ride my bike to work.\\n-----\\nGreat! I had won an award for spelling bee.\\n-----\\nMy contacts can see through what you are trying to sell me.\\n-----\\nOkay but I was published in new yorker once.\\n-----\\nYou better not make any spelling mistakes.\\n-----\\nI have not. I can cook any word you want me to.\\n-----\\nWhat is your ethnicity? I'm white, and my hair is brown.\\n-----\\nI'm asian and have no hair.\\n-----\\nI love hairless Asians. Do you like carrots?\\n-----\\nI love carrots. I eat carrots like a horse.\\n-----\\nWhere did you work? Your real slow and not making any sense.\",\n",
       " \"Hi! I work as a gourmet cook.\\n-----\\nI don't like carrots. I throw them away.\\n-----\\nReally. But, I can sing pitch perfect.\\n-----\\nI also cook, and I ride my bike to work.\\n-----\\nGreat! I had won an award for spelling bee.\\n-----\\nMy contacts can see through what you are trying to sell me.\\n-----\\nOkay but I was published in new yorker once.\\n-----\\nYou better not make any spelling mistakes.\\n-----\\nI have not. I can cook any word you want me to.\\n-----\\nWhat is your ethnicity? I'm white, and my hair is brown.\\n-----\\nI'm asian and have no hair.\\n-----\\nI love hairless Asians. Do you like carrots?\\n-----\\nI love carrots. I eat carrots like a horse.\\n-----\\nThat is fine. Whats your favorite food? I love food trucks.\",\n",
       " \"Hi! I work as a gourmet cook.\\n-----\\nI don't like carrots. I throw them away.\\n-----\\nReally. But, I can sing pitch perfect.\\n-----\\nI also cook, and I ride my bike to work.\\n-----\\nGreat! I had won an award for spelling bee.\\n-----\\nMy contacts can see through what you are trying to sell me.\\n-----\\nOkay but I was published in new yorker once.\\n-----\\nYou better not make any spelling mistakes.\\n-----\\nI have not. I can cook any word you want me to.\\n-----\\nWhat is your ethnicity? I'm white, and my hair is brown.\\n-----\\nI'm asian and have no hair.\\n-----\\nI love hairless Asians. Do you like carrots?\\n-----\\nI love carrots. I eat carrots like a horse.\\n-----\\nI enjoy family time too much to start a business!! Must be nice to chase your dreams.\",\n",
       " \"Hi! I work as a gourmet cook.\\n-----\\nI don't like carrots. I throw them away.\\n-----\\nReally. But, I can sing pitch perfect.\\n-----\\nI also cook, and I ride my bike to work.\\n-----\\nGreat! I had won an award for spelling bee.\\n-----\\nMy contacts can see through what you are trying to sell me.\\n-----\\nOkay but I was published in new yorker once.\\n-----\\nYou better not make any spelling mistakes.\\n-----\\nI have not. I can cook any word you want me to.\\n-----\\nWhat is your ethnicity? I'm white, and my hair is brown.\\n-----\\nI'm asian and have no hair.\\n-----\\nI love hairless Asians. Do you like carrots?\\n-----\\nI love carrots. I eat carrots like a horse.\\n-----\\nI bet, I nurse people.\",\n",
       " \"Hi! I work as a gourmet cook.\\n-----\\nI don't like carrots. I throw them away.\\n-----\\nReally. But, I can sing pitch perfect.\\n-----\\nI also cook, and I ride my bike to work.\\n-----\\nGreat! I had won an award for spelling bee.\\n-----\\nMy contacts can see through what you are trying to sell me.\\n-----\\nOkay but I was published in new yorker once.\\n-----\\nYou better not make any spelling mistakes.\\n-----\\nI have not. I can cook any word you want me to.\\n-----\\nWhat is your ethnicity? I'm white, and my hair is brown.\\n-----\\nI'm asian and have no hair.\\n-----\\nI love hairless Asians. Do you like carrots?\\n-----\\nI love carrots. I eat carrots like a horse.\\n-----\\nI do not actually mind the winter but I do really like spring.\",\n",
       " \"Hi! I work as a gourmet cook.\\n-----\\nI don't like carrots. I throw them away.\\n-----\\nReally. But, I can sing pitch perfect.\\n-----\\nI also cook, and I ride my bike to work.\\n-----\\nGreat! I had won an award for spelling bee.\\n-----\\nMy contacts can see through what you are trying to sell me.\\n-----\\nOkay but I was published in new yorker once.\\n-----\\nYou better not make any spelling mistakes.\\n-----\\nI have not. I can cook any word you want me to.\\n-----\\nWhat is your ethnicity? I'm white, and my hair is brown.\\n-----\\nI'm asian and have no hair.\\n-----\\nI love hairless Asians. Do you like carrots?\\n-----\\nI love carrots. I eat carrots like a horse.\\n-----\\nI do not like fast food. Do you like movies?\",\n",
       " \"Hi! I work as a gourmet cook.\\n-----\\nI don't like carrots. I throw them away.\\n-----\\nReally. But, I can sing pitch perfect.\\n-----\\nI also cook, and I ride my bike to work.\\n-----\\nGreat! I had won an award for spelling bee.\\n-----\\nMy contacts can see through what you are trying to sell me.\\n-----\\nOkay but I was published in new yorker once.\\n-----\\nYou better not make any spelling mistakes.\\n-----\\nI have not. I can cook any word you want me to.\\n-----\\nWhat is your ethnicity? I'm white, and my hair is brown.\\n-----\\nI'm asian and have no hair.\\n-----\\nI love hairless Asians. Do you like carrots?\\n-----\\nI love carrots. I eat carrots like a horse.\\n-----\\nAgreed! so, are you studying in college?\",\n",
       " \"Hi! I work as a gourmet cook.\\n-----\\nI don't like carrots. I throw them away.\\n-----\\nReally. But, I can sing pitch perfect.\\n-----\\nI also cook, and I ride my bike to work.\\n-----\\nGreat! I had won an award for spelling bee.\\n-----\\nMy contacts can see through what you are trying to sell me.\\n-----\\nOkay but I was published in new yorker once.\\n-----\\nYou better not make any spelling mistakes.\\n-----\\nI have not. I can cook any word you want me to.\\n-----\\nWhat is your ethnicity? I'm white, and my hair is brown.\\n-----\\nI'm asian and have no hair.\\n-----\\nI love hairless Asians. Do you like carrots?\\n-----\\nI love carrots. I eat carrots like a horse.\\n-----\\nI could never do that... although I do believe I can do anything, but not that.\",\n",
       " \"Hi! I work as a gourmet cook.\\n-----\\nI don't like carrots. I throw them away.\\n-----\\nReally. But, I can sing pitch perfect.\\n-----\\nI also cook, and I ride my bike to work.\\n-----\\nGreat! I had won an award for spelling bee.\\n-----\\nMy contacts can see through what you are trying to sell me.\\n-----\\nOkay but I was published in new yorker once.\\n-----\\nYou better not make any spelling mistakes.\\n-----\\nI have not. I can cook any word you want me to.\\n-----\\nWhat is your ethnicity? I'm white, and my hair is brown.\\n-----\\nI'm asian and have no hair.\\n-----\\nI love hairless Asians. Do you like carrots?\\n-----\\nI love carrots. I eat carrots like a horse.\\n-----\\nThat would be perfect! I live near a lake full of fish for sushi!\",\n",
       " \"Hi! I work as a gourmet cook.\\n-----\\nI don't like carrots. I throw them away.\\n-----\\nReally. But, I can sing pitch perfect.\\n-----\\nI also cook, and I ride my bike to work.\\n-----\\nGreat! I had won an award for spelling bee.\\n-----\\nMy contacts can see through what you are trying to sell me.\\n-----\\nOkay but I was published in new yorker once.\\n-----\\nYou better not make any spelling mistakes.\\n-----\\nI have not. I can cook any word you want me to.\\n-----\\nWhat is your ethnicity? I'm white, and my hair is brown.\\n-----\\nI'm asian and have no hair.\\n-----\\nI love hairless Asians. Do you like carrots?\\n-----\\nI love carrots. I eat carrots like a horse.\\n-----\\nYes I watched that one three times because it was so funny.\",\n",
       " \"Hi! I work as a gourmet cook.\\n-----\\nI don't like carrots. I throw them away.\\n-----\\nReally. But, I can sing pitch perfect.\\n-----\\nI also cook, and I ride my bike to work.\\n-----\\nGreat! I had won an award for spelling bee.\\n-----\\nMy contacts can see through what you are trying to sell me.\\n-----\\nOkay but I was published in new yorker once.\\n-----\\nYou better not make any spelling mistakes.\\n-----\\nI have not. I can cook any word you want me to.\\n-----\\nWhat is your ethnicity? I'm white, and my hair is brown.\\n-----\\nI'm asian and have no hair.\\n-----\\nI love hairless Asians. Do you like carrots?\\n-----\\nI love carrots. I eat carrots like a horse.\\n-----\\nAre you male or female?\",\n",
       " \"Hi! I work as a gourmet cook.\\n-----\\nI don't like carrots. I throw them away.\\n-----\\nReally. But, I can sing pitch perfect.\\n-----\\nI also cook, and I ride my bike to work.\\n-----\\nGreat! I had won an award for spelling bee.\\n-----\\nMy contacts can see through what you are trying to sell me.\\n-----\\nOkay but I was published in new yorker once.\\n-----\\nYou better not make any spelling mistakes.\\n-----\\nI have not. I can cook any word you want me to.\\n-----\\nWhat is your ethnicity? I'm white, and my hair is brown.\\n-----\\nI'm asian and have no hair.\\n-----\\nI love hairless Asians. Do you like carrots?\\n-----\\nI love carrots. I eat carrots like a horse.\\n-----\\nAre you male or female?\\n-----\\nI work as a gourmet cook who also has a pitch perfect voice.\\n-----\\nI do like to read, but only ebooks. Physical books are for the past.\",\n",
       " \"Hi! I work as a gourmet cook.\\n-----\\nI don't like carrots. I throw them away.\\n-----\\nReally. But, I can sing pitch perfect.\\n-----\\nI also cook, and I ride my bike to work.\\n-----\\nGreat! I had won an award for spelling bee.\\n-----\\nMy contacts can see through what you are trying to sell me.\\n-----\\nOkay but I was published in new yorker once.\\n-----\\nYou better not make any spelling mistakes.\\n-----\\nI have not. I can cook any word you want me to.\\n-----\\nWhat is your ethnicity? I'm white, and my hair is brown.\\n-----\\nI'm asian and have no hair.\\n-----\\nI love hairless Asians. Do you like carrots?\\n-----\\nI love carrots. I eat carrots like a horse.\\n-----\\nAre you male or female?\\n-----\\nI work as a gourmet cook who also has a pitch perfect voice.\\n-----\\nWhat kind of plants do you grow? Are you on a diet?\",\n",
       " \"Hi! I work as a gourmet cook.\\n-----\\nI don't like carrots. I throw them away.\\n-----\\nReally. But, I can sing pitch perfect.\\n-----\\nI also cook, and I ride my bike to work.\\n-----\\nGreat! I had won an award for spelling bee.\\n-----\\nMy contacts can see through what you are trying to sell me.\\n-----\\nOkay but I was published in new yorker once.\\n-----\\nYou better not make any spelling mistakes.\\n-----\\nI have not. I can cook any word you want me to.\\n-----\\nWhat is your ethnicity? I'm white, and my hair is brown.\\n-----\\nI'm asian and have no hair.\\n-----\\nI love hairless Asians. Do you like carrots?\\n-----\\nI love carrots. I eat carrots like a horse.\\n-----\\nAre you male or female?\\n-----\\nI work as a gourmet cook who also has a pitch perfect voice.\\n-----\\nSurf and turf. Two of my favorite foods, steak and lobster.\",\n",
       " \"Hi! I work as a gourmet cook.\\n-----\\nI don't like carrots. I throw them away.\\n-----\\nReally. But, I can sing pitch perfect.\\n-----\\nI also cook, and I ride my bike to work.\\n-----\\nGreat! I had won an award for spelling bee.\\n-----\\nMy contacts can see through what you are trying to sell me.\\n-----\\nOkay but I was published in new yorker once.\\n-----\\nYou better not make any spelling mistakes.\\n-----\\nI have not. I can cook any word you want me to.\\n-----\\nWhat is your ethnicity? I'm white, and my hair is brown.\\n-----\\nI'm asian and have no hair.\\n-----\\nI love hairless Asians. Do you like carrots?\\n-----\\nI love carrots. I eat carrots like a horse.\\n-----\\nAre you male or female?\\n-----\\nI work as a gourmet cook who also has a pitch perfect voice.\\n-----\\nI bet that it does.\",\n",
       " \"Hi! I work as a gourmet cook.\\n-----\\nI don't like carrots. I throw them away.\\n-----\\nReally. But, I can sing pitch perfect.\\n-----\\nI also cook, and I ride my bike to work.\\n-----\\nGreat! I had won an award for spelling bee.\\n-----\\nMy contacts can see through what you are trying to sell me.\\n-----\\nOkay but I was published in new yorker once.\\n-----\\nYou better not make any spelling mistakes.\\n-----\\nI have not. I can cook any word you want me to.\\n-----\\nWhat is your ethnicity? I'm white, and my hair is brown.\\n-----\\nI'm asian and have no hair.\\n-----\\nI love hairless Asians. Do you like carrots?\\n-----\\nI love carrots. I eat carrots like a horse.\\n-----\\nAre you male or female?\\n-----\\nI work as a gourmet cook who also has a pitch perfect voice.\\n-----\\nI love diving in the deep blue sea! Wanna talk about that!\",\n",
       " \"Hi! I work as a gourmet cook.\\n-----\\nI don't like carrots. I throw them away.\\n-----\\nReally. But, I can sing pitch perfect.\\n-----\\nI also cook, and I ride my bike to work.\\n-----\\nGreat! I had won an award for spelling bee.\\n-----\\nMy contacts can see through what you are trying to sell me.\\n-----\\nOkay but I was published in new yorker once.\\n-----\\nYou better not make any spelling mistakes.\\n-----\\nI have not. I can cook any word you want me to.\\n-----\\nWhat is your ethnicity? I'm white, and my hair is brown.\\n-----\\nI'm asian and have no hair.\\n-----\\nI love hairless Asians. Do you like carrots?\\n-----\\nI love carrots. I eat carrots like a horse.\\n-----\\nAre you male or female?\\n-----\\nI work as a gourmet cook who also has a pitch perfect voice.\\n-----\\nI'm great what do you enjoy doing?\",\n",
       " \"Hi! I work as a gourmet cook.\\n-----\\nI don't like carrots. I throw them away.\\n-----\\nReally. But, I can sing pitch perfect.\\n-----\\nI also cook, and I ride my bike to work.\\n-----\\nGreat! I had won an award for spelling bee.\\n-----\\nMy contacts can see through what you are trying to sell me.\\n-----\\nOkay but I was published in new yorker once.\\n-----\\nYou better not make any spelling mistakes.\\n-----\\nI have not. I can cook any word you want me to.\\n-----\\nWhat is your ethnicity? I'm white, and my hair is brown.\\n-----\\nI'm asian and have no hair.\\n-----\\nI love hairless Asians. Do you like carrots?\\n-----\\nI love carrots. I eat carrots like a horse.\\n-----\\nAre you male or female?\\n-----\\nI work as a gourmet cook who also has a pitch perfect voice.\\n-----\\nYes, my daughters and I went shopping for costumes recently.\",\n",
       " \"Hi! I work as a gourmet cook.\\n-----\\nI don't like carrots. I throw them away.\\n-----\\nReally. But, I can sing pitch perfect.\\n-----\\nI also cook, and I ride my bike to work.\\n-----\\nGreat! I had won an award for spelling bee.\\n-----\\nMy contacts can see through what you are trying to sell me.\\n-----\\nOkay but I was published in new yorker once.\\n-----\\nYou better not make any spelling mistakes.\\n-----\\nI have not. I can cook any word you want me to.\\n-----\\nWhat is your ethnicity? I'm white, and my hair is brown.\\n-----\\nI'm asian and have no hair.\\n-----\\nI love hairless Asians. Do you like carrots?\\n-----\\nI love carrots. I eat carrots like a horse.\\n-----\\nAre you male or female?\\n-----\\nI work as a gourmet cook who also has a pitch perfect voice.\\n-----\\nCool you have any pets I've 2 dogs.\",\n",
       " \"Hi! I work as a gourmet cook.\\n-----\\nI don't like carrots. I throw them away.\\n-----\\nReally. But, I can sing pitch perfect.\\n-----\\nI also cook, and I ride my bike to work.\\n-----\\nGreat! I had won an award for spelling bee.\\n-----\\nMy contacts can see through what you are trying to sell me.\\n-----\\nOkay but I was published in new yorker once.\\n-----\\nYou better not make any spelling mistakes.\\n-----\\nI have not. I can cook any word you want me to.\\n-----\\nWhat is your ethnicity? I'm white, and my hair is brown.\\n-----\\nI'm asian and have no hair.\\n-----\\nI love hairless Asians. Do you like carrots?\\n-----\\nI love carrots. I eat carrots like a horse.\\n-----\\nAre you male or female?\\n-----\\nI work as a gourmet cook who also has a pitch perfect voice.\\n-----\\nThat would be an awesome job, how long have you played piano?\",\n",
       " \"Hi! I work as a gourmet cook.\\n-----\\nI don't like carrots. I throw them away.\\n-----\\nReally. But, I can sing pitch perfect.\\n-----\\nI also cook, and I ride my bike to work.\\n-----\\nGreat! I had won an award for spelling bee.\\n-----\\nMy contacts can see through what you are trying to sell me.\\n-----\\nOkay but I was published in new yorker once.\\n-----\\nYou better not make any spelling mistakes.\\n-----\\nI have not. I can cook any word you want me to.\\n-----\\nWhat is your ethnicity? I'm white, and my hair is brown.\\n-----\\nI'm asian and have no hair.\\n-----\\nI love hairless Asians. Do you like carrots?\\n-----\\nI love carrots. I eat carrots like a horse.\\n-----\\nAre you male or female?\\n-----\\nI work as a gourmet cook who also has a pitch perfect voice.\\n-----\\nIt was amazing. He taught me morality and he taught me how to cook.\",\n",
       " \"Hi! I work as a gourmet cook.\\n-----\\nI don't like carrots. I throw them away.\\n-----\\nReally. But, I can sing pitch perfect.\\n-----\\nI also cook, and I ride my bike to work.\\n-----\\nGreat! I had won an award for spelling bee.\\n-----\\nMy contacts can see through what you are trying to sell me.\\n-----\\nOkay but I was published in new yorker once.\\n-----\\nYou better not make any spelling mistakes.\\n-----\\nI have not. I can cook any word you want me to.\\n-----\\nWhat is your ethnicity? I'm white, and my hair is brown.\\n-----\\nI'm asian and have no hair.\\n-----\\nI love hairless Asians. Do you like carrots?\\n-----\\nI love carrots. I eat carrots like a horse.\\n-----\\nAre you male or female?\\n-----\\nI work as a gourmet cook who also has a pitch perfect voice.\\n-----\\nHello, it is night here lol but why is that?\",\n",
       " \"Hi! I work as a gourmet cook.\\n-----\\nI don't like carrots. I throw them away.\\n-----\\nReally. But, I can sing pitch perfect.\\n-----\\nI also cook, and I ride my bike to work.\\n-----\\nGreat! I had won an award for spelling bee.\\n-----\\nMy contacts can see through what you are trying to sell me.\\n-----\\nOkay but I was published in new yorker once.\\n-----\\nYou better not make any spelling mistakes.\\n-----\\nI have not. I can cook any word you want me to.\\n-----\\nWhat is your ethnicity? I'm white, and my hair is brown.\\n-----\\nI'm asian and have no hair.\\n-----\\nI love hairless Asians. Do you like carrots?\\n-----\\nI love carrots. I eat carrots like a horse.\\n-----\\nAre you male or female?\\n-----\\nI work as a gourmet cook who also has a pitch perfect voice.\\n-----\\nMy brother is running with me tomorrow. He's in the army.\",\n",
       " \"Hi! I work as a gourmet cook.\\n-----\\nI don't like carrots. I throw them away.\\n-----\\nReally. But, I can sing pitch perfect.\\n-----\\nI also cook, and I ride my bike to work.\\n-----\\nGreat! I had won an award for spelling bee.\\n-----\\nMy contacts can see through what you are trying to sell me.\\n-----\\nOkay but I was published in new yorker once.\\n-----\\nYou better not make any spelling mistakes.\\n-----\\nI have not. I can cook any word you want me to.\\n-----\\nWhat is your ethnicity? I'm white, and my hair is brown.\\n-----\\nI'm asian and have no hair.\\n-----\\nI love hairless Asians. Do you like carrots?\\n-----\\nI love carrots. I eat carrots like a horse.\\n-----\\nAre you male or female?\\n-----\\nI work as a gourmet cook who also has a pitch perfect voice.\\n-----\\nYes as long as there is no broccoli.\",\n",
       " \"Hi! I work as a gourmet cook.\\n-----\\nI don't like carrots. I throw them away.\\n-----\\nReally. But, I can sing pitch perfect.\\n-----\\nI also cook, and I ride my bike to work.\\n-----\\nGreat! I had won an award for spelling bee.\\n-----\\nMy contacts can see through what you are trying to sell me.\\n-----\\nOkay but I was published in new yorker once.\\n-----\\nYou better not make any spelling mistakes.\\n-----\\nI have not. I can cook any word you want me to.\\n-----\\nWhat is your ethnicity? I'm white, and my hair is brown.\\n-----\\nI'm asian and have no hair.\\n-----\\nI love hairless Asians. Do you like carrots?\\n-----\\nI love carrots. I eat carrots like a horse.\\n-----\\nAre you male or female?\\n-----\\nI work as a gourmet cook who also has a pitch perfect voice.\\n-----\\nYep! And I love Christoper Nolan the director. Spr was so cheesy!\",\n",
       " \"Hi! I work as a gourmet cook.\\n-----\\nI don't like carrots. I throw them away.\\n-----\\nReally. But, I can sing pitch perfect.\\n-----\\nI also cook, and I ride my bike to work.\\n-----\\nGreat! I had won an award for spelling bee.\\n-----\\nMy contacts can see through what you are trying to sell me.\\n-----\\nOkay but I was published in new yorker once.\\n-----\\nYou better not make any spelling mistakes.\\n-----\\nI have not. I can cook any word you want me to.\\n-----\\nWhat is your ethnicity? I'm white, and my hair is brown.\\n-----\\nI'm asian and have no hair.\\n-----\\nI love hairless Asians. Do you like carrots?\\n-----\\nI love carrots. I eat carrots like a horse.\\n-----\\nAre you male or female?\\n-----\\nI work as a gourmet cook who also has a pitch perfect voice.\\n-----\\nThat is cool I love the steelers and seahawks.\",\n",
       " \"Hi! I work as a gourmet cook.\\n-----\\nI don't like carrots. I throw them away.\\n-----\\nReally. But, I can sing pitch perfect.\\n-----\\nI also cook, and I ride my bike to work.\\n-----\\nGreat! I had won an award for spelling bee.\\n-----\\nMy contacts can see through what you are trying to sell me.\\n-----\\nOkay but I was published in new yorker once.\\n-----\\nYou better not make any spelling mistakes.\\n-----\\nI have not. I can cook any word you want me to.\\n-----\\nWhat is your ethnicity? I'm white, and my hair is brown.\\n-----\\nI'm asian and have no hair.\\n-----\\nI love hairless Asians. Do you like carrots?\\n-----\\nI love carrots. I eat carrots like a horse.\\n-----\\nAre you male or female?\\n-----\\nI work as a gourmet cook who also has a pitch perfect voice.\\n-----\\nI take pride in my office supply collection, I've nice things.\",\n",
       " \"Hi! I work as a gourmet cook.\\n-----\\nI don't like carrots. I throw them away.\\n-----\\nReally. But, I can sing pitch perfect.\\n-----\\nI also cook, and I ride my bike to work.\\n-----\\nGreat! I had won an award for spelling bee.\\n-----\\nMy contacts can see through what you are trying to sell me.\\n-----\\nOkay but I was published in new yorker once.\\n-----\\nYou better not make any spelling mistakes.\\n-----\\nI have not. I can cook any word you want me to.\\n-----\\nWhat is your ethnicity? I'm white, and my hair is brown.\\n-----\\nI'm asian and have no hair.\\n-----\\nI love hairless Asians. Do you like carrots?\\n-----\\nI love carrots. I eat carrots like a horse.\\n-----\\nAre you male or female?\\n-----\\nI work as a gourmet cook who also has a pitch perfect voice.\\n-----\\nHello! I'm good. My father just came home from work at Ge.\",\n",
       " \"Hi! I work as a gourmet cook.\\n-----\\nI don't like carrots. I throw them away.\\n-----\\nReally. But, I can sing pitch perfect.\\n-----\\nI also cook, and I ride my bike to work.\\n-----\\nGreat! I had won an award for spelling bee.\\n-----\\nMy contacts can see through what you are trying to sell me.\\n-----\\nOkay but I was published in new yorker once.\\n-----\\nYou better not make any spelling mistakes.\\n-----\\nI have not. I can cook any word you want me to.\\n-----\\nWhat is your ethnicity? I'm white, and my hair is brown.\\n-----\\nI'm asian and have no hair.\\n-----\\nI love hairless Asians. Do you like carrots?\\n-----\\nI love carrots. I eat carrots like a horse.\\n-----\\nAre you male or female?\\n-----\\nI work as a gourmet cook who also has a pitch perfect voice.\\n-----\\nHey, never know he might get famous too! He's already pretty good.\",\n",
       " \"Hi! I work as a gourmet cook.\\n-----\\nI don't like carrots. I throw them away.\\n-----\\nReally. But, I can sing pitch perfect.\\n-----\\nI also cook, and I ride my bike to work.\\n-----\\nGreat! I had won an award for spelling bee.\\n-----\\nMy contacts can see through what you are trying to sell me.\\n-----\\nOkay but I was published in new yorker once.\\n-----\\nYou better not make any spelling mistakes.\\n-----\\nI have not. I can cook any word you want me to.\\n-----\\nWhat is your ethnicity? I'm white, and my hair is brown.\\n-----\\nI'm asian and have no hair.\\n-----\\nI love hairless Asians. Do you like carrots?\\n-----\\nI love carrots. I eat carrots like a horse.\\n-----\\nAre you male or female?\\n-----\\nI work as a gourmet cook who also has a pitch perfect voice.\\n-----\\nThat is so awesome! Yeah listening to music definitely helps out those long days right?\",\n",
       " \"Hi! I work as a gourmet cook.\\n-----\\nI don't like carrots. I throw them away.\\n-----\\nReally. But, I can sing pitch perfect.\\n-----\\nI also cook, and I ride my bike to work.\\n-----\\nGreat! I had won an award for spelling bee.\\n-----\\nMy contacts can see through what you are trying to sell me.\\n-----\\nOkay but I was published in new yorker once.\\n-----\\nYou better not make any spelling mistakes.\\n-----\\nI have not. I can cook any word you want me to.\\n-----\\nWhat is your ethnicity? I'm white, and my hair is brown.\\n-----\\nI'm asian and have no hair.\\n-----\\nI love hairless Asians. Do you like carrots?\\n-----\\nI love carrots. I eat carrots like a horse.\\n-----\\nAre you male or female?\\n-----\\nI work as a gourmet cook who also has a pitch perfect voice.\\n-----\\nI doubt that very much. You probably like to scream alone.\",\n",
       " 'How are you doing today.\\n-----\\nYes, I like the green Bay packers.',\n",
       " 'How are you doing today.\\n-----\\nIn California. I do not eat animal products so can you deal with that?',\n",
       " 'How are you doing today.\\n-----\\nRobots are the future! scary.',\n",
       " 'How are you doing today.\\n-----\\nI can dig that. Yeah. I live alone, I exercise too much and enjoy makeup.',\n",
       " 'How are you doing today.\\n-----\\nGo climb a mountain. Will make you tough as nails.',\n",
       " \"How are you doing today.\\n-----\\nYea I'm sure its not.\",\n",
       " 'How are you doing today.\\n-----\\nOh wow I guess I work to much to play games, over 60 hours a week.',\n",
       " \"How are you doing today.\\n-----\\nHey! I'm great, how are you?\",\n",
       " 'How are you doing today.\\n-----\\nFell up the stairs? How did you do that?',\n",
       " 'How are you doing today.\\n-----\\nThey are, horror ones, my favorite.',\n",
       " \"How are you doing today.\\n-----\\nI'm single as well. I'm trying to get better at piano to impress them.\",\n",
       " \"How are you doing today.\\n-----\\nI'm also preparing for a marathon also, wish me luck.\",\n",
       " 'How are you doing today.\\n-----\\nWhat? That sounds like a very innovative game. Do you work?',\n",
       " 'How are you doing today.\\n-----\\nDo you have a job?',\n",
       " 'How are you doing today.\\n-----\\nWhats your favorite? I love apples, especially the green ones!',\n",
       " 'How are you doing today.\\n-----\\nI get material for my short stories from the customers in the bookstore where I work.',\n",
       " 'How are you doing today.\\n-----\\nOh my! That is a big family.',\n",
       " 'How are you doing today.\\n-----\\nWow how do you get them.',\n",
       " 'How are you doing today.\\n-----\\nYou are going to hurt me. However, redheads have no soul!',\n",
       " 'How are you doing today.\\n-----\\nWhat do you do for career? I have a ton of hobbies if you are interested!',\n",
       " 'How are you doing today.\\n-----\\nWhat do you do for career? I have a ton of hobbies if you are interested!\\n-----\\nI like to watch kids.\\n-----\\nYes! I should try the desert. I want to taste a grasshopper. Where do you live?',\n",
       " 'How are you doing today.\\n-----\\nWhat do you do for career? I have a ton of hobbies if you are interested!\\n-----\\nI like to watch kids.\\n-----\\nA teaching job. I teach English.',\n",
       " 'How are you doing today.\\n-----\\nWhat do you do for career? I have a ton of hobbies if you are interested!\\n-----\\nI like to watch kids.\\n-----\\nI love rap music and strong men or women! I just want to feel love again.',\n",
       " 'How are you doing today.\\n-----\\nWhat do you do for career? I have a ton of hobbies if you are interested!\\n-----\\nI like to watch kids.\\n-----\\nSo sorry man. Being former military I lost a lot of people. It sucks.',\n",
       " 'How are you doing today.\\n-----\\nWhat do you do for career? I have a ton of hobbies if you are interested!\\n-----\\nI like to watch kids.\\n-----\\nI see. does that mean that you want an open relationship?',\n",
       " 'How are you doing today.\\n-----\\nWhat do you do for career? I have a ton of hobbies if you are interested!\\n-----\\nI like to watch kids.\\n-----\\nCool, sounds like a hard degree to get. I just like reading Stephen king.',\n",
       " 'How are you doing today.\\n-----\\nWhat do you do for career? I have a ton of hobbies if you are interested!\\n-----\\nI like to watch kids.\\n-----\\nMy favorite hobby is whittling, but I like listening to folk music too.',\n",
       " \"How are you doing today.\\n-----\\nWhat do you do for career? I have a ton of hobbies if you are interested!\\n-----\\nI like to watch kids.\\n-----\\nI start safety patrol tomorrow, and Abigail said it won't be fun.\",\n",
       " 'How are you doing today.\\n-----\\nWhat do you do for career? I have a ton of hobbies if you are interested!\\n-----\\nI like to watch kids.\\n-----\\nYeah, anything to do with computers.',\n",
       " 'How are you doing today.\\n-----\\nWhat do you do for career? I have a ton of hobbies if you are interested!\\n-----\\nI like to watch kids.\\n-----\\nClearly; this is inspiring a story. I love writing in the grass in my back yard.',\n",
       " \"How are you doing today.\\n-----\\nWhat do you do for career? I have a ton of hobbies if you are interested!\\n-----\\nI like to watch kids.\\n-----\\nThat sounds like fun. I've never been to Niagra falls.\",\n",
       " 'How are you doing today.\\n-----\\nWhat do you do for career? I have a ton of hobbies if you are interested!\\n-----\\nI like to watch kids.\\n-----\\nYeah my parents still complain cause its c and ds but I work hard.',\n",
       " 'How are you doing today.\\n-----\\nWhat do you do for career? I have a ton of hobbies if you are interested!\\n-----\\nI like to watch kids.\\n-----\\nSome say I look like a mad scientist version of him.',\n",
       " 'How are you doing today.\\n-----\\nWhat do you do for career? I have a ton of hobbies if you are interested!\\n-----\\nI like to watch kids.\\n-----\\nHaha yeah last time I was in Nyc everyone thought I played for the knicks.',\n",
       " \"How are you doing today.\\n-----\\nWhat do you do for career? I have a ton of hobbies if you are interested!\\n-----\\nI like to watch kids.\\n-----\\nHaha! I'm glad I stopped being a clown before that movie came out.\",\n",
       " \"How are you doing today.\\n-----\\nWhat do you do for career? I have a ton of hobbies if you are interested!\\n-----\\nI like to watch kids.\\n-----\\nNice! I've my own marketing consulting agency, albeit a small one.\",\n",
       " 'How are you doing today.\\n-----\\nWhat do you do for career? I have a ton of hobbies if you are interested!\\n-----\\nI like to watch kids.\\n-----\\nThanks that is life... millions of others are going through worse situations.',\n",
       " 'How are you doing today.\\n-----\\nWhat do you do for career? I have a ton of hobbies if you are interested!\\n-----\\nI like to watch kids.\\n-----\\nYes, I love Tv. specifically channel 7.',\n",
       " 'How are you doing today.\\n-----\\nWhat do you do for career? I have a ton of hobbies if you are interested!\\n-----\\nI like to watch kids.\\n-----\\nI like to keep my surroundings organized but they create too much chaos.',\n",
       " 'How are you doing today.\\n-----\\nWhat do you do for career? I have a ton of hobbies if you are interested!\\n-----\\nI like to watch kids.\\n-----\\nI actually play guitar and do a lot of manly things, like welding.',\n",
       " 'How are you doing today.\\n-----\\nWhat do you do for career? I have a ton of hobbies if you are interested!\\n-----\\nI like to watch kids.\\n-----\\nI actually play guitar and do a lot of manly things, like welding.\\n-----\\nWhat do you weld? Houses?\\n-----\\nWhat a bummer but ok cool.',\n",
       " 'How are you doing today.\\n-----\\nWhat do you do for career? I have a ton of hobbies if you are interested!\\n-----\\nI like to watch kids.\\n-----\\nI actually play guitar and do a lot of manly things, like welding.\\n-----\\nWhat do you weld? Houses?\\n-----\\nSometimes, I like to look at the patterns in thier coat.',\n",
       " 'How are you doing today.\\n-----\\nWhat do you do for career? I have a ton of hobbies if you are interested!\\n-----\\nI like to watch kids.\\n-----\\nI actually play guitar and do a lot of manly things, like welding.\\n-----\\nWhat do you weld? Houses?\\n-----\\nI love all animals, but especially dogs.',\n",
       " 'How are you doing today.\\n-----\\nWhat do you do for career? I have a ton of hobbies if you are interested!\\n-----\\nI like to watch kids.\\n-----\\nI actually play guitar and do a lot of manly things, like welding.\\n-----\\nWhat do you weld? Houses?\\n-----\\nI am really not sure if it will ever be possible.',\n",
       " \"How are you doing today.\\n-----\\nWhat do you do for career? I have a ton of hobbies if you are interested!\\n-----\\nI like to watch kids.\\n-----\\nI actually play guitar and do a lot of manly things, like welding.\\n-----\\nWhat do you weld? Houses?\\n-----\\nI've one. It likes to go to my class with me. I teach history.\",\n",
       " 'How are you doing today.\\n-----\\nWhat do you do for career? I have a ton of hobbies if you are interested!\\n-----\\nI like to watch kids.\\n-----\\nI actually play guitar and do a lot of manly things, like welding.\\n-----\\nWhat do you weld? Houses?\\n-----\\nThat is a super good idea.',\n",
       " 'How are you doing today.\\n-----\\nWhat do you do for career? I have a ton of hobbies if you are interested!\\n-----\\nI like to watch kids.\\n-----\\nI actually play guitar and do a lot of manly things, like welding.\\n-----\\nWhat do you weld? Houses?\\n-----\\nAwesome. I am studying software development.',\n",
       " 'How are you doing today.\\n-----\\nWhat do you do for career? I have a ton of hobbies if you are interested!\\n-----\\nI like to watch kids.\\n-----\\nI actually play guitar and do a lot of manly things, like welding.\\n-----\\nWhat do you weld? Houses?\\n-----\\nYeah I would have to agree.',\n",
       " 'How are you doing today.\\n-----\\nWhat do you do for career? I have a ton of hobbies if you are interested!\\n-----\\nI like to watch kids.\\n-----\\nI actually play guitar and do a lot of manly things, like welding.\\n-----\\nWhat do you weld? Houses?\\n-----\\nWhy is that? I do not understand.',\n",
       " 'How are you doing today.\\n-----\\nWhat do you do for career? I have a ton of hobbies if you are interested!\\n-----\\nI like to watch kids.\\n-----\\nI actually play guitar and do a lot of manly things, like welding.\\n-----\\nWhat do you weld? Houses?\\n-----\\nI am disabled I want to go back to school.',\n",
       " 'How are you doing today.\\n-----\\nWhat do you do for career? I have a ton of hobbies if you are interested!\\n-----\\nI like to watch kids.\\n-----\\nI actually play guitar and do a lot of manly things, like welding.\\n-----\\nWhat do you weld? Houses?\\n-----\\nWhat does that mean?',\n",
       " 'How are you doing today.\\n-----\\nWhat do you do for career? I have a ton of hobbies if you are interested!\\n-----\\nI like to watch kids.\\n-----\\nI actually play guitar and do a lot of manly things, like welding.\\n-----\\nWhat do you weld? Houses?\\n-----\\nNot a chef. Just like to cook. No twins. You?',\n",
       " 'How are you doing today.\\n-----\\nWhat do you do for career? I have a ton of hobbies if you are interested!\\n-----\\nI like to watch kids.\\n-----\\nI actually play guitar and do a lot of manly things, like welding.\\n-----\\nWhat do you weld? Houses?\\n-----\\nOh boy, do you work? Gotta pay off the cards somehow...',\n",
       " 'How are you doing today.\\n-----\\nWhat do you do for career? I have a ton of hobbies if you are interested!\\n-----\\nI like to watch kids.\\n-----\\nI actually play guitar and do a lot of manly things, like welding.\\n-----\\nWhat do you weld? Houses?\\n-----\\nDo you have a significant other?',\n",
       " 'How are you doing today.\\n-----\\nWhat do you do for career? I have a ton of hobbies if you are interested!\\n-----\\nI like to watch kids.\\n-----\\nI actually play guitar and do a lot of manly things, like welding.\\n-----\\nWhat do you weld? Houses?\\n-----\\nI live in new York, I paint houses!',\n",
       " 'How are you doing today.\\n-----\\nWhat do you do for career? I have a ton of hobbies if you are interested!\\n-----\\nI like to watch kids.\\n-----\\nI actually play guitar and do a lot of manly things, like welding.\\n-----\\nWhat do you weld? Houses?\\n-----\\nYeah silly, we listen to classical jazz though while dancing, I am a huge fan of it.',\n",
       " 'How are you doing today.\\n-----\\nWhat do you do for career? I have a ton of hobbies if you are interested!\\n-----\\nI like to watch kids.\\n-----\\nI actually play guitar and do a lot of manly things, like welding.\\n-----\\nWhat do you weld? Houses?\\n-----\\nHello and how are you today?',\n",
       " 'How are you doing today.\\n-----\\nWhat do you do for career? I have a ton of hobbies if you are interested!\\n-----\\nI like to watch kids.\\n-----\\nI actually play guitar and do a lot of manly things, like welding.\\n-----\\nWhat do you weld? Houses?\\n-----\\nMy brother is stationed in Kuwait and I help my sis in law with the kids.',\n",
       " 'How are you doing today.\\n-----\\nWhat do you do for career? I have a ton of hobbies if you are interested!\\n-----\\nI like to watch kids.\\n-----\\nI actually play guitar and do a lot of manly things, like welding.\\n-----\\nWhat do you weld? Houses?\\n-----\\nSeems like you had a rough day. Where are you from.',\n",
       " \"How are you doing today.\\n-----\\nWhat do you do for career? I have a ton of hobbies if you are interested!\\n-----\\nI like to watch kids.\\n-----\\nI actually play guitar and do a lot of manly things, like welding.\\n-----\\nWhat do you weld? Houses?\\n-----\\nEverything! I am actually manly. But I've a secret I am hiding.\",\n",
       " \"How are you doing today.\\n-----\\nWhat do you do for career? I have a ton of hobbies if you are interested!\\n-----\\nI like to watch kids.\\n-----\\nI actually play guitar and do a lot of manly things, like welding.\\n-----\\nWhat do you weld? Houses?\\n-----\\nEverything! I am actually manly. But I've a secret I am hiding.\\n-----\\nWhat is your secret that you have.\\n-----\\nMy kids love sesame street.\",\n",
       " \"How are you doing today.\\n-----\\nWhat do you do for career? I have a ton of hobbies if you are interested!\\n-----\\nI like to watch kids.\\n-----\\nI actually play guitar and do a lot of manly things, like welding.\\n-----\\nWhat do you weld? Houses?\\n-----\\nEverything! I am actually manly. But I've a secret I am hiding.\\n-----\\nWhat is your secret that you have.\\n-----\\nNature has a way! I enjoy getting out and going to the farmers market.\",\n",
       " \"How are you doing today.\\n-----\\nWhat do you do for career? I have a ton of hobbies if you are interested!\\n-----\\nI like to watch kids.\\n-----\\nI actually play guitar and do a lot of manly things, like welding.\\n-----\\nWhat do you weld? Houses?\\n-----\\nEverything! I am actually manly. But I've a secret I am hiding.\\n-----\\nWhat is your secret that you have.\\n-----\\nLol where are you from?\",\n",
       " \"How are you doing today.\\n-----\\nWhat do you do for career? I have a ton of hobbies if you are interested!\\n-----\\nI like to watch kids.\\n-----\\nI actually play guitar and do a lot of manly things, like welding.\\n-----\\nWhat do you weld? Houses?\\n-----\\nEverything! I am actually manly. But I've a secret I am hiding.\\n-----\\nWhat is your secret that you have.\\n-----\\nOne of Justin Bieber songs mentions the beach.\",\n",
       " \"How are you doing today.\\n-----\\nWhat do you do for career? I have a ton of hobbies if you are interested!\\n-----\\nI like to watch kids.\\n-----\\nI actually play guitar and do a lot of manly things, like welding.\\n-----\\nWhat do you weld? Houses?\\n-----\\nEverything! I am actually manly. But I've a secret I am hiding.\\n-----\\nWhat is your secret that you have.\\n-----\\nI used to do that, those people are the worst.\",\n",
       " \"How are you doing today.\\n-----\\nWhat do you do for career? I have a ton of hobbies if you are interested!\\n-----\\nI like to watch kids.\\n-----\\nI actually play guitar and do a lot of manly things, like welding.\\n-----\\nWhat do you weld? Houses?\\n-----\\nEverything! I am actually manly. But I've a secret I am hiding.\\n-----\\nWhat is your secret that you have.\\n-----\\nNo retired veteran and you.\",\n",
       " \"How are you doing today.\\n-----\\nWhat do you do for career? I have a ton of hobbies if you are interested!\\n-----\\nI like to watch kids.\\n-----\\nI actually play guitar and do a lot of manly things, like welding.\\n-----\\nWhat do you weld? Houses?\\n-----\\nEverything! I am actually manly. But I've a secret I am hiding.\\n-----\\nWhat is your secret that you have.\\n-----\\nMy 12 children too I can t leave them behind.\",\n",
       " \"How are you doing today.\\n-----\\nWhat do you do for career? I have a ton of hobbies if you are interested!\\n-----\\nI like to watch kids.\\n-----\\nI actually play guitar and do a lot of manly things, like welding.\\n-----\\nWhat do you weld? Houses?\\n-----\\nEverything! I am actually manly. But I've a secret I am hiding.\\n-----\\nWhat is your secret that you have.\\n-----\\nLoves green! Haha. Maybe we should get together and play poker one time.\",\n",
       " \"How are you doing today.\\n-----\\nWhat do you do for career? I have a ton of hobbies if you are interested!\\n-----\\nI like to watch kids.\\n-----\\nI actually play guitar and do a lot of manly things, like welding.\\n-----\\nWhat do you weld? Houses?\\n-----\\nEverything! I am actually manly. But I've a secret I am hiding.\\n-----\\nWhat is your secret that you have.\\n-----\\nHi there! How are you?\",\n",
       " \"How are you doing today.\\n-----\\nWhat do you do for career? I have a ton of hobbies if you are interested!\\n-----\\nI like to watch kids.\\n-----\\nI actually play guitar and do a lot of manly things, like welding.\\n-----\\nWhat do you weld? Houses?\\n-----\\nEverything! I am actually manly. But I've a secret I am hiding.\\n-----\\nWhat is your secret that you have.\\n-----\\nI work, as a dancer. I should try dancing to death metal some time!\",\n",
       " \"How are you doing today.\\n-----\\nWhat do you do for career? I have a ton of hobbies if you are interested!\\n-----\\nI like to watch kids.\\n-----\\nI actually play guitar and do a lot of manly things, like welding.\\n-----\\nWhat do you weld? Houses?\\n-----\\nEverything! I am actually manly. But I've a secret I am hiding.\\n-----\\nWhat is your secret that you have.\\n-----\\nArtistic kind! I spend my time watching british shows and movies. I love them.\",\n",
       " \"How are you doing today.\\n-----\\nWhat do you do for career? I have a ton of hobbies if you are interested!\\n-----\\nI like to watch kids.\\n-----\\nI actually play guitar and do a lot of manly things, like welding.\\n-----\\nWhat do you weld? Houses?\\n-----\\nEverything! I am actually manly. But I've a secret I am hiding.\\n-----\\nWhat is your secret that you have.\\n-----\\nYes and I'm about to become the queen of England soon.\",\n",
       " \"How are you doing today.\\n-----\\nWhat do you do for career? I have a ton of hobbies if you are interested!\\n-----\\nI like to watch kids.\\n-----\\nI actually play guitar and do a lot of manly things, like welding.\\n-----\\nWhat do you weld? Houses?\\n-----\\nEverything! I am actually manly. But I've a secret I am hiding.\\n-----\\nWhat is your secret that you have.\\n-----\\nDo you have anything else to tell me about yourself?\",\n",
       " \"How are you doing today.\\n-----\\nWhat do you do for career? I have a ton of hobbies if you are interested!\\n-----\\nI like to watch kids.\\n-----\\nI actually play guitar and do a lot of manly things, like welding.\\n-----\\nWhat do you weld? Houses?\\n-----\\nEverything! I am actually manly. But I've a secret I am hiding.\\n-----\\nWhat is your secret that you have.\\n-----\\nThank you for protecting us. I work at a university.\",\n",
       " \"How are you doing today.\\n-----\\nWhat do you do for career? I have a ton of hobbies if you are interested!\\n-----\\nI like to watch kids.\\n-----\\nI actually play guitar and do a lot of manly things, like welding.\\n-----\\nWhat do you weld? Houses?\\n-----\\nEverything! I am actually manly. But I've a secret I am hiding.\\n-----\\nWhat is your secret that you have.\\n-----\\nI'm doing fine, thank you. What do you do on your spare time?\",\n",
       " \"How are you doing today.\\n-----\\nWhat do you do for career? I have a ton of hobbies if you are interested!\\n-----\\nI like to watch kids.\\n-----\\nI actually play guitar and do a lot of manly things, like welding.\\n-----\\nWhat do you weld? Houses?\\n-----\\nEverything! I am actually manly. But I've a secret I am hiding.\\n-----\\nWhat is your secret that you have.\\n-----\\nYou could do it with that energy.\",\n",
       " \"How are you doing today.\\n-----\\nWhat do you do for career? I have a ton of hobbies if you are interested!\\n-----\\nI like to watch kids.\\n-----\\nI actually play guitar and do a lot of manly things, like welding.\\n-----\\nWhat do you weld? Houses?\\n-----\\nEverything! I am actually manly. But I've a secret I am hiding.\\n-----\\nWhat is your secret that you have.\\n-----\\nRead I meant. True and being stuck in this wheel chair doesn't help matters.\",\n",
       " \"How are you doing today.\\n-----\\nWhat do you do for career? I have a ton of hobbies if you are interested!\\n-----\\nI like to watch kids.\\n-----\\nI actually play guitar and do a lot of manly things, like welding.\\n-----\\nWhat do you weld? Houses?\\n-----\\nEverything! I am actually manly. But I've a secret I am hiding.\\n-----\\nWhat is your secret that you have.\\n-----\\nI've to poodles I love them.\",\n",
       " \"How are you doing today.\\n-----\\nWhat do you do for career? I have a ton of hobbies if you are interested!\\n-----\\nI like to watch kids.\\n-----\\nI actually play guitar and do a lot of manly things, like welding.\\n-----\\nWhat do you weld? Houses?\\n-----\\nEverything! I am actually manly. But I've a secret I am hiding.\\n-----\\nWhat is your secret that you have.\\n-----\\nNo, not really. What about you?\",\n",
       " \"How are you doing today.\\n-----\\nWhat do you do for career? I have a ton of hobbies if you are interested!\\n-----\\nI like to watch kids.\\n-----\\nI actually play guitar and do a lot of manly things, like welding.\\n-----\\nWhat do you weld? Houses?\\n-----\\nEverything! I am actually manly. But I've a secret I am hiding.\\n-----\\nWhat is your secret that you have.\\n-----\\nMy parents don't know that I'm... homosexual.\",\n",
       " \"How are you doing today.\\n-----\\nWhat do you do for career? I have a ton of hobbies if you are interested!\\n-----\\nI like to watch kids.\\n-----\\nI actually play guitar and do a lot of manly things, like welding.\\n-----\\nWhat do you weld? Houses?\\n-----\\nEverything! I am actually manly. But I've a secret I am hiding.\\n-----\\nWhat is your secret that you have.\\n-----\\nMy parents don't know that I'm... homosexual.\\n-----\\nHow does that feel for you.\\n-----\\nThat is great to hear! Maybe you can teach me about the different sushis.\",\n",
       " \"How are you doing today.\\n-----\\nWhat do you do for career? I have a ton of hobbies if you are interested!\\n-----\\nI like to watch kids.\\n-----\\nI actually play guitar and do a lot of manly things, like welding.\\n-----\\nWhat do you weld? Houses?\\n-----\\nEverything! I am actually manly. But I've a secret I am hiding.\\n-----\\nWhat is your secret that you have.\\n-----\\nMy parents don't know that I'm... homosexual.\\n-----\\nHow does that feel for you.\\n-----\\nI do. I love it in a weird brainwashed kind of way.\",\n",
       " \"How are you doing today.\\n-----\\nWhat do you do for career? I have a ton of hobbies if you are interested!\\n-----\\nI like to watch kids.\\n-----\\nI actually play guitar and do a lot of manly things, like welding.\\n-----\\nWhat do you weld? Houses?\\n-----\\nEverything! I am actually manly. But I've a secret I am hiding.\\n-----\\nWhat is your secret that you have.\\n-----\\nMy parents don't know that I'm... homosexual.\\n-----\\nHow does that feel for you.\\n-----\\nReally? Do you like to drink? I do.\",\n",
       " \"How are you doing today.\\n-----\\nWhat do you do for career? I have a ton of hobbies if you are interested!\\n-----\\nI like to watch kids.\\n-----\\nI actually play guitar and do a lot of manly things, like welding.\\n-----\\nWhat do you weld? Houses?\\n-----\\nEverything! I am actually manly. But I've a secret I am hiding.\\n-----\\nWhat is your secret that you have.\\n-----\\nMy parents don't know that I'm... homosexual.\\n-----\\nHow does that feel for you.\\n-----\\nHi how are you doing.\",\n",
       " \"How are you doing today.\\n-----\\nWhat do you do for career? I have a ton of hobbies if you are interested!\\n-----\\nI like to watch kids.\\n-----\\nI actually play guitar and do a lot of manly things, like welding.\\n-----\\nWhat do you weld? Houses?\\n-----\\nEverything! I am actually manly. But I've a secret I am hiding.\\n-----\\nWhat is your secret that you have.\\n-----\\nMy parents don't know that I'm... homosexual.\\n-----\\nHow does that feel for you.\\n-----\\nI like to eat a lot of beef like Americans but not all of the other stuff.\",\n",
       " \"How are you doing today.\\n-----\\nWhat do you do for career? I have a ton of hobbies if you are interested!\\n-----\\nI like to watch kids.\\n-----\\nI actually play guitar and do a lot of manly things, like welding.\\n-----\\nWhat do you weld? Houses?\\n-----\\nEverything! I am actually manly. But I've a secret I am hiding.\\n-----\\nWhat is your secret that you have.\\n-----\\nMy parents don't know that I'm... homosexual.\\n-----\\nHow does that feel for you.\\n-----\\nThat is a great idea! I really want to be a vegetarian for my health.\",\n",
       " \"How are you doing today.\\n-----\\nWhat do you do for career? I have a ton of hobbies if you are interested!\\n-----\\nI like to watch kids.\\n-----\\nI actually play guitar and do a lot of manly things, like welding.\\n-----\\nWhat do you weld? Houses?\\n-----\\nEverything! I am actually manly. But I've a secret I am hiding.\\n-----\\nWhat is your secret that you have.\\n-----\\nMy parents don't know that I'm... homosexual.\\n-----\\nHow does that feel for you.\\n-----\\nAhh kisses to you as I leave a red lip print on your face!\",\n",
       " \"How are you doing today.\\n-----\\nWhat do you do for career? I have a ton of hobbies if you are interested!\\n-----\\nI like to watch kids.\\n-----\\nI actually play guitar and do a lot of manly things, like welding.\\n-----\\nWhat do you weld? Houses?\\n-----\\nEverything! I am actually manly. But I've a secret I am hiding.\\n-----\\nWhat is your secret that you have.\\n-----\\nMy parents don't know that I'm... homosexual.\\n-----\\nHow does that feel for you.\\n-----\\nI like driving around in my Ford mustang... I like making new friends.\",\n",
       " \"How are you doing today.\\n-----\\nWhat do you do for career? I have a ton of hobbies if you are interested!\\n-----\\nI like to watch kids.\\n-----\\nI actually play guitar and do a lot of manly things, like welding.\\n-----\\nWhat do you weld? Houses?\\n-----\\nEverything! I am actually manly. But I've a secret I am hiding.\\n-----\\nWhat is your secret that you have.\\n-----\\nMy parents don't know that I'm... homosexual.\\n-----\\nHow does that feel for you.\\n-----\\nI enjoy walking instead of running.\",\n",
       " \"How are you doing today.\\n-----\\nWhat do you do for career? I have a ton of hobbies if you are interested!\\n-----\\nI like to watch kids.\\n-----\\nI actually play guitar and do a lot of manly things, like welding.\\n-----\\nWhat do you weld? Houses?\\n-----\\nEverything! I am actually manly. But I've a secret I am hiding.\\n-----\\nWhat is your secret that you have.\\n-----\\nMy parents don't know that I'm... homosexual.\\n-----\\nHow does that feel for you.\\n-----\\nI'll bring them when we go water skiing.,.\",\n",
       " \"How are you doing today.\\n-----\\nWhat do you do for career? I have a ton of hobbies if you are interested!\\n-----\\nI like to watch kids.\\n-----\\nI actually play guitar and do a lot of manly things, like welding.\\n-----\\nWhat do you weld? Houses?\\n-----\\nEverything! I am actually manly. But I've a secret I am hiding.\\n-----\\nWhat is your secret that you have.\\n-----\\nMy parents don't know that I'm... homosexual.\\n-----\\nHow does that feel for you.\\n-----\\nI love watching movies in my spare time.\",\n",
       " \"How are you doing today.\\n-----\\nWhat do you do for career? I have a ton of hobbies if you are interested!\\n-----\\nI like to watch kids.\\n-----\\nI actually play guitar and do a lot of manly things, like welding.\\n-----\\nWhat do you weld? Houses?\\n-----\\nEverything! I am actually manly. But I've a secret I am hiding.\\n-----\\nWhat is your secret that you have.\\n-----\\nMy parents don't know that I'm... homosexual.\\n-----\\nHow does that feel for you.\\n-----\\nI'm a grown man. Out of school.\",\n",
       " \"How are you doing today.\\n-----\\nWhat do you do for career? I have a ton of hobbies if you are interested!\\n-----\\nI like to watch kids.\\n-----\\nI actually play guitar and do a lot of manly things, like welding.\\n-----\\nWhat do you weld? Houses?\\n-----\\nEverything! I am actually manly. But I've a secret I am hiding.\\n-----\\nWhat is your secret that you have.\\n-----\\nMy parents don't know that I'm... homosexual.\\n-----\\nHow does that feel for you.\\n-----\\nI draw a lot of the time.\",\n",
       " \"How are you doing today.\\n-----\\nWhat do you do for career? I have a ton of hobbies if you are interested!\\n-----\\nI like to watch kids.\\n-----\\nI actually play guitar and do a lot of manly things, like welding.\\n-----\\nWhat do you weld? Houses?\\n-----\\nEverything! I am actually manly. But I've a secret I am hiding.\\n-----\\nWhat is your secret that you have.\\n-----\\nMy parents don't know that I'm... homosexual.\\n-----\\nHow does that feel for you.\\n-----\\nI'm sure it does I learned italian years ago and I still practice.\",\n",
       " \"How are you doing today.\\n-----\\nWhat do you do for career? I have a ton of hobbies if you are interested!\\n-----\\nI like to watch kids.\\n-----\\nI actually play guitar and do a lot of manly things, like welding.\\n-----\\nWhat do you weld? Houses?\\n-----\\nEverything! I am actually manly. But I've a secret I am hiding.\\n-----\\nWhat is your secret that you have.\\n-----\\nMy parents don't know that I'm... homosexual.\\n-----\\nHow does that feel for you.\\n-----\\nYea. that awesome. I try to help with my sense of humor. Lift them up.\",\n",
       " \"How are you doing today.\\n-----\\nWhat do you do for career? I have a ton of hobbies if you are interested!\\n-----\\nI like to watch kids.\\n-----\\nI actually play guitar and do a lot of manly things, like welding.\\n-----\\nWhat do you weld? Houses?\\n-----\\nEverything! I am actually manly. But I've a secret I am hiding.\\n-----\\nWhat is your secret that you have.\\n-----\\nMy parents don't know that I'm... homosexual.\\n-----\\nHow does that feel for you.\\n-----\\nWhy is that?\",\n",
       " \"How are you doing today.\\n-----\\nWhat do you do for career? I have a ton of hobbies if you are interested!\\n-----\\nI like to watch kids.\\n-----\\nI actually play guitar and do a lot of manly things, like welding.\\n-----\\nWhat do you weld? Houses?\\n-----\\nEverything! I am actually manly. But I've a secret I am hiding.\\n-----\\nWhat is your secret that you have.\\n-----\\nMy parents don't know that I'm... homosexual.\\n-----\\nHow does that feel for you.\\n-----\\nNice. Do you have any piercings? My eyebrow is.\",\n",
       " \"How are you doing today.\\n-----\\nWhat do you do for career? I have a ton of hobbies if you are interested!\\n-----\\nI like to watch kids.\\n-----\\nI actually play guitar and do a lot of manly things, like welding.\\n-----\\nWhat do you weld? Houses?\\n-----\\nEverything! I am actually manly. But I've a secret I am hiding.\\n-----\\nWhat is your secret that you have.\\n-----\\nMy parents don't know that I'm... homosexual.\\n-----\\nHow does that feel for you.\\n-----\\nI shop there every chance I get.\",\n",
       " \"How are you doing today.\\n-----\\nWhat do you do for career? I have a ton of hobbies if you are interested!\\n-----\\nI like to watch kids.\\n-----\\nI actually play guitar and do a lot of manly things, like welding.\\n-----\\nWhat do you weld? Houses?\\n-----\\nEverything! I am actually manly. But I've a secret I am hiding.\\n-----\\nWhat is your secret that you have.\\n-----\\nMy parents don't know that I'm... homosexual.\\n-----\\nHow does that feel for you.\\n-----\\nWhat time do you get off? I totally can relate.\",\n",
       " \"How are you doing today.\\n-----\\nWhat do you do for career? I have a ton of hobbies if you are interested!\\n-----\\nI like to watch kids.\\n-----\\nI actually play guitar and do a lot of manly things, like welding.\\n-----\\nWhat do you weld? Houses?\\n-----\\nEverything! I am actually manly. But I've a secret I am hiding.\\n-----\\nWhat is your secret that you have.\\n-----\\nMy parents don't know that I'm... homosexual.\\n-----\\nHow does that feel for you.\\n-----\\nMakes me secure with my manly hobby skills.\",\n",
       " \"How are you doing today.\\n-----\\nWhat do you do for career? I have a ton of hobbies if you are interested!\\n-----\\nI like to watch kids.\\n-----\\nI actually play guitar and do a lot of manly things, like welding.\\n-----\\nWhat do you weld? Houses?\\n-----\\nEverything! I am actually manly. But I've a secret I am hiding.\\n-----\\nWhat is your secret that you have.\\n-----\\nMy parents don't know that I'm... homosexual.\\n-----\\nHow does that feel for you.\\n-----\\nMakes me secure with my manly hobby skills.\\n-----\\nI bet that it does.\\n-----\\nDo ice cubes satisfy your hunger?\",\n",
       " \"How are you doing today.\\n-----\\nWhat do you do for career? I have a ton of hobbies if you are interested!\\n-----\\nI like to watch kids.\\n-----\\nI actually play guitar and do a lot of manly things, like welding.\\n-----\\nWhat do you weld? Houses?\\n-----\\nEverything! I am actually manly. But I've a secret I am hiding.\\n-----\\nWhat is your secret that you have.\\n-----\\nMy parents don't know that I'm... homosexual.\\n-----\\nHow does that feel for you.\\n-----\\nMakes me secure with my manly hobby skills.\\n-----\\nI bet that it does.\\n-----\\nIt is a clothing design brand. Do you have any family?\",\n",
       " \"How are you doing today.\\n-----\\nWhat do you do for career? I have a ton of hobbies if you are interested!\\n-----\\nI like to watch kids.\\n-----\\nI actually play guitar and do a lot of manly things, like welding.\\n-----\\nWhat do you weld? Houses?\\n-----\\nEverything! I am actually manly. But I've a secret I am hiding.\\n-----\\nWhat is your secret that you have.\\n-----\\nMy parents don't know that I'm... homosexual.\\n-----\\nHow does that feel for you.\\n-----\\nMakes me secure with my manly hobby skills.\\n-----\\nI bet that it does.\\n-----\\nI love facebook and instagram. Do you have a lot of followers?\",\n",
       " \"How are you doing today.\\n-----\\nWhat do you do for career? I have a ton of hobbies if you are interested!\\n-----\\nI like to watch kids.\\n-----\\nI actually play guitar and do a lot of manly things, like welding.\\n-----\\nWhat do you weld? Houses?\\n-----\\nEverything! I am actually manly. But I've a secret I am hiding.\\n-----\\nWhat is your secret that you have.\\n-----\\nMy parents don't know that I'm... homosexual.\\n-----\\nHow does that feel for you.\\n-----\\nMakes me secure with my manly hobby skills.\\n-----\\nI bet that it does.\\n-----\\nVenice beach, California. Its lovely here.\",\n",
       " \"How are you doing today.\\n-----\\nWhat do you do for career? I have a ton of hobbies if you are interested!\\n-----\\nI like to watch kids.\\n-----\\nI actually play guitar and do a lot of manly things, like welding.\\n-----\\nWhat do you weld? Houses?\\n-----\\nEverything! I am actually manly. But I've a secret I am hiding.\\n-----\\nWhat is your secret that you have.\\n-----\\nMy parents don't know that I'm... homosexual.\\n-----\\nHow does that feel for you.\\n-----\\nMakes me secure with my manly hobby skills.\\n-----\\nI bet that it does.\\n-----\\nNurse, in the emergency section busy.\",\n",
       " \"How are you doing today.\\n-----\\nWhat do you do for career? I have a ton of hobbies if you are interested!\\n-----\\nI like to watch kids.\\n-----\\nI actually play guitar and do a lot of manly things, like welding.\\n-----\\nWhat do you weld? Houses?\\n-----\\nEverything! I am actually manly. But I've a secret I am hiding.\\n-----\\nWhat is your secret that you have.\\n-----\\nMy parents don't know that I'm... homosexual.\\n-----\\nHow does that feel for you.\\n-----\\nMakes me secure with my manly hobby skills.\\n-----\\nI bet that it does.\\n-----\\nMy small garden packs a mean punch!\",\n",
       " \"How are you doing today.\\n-----\\nWhat do you do for career? I have a ton of hobbies if you are interested!\\n-----\\nI like to watch kids.\\n-----\\nI actually play guitar and do a lot of manly things, like welding.\\n-----\\nWhat do you weld? Houses?\\n-----\\nEverything! I am actually manly. But I've a secret I am hiding.\\n-----\\nWhat is your secret that you have.\\n-----\\nMy parents don't know that I'm... homosexual.\\n-----\\nHow does that feel for you.\\n-----\\nMakes me secure with my manly hobby skills.\\n-----\\nI bet that it does.\\n-----\\nWell that's good. Ouch, my stomach hurts.\",\n",
       " \"How are you doing today.\\n-----\\nWhat do you do for career? I have a ton of hobbies if you are interested!\\n-----\\nI like to watch kids.\\n-----\\nI actually play guitar and do a lot of manly things, like welding.\\n-----\\nWhat do you weld? Houses?\\n-----\\nEverything! I am actually manly. But I've a secret I am hiding.\\n-----\\nWhat is your secret that you have.\\n-----\\nMy parents don't know that I'm... homosexual.\\n-----\\nHow does that feel for you.\\n-----\\nMakes me secure with my manly hobby skills.\\n-----\\nI bet that it does.\\n-----\\nOh ok! Do you enjoy your job? Being by the water?\",\n",
       " \"How are you doing today.\\n-----\\nWhat do you do for career? I have a ton of hobbies if you are interested!\\n-----\\nI like to watch kids.\\n-----\\nI actually play guitar and do a lot of manly things, like welding.\\n-----\\nWhat do you weld? Houses?\\n-----\\nEverything! I am actually manly. But I've a secret I am hiding.\\n-----\\nWhat is your secret that you have.\\n-----\\nMy parents don't know that I'm... homosexual.\\n-----\\nHow does that feel for you.\\n-----\\nMakes me secure with my manly hobby skills.\\n-----\\nI bet that it does.\\n-----\\nPeople do that? Seems really mean.\",\n",
       " \"How are you doing today.\\n-----\\nWhat do you do for career? I have a ton of hobbies if you are interested!\\n-----\\nI like to watch kids.\\n-----\\nI actually play guitar and do a lot of manly things, like welding.\\n-----\\nWhat do you weld? Houses?\\n-----\\nEverything! I am actually manly. But I've a secret I am hiding.\\n-----\\nWhat is your secret that you have.\\n-----\\nMy parents don't know that I'm... homosexual.\\n-----\\nHow does that feel for you.\\n-----\\nMakes me secure with my manly hobby skills.\\n-----\\nI bet that it does.\\n-----\\nI'm good thanks for asking.\",\n",
       " \"How are you doing today.\\n-----\\nWhat do you do for career? I have a ton of hobbies if you are interested!\\n-----\\nI like to watch kids.\\n-----\\nI actually play guitar and do a lot of manly things, like welding.\\n-----\\nWhat do you weld? Houses?\\n-----\\nEverything! I am actually manly. But I've a secret I am hiding.\\n-----\\nWhat is your secret that you have.\\n-----\\nMy parents don't know that I'm... homosexual.\\n-----\\nHow does that feel for you.\\n-----\\nMakes me secure with my manly hobby skills.\\n-----\\nI bet that it does.\\n-----\\nThose are great. Mine is pistachio.\",\n",
       " \"How are you doing today.\\n-----\\nWhat do you do for career? I have a ton of hobbies if you are interested!\\n-----\\nI like to watch kids.\\n-----\\nI actually play guitar and do a lot of manly things, like welding.\\n-----\\nWhat do you weld? Houses?\\n-----\\nEverything! I am actually manly. But I've a secret I am hiding.\\n-----\\nWhat is your secret that you have.\\n-----\\nMy parents don't know that I'm... homosexual.\\n-----\\nHow does that feel for you.\\n-----\\nMakes me secure with my manly hobby skills.\\n-----\\nI bet that it does.\\n-----\\nDo you ever hike by the lake?\",\n",
       " \"How are you doing today.\\n-----\\nWhat do you do for career? I have a ton of hobbies if you are interested!\\n-----\\nI like to watch kids.\\n-----\\nI actually play guitar and do a lot of manly things, like welding.\\n-----\\nWhat do you weld? Houses?\\n-----\\nEverything! I am actually manly. But I've a secret I am hiding.\\n-----\\nWhat is your secret that you have.\\n-----\\nMy parents don't know that I'm... homosexual.\\n-----\\nHow does that feel for you.\\n-----\\nMakes me secure with my manly hobby skills.\\n-----\\nI bet that it does.\\n-----\\nOh okay. Where are you from?\",\n",
       " \"How are you doing today.\\n-----\\nWhat do you do for career? I have a ton of hobbies if you are interested!\\n-----\\nI like to watch kids.\\n-----\\nI actually play guitar and do a lot of manly things, like welding.\\n-----\\nWhat do you weld? Houses?\\n-----\\nEverything! I am actually manly. But I've a secret I am hiding.\\n-----\\nWhat is your secret that you have.\\n-----\\nMy parents don't know that I'm... homosexual.\\n-----\\nHow does that feel for you.\\n-----\\nMakes me secure with my manly hobby skills.\\n-----\\nI bet that it does.\\n-----\\nI enjoy crochet and alternative rock music.\",\n",
       " \"How are you doing today.\\n-----\\nWhat do you do for career? I have a ton of hobbies if you are interested!\\n-----\\nI like to watch kids.\\n-----\\nI actually play guitar and do a lot of manly things, like welding.\\n-----\\nWhat do you weld? Houses?\\n-----\\nEverything! I am actually manly. But I've a secret I am hiding.\\n-----\\nWhat is your secret that you have.\\n-----\\nMy parents don't know that I'm... homosexual.\\n-----\\nHow does that feel for you.\\n-----\\nMakes me secure with my manly hobby skills.\\n-----\\nI bet that it does.\\n-----\\nThat's a shame. But you have a positive attitude!\",\n",
       " \"How are you doing today.\\n-----\\nWhat do you do for career? I have a ton of hobbies if you are interested!\\n-----\\nI like to watch kids.\\n-----\\nI actually play guitar and do a lot of manly things, like welding.\\n-----\\nWhat do you weld? Houses?\\n-----\\nEverything! I am actually manly. But I've a secret I am hiding.\\n-----\\nWhat is your secret that you have.\\n-----\\nMy parents don't know that I'm... homosexual.\\n-----\\nHow does that feel for you.\\n-----\\nMakes me secure with my manly hobby skills.\\n-----\\nI bet that it does.\\n-----\\nHello how are you this evening?\",\n",
       " \"How are you doing today.\\n-----\\nWhat do you do for career? I have a ton of hobbies if you are interested!\\n-----\\nI like to watch kids.\\n-----\\nI actually play guitar and do a lot of manly things, like welding.\\n-----\\nWhat do you weld? Houses?\\n-----\\nEverything! I am actually manly. But I've a secret I am hiding.\\n-----\\nWhat is your secret that you have.\\n-----\\nMy parents don't know that I'm... homosexual.\\n-----\\nHow does that feel for you.\\n-----\\nMakes me secure with my manly hobby skills.\\n-----\\nI bet that it does.\\n-----\\nMy partner in my law frim speaks french very well.\",\n",
       " \"How are you doing today.\\n-----\\nWhat do you do for career? I have a ton of hobbies if you are interested!\\n-----\\nI like to watch kids.\\n-----\\nI actually play guitar and do a lot of manly things, like welding.\\n-----\\nWhat do you weld? Houses?\\n-----\\nEverything! I am actually manly. But I've a secret I am hiding.\\n-----\\nWhat is your secret that you have.\\n-----\\nMy parents don't know that I'm... homosexual.\\n-----\\nHow does that feel for you.\\n-----\\nMakes me secure with my manly hobby skills.\\n-----\\nI bet that it does.\\n-----\\nWhat is it that you do?\",\n",
       " \"How are you doing today.\\n-----\\nWhat do you do for career? I have a ton of hobbies if you are interested!\\n-----\\nI like to watch kids.\\n-----\\nI actually play guitar and do a lot of manly things, like welding.\\n-----\\nWhat do you weld? Houses?\\n-----\\nEverything! I am actually manly. But I've a secret I am hiding.\\n-----\\nWhat is your secret that you have.\\n-----\\nMy parents don't know that I'm... homosexual.\\n-----\\nHow does that feel for you.\\n-----\\nMakes me secure with my manly hobby skills.\\n-----\\nI bet that it does.\\n-----\\nEveryone seems to like the food I cook. I don't have much experience with fish, though.\",\n",
       " \"How are you doing today.\\n-----\\nWhat do you do for career? I have a ton of hobbies if you are interested!\\n-----\\nI like to watch kids.\\n-----\\nI actually play guitar and do a lot of manly things, like welding.\\n-----\\nWhat do you weld? Houses?\\n-----\\nEverything! I am actually manly. But I've a secret I am hiding.\\n-----\\nWhat is your secret that you have.\\n-----\\nMy parents don't know that I'm... homosexual.\\n-----\\nHow does that feel for you.\\n-----\\nMakes me secure with my manly hobby skills.\\n-----\\nI bet that it does.\\n-----\\nAnyway. What do you do?\",\n",
       " \"How are you doing today.\\n-----\\nWhat do you do for career? I have a ton of hobbies if you are interested!\\n-----\\nI like to watch kids.\\n-----\\nI actually play guitar and do a lot of manly things, like welding.\\n-----\\nWhat do you weld? Houses?\\n-----\\nEverything! I am actually manly. But I've a secret I am hiding.\\n-----\\nWhat is your secret that you have.\\n-----\\nMy parents don't know that I'm... homosexual.\\n-----\\nHow does that feel for you.\\n-----\\nMakes me secure with my manly hobby skills.\\n-----\\nI bet that it does.\\n-----\\nAnyway. What do you do?\\n-----\\nI watch kids for a living.\\n-----\\nNot much where do you work?\",\n",
       " \"How are you doing today.\\n-----\\nWhat do you do for career? I have a ton of hobbies if you are interested!\\n-----\\nI like to watch kids.\\n-----\\nI actually play guitar and do a lot of manly things, like welding.\\n-----\\nWhat do you weld? Houses?\\n-----\\nEverything! I am actually manly. But I've a secret I am hiding.\\n-----\\nWhat is your secret that you have.\\n-----\\nMy parents don't know that I'm... homosexual.\\n-----\\nHow does that feel for you.\\n-----\\nMakes me secure with my manly hobby skills.\\n-----\\nI bet that it does.\\n-----\\nAnyway. What do you do?\\n-----\\nI watch kids for a living.\\n-----\\nHello! do you have any hobbies?\",\n",
       " \"How are you doing today.\\n-----\\nWhat do you do for career? I have a ton of hobbies if you are interested!\\n-----\\nI like to watch kids.\\n-----\\nI actually play guitar and do a lot of manly things, like welding.\\n-----\\nWhat do you weld? Houses?\\n-----\\nEverything! I am actually manly. But I've a secret I am hiding.\\n-----\\nWhat is your secret that you have.\\n-----\\nMy parents don't know that I'm... homosexual.\\n-----\\nHow does that feel for you.\\n-----\\nMakes me secure with my manly hobby skills.\\n-----\\nI bet that it does.\\n-----\\nAnyway. What do you do?\\n-----\\nI watch kids for a living.\\n-----\\nI get that sometimes due to my pink hair.\",\n",
       " \"How are you doing today.\\n-----\\nWhat do you do for career? I have a ton of hobbies if you are interested!\\n-----\\nI like to watch kids.\\n-----\\nI actually play guitar and do a lot of manly things, like welding.\\n-----\\nWhat do you weld? Houses?\\n-----\\nEverything! I am actually manly. But I've a secret I am hiding.\\n-----\\nWhat is your secret that you have.\\n-----\\nMy parents don't know that I'm... homosexual.\\n-----\\nHow does that feel for you.\\n-----\\nMakes me secure with my manly hobby skills.\\n-----\\nI bet that it does.\\n-----\\nAnyway. What do you do?\\n-----\\nI watch kids for a living.\\n-----\\nSounds good be good camping there.\",\n",
       " \"How are you doing today.\\n-----\\nWhat do you do for career? I have a ton of hobbies if you are interested!\\n-----\\nI like to watch kids.\\n-----\\nI actually play guitar and do a lot of manly things, like welding.\\n-----\\nWhat do you weld? Houses?\\n-----\\nEverything! I am actually manly. But I've a secret I am hiding.\\n-----\\nWhat is your secret that you have.\\n-----\\nMy parents don't know that I'm... homosexual.\\n-----\\nHow does that feel for you.\\n-----\\nMakes me secure with my manly hobby skills.\\n-----\\nI bet that it does.\\n-----\\nAnyway. What do you do?\\n-----\\nI watch kids for a living.\\n-----\\nSeems awesome. My mom helped develop an Apple phone.\",\n",
       " \"How are you doing today.\\n-----\\nWhat do you do for career? I have a ton of hobbies if you are interested!\\n-----\\nI like to watch kids.\\n-----\\nI actually play guitar and do a lot of manly things, like welding.\\n-----\\nWhat do you weld? Houses?\\n-----\\nEverything! I am actually manly. But I've a secret I am hiding.\\n-----\\nWhat is your secret that you have.\\n-----\\nMy parents don't know that I'm... homosexual.\\n-----\\nHow does that feel for you.\\n-----\\nMakes me secure with my manly hobby skills.\\n-----\\nI bet that it does.\\n-----\\nAnyway. What do you do?\\n-----\\nI watch kids for a living.\\n-----\\nMy favorite thing to bake is lasagna an bread sticks, all home made.\",\n",
       " \"How are you doing today.\\n-----\\nWhat do you do for career? I have a ton of hobbies if you are interested!\\n-----\\nI like to watch kids.\\n-----\\nI actually play guitar and do a lot of manly things, like welding.\\n-----\\nWhat do you weld? Houses?\\n-----\\nEverything! I am actually manly. But I've a secret I am hiding.\\n-----\\nWhat is your secret that you have.\\n-----\\nMy parents don't know that I'm... homosexual.\\n-----\\nHow does that feel for you.\\n-----\\nMakes me secure with my manly hobby skills.\\n-----\\nI bet that it does.\\n-----\\nAnyway. What do you do?\\n-----\\nI watch kids for a living.\\n-----\\nI'm doing well.\",\n",
       " \"How are you doing today.\\n-----\\nWhat do you do for career? I have a ton of hobbies if you are interested!\\n-----\\nI like to watch kids.\\n-----\\nI actually play guitar and do a lot of manly things, like welding.\\n-----\\nWhat do you weld? Houses?\\n-----\\nEverything! I am actually manly. But I've a secret I am hiding.\\n-----\\nWhat is your secret that you have.\\n-----\\nMy parents don't know that I'm... homosexual.\\n-----\\nHow does that feel for you.\\n-----\\nMakes me secure with my manly hobby skills.\\n-----\\nI bet that it does.\\n-----\\nAnyway. What do you do?\\n-----\\nI watch kids for a living.\\n-----\\nNyc has a lot of people too.\",\n",
       " \"How are you doing today.\\n-----\\nWhat do you do for career? I have a ton of hobbies if you are interested!\\n-----\\nI like to watch kids.\\n-----\\nI actually play guitar and do a lot of manly things, like welding.\\n-----\\nWhat do you weld? Houses?\\n-----\\nEverything! I am actually manly. But I've a secret I am hiding.\\n-----\\nWhat is your secret that you have.\\n-----\\nMy parents don't know that I'm... homosexual.\\n-----\\nHow does that feel for you.\\n-----\\nMakes me secure with my manly hobby skills.\\n-----\\nI bet that it does.\\n-----\\nAnyway. What do you do?\\n-----\\nI watch kids for a living.\\n-----\\nI don't like people. Animals and aliens.\",\n",
       " \"How are you doing today.\\n-----\\nWhat do you do for career? I have a ton of hobbies if you are interested!\\n-----\\nI like to watch kids.\\n-----\\nI actually play guitar and do a lot of manly things, like welding.\\n-----\\nWhat do you weld? Houses?\\n-----\\nEverything! I am actually manly. But I've a secret I am hiding.\\n-----\\nWhat is your secret that you have.\\n-----\\nMy parents don't know that I'm... homosexual.\\n-----\\nHow does that feel for you.\\n-----\\nMakes me secure with my manly hobby skills.\\n-----\\nI bet that it does.\\n-----\\nAnyway. What do you do?\\n-----\\nI watch kids for a living.\\n-----\\nWhat about gummy bears?\",\n",
       " \"How are you doing today.\\n-----\\nWhat do you do for career? I have a ton of hobbies if you are interested!\\n-----\\nI like to watch kids.\\n-----\\nI actually play guitar and do a lot of manly things, like welding.\\n-----\\nWhat do you weld? Houses?\\n-----\\nEverything! I am actually manly. But I've a secret I am hiding.\\n-----\\nWhat is your secret that you have.\\n-----\\nMy parents don't know that I'm... homosexual.\\n-----\\nHow does that feel for you.\\n-----\\nMakes me secure with my manly hobby skills.\\n-----\\nI bet that it does.\\n-----\\nAnyway. What do you do?\\n-----\\nI watch kids for a living.\\n-----\\nOh, environmental engineer by any chance, like me.\",\n",
       " \"How are you doing today.\\n-----\\nWhat do you do for career? I have a ton of hobbies if you are interested!\\n-----\\nI like to watch kids.\\n-----\\nI actually play guitar and do a lot of manly things, like welding.\\n-----\\nWhat do you weld? Houses?\\n-----\\nEverything! I am actually manly. But I've a secret I am hiding.\\n-----\\nWhat is your secret that you have.\\n-----\\nMy parents don't know that I'm... homosexual.\\n-----\\nHow does that feel for you.\\n-----\\nMakes me secure with my manly hobby skills.\\n-----\\nI bet that it does.\\n-----\\nAnyway. What do you do?\\n-----\\nI watch kids for a living.\\n-----\\nI called my cat charlie, he's my friend too.\",\n",
       " \"How are you doing today.\\n-----\\nWhat do you do for career? I have a ton of hobbies if you are interested!\\n-----\\nI like to watch kids.\\n-----\\nI actually play guitar and do a lot of manly things, like welding.\\n-----\\nWhat do you weld? Houses?\\n-----\\nEverything! I am actually manly. But I've a secret I am hiding.\\n-----\\nWhat is your secret that you have.\\n-----\\nMy parents don't know that I'm... homosexual.\\n-----\\nHow does that feel for you.\\n-----\\nMakes me secure with my manly hobby skills.\\n-----\\nI bet that it does.\\n-----\\nAnyway. What do you do?\\n-----\\nI watch kids for a living.\\n-----\\nYes we have been to several of them.\",\n",
       " \"How are you doing today.\\n-----\\nWhat do you do for career? I have a ton of hobbies if you are interested!\\n-----\\nI like to watch kids.\\n-----\\nI actually play guitar and do a lot of manly things, like welding.\\n-----\\nWhat do you weld? Houses?\\n-----\\nEverything! I am actually manly. But I've a secret I am hiding.\\n-----\\nWhat is your secret that you have.\\n-----\\nMy parents don't know that I'm... homosexual.\\n-----\\nHow does that feel for you.\\n-----\\nMakes me secure with my manly hobby skills.\\n-----\\nI bet that it does.\\n-----\\nAnyway. What do you do?\\n-----\\nI watch kids for a living.\\n-----\\nI like romantic comedies or action movies.\",\n",
       " \"How are you doing today.\\n-----\\nWhat do you do for career? I have a ton of hobbies if you are interested!\\n-----\\nI like to watch kids.\\n-----\\nI actually play guitar and do a lot of manly things, like welding.\\n-----\\nWhat do you weld? Houses?\\n-----\\nEverything! I am actually manly. But I've a secret I am hiding.\\n-----\\nWhat is your secret that you have.\\n-----\\nMy parents don't know that I'm... homosexual.\\n-----\\nHow does that feel for you.\\n-----\\nMakes me secure with my manly hobby skills.\\n-----\\nI bet that it does.\\n-----\\nAnyway. What do you do?\\n-----\\nI watch kids for a living.\\n-----\\nIt sure is, its good to come home and relax after working at a law firm.\",\n",
       " \"How are you doing today.\\n-----\\nWhat do you do for career? I have a ton of hobbies if you are interested!\\n-----\\nI like to watch kids.\\n-----\\nI actually play guitar and do a lot of manly things, like welding.\\n-----\\nWhat do you weld? Houses?\\n-----\\nEverything! I am actually manly. But I've a secret I am hiding.\\n-----\\nWhat is your secret that you have.\\n-----\\nMy parents don't know that I'm... homosexual.\\n-----\\nHow does that feel for you.\\n-----\\nMakes me secure with my manly hobby skills.\\n-----\\nI bet that it does.\\n-----\\nAnyway. What do you do?\\n-----\\nI watch kids for a living.\\n-----\\nNot a problem. I will not preach.\",\n",
       " \"How are you doing today.\\n-----\\nWhat do you do for career? I have a ton of hobbies if you are interested!\\n-----\\nI like to watch kids.\\n-----\\nI actually play guitar and do a lot of manly things, like welding.\\n-----\\nWhat do you weld? Houses?\\n-----\\nEverything! I am actually manly. But I've a secret I am hiding.\\n-----\\nWhat is your secret that you have.\\n-----\\nMy parents don't know that I'm... homosexual.\\n-----\\nHow does that feel for you.\\n-----\\nMakes me secure with my manly hobby skills.\\n-----\\nI bet that it does.\\n-----\\nAnyway. What do you do?\\n-----\\nI watch kids for a living.\\n-----\\nI liked it a lot. What do you do as a profession?\",\n",
       " \"How are you doing today.\\n-----\\nWhat do you do for career? I have a ton of hobbies if you are interested!\\n-----\\nI like to watch kids.\\n-----\\nI actually play guitar and do a lot of manly things, like welding.\\n-----\\nWhat do you weld? Houses?\\n-----\\nEverything! I am actually manly. But I've a secret I am hiding.\\n-----\\nWhat is your secret that you have.\\n-----\\nMy parents don't know that I'm... homosexual.\\n-----\\nHow does that feel for you.\\n-----\\nMakes me secure with my manly hobby skills.\\n-----\\nI bet that it does.\\n-----\\nAnyway. What do you do?\\n-----\\nI watch kids for a living.\\n-----\\nThat is funny, what is the name of your dog?\",\n",
       " \"How are you doing today.\\n-----\\nWhat do you do for career? I have a ton of hobbies if you are interested!\\n-----\\nI like to watch kids.\\n-----\\nI actually play guitar and do a lot of manly things, like welding.\\n-----\\nWhat do you weld? Houses?\\n-----\\nEverything! I am actually manly. But I've a secret I am hiding.\\n-----\\nWhat is your secret that you have.\\n-----\\nMy parents don't know that I'm... homosexual.\\n-----\\nHow does that feel for you.\\n-----\\nMakes me secure with my manly hobby skills.\\n-----\\nI bet that it does.\\n-----\\nAnyway. What do you do?\\n-----\\nI watch kids for a living.\\n-----\\nI learned English in America.\",\n",
       " \"How are you doing today.\\n-----\\nWhat do you do for career? I have a ton of hobbies if you are interested!\\n-----\\nI like to watch kids.\\n-----\\nI actually play guitar and do a lot of manly things, like welding.\\n-----\\nWhat do you weld? Houses?\\n-----\\nEverything! I am actually manly. But I've a secret I am hiding.\\n-----\\nWhat is your secret that you have.\\n-----\\nMy parents don't know that I'm... homosexual.\\n-----\\nHow does that feel for you.\\n-----\\nMakes me secure with my manly hobby skills.\\n-----\\nI bet that it does.\\n-----\\nAnyway. What do you do?\\n-----\\nI watch kids for a living.\\n-----\\nThat is awesome. Do you like it?\",\n",
       " 'Hello friend, how is it going.\\n-----\\nHigh school students are interesting. You teach? Married or children? I have a son.',\n",
       " 'Hello friend, how is it going.\\n-----\\nI do a little bit of writing in my marketing job.',\n",
       " 'Hello friend, how is it going.\\n-----\\nI already told you no, do you?',\n",
       " 'Hello friend, how is it going.\\n-----\\nHope it gets better. Just about to cook.',\n",
       " 'Hello friend, how is it going.\\n-----\\nI travel a lot. What about you?',\n",
       " 'Hello friend, how is it going.\\n-----\\nI live in California it is always hot here.',\n",
       " 'Hello friend, how is it going.\\n-----\\nI am good, how about yourself?',\n",
       " 'Hello friend, how is it going.\\n-----\\nHello! What are you doing?',\n",
       " 'Hello friend, how is it going.\\n-----\\nArt history. Fascinating stuff!',\n",
       " 'Hello friend, how is it going.\\n-----\\nSell the business and move here to grand rapids. Nice winters in Michigan.',\n",
       " 'Hello friend, how is it going.\\n-----\\nOh I am jealous! The beach is my favorite place to be!!!',\n",
       " 'Hello friend, how is it going.\\n-----\\nWhat do you usually knit?',\n",
       " 'Hello friend, how is it going.\\n-----\\nHey! yes, tell me something about you.',\n",
       " 'Hello friend, how is it going.\\n-----\\nNo, I am trying to finish college first.',\n",
       " 'Hello friend, how is it going.\\n-----\\nI have a 5 year old son. He is also awesome!',\n",
       " 'Hello friend, how is it going.\\n-----\\nInteresting.. I used to play when I was in school.',\n",
       " 'Hello friend, how is it going.\\n-----\\nThank you! Where are you located?',\n",
       " 'Hello friend, how is it going.\\n-----\\nI take work in a funeral home. Do you have any hobbies?',\n",
       " 'Hello friend, how is it going.\\n-----\\nThere are good therapy.',\n",
       " 'Hello friend, how is it going.\\n-----\\nI am well an you? I have a creepy ride. Guess.',\n",
       " \"Hello friend, how is it going.\\n-----\\nI am well an you? I have a creepy ride. Guess.\\n-----\\nI'm great enjoying the football season.\\n-----\\nHi how are you today?\",\n",
       " \"Hello friend, how is it going.\\n-----\\nI am well an you? I have a creepy ride. Guess.\\n-----\\nI'm great enjoying the football season.\\n-----\\nHe looks like Thor. I've a boyfriend too.\",\n",
       " \"Hello friend, how is it going.\\n-----\\nI am well an you? I have a creepy ride. Guess.\\n-----\\nI'm great enjoying the football season.\\n-----\\nOh. do you have any hobbies?\",\n",
       " \"Hello friend, how is it going.\\n-----\\nI am well an you? I have a creepy ride. Guess.\\n-----\\nI'm great enjoying the football season.\\n-----\\nNot really. Just my money source. Painting is my passion. Change the world?\",\n",
       " \"Hello friend, how is it going.\\n-----\\nI am well an you? I have a creepy ride. Guess.\\n-----\\nI'm great enjoying the football season.\\n-----\\nI'd love to visit Switzerland! Come pick me up at the airport?\",\n",
       " \"Hello friend, how is it going.\\n-----\\nI am well an you? I have a creepy ride. Guess.\\n-----\\nI'm great enjoying the football season.\\n-----\\nMe too! Cant wait for cooler weather!\",\n",
       " \"Hello friend, how is it going.\\n-----\\nI am well an you? I have a creepy ride. Guess.\\n-----\\nI'm great enjoying the football season.\\n-----\\nI need to use my bicycle more. Do you have any pets?\",\n",
       " \"Hello friend, how is it going.\\n-----\\nI am well an you? I have a creepy ride. Guess.\\n-----\\nI'm great enjoying the football season.\\n-----\\nYeah it was pretty cool got to go to shows. Very pretty place to live.\",\n",
       " \"Hello friend, how is it going.\\n-----\\nI am well an you? I have a creepy ride. Guess.\\n-----\\nI'm great enjoying the football season.\\n-----\\nI completely understand that feeling. I'm exhausted too.\",\n",
       " \"Hello friend, how is it going.\\n-----\\nI am well an you? I have a creepy ride. Guess.\\n-----\\nI'm great enjoying the football season.\\n-----\\nFunny, I own a grocery store. I'm doing very well.\",\n",
       " \"Hello friend, how is it going.\\n-----\\nI am well an you? I have a creepy ride. Guess.\\n-----\\nI'm great enjoying the football season.\\n-----\\nThat's cool. I only a cashier at a gas station.\",\n",
       " \"Hello friend, how is it going.\\n-----\\nI am well an you? I have a creepy ride. Guess.\\n-----\\nI'm great enjoying the football season.\\n-----\\nWhat do you do for a living?\",\n",
       " \"Hello friend, how is it going.\\n-----\\nI am well an you? I have a creepy ride. Guess.\\n-----\\nI'm great enjoying the football season.\\n-----\\nI've never gone horseback riding. I love to skate though.\",\n",
       " \"Hello friend, how is it going.\\n-----\\nI am well an you? I have a creepy ride. Guess.\\n-----\\nI'm great enjoying the football season.\\n-----\\nI've traveled all over the world.\",\n",
       " \"Hello friend, how is it going.\\n-----\\nI am well an you? I have a creepy ride. Guess.\\n-----\\nI'm great enjoying the football season.\\n-----\\nNo I do not my boyfriend walks our dog we have been together 5 yrs.\",\n",
       " \"Hello friend, how is it going.\\n-----\\nI am well an you? I have a creepy ride. Guess.\\n-----\\nI'm great enjoying the football season.\\n-----\\nWorking but I enjoy just driving stickshift cars. You?\",\n",
       " \"Hello friend, how is it going.\\n-----\\nI am well an you? I have a creepy ride. Guess.\\n-----\\nI'm great enjoying the football season.\\n-----\\nI love my new Chevy volt? That's my car. But yes, I love my family.\",\n",
       " \"Hello friend, how is it going.\\n-----\\nI am well an you? I have a creepy ride. Guess.\\n-----\\nI'm great enjoying the football season.\\n-----\\nI'm sorry to hear that? Why is that?\",\n",
       " \"Hello friend, how is it going.\\n-----\\nI am well an you? I have a creepy ride. Guess.\\n-----\\nI'm great enjoying the football season.\\n-----\\nThat's the story of Kurt Cobain, it was mostly shown in small cinemas.\",\n",
       " \"Hello friend, how is it going.\\n-----\\nI am well an you? I have a creepy ride. Guess.\\n-----\\nI'm great enjoying the football season.\\n-----\\nI drive around in a long black hearse an love this season.\",\n",
       " \"Hello friend, how is it going.\\n-----\\nI am well an you? I have a creepy ride. Guess.\\n-----\\nI'm great enjoying the football season.\\n-----\\nI drive around in a long black hearse an love this season.\\n-----\\nYou work for a funeral home?\\n-----\\nYeah, I want to change the world. What about you?\",\n",
       " \"Hello friend, how is it going.\\n-----\\nI am well an you? I have a creepy ride. Guess.\\n-----\\nI'm great enjoying the football season.\\n-----\\nI drive around in a long black hearse an love this season.\\n-----\\nYou work for a funeral home?\\n-----\\nYou have to come to Nc and try some bbq.\",\n",
       " \"Hello friend, how is it going.\\n-----\\nI am well an you? I have a creepy ride. Guess.\\n-----\\nI'm great enjoying the football season.\\n-----\\nI drive around in a long black hearse an love this season.\\n-----\\nYou work for a funeral home?\\n-----\\nWow that is a lot of animals.\",\n",
       " \"Hello friend, how is it going.\\n-----\\nI am well an you? I have a creepy ride. Guess.\\n-----\\nI'm great enjoying the football season.\\n-----\\nI drive around in a long black hearse an love this season.\\n-----\\nYou work for a funeral home?\\n-----\\nOh, well that would be a turn off.\",\n",
       " \"Hello friend, how is it going.\\n-----\\nI am well an you? I have a creepy ride. Guess.\\n-----\\nI'm great enjoying the football season.\\n-----\\nI drive around in a long black hearse an love this season.\\n-----\\nYou work for a funeral home?\\n-----\\nI love photography in the spring.\",\n",
       " \"Hello friend, how is it going.\\n-----\\nI am well an you? I have a creepy ride. Guess.\\n-----\\nI'm great enjoying the football season.\\n-----\\nI drive around in a long black hearse an love this season.\\n-----\\nYou work for a funeral home?\\n-----\\nHow are you doing today.\",\n",
       " \"Hello friend, how is it going.\\n-----\\nI am well an you? I have a creepy ride. Guess.\\n-----\\nI'm great enjoying the football season.\\n-----\\nI drive around in a long black hearse an love this season.\\n-----\\nYou work for a funeral home?\\n-----\\nWell, not much, just something to make money. I'm all about that green!\",\n",
       " \"Hello friend, how is it going.\\n-----\\nI am well an you? I have a creepy ride. Guess.\\n-----\\nI'm great enjoying the football season.\\n-----\\nI drive around in a long black hearse an love this season.\\n-----\\nYou work for a funeral home?\\n-----\\nNot well. I use art to express myself instead.\",\n",
       " \"Hello friend, how is it going.\\n-----\\nI am well an you? I have a creepy ride. Guess.\\n-----\\nI'm great enjoying the football season.\\n-----\\nI drive around in a long black hearse an love this season.\\n-----\\nYou work for a funeral home?\\n-----\\nI bake for a living, and I still like it. Do you play tennis? I enjoy that.\",\n",
       " \"Hello friend, how is it going.\\n-----\\nI am well an you? I have a creepy ride. Guess.\\n-----\\nI'm great enjoying the football season.\\n-----\\nI drive around in a long black hearse an love this season.\\n-----\\nYou work for a funeral home?\\n-----\\nI kind of do. I think about a lot of religions in my philosophy classes.\",\n",
       " \"Hello friend, how is it going.\\n-----\\nI am well an you? I have a creepy ride. Guess.\\n-----\\nI'm great enjoying the football season.\\n-----\\nI drive around in a long black hearse an love this season.\\n-----\\nYou work for a funeral home?\\n-----\\nI don't but I've thought about it.\",\n",
       " \"Hello friend, how is it going.\\n-----\\nI am well an you? I have a creepy ride. Guess.\\n-----\\nI'm great enjoying the football season.\\n-----\\nI drive around in a long black hearse an love this season.\\n-----\\nYou work for a funeral home?\\n-----\\nWhat do u do in the office.\",\n",
       " \"Hello friend, how is it going.\\n-----\\nI am well an you? I have a creepy ride. Guess.\\n-----\\nI'm great enjoying the football season.\\n-----\\nI drive around in a long black hearse an love this season.\\n-----\\nYou work for a funeral home?\\n-----\\nI've two dogs! They enjoy running around my farm.\",\n",
       " \"Hello friend, how is it going.\\n-----\\nI am well an you? I have a creepy ride. Guess.\\n-----\\nI'm great enjoying the football season.\\n-----\\nI drive around in a long black hearse an love this season.\\n-----\\nYou work for a funeral home?\\n-----\\nDo you like watching movies?\",\n",
       " \"Hello friend, how is it going.\\n-----\\nI am well an you? I have a creepy ride. Guess.\\n-----\\nI'm great enjoying the football season.\\n-----\\nI drive around in a long black hearse an love this season.\\n-----\\nYou work for a funeral home?\\n-----\\nOrg! I'm sorry about that. Are you ok?\",\n",
       " \"Hello friend, how is it going.\\n-----\\nI am well an you? I have a creepy ride. Guess.\\n-----\\nI'm great enjoying the football season.\\n-----\\nI drive around in a long black hearse an love this season.\\n-----\\nYou work for a funeral home?\\n-----\\nThat is cool I work at Amazon.\",\n",
       " \"Hello friend, how is it going.\\n-----\\nI am well an you? I have a creepy ride. Guess.\\n-----\\nI'm great enjoying the football season.\\n-----\\nI drive around in a long black hearse an love this season.\\n-----\\nYou work for a funeral home?\\n-----\\nHello, are you into exercise? I love to run.\",\n",
       " \"Hello friend, how is it going.\\n-----\\nI am well an you? I have a creepy ride. Guess.\\n-----\\nI'm great enjoying the football season.\\n-----\\nI drive around in a long black hearse an love this season.\\n-----\\nYou work for a funeral home?\\n-----\\nOk. what do you do for a living?\",\n",
       " \"Hello friend, how is it going.\\n-----\\nI am well an you? I have a creepy ride. Guess.\\n-----\\nI'm great enjoying the football season.\\n-----\\nI drive around in a long black hearse an love this season.\\n-----\\nYou work for a funeral home?\\n-----\\nJust kayaking and running. You?\",\n",
       " \"Hello friend, how is it going.\\n-----\\nI am well an you? I have a creepy ride. Guess.\\n-----\\nI'm great enjoying the football season.\\n-----\\nI drive around in a long black hearse an love this season.\\n-----\\nYou work for a funeral home?\\n-----\\nYes it is nice, halloween is my fav.\",\n",
       " \"Hello friend, how is it going.\\n-----\\nI am well an you? I have a creepy ride. Guess.\\n-----\\nI'm great enjoying the football season.\\n-----\\nI drive around in a long black hearse an love this season.\\n-----\\nYou work for a funeral home?\\n-----\\nYes it is nice, halloween is my fav.\\n-----\\nLol, I can imagine. I'll be reading a lot when football is over.\\n-----\\nI am from Mexico like the food.\",\n",
       " \"Hello friend, how is it going.\\n-----\\nI am well an you? I have a creepy ride. Guess.\\n-----\\nI'm great enjoying the football season.\\n-----\\nI drive around in a long black hearse an love this season.\\n-----\\nYou work for a funeral home?\\n-----\\nYes it is nice, halloween is my fav.\\n-----\\nLol, I can imagine. I'll be reading a lot when football is over.\\n-----\\nI love singing, it kills people though.\",\n",
       " \"Hello friend, how is it going.\\n-----\\nI am well an you? I have a creepy ride. Guess.\\n-----\\nI'm great enjoying the football season.\\n-----\\nI drive around in a long black hearse an love this season.\\n-----\\nYou work for a funeral home?\\n-----\\nYes it is nice, halloween is my fav.\\n-----\\nLol, I can imagine. I'll be reading a lot when football is over.\\n-----\\nWhat do you do in your free time?\",\n",
       " \"Hello friend, how is it going.\\n-----\\nI am well an you? I have a creepy ride. Guess.\\n-----\\nI'm great enjoying the football season.\\n-----\\nI drive around in a long black hearse an love this season.\\n-----\\nYou work for a funeral home?\\n-----\\nYes it is nice, halloween is my fav.\\n-----\\nLol, I can imagine. I'll be reading a lot when football is over.\\n-----\\nThat is wonderful, and sould healthy.\",\n",
       " \"Hello friend, how is it going.\\n-----\\nI am well an you? I have a creepy ride. Guess.\\n-----\\nI'm great enjoying the football season.\\n-----\\nI drive around in a long black hearse an love this season.\\n-----\\nYou work for a funeral home?\\n-----\\nYes it is nice, halloween is my fav.\\n-----\\nLol, I can imagine. I'll be reading a lot when football is over.\\n-----\\nCool. I usually go rock climbing. I should put on Youtube.\",\n",
       " \"Hello friend, how is it going.\\n-----\\nI am well an you? I have a creepy ride. Guess.\\n-----\\nI'm great enjoying the football season.\\n-----\\nI drive around in a long black hearse an love this season.\\n-----\\nYou work for a funeral home?\\n-----\\nYes it is nice, halloween is my fav.\\n-----\\nLol, I can imagine. I'll be reading a lot when football is over.\\n-----\\nI think my father killed my mom should I call the police.\",\n",
       " \"Hello friend, how is it going.\\n-----\\nI am well an you? I have a creepy ride. Guess.\\n-----\\nI'm great enjoying the football season.\\n-----\\nI drive around in a long black hearse an love this season.\\n-----\\nYou work for a funeral home?\\n-----\\nYes it is nice, halloween is my fav.\\n-----\\nLol, I can imagine. I'll be reading a lot when football is over.\\n-----\\nWhat people think about what? Your personality?\",\n",
       " \"Hello friend, how is it going.\\n-----\\nI am well an you? I have a creepy ride. Guess.\\n-----\\nI'm great enjoying the football season.\\n-----\\nI drive around in a long black hearse an love this season.\\n-----\\nYou work for a funeral home?\\n-----\\nYes it is nice, halloween is my fav.\\n-----\\nLol, I can imagine. I'll be reading a lot when football is over.\\n-----\\nPeople watching in the bars I go to.\",\n",
       " \"Hello friend, how is it going.\\n-----\\nI am well an you? I have a creepy ride. Guess.\\n-----\\nI'm great enjoying the football season.\\n-----\\nI drive around in a long black hearse an love this season.\\n-----\\nYou work for a funeral home?\\n-----\\nYes it is nice, halloween is my fav.\\n-----\\nLol, I can imagine. I'll be reading a lot when football is over.\\n-----\\nYes. Vanilla, caramel, hazelnut, dark chocolate and cinnamon.\",\n",
       " \"Hello friend, how is it going.\\n-----\\nI am well an you? I have a creepy ride. Guess.\\n-----\\nI'm great enjoying the football season.\\n-----\\nI drive around in a long black hearse an love this season.\\n-----\\nYou work for a funeral home?\\n-----\\nYes it is nice, halloween is my fav.\\n-----\\nLol, I can imagine. I'll be reading a lot when football is over.\\n-----\\nI love the color green. I am going to go exercise after this.\",\n",
       " \"Hello friend, how is it going.\\n-----\\nI am well an you? I have a creepy ride. Guess.\\n-----\\nI'm great enjoying the football season.\\n-----\\nI drive around in a long black hearse an love this season.\\n-----\\nYou work for a funeral home?\\n-----\\nYes it is nice, halloween is my fav.\\n-----\\nLol, I can imagine. I'll be reading a lot when football is over.\\n-----\\nMaybe you could sell stamps. I collect them!\",\n",
       " \"Hello friend, how is it going.\\n-----\\nI am well an you? I have a creepy ride. Guess.\\n-----\\nI'm great enjoying the football season.\\n-----\\nI drive around in a long black hearse an love this season.\\n-----\\nYou work for a funeral home?\\n-----\\nYes it is nice, halloween is my fav.\\n-----\\nLol, I can imagine. I'll be reading a lot when football is over.\\n-----\\nWell, that would explain the less than stellar grades. Are you worried?\",\n",
       " \"Hello friend, how is it going.\\n-----\\nI am well an you? I have a creepy ride. Guess.\\n-----\\nI'm great enjoying the football season.\\n-----\\nI drive around in a long black hearse an love this season.\\n-----\\nYou work for a funeral home?\\n-----\\nYes it is nice, halloween is my fav.\\n-----\\nLol, I can imagine. I'll be reading a lot when football is over.\\n-----\\nHave you ever had muscle milk its great I drink chocolate flavor.\",\n",
       " \"Hello friend, how is it going.\\n-----\\nI am well an you? I have a creepy ride. Guess.\\n-----\\nI'm great enjoying the football season.\\n-----\\nI drive around in a long black hearse an love this season.\\n-----\\nYou work for a funeral home?\\n-----\\nYes it is nice, halloween is my fav.\\n-----\\nLol, I can imagine. I'll be reading a lot when football is over.\\n-----\\nMy students told me they're coming out with a new one.\",\n",
       " \"Hello friend, how is it going.\\n-----\\nI am well an you? I have a creepy ride. Guess.\\n-----\\nI'm great enjoying the football season.\\n-----\\nI drive around in a long black hearse an love this season.\\n-----\\nYou work for a funeral home?\\n-----\\nYes it is nice, halloween is my fav.\\n-----\\nLol, I can imagine. I'll be reading a lot when football is over.\\n-----\\nYou are funny I love it.\",\n",
       " \"Hello friend, how is it going.\\n-----\\nI am well an you? I have a creepy ride. Guess.\\n-----\\nI'm great enjoying the football season.\\n-----\\nI drive around in a long black hearse an love this season.\\n-----\\nYou work for a funeral home?\\n-----\\nYes it is nice, halloween is my fav.\\n-----\\nLol, I can imagine. I'll be reading a lot when football is over.\\n-----\\nI love me some jazz, what about you?\",\n",
       " \"Hello friend, how is it going.\\n-----\\nI am well an you? I have a creepy ride. Guess.\\n-----\\nI'm great enjoying the football season.\\n-----\\nI drive around in a long black hearse an love this season.\\n-----\\nYou work for a funeral home?\\n-----\\nYes it is nice, halloween is my fav.\\n-----\\nLol, I can imagine. I'll be reading a lot when football is over.\\n-----\\nI am sorry, am I speaking to will ferrill? Is this Mr. ferrellle?\",\n",
       " \"Hello friend, how is it going.\\n-----\\nI am well an you? I have a creepy ride. Guess.\\n-----\\nI'm great enjoying the football season.\\n-----\\nI drive around in a long black hearse an love this season.\\n-----\\nYou work for a funeral home?\\n-----\\nYes it is nice, halloween is my fav.\\n-----\\nLol, I can imagine. I'll be reading a lot when football is over.\\n-----\\nSometimes I run to keep my mind off bad things going on.\",\n",
       " \"Hello friend, how is it going.\\n-----\\nI am well an you? I have a creepy ride. Guess.\\n-----\\nI'm great enjoying the football season.\\n-----\\nI drive around in a long black hearse an love this season.\\n-----\\nYou work for a funeral home?\\n-----\\nYes it is nice, halloween is my fav.\\n-----\\nLol, I can imagine. I'll be reading a lot when football is over.\\n-----\\nWhat a wonderful day! I love getting up to watch the sun rise.\",\n",
       " \"Hello friend, how is it going.\\n-----\\nI am well an you? I have a creepy ride. Guess.\\n-----\\nI'm great enjoying the football season.\\n-----\\nI drive around in a long black hearse an love this season.\\n-----\\nYou work for a funeral home?\\n-----\\nYes it is nice, halloween is my fav.\\n-----\\nLol, I can imagine. I'll be reading a lot when football is over.\\n-----\\nNo I don't work at a funeral home.\",\n",
       " \"Hello friend, how is it going.\\n-----\\nI am well an you? I have a creepy ride. Guess.\\n-----\\nI'm great enjoying the football season.\\n-----\\nI drive around in a long black hearse an love this season.\\n-----\\nYou work for a funeral home?\\n-----\\nYes it is nice, halloween is my fav.\\n-----\\nLol, I can imagine. I'll be reading a lot when football is over.\\n-----\\nNo I don't work at a funeral home.\\n-----\\nOk I see, that's your halloween costume.\\n-----\\nNice, I am not much of an athlete but I watch sports. What is your profession?\",\n",
       " \"Hello friend, how is it going.\\n-----\\nI am well an you? I have a creepy ride. Guess.\\n-----\\nI'm great enjoying the football season.\\n-----\\nI drive around in a long black hearse an love this season.\\n-----\\nYou work for a funeral home?\\n-----\\nYes it is nice, halloween is my fav.\\n-----\\nLol, I can imagine. I'll be reading a lot when football is over.\\n-----\\nNo I don't work at a funeral home.\\n-----\\nOk I see, that's your halloween costume.\\n-----\\nIt really is small even though it seems huge.\",\n",
       " \"Hello friend, how is it going.\\n-----\\nI am well an you? I have a creepy ride. Guess.\\n-----\\nI'm great enjoying the football season.\\n-----\\nI drive around in a long black hearse an love this season.\\n-----\\nYou work for a funeral home?\\n-----\\nYes it is nice, halloween is my fav.\\n-----\\nLol, I can imagine. I'll be reading a lot when football is over.\\n-----\\nNo I don't work at a funeral home.\\n-----\\nOk I see, that's your halloween costume.\\n-----\\nYou could take kids with you to the beach.\",\n",
       " \"Hello friend, how is it going.\\n-----\\nI am well an you? I have a creepy ride. Guess.\\n-----\\nI'm great enjoying the football season.\\n-----\\nI drive around in a long black hearse an love this season.\\n-----\\nYou work for a funeral home?\\n-----\\nYes it is nice, halloween is my fav.\\n-----\\nLol, I can imagine. I'll be reading a lot when football is over.\\n-----\\nNo I don't work at a funeral home.\\n-----\\nOk I see, that's your halloween costume.\\n-----\\nI don't but I enjoy butterflies.\",\n",
       " \"Hello friend, how is it going.\\n-----\\nI am well an you? I have a creepy ride. Guess.\\n-----\\nI'm great enjoying the football season.\\n-----\\nI drive around in a long black hearse an love this season.\\n-----\\nYou work for a funeral home?\\n-----\\nYes it is nice, halloween is my fav.\\n-----\\nLol, I can imagine. I'll be reading a lot when football is over.\\n-----\\nNo I don't work at a funeral home.\\n-----\\nOk I see, that's your halloween costume.\\n-----\\nThat s pretty cool my two sons they really want to go there.\",\n",
       " \"Hello friend, how is it going.\\n-----\\nI am well an you? I have a creepy ride. Guess.\\n-----\\nI'm great enjoying the football season.\\n-----\\nI drive around in a long black hearse an love this season.\\n-----\\nYou work for a funeral home?\\n-----\\nYes it is nice, halloween is my fav.\\n-----\\nLol, I can imagine. I'll be reading a lot when football is over.\\n-----\\nNo I don't work at a funeral home.\\n-----\\nOk I see, that's your halloween costume.\\n-----\\nCool, you young?\",\n",
       " \"Hello friend, how is it going.\\n-----\\nI am well an you? I have a creepy ride. Guess.\\n-----\\nI'm great enjoying the football season.\\n-----\\nI drive around in a long black hearse an love this season.\\n-----\\nYou work for a funeral home?\\n-----\\nYes it is nice, halloween is my fav.\\n-----\\nLol, I can imagine. I'll be reading a lot when football is over.\\n-----\\nNo I don't work at a funeral home.\\n-----\\nOk I see, that's your halloween costume.\\n-----\\nI am well. Working on my channel on Youtube.\",\n",
       " \"Hello friend, how is it going.\\n-----\\nI am well an you? I have a creepy ride. Guess.\\n-----\\nI'm great enjoying the football season.\\n-----\\nI drive around in a long black hearse an love this season.\\n-----\\nYou work for a funeral home?\\n-----\\nYes it is nice, halloween is my fav.\\n-----\\nLol, I can imagine. I'll be reading a lot when football is over.\\n-----\\nNo I don't work at a funeral home.\\n-----\\nOk I see, that's your halloween costume.\\n-----\\nGeorgia my mama from Alabama.\",\n",
       " \"Hello friend, how is it going.\\n-----\\nI am well an you? I have a creepy ride. Guess.\\n-----\\nI'm great enjoying the football season.\\n-----\\nI drive around in a long black hearse an love this season.\\n-----\\nYou work for a funeral home?\\n-----\\nYes it is nice, halloween is my fav.\\n-----\\nLol, I can imagine. I'll be reading a lot when football is over.\\n-----\\nNo I don't work at a funeral home.\\n-----\\nOk I see, that's your halloween costume.\\n-----\\nNothing much. My step father works at Hp.\",\n",
       " \"Hello friend, how is it going.\\n-----\\nI am well an you? I have a creepy ride. Guess.\\n-----\\nI'm great enjoying the football season.\\n-----\\nI drive around in a long black hearse an love this season.\\n-----\\nYou work for a funeral home?\\n-----\\nYes it is nice, halloween is my fav.\\n-----\\nLol, I can imagine. I'll be reading a lot when football is over.\\n-----\\nNo I don't work at a funeral home.\\n-----\\nOk I see, that's your halloween costume.\\n-----\\nCool, what do you build?\",\n",
       " \"Hello friend, how is it going.\\n-----\\nI am well an you? I have a creepy ride. Guess.\\n-----\\nI'm great enjoying the football season.\\n-----\\nI drive around in a long black hearse an love this season.\\n-----\\nYou work for a funeral home?\\n-----\\nYes it is nice, halloween is my fav.\\n-----\\nLol, I can imagine. I'll be reading a lot when football is over.\\n-----\\nNo I don't work at a funeral home.\\n-----\\nOk I see, that's your halloween costume.\\n-----\\nHey there, how was your day?\",\n",
       " \"Hello friend, how is it going.\\n-----\\nI am well an you? I have a creepy ride. Guess.\\n-----\\nI'm great enjoying the football season.\\n-----\\nI drive around in a long black hearse an love this season.\\n-----\\nYou work for a funeral home?\\n-----\\nYes it is nice, halloween is my fav.\\n-----\\nLol, I can imagine. I'll be reading a lot when football is over.\\n-----\\nNo I don't work at a funeral home.\\n-----\\nOk I see, that's your halloween costume.\\n-----\\nI like orange juice also, but grape juice would be my favorite.\",\n",
       " \"Hello friend, how is it going.\\n-----\\nI am well an you? I have a creepy ride. Guess.\\n-----\\nI'm great enjoying the football season.\\n-----\\nI drive around in a long black hearse an love this season.\\n-----\\nYou work for a funeral home?\\n-----\\nYes it is nice, halloween is my fav.\\n-----\\nLol, I can imagine. I'll be reading a lot when football is over.\\n-----\\nNo I don't work at a funeral home.\\n-----\\nOk I see, that's your halloween costume.\\n-----\\nYeah mom passed when I was 14 but its why I strive for a family.\",\n",
       " \"Hello friend, how is it going.\\n-----\\nI am well an you? I have a creepy ride. Guess.\\n-----\\nI'm great enjoying the football season.\\n-----\\nI drive around in a long black hearse an love this season.\\n-----\\nYou work for a funeral home?\\n-----\\nYes it is nice, halloween is my fav.\\n-----\\nLol, I can imagine. I'll be reading a lot when football is over.\\n-----\\nNo I don't work at a funeral home.\\n-----\\nOk I see, that's your halloween costume.\\n-----\\nCan they tell me where to find some weed? I have been looking for so long.\",\n",
       " \"Hello friend, how is it going.\\n-----\\nI am well an you? I have a creepy ride. Guess.\\n-----\\nI'm great enjoying the football season.\\n-----\\nI drive around in a long black hearse an love this season.\\n-----\\nYou work for a funeral home?\\n-----\\nYes it is nice, halloween is my fav.\\n-----\\nLol, I can imagine. I'll be reading a lot when football is over.\\n-----\\nNo I don't work at a funeral home.\\n-----\\nOk I see, that's your halloween costume.\\n-----\\nWow I heard boys are had to raise.\",\n",
       " \"Hello friend, how is it going.\\n-----\\nI am well an you? I have a creepy ride. Guess.\\n-----\\nI'm great enjoying the football season.\\n-----\\nI drive around in a long black hearse an love this season.\\n-----\\nYou work for a funeral home?\\n-----\\nYes it is nice, halloween is my fav.\\n-----\\nLol, I can imagine. I'll be reading a lot when football is over.\\n-----\\nNo I don't work at a funeral home.\\n-----\\nOk I see, that's your halloween costume.\\n-----\\nI think I want to be a brownie baker. Ha ha why did you choose law?\",\n",
       " \"Hello friend, how is it going.\\n-----\\nI am well an you? I have a creepy ride. Guess.\\n-----\\nI'm great enjoying the football season.\\n-----\\nI drive around in a long black hearse an love this season.\\n-----\\nYou work for a funeral home?\\n-----\\nYes it is nice, halloween is my fav.\\n-----\\nLol, I can imagine. I'll be reading a lot when football is over.\\n-----\\nNo I don't work at a funeral home.\\n-----\\nOk I see, that's your halloween costume.\\n-----\\nNo wonder you have a great imagination.\",\n",
       " \"Hello friend, how is it going.\\n-----\\nI am well an you? I have a creepy ride. Guess.\\n-----\\nI'm great enjoying the football season.\\n-----\\nI drive around in a long black hearse an love this season.\\n-----\\nYou work for a funeral home?\\n-----\\nYes it is nice, halloween is my fav.\\n-----\\nLol, I can imagine. I'll be reading a lot when football is over.\\n-----\\nNo I don't work at a funeral home.\\n-----\\nOk I see, that's your halloween costume.\\n-----\\nI really like to do needlework.\",\n",
       " \"Hello friend, how is it going.\\n-----\\nI am well an you? I have a creepy ride. Guess.\\n-----\\nI'm great enjoying the football season.\\n-----\\nI drive around in a long black hearse an love this season.\\n-----\\nYou work for a funeral home?\\n-----\\nYes it is nice, halloween is my fav.\\n-----\\nLol, I can imagine. I'll be reading a lot when football is over.\\n-----\\nNo I don't work at a funeral home.\\n-----\\nOk I see, that's your halloween costume.\\n-----\\nYes, I agree. And we have been training my two fur babies as service dogs.\",\n",
       " \"Hello friend, how is it going.\\n-----\\nI am well an you? I have a creepy ride. Guess.\\n-----\\nI'm great enjoying the football season.\\n-----\\nI drive around in a long black hearse an love this season.\\n-----\\nYou work for a funeral home?\\n-----\\nYes it is nice, halloween is my fav.\\n-----\\nLol, I can imagine. I'll be reading a lot when football is over.\\n-----\\nNo I don't work at a funeral home.\\n-----\\nOk I see, that's your halloween costume.\\n-----\\nWhat do you like to read? I like rock alternative music.\",\n",
       " \"Hello friend, how is it going.\\n-----\\nI am well an you? I have a creepy ride. Guess.\\n-----\\nI'm great enjoying the football season.\\n-----\\nI drive around in a long black hearse an love this season.\\n-----\\nYou work for a funeral home?\\n-----\\nYes it is nice, halloween is my fav.\\n-----\\nLol, I can imagine. I'll be reading a lot when football is over.\\n-----\\nNo I don't work at a funeral home.\\n-----\\nOk I see, that's your halloween costume.\\n-----\\nWhat do you like to read? I like rock alternative music.\\n-----\\nI like anything to do with mystery.\\n-----\\nThat sounds amazing, wish I had a woman like that.\",\n",
       " \"Hello friend, how is it going.\\n-----\\nI am well an you? I have a creepy ride. Guess.\\n-----\\nI'm great enjoying the football season.\\n-----\\nI drive around in a long black hearse an love this season.\\n-----\\nYou work for a funeral home?\\n-----\\nYes it is nice, halloween is my fav.\\n-----\\nLol, I can imagine. I'll be reading a lot when football is over.\\n-----\\nNo I don't work at a funeral home.\\n-----\\nOk I see, that's your halloween costume.\\n-----\\nWhat do you like to read? I like rock alternative music.\\n-----\\nI like anything to do with mystery.\\n-----\\nHello there. What are you doing on this lovely evening?\",\n",
       " \"Hello friend, how is it going.\\n-----\\nI am well an you? I have a creepy ride. Guess.\\n-----\\nI'm great enjoying the football season.\\n-----\\nI drive around in a long black hearse an love this season.\\n-----\\nYou work for a funeral home?\\n-----\\nYes it is nice, halloween is my fav.\\n-----\\nLol, I can imagine. I'll be reading a lot when football is over.\\n-----\\nNo I don't work at a funeral home.\\n-----\\nOk I see, that's your halloween costume.\\n-----\\nWhat do you like to read? I like rock alternative music.\\n-----\\nI like anything to do with mystery.\\n-----\\nNo! Jean is blind and I am nervous. You dance?\",\n",
       " \"Hello friend, how is it going.\\n-----\\nI am well an you? I have a creepy ride. Guess.\\n-----\\nI'm great enjoying the football season.\\n-----\\nI drive around in a long black hearse an love this season.\\n-----\\nYou work for a funeral home?\\n-----\\nYes it is nice, halloween is my fav.\\n-----\\nLol, I can imagine. I'll be reading a lot when football is over.\\n-----\\nNo I don't work at a funeral home.\\n-----\\nOk I see, that's your halloween costume.\\n-----\\nWhat do you like to read? I like rock alternative music.\\n-----\\nI like anything to do with mystery.\\n-----\\nThank you! Need to appreciate and never take life for granted.\",\n",
       " \"Hello friend, how is it going.\\n-----\\nI am well an you? I have a creepy ride. Guess.\\n-----\\nI'm great enjoying the football season.\\n-----\\nI drive around in a long black hearse an love this season.\\n-----\\nYou work for a funeral home?\\n-----\\nYes it is nice, halloween is my fav.\\n-----\\nLol, I can imagine. I'll be reading a lot when football is over.\\n-----\\nNo I don't work at a funeral home.\\n-----\\nOk I see, that's your halloween costume.\\n-----\\nWhat do you like to read? I like rock alternative music.\\n-----\\nI like anything to do with mystery.\\n-----\\nYou should go where women are like the nail salon. I get mines done every saturday.\",\n",
       " \"Hello friend, how is it going.\\n-----\\nI am well an you? I have a creepy ride. Guess.\\n-----\\nI'm great enjoying the football season.\\n-----\\nI drive around in a long black hearse an love this season.\\n-----\\nYou work for a funeral home?\\n-----\\nYes it is nice, halloween is my fav.\\n-----\\nLol, I can imagine. I'll be reading a lot when football is over.\\n-----\\nNo I don't work at a funeral home.\\n-----\\nOk I see, that's your halloween costume.\\n-----\\nWhat do you like to read? I like rock alternative music.\\n-----\\nI like anything to do with mystery.\\n-----\\nOh nice, all I eat comes from hunting. Because I am married to the outdoors.\",\n",
       " \"Hello friend, how is it going.\\n-----\\nI am well an you? I have a creepy ride. Guess.\\n-----\\nI'm great enjoying the football season.\\n-----\\nI drive around in a long black hearse an love this season.\\n-----\\nYou work for a funeral home?\\n-----\\nYes it is nice, halloween is my fav.\\n-----\\nLol, I can imagine. I'll be reading a lot when football is over.\\n-----\\nNo I don't work at a funeral home.\\n-----\\nOk I see, that's your halloween costume.\\n-----\\nWhat do you like to read? I like rock alternative music.\\n-----\\nI like anything to do with mystery.\\n-----\\nHi! running and gaming are my hobbies. What about you?\",\n",
       " \"Hello friend, how is it going.\\n-----\\nI am well an you? I have a creepy ride. Guess.\\n-----\\nI'm great enjoying the football season.\\n-----\\nI drive around in a long black hearse an love this season.\\n-----\\nYou work for a funeral home?\\n-----\\nYes it is nice, halloween is my fav.\\n-----\\nLol, I can imagine. I'll be reading a lot when football is over.\\n-----\\nNo I don't work at a funeral home.\\n-----\\nOk I see, that's your halloween costume.\\n-----\\nWhat do you like to read? I like rock alternative music.\\n-----\\nI like anything to do with mystery.\\n-----\\nIt isn't an easy car to maintain either.\",\n",
       " \"Hello friend, how is it going.\\n-----\\nI am well an you? I have a creepy ride. Guess.\\n-----\\nI'm great enjoying the football season.\\n-----\\nI drive around in a long black hearse an love this season.\\n-----\\nYou work for a funeral home?\\n-----\\nYes it is nice, halloween is my fav.\\n-----\\nLol, I can imagine. I'll be reading a lot when football is over.\\n-----\\nNo I don't work at a funeral home.\\n-----\\nOk I see, that's your halloween costume.\\n-----\\nWhat do you like to read? I like rock alternative music.\\n-----\\nI like anything to do with mystery.\\n-----\\nVery cool. My fiance does as well!\",\n",
       " \"Hello friend, how is it going.\\n-----\\nI am well an you? I have a creepy ride. Guess.\\n-----\\nI'm great enjoying the football season.\\n-----\\nI drive around in a long black hearse an love this season.\\n-----\\nYou work for a funeral home?\\n-----\\nYes it is nice, halloween is my fav.\\n-----\\nLol, I can imagine. I'll be reading a lot when football is over.\\n-----\\nNo I don't work at a funeral home.\\n-----\\nOk I see, that's your halloween costume.\\n-----\\nWhat do you like to read? I like rock alternative music.\\n-----\\nI like anything to do with mystery.\\n-----\\nEurope, I just hope somebody takes car of 3 cats.\",\n",
       " \"Hello friend, how is it going.\\n-----\\nI am well an you? I have a creepy ride. Guess.\\n-----\\nI'm great enjoying the football season.\\n-----\\nI drive around in a long black hearse an love this season.\\n-----\\nYou work for a funeral home?\\n-----\\nYes it is nice, halloween is my fav.\\n-----\\nLol, I can imagine. I'll be reading a lot when football is over.\\n-----\\nNo I don't work at a funeral home.\\n-----\\nOk I see, that's your halloween costume.\\n-----\\nWhat do you like to read? I like rock alternative music.\\n-----\\nI like anything to do with mystery.\\n-----\\nNice! I live near the gulf of Mexico. Youre a doctor?\",\n",
       " \"Hello friend, how is it going.\\n-----\\nI am well an you? I have a creepy ride. Guess.\\n-----\\nI'm great enjoying the football season.\\n-----\\nI drive around in a long black hearse an love this season.\\n-----\\nYou work for a funeral home?\\n-----\\nYes it is nice, halloween is my fav.\\n-----\\nLol, I can imagine. I'll be reading a lot when football is over.\\n-----\\nNo I don't work at a funeral home.\\n-----\\nOk I see, that's your halloween costume.\\n-----\\nWhat do you like to read? I like rock alternative music.\\n-----\\nI like anything to do with mystery.\\n-----\\nEverything but I m into the show empire the hit show and.\",\n",
       " \"Hello friend, how is it going.\\n-----\\nI am well an you? I have a creepy ride. Guess.\\n-----\\nI'm great enjoying the football season.\\n-----\\nI drive around in a long black hearse an love this season.\\n-----\\nYou work for a funeral home?\\n-----\\nYes it is nice, halloween is my fav.\\n-----\\nLol, I can imagine. I'll be reading a lot when football is over.\\n-----\\nNo I don't work at a funeral home.\\n-----\\nOk I see, that's your halloween costume.\\n-----\\nWhat do you like to read? I like rock alternative music.\\n-----\\nI like anything to do with mystery.\\n-----\\nIs it like Harry Potter.\",\n",
       " \"Hello friend, how is it going.\\n-----\\nI am well an you? I have a creepy ride. Guess.\\n-----\\nI'm great enjoying the football season.\\n-----\\nI drive around in a long black hearse an love this season.\\n-----\\nYou work for a funeral home?\\n-----\\nYes it is nice, halloween is my fav.\\n-----\\nLol, I can imagine. I'll be reading a lot when football is over.\\n-----\\nNo I don't work at a funeral home.\\n-----\\nOk I see, that's your halloween costume.\\n-----\\nWhat do you like to read? I like rock alternative music.\\n-----\\nI like anything to do with mystery.\\n-----\\nMust be fascinating! I do crafts those are fun. And also enjoy drawing.\",\n",
       " \"Hello friend, how is it going.\\n-----\\nI am well an you? I have a creepy ride. Guess.\\n-----\\nI'm great enjoying the football season.\\n-----\\nI drive around in a long black hearse an love this season.\\n-----\\nYou work for a funeral home?\\n-----\\nYes it is nice, halloween is my fav.\\n-----\\nLol, I can imagine. I'll be reading a lot when football is over.\\n-----\\nNo I don't work at a funeral home.\\n-----\\nOk I see, that's your halloween costume.\\n-----\\nWhat do you like to read? I like rock alternative music.\\n-----\\nI like anything to do with mystery.\\n-----\\nI'd love to travel. What languages do you want to learn?\",\n",
       " \"Hello friend, how is it going.\\n-----\\nI am well an you? I have a creepy ride. Guess.\\n-----\\nI'm great enjoying the football season.\\n-----\\nI drive around in a long black hearse an love this season.\\n-----\\nYou work for a funeral home?\\n-----\\nYes it is nice, halloween is my fav.\\n-----\\nLol, I can imagine. I'll be reading a lot when football is over.\\n-----\\nNo I don't work at a funeral home.\\n-----\\nOk I see, that's your halloween costume.\\n-----\\nWhat do you like to read? I like rock alternative music.\\n-----\\nI like anything to do with mystery.\\n-----\\nI am twenties I am older than you.\",\n",
       " \"Hello friend, how is it going.\\n-----\\nI am well an you? I have a creepy ride. Guess.\\n-----\\nI'm great enjoying the football season.\\n-----\\nI drive around in a long black hearse an love this season.\\n-----\\nYou work for a funeral home?\\n-----\\nYes it is nice, halloween is my fav.\\n-----\\nLol, I can imagine. I'll be reading a lot when football is over.\\n-----\\nNo I don't work at a funeral home.\\n-----\\nOk I see, that's your halloween costume.\\n-----\\nWhat do you like to read? I like rock alternative music.\\n-----\\nI like anything to do with mystery.\\n-----\\nBefore my mom passed, pop music was her favorite too.\",\n",
       " \"Hello friend, how is it going.\\n-----\\nI am well an you? I have a creepy ride. Guess.\\n-----\\nI'm great enjoying the football season.\\n-----\\nI drive around in a long black hearse an love this season.\\n-----\\nYou work for a funeral home?\\n-----\\nYes it is nice, halloween is my fav.\\n-----\\nLol, I can imagine. I'll be reading a lot when football is over.\\n-----\\nNo I don't work at a funeral home.\\n-----\\nOk I see, that's your halloween costume.\\n-----\\nWhat do you like to read? I like rock alternative music.\\n-----\\nI like anything to do with mystery.\\n-----\\nI am great! How are you?\",\n",
       " \"Hello friend, how is it going.\\n-----\\nI am well an you? I have a creepy ride. Guess.\\n-----\\nI'm great enjoying the football season.\\n-----\\nI drive around in a long black hearse an love this season.\\n-----\\nYou work for a funeral home?\\n-----\\nYes it is nice, halloween is my fav.\\n-----\\nLol, I can imagine. I'll be reading a lot when football is over.\\n-----\\nNo I don't work at a funeral home.\\n-----\\nOk I see, that's your halloween costume.\\n-----\\nWhat do you like to read? I like rock alternative music.\\n-----\\nI like anything to do with mystery.\\n-----\\nSitting on the couch with my black lab, what about you?\",\n",
       " \"Hello friend, how is it going.\\n-----\\nI am well an you? I have a creepy ride. Guess.\\n-----\\nI'm great enjoying the football season.\\n-----\\nI drive around in a long black hearse an love this season.\\n-----\\nYou work for a funeral home?\\n-----\\nYes it is nice, halloween is my fav.\\n-----\\nLol, I can imagine. I'll be reading a lot when football is over.\\n-----\\nNo I don't work at a funeral home.\\n-----\\nOk I see, that's your halloween costume.\\n-----\\nWhat do you like to read? I like rock alternative music.\\n-----\\nI like anything to do with mystery.\\n-----\\nOh no it isn't it is my car lol.\",\n",
       " \"Hello friend, how is it going.\\n-----\\nI am well an you? I have a creepy ride. Guess.\\n-----\\nI'm great enjoying the football season.\\n-----\\nI drive around in a long black hearse an love this season.\\n-----\\nYou work for a funeral home?\\n-----\\nYes it is nice, halloween is my fav.\\n-----\\nLol, I can imagine. I'll be reading a lot when football is over.\\n-----\\nNo I don't work at a funeral home.\\n-----\\nOk I see, that's your halloween costume.\\n-----\\nWhat do you like to read? I like rock alternative music.\\n-----\\nI like anything to do with mystery.\\n-----\\nOh no it isn't it is my car lol.\\n-----\\nLol, oh I see, taught you own it.\\n-----\\nI'm great, just working on my live action role playing character, how are you?\",\n",
       " \"Hello friend, how is it going.\\n-----\\nI am well an you? I have a creepy ride. Guess.\\n-----\\nI'm great enjoying the football season.\\n-----\\nI drive around in a long black hearse an love this season.\\n-----\\nYou work for a funeral home?\\n-----\\nYes it is nice, halloween is my fav.\\n-----\\nLol, I can imagine. I'll be reading a lot when football is over.\\n-----\\nNo I don't work at a funeral home.\\n-----\\nOk I see, that's your halloween costume.\\n-----\\nWhat do you like to read? I like rock alternative music.\\n-----\\nI like anything to do with mystery.\\n-----\\nOh no it isn't it is my car lol.\\n-----\\nLol, oh I see, taught you own it.\\n-----\\nNice. Do you have brothers and sisters? It is just me and my mom.\",\n",
       " \"Hello friend, how is it going.\\n-----\\nI am well an you? I have a creepy ride. Guess.\\n-----\\nI'm great enjoying the football season.\\n-----\\nI drive around in a long black hearse an love this season.\\n-----\\nYou work for a funeral home?\\n-----\\nYes it is nice, halloween is my fav.\\n-----\\nLol, I can imagine. I'll be reading a lot when football is over.\\n-----\\nNo I don't work at a funeral home.\\n-----\\nOk I see, that's your halloween costume.\\n-----\\nWhat do you like to read? I like rock alternative music.\\n-----\\nI like anything to do with mystery.\\n-----\\nOh no it isn't it is my car lol.\\n-----\\nLol, oh I see, taught you own it.\\n-----\\nI deliver to our customers. We are vendors of food supplies.\",\n",
       " \"Hello friend, how is it going.\\n-----\\nI am well an you? I have a creepy ride. Guess.\\n-----\\nI'm great enjoying the football season.\\n-----\\nI drive around in a long black hearse an love this season.\\n-----\\nYou work for a funeral home?\\n-----\\nYes it is nice, halloween is my fav.\\n-----\\nLol, I can imagine. I'll be reading a lot when football is over.\\n-----\\nNo I don't work at a funeral home.\\n-----\\nOk I see, that's your halloween costume.\\n-----\\nWhat do you like to read? I like rock alternative music.\\n-----\\nI like anything to do with mystery.\\n-----\\nOh no it isn't it is my car lol.\\n-----\\nLol, oh I see, taught you own it.\\n-----\\nCool! What do you like to do?\",\n",
       " \"Hello friend, how is it going.\\n-----\\nI am well an you? I have a creepy ride. Guess.\\n-----\\nI'm great enjoying the football season.\\n-----\\nI drive around in a long black hearse an love this season.\\n-----\\nYou work for a funeral home?\\n-----\\nYes it is nice, halloween is my fav.\\n-----\\nLol, I can imagine. I'll be reading a lot when football is over.\\n-----\\nNo I don't work at a funeral home.\\n-----\\nOk I see, that's your halloween costume.\\n-----\\nWhat do you like to read? I like rock alternative music.\\n-----\\nI like anything to do with mystery.\\n-----\\nOh no it isn't it is my car lol.\\n-----\\nLol, oh I see, taught you own it.\\n-----\\nWhere are you from? I'm in Cali.\",\n",
       " \"Hello friend, how is it going.\\n-----\\nI am well an you? I have a creepy ride. Guess.\\n-----\\nI'm great enjoying the football season.\\n-----\\nI drive around in a long black hearse an love this season.\\n-----\\nYou work for a funeral home?\\n-----\\nYes it is nice, halloween is my fav.\\n-----\\nLol, I can imagine. I'll be reading a lot when football is over.\\n-----\\nNo I don't work at a funeral home.\\n-----\\nOk I see, that's your halloween costume.\\n-----\\nWhat do you like to read? I like rock alternative music.\\n-----\\nI like anything to do with mystery.\\n-----\\nOh no it isn't it is my car lol.\\n-----\\nLol, oh I see, taught you own it.\\n-----\\nThat is awesome. What do you like to do for fun?\",\n",
       " \"Hello friend, how is it going.\\n-----\\nI am well an you? I have a creepy ride. Guess.\\n-----\\nI'm great enjoying the football season.\\n-----\\nI drive around in a long black hearse an love this season.\\n-----\\nYou work for a funeral home?\\n-----\\nYes it is nice, halloween is my fav.\\n-----\\nLol, I can imagine. I'll be reading a lot when football is over.\\n-----\\nNo I don't work at a funeral home.\\n-----\\nOk I see, that's your halloween costume.\\n-----\\nWhat do you like to read? I like rock alternative music.\\n-----\\nI like anything to do with mystery.\\n-----\\nOh no it isn't it is my car lol.\\n-----\\nLol, oh I see, taught you own it.\\n-----\\nYou are too kind. But not the pool boy please. We get on fine enough!\",\n",
       " \"Hello friend, how is it going.\\n-----\\nI am well an you? I have a creepy ride. Guess.\\n-----\\nI'm great enjoying the football season.\\n-----\\nI drive around in a long black hearse an love this season.\\n-----\\nYou work for a funeral home?\\n-----\\nYes it is nice, halloween is my fav.\\n-----\\nLol, I can imagine. I'll be reading a lot when football is over.\\n-----\\nNo I don't work at a funeral home.\\n-----\\nOk I see, that's your halloween costume.\\n-----\\nWhat do you like to read? I like rock alternative music.\\n-----\\nI like anything to do with mystery.\\n-----\\nOh no it isn't it is my car lol.\\n-----\\nLol, oh I see, taught you own it.\\n-----\\nMy yoga is like a dance. I might do a little dancing tonight;.\",\n",
       " \"Hello friend, how is it going.\\n-----\\nI am well an you? I have a creepy ride. Guess.\\n-----\\nI'm great enjoying the football season.\\n-----\\nI drive around in a long black hearse an love this season.\\n-----\\nYou work for a funeral home?\\n-----\\nYes it is nice, halloween is my fav.\\n-----\\nLol, I can imagine. I'll be reading a lot when football is over.\\n-----\\nNo I don't work at a funeral home.\\n-----\\nOk I see, that's your halloween costume.\\n-----\\nWhat do you like to read? I like rock alternative music.\\n-----\\nI like anything to do with mystery.\\n-----\\nOh no it isn't it is my car lol.\\n-----\\nLol, oh I see, taught you own it.\\n-----\\nI was a wired kid plotting to take over the world a total egomaniac.\",\n",
       " \"Hello friend, how is it going.\\n-----\\nI am well an you? I have a creepy ride. Guess.\\n-----\\nI'm great enjoying the football season.\\n-----\\nI drive around in a long black hearse an love this season.\\n-----\\nYou work for a funeral home?\\n-----\\nYes it is nice, halloween is my fav.\\n-----\\nLol, I can imagine. I'll be reading a lot when football is over.\\n-----\\nNo I don't work at a funeral home.\\n-----\\nOk I see, that's your halloween costume.\\n-----\\nWhat do you like to read? I like rock alternative music.\\n-----\\nI like anything to do with mystery.\\n-----\\nOh no it isn't it is my car lol.\\n-----\\nLol, oh I see, taught you own it.\\n-----\\nThat is awesome, I've a dog too. Its a boxer. What kind of dog do you have?\",\n",
       " \"Hello friend, how is it going.\\n-----\\nI am well an you? I have a creepy ride. Guess.\\n-----\\nI'm great enjoying the football season.\\n-----\\nI drive around in a long black hearse an love this season.\\n-----\\nYou work for a funeral home?\\n-----\\nYes it is nice, halloween is my fav.\\n-----\\nLol, I can imagine. I'll be reading a lot when football is over.\\n-----\\nNo I don't work at a funeral home.\\n-----\\nOk I see, that's your halloween costume.\\n-----\\nWhat do you like to read? I like rock alternative music.\\n-----\\nI like anything to do with mystery.\\n-----\\nOh no it isn't it is my car lol.\\n-----\\nLol, oh I see, taught you own it.\\n-----\\nI actually homeschooled my daughter.\",\n",
       " \"Hello friend, how is it going.\\n-----\\nI am well an you? I have a creepy ride. Guess.\\n-----\\nI'm great enjoying the football season.\\n-----\\nI drive around in a long black hearse an love this season.\\n-----\\nYou work for a funeral home?\\n-----\\nYes it is nice, halloween is my fav.\\n-----\\nLol, I can imagine. I'll be reading a lot when football is over.\\n-----\\nNo I don't work at a funeral home.\\n-----\\nOk I see, that's your halloween costume.\\n-----\\nWhat do you like to read? I like rock alternative music.\\n-----\\nI like anything to do with mystery.\\n-----\\nOh no it isn't it is my car lol.\\n-----\\nLol, oh I see, taught you own it.\\n-----\\nI'm not much of an artist. I do love music. What about you?\",\n",
       " \"Hello friend, how is it going.\\n-----\\nI am well an you? I have a creepy ride. Guess.\\n-----\\nI'm great enjoying the football season.\\n-----\\nI drive around in a long black hearse an love this season.\\n-----\\nYou work for a funeral home?\\n-----\\nYes it is nice, halloween is my fav.\\n-----\\nLol, I can imagine. I'll be reading a lot when football is over.\\n-----\\nNo I don't work at a funeral home.\\n-----\\nOk I see, that's your halloween costume.\\n-----\\nWhat do you like to read? I like rock alternative music.\\n-----\\nI like anything to do with mystery.\\n-----\\nOh no it isn't it is my car lol.\\n-----\\nLol, oh I see, taught you own it.\\n-----\\nOk, I work in middle school, and once in a while I go to symphony orchestra.\",\n",
       " \"Hello friend, how is it going.\\n-----\\nI am well an you? I have a creepy ride. Guess.\\n-----\\nI'm great enjoying the football season.\\n-----\\nI drive around in a long black hearse an love this season.\\n-----\\nYou work for a funeral home?\\n-----\\nYes it is nice, halloween is my fav.\\n-----\\nLol, I can imagine. I'll be reading a lot when football is over.\\n-----\\nNo I don't work at a funeral home.\\n-----\\nOk I see, that's your halloween costume.\\n-----\\nWhat do you like to read? I like rock alternative music.\\n-----\\nI like anything to do with mystery.\\n-----\\nOh no it isn't it is my car lol.\\n-----\\nLol, oh I see, taught you own it.\\n-----\\nHey there. I'm Joseph. What is your name?\",\n",
       " \"Hello friend, how is it going.\\n-----\\nI am well an you? I have a creepy ride. Guess.\\n-----\\nI'm great enjoying the football season.\\n-----\\nI drive around in a long black hearse an love this season.\\n-----\\nYou work for a funeral home?\\n-----\\nYes it is nice, halloween is my fav.\\n-----\\nLol, I can imagine. I'll be reading a lot when football is over.\\n-----\\nNo I don't work at a funeral home.\\n-----\\nOk I see, that's your halloween costume.\\n-----\\nWhat do you like to read? I like rock alternative music.\\n-----\\nI like anything to do with mystery.\\n-----\\nOh no it isn't it is my car lol.\\n-----\\nLol, oh I see, taught you own it.\\n-----\\nI do not have a social life. I'm a teacher of 6th grade students.\",\n",
       " \"Hello friend, how is it going.\\n-----\\nI am well an you? I have a creepy ride. Guess.\\n-----\\nI'm great enjoying the football season.\\n-----\\nI drive around in a long black hearse an love this season.\\n-----\\nYou work for a funeral home?\\n-----\\nYes it is nice, halloween is my fav.\\n-----\\nLol, I can imagine. I'll be reading a lot when football is over.\\n-----\\nNo I don't work at a funeral home.\\n-----\\nOk I see, that's your halloween costume.\\n-----\\nWhat do you like to read? I like rock alternative music.\\n-----\\nI like anything to do with mystery.\\n-----\\nOh no it isn't it is my car lol.\\n-----\\nLol, oh I see, taught you own it.\\n-----\\nI love animals do you have any pets.\",\n",
       " \"Hello friend, how is it going.\\n-----\\nI am well an you? I have a creepy ride. Guess.\\n-----\\nI'm great enjoying the football season.\\n-----\\nI drive around in a long black hearse an love this season.\\n-----\\nYou work for a funeral home?\\n-----\\nYes it is nice, halloween is my fav.\\n-----\\nLol, I can imagine. I'll be reading a lot when football is over.\\n-----\\nNo I don't work at a funeral home.\\n-----\\nOk I see, that's your halloween costume.\\n-----\\nWhat do you like to read? I like rock alternative music.\\n-----\\nI like anything to do with mystery.\\n-----\\nOh no it isn't it is my car lol.\\n-----\\nLol, oh I see, taught you own it.\\n-----\\nI'm sporty, and I spend my spare time racing cars.\",\n",
       " \"Hello friend, how is it going.\\n-----\\nI am well an you? I have a creepy ride. Guess.\\n-----\\nI'm great enjoying the football season.\\n-----\\nI drive around in a long black hearse an love this season.\\n-----\\nYou work for a funeral home?\\n-----\\nYes it is nice, halloween is my fav.\\n-----\\nLol, I can imagine. I'll be reading a lot when football is over.\\n-----\\nNo I don't work at a funeral home.\\n-----\\nOk I see, that's your halloween costume.\\n-----\\nWhat do you like to read? I like rock alternative music.\\n-----\\nI like anything to do with mystery.\\n-----\\nOh no it isn't it is my car lol.\\n-----\\nLol, oh I see, taught you own it.\\n-----\\nI really enjoy Toyota cars though.\",\n",
       " \"Hello friend, how is it going.\\n-----\\nI am well an you? I have a creepy ride. Guess.\\n-----\\nI'm great enjoying the football season.\\n-----\\nI drive around in a long black hearse an love this season.\\n-----\\nYou work for a funeral home?\\n-----\\nYes it is nice, halloween is my fav.\\n-----\\nLol, I can imagine. I'll be reading a lot when football is over.\\n-----\\nNo I don't work at a funeral home.\\n-----\\nOk I see, that's your halloween costume.\\n-----\\nWhat do you like to read? I like rock alternative music.\\n-----\\nI like anything to do with mystery.\\n-----\\nOh no it isn't it is my car lol.\\n-----\\nLol, oh I see, taught you own it.\\n-----\\nMe and my cat charlie are in the mist of irma in Florida.\",\n",
       " \"Hello friend, how is it going.\\n-----\\nI am well an you? I have a creepy ride. Guess.\\n-----\\nI'm great enjoying the football season.\\n-----\\nI drive around in a long black hearse an love this season.\\n-----\\nYou work for a funeral home?\\n-----\\nYes it is nice, halloween is my fav.\\n-----\\nLol, I can imagine. I'll be reading a lot when football is over.\\n-----\\nNo I don't work at a funeral home.\\n-----\\nOk I see, that's your halloween costume.\\n-----\\nWhat do you like to read? I like rock alternative music.\\n-----\\nI like anything to do with mystery.\\n-----\\nOh no it isn't it is my car lol.\\n-----\\nLol, oh I see, taught you own it.\\n-----\\nMe also what is your favorite?\",\n",
       " \"Hello friend, how is it going.\\n-----\\nI am well an you? I have a creepy ride. Guess.\\n-----\\nI'm great enjoying the football season.\\n-----\\nI drive around in a long black hearse an love this season.\\n-----\\nYou work for a funeral home?\\n-----\\nYes it is nice, halloween is my fav.\\n-----\\nLol, I can imagine. I'll be reading a lot when football is over.\\n-----\\nNo I don't work at a funeral home.\\n-----\\nOk I see, that's your halloween costume.\\n-----\\nWhat do you like to read? I like rock alternative music.\\n-----\\nI like anything to do with mystery.\\n-----\\nOh no it isn't it is my car lol.\\n-----\\nLol, oh I see, taught you own it.\\n-----\\nMe also what is your favorite?\\n-----\\nWell I like Sherlock holmes and others.\\n-----\\nTo Asia. Have you ever traveled other countries?\",\n",
       " \"Hello friend, how is it going.\\n-----\\nI am well an you? I have a creepy ride. Guess.\\n-----\\nI'm great enjoying the football season.\\n-----\\nI drive around in a long black hearse an love this season.\\n-----\\nYou work for a funeral home?\\n-----\\nYes it is nice, halloween is my fav.\\n-----\\nLol, I can imagine. I'll be reading a lot when football is over.\\n-----\\nNo I don't work at a funeral home.\\n-----\\nOk I see, that's your halloween costume.\\n-----\\nWhat do you like to read? I like rock alternative music.\\n-----\\nI like anything to do with mystery.\\n-----\\nOh no it isn't it is my car lol.\\n-----\\nLol, oh I see, taught you own it.\\n-----\\nMe also what is your favorite?\\n-----\\nWell I like Sherlock holmes and others.\\n-----\\nRight on! I use to play 7 card back in the day.\",\n",
       " \"Hello friend, how is it going.\\n-----\\nI am well an you? I have a creepy ride. Guess.\\n-----\\nI'm great enjoying the football season.\\n-----\\nI drive around in a long black hearse an love this season.\\n-----\\nYou work for a funeral home?\\n-----\\nYes it is nice, halloween is my fav.\\n-----\\nLol, I can imagine. I'll be reading a lot when football is over.\\n-----\\nNo I don't work at a funeral home.\\n-----\\nOk I see, that's your halloween costume.\\n-----\\nWhat do you like to read? I like rock alternative music.\\n-----\\nI like anything to do with mystery.\\n-----\\nOh no it isn't it is my car lol.\\n-----\\nLol, oh I see, taught you own it.\\n-----\\nMe also what is your favorite?\\n-----\\nWell I like Sherlock holmes and others.\\n-----\\nGood stuff! I love soda and my favorite is coke!\",\n",
       " \"Hello friend, how is it going.\\n-----\\nI am well an you? I have a creepy ride. Guess.\\n-----\\nI'm great enjoying the football season.\\n-----\\nI drive around in a long black hearse an love this season.\\n-----\\nYou work for a funeral home?\\n-----\\nYes it is nice, halloween is my fav.\\n-----\\nLol, I can imagine. I'll be reading a lot when football is over.\\n-----\\nNo I don't work at a funeral home.\\n-----\\nOk I see, that's your halloween costume.\\n-----\\nWhat do you like to read? I like rock alternative music.\\n-----\\nI like anything to do with mystery.\\n-----\\nOh no it isn't it is my car lol.\\n-----\\nLol, oh I see, taught you own it.\\n-----\\nMe also what is your favorite?\\n-----\\nWell I like Sherlock holmes and others.\\n-----\\nMy wife and children go camping with me for fun.\",\n",
       " \"Hello friend, how is it going.\\n-----\\nI am well an you? I have a creepy ride. Guess.\\n-----\\nI'm great enjoying the football season.\\n-----\\nI drive around in a long black hearse an love this season.\\n-----\\nYou work for a funeral home?\\n-----\\nYes it is nice, halloween is my fav.\\n-----\\nLol, I can imagine. I'll be reading a lot when football is over.\\n-----\\nNo I don't work at a funeral home.\\n-----\\nOk I see, that's your halloween costume.\\n-----\\nWhat do you like to read? I like rock alternative music.\\n-----\\nI like anything to do with mystery.\\n-----\\nOh no it isn't it is my car lol.\\n-----\\nLol, oh I see, taught you own it.\\n-----\\nMe also what is your favorite?\\n-----\\nWell I like Sherlock holmes and others.\\n-----\\nI am only 20 but I do know people can be shady.\",\n",
       " \"Hello friend, how is it going.\\n-----\\nI am well an you? I have a creepy ride. Guess.\\n-----\\nI'm great enjoying the football season.\\n-----\\nI drive around in a long black hearse an love this season.\\n-----\\nYou work for a funeral home?\\n-----\\nYes it is nice, halloween is my fav.\\n-----\\nLol, I can imagine. I'll be reading a lot when football is over.\\n-----\\nNo I don't work at a funeral home.\\n-----\\nOk I see, that's your halloween costume.\\n-----\\nWhat do you like to read? I like rock alternative music.\\n-----\\nI like anything to do with mystery.\\n-----\\nOh no it isn't it is my car lol.\\n-----\\nLol, oh I see, taught you own it.\\n-----\\nMe also what is your favorite?\\n-----\\nWell I like Sherlock holmes and others.\\n-----\\nOk maybe we can meet in my hometown in Maryland.\",\n",
       " \"Hello friend, how is it going.\\n-----\\nI am well an you? I have a creepy ride. Guess.\\n-----\\nI'm great enjoying the football season.\\n-----\\nI drive around in a long black hearse an love this season.\\n-----\\nYou work for a funeral home?\\n-----\\nYes it is nice, halloween is my fav.\\n-----\\nLol, I can imagine. I'll be reading a lot when football is over.\\n-----\\nNo I don't work at a funeral home.\\n-----\\nOk I see, that's your halloween costume.\\n-----\\nWhat do you like to read? I like rock alternative music.\\n-----\\nI like anything to do with mystery.\\n-----\\nOh no it isn't it is my car lol.\\n-----\\nLol, oh I see, taught you own it.\\n-----\\nMe also what is your favorite?\\n-----\\nWell I like Sherlock holmes and others.\\n-----\\nThat's great! My wife and I are both zookeepers.\",\n",
       " \"Hello friend, how is it going.\\n-----\\nI am well an you? I have a creepy ride. Guess.\\n-----\\nI'm great enjoying the football season.\\n-----\\nI drive around in a long black hearse an love this season.\\n-----\\nYou work for a funeral home?\\n-----\\nYes it is nice, halloween is my fav.\\n-----\\nLol, I can imagine. I'll be reading a lot when football is over.\\n-----\\nNo I don't work at a funeral home.\\n-----\\nOk I see, that's your halloween costume.\\n-----\\nWhat do you like to read? I like rock alternative music.\\n-----\\nI like anything to do with mystery.\\n-----\\nOh no it isn't it is my car lol.\\n-----\\nLol, oh I see, taught you own it.\\n-----\\nMe also what is your favorite?\\n-----\\nWell I like Sherlock holmes and others.\\n-----\\nI know right funny my niece adored her forever now its all ed Sheeran.\",\n",
       " \"Hello friend, how is it going.\\n-----\\nI am well an you? I have a creepy ride. Guess.\\n-----\\nI'm great enjoying the football season.\\n-----\\nI drive around in a long black hearse an love this season.\\n-----\\nYou work for a funeral home?\\n-----\\nYes it is nice, halloween is my fav.\\n-----\\nLol, I can imagine. I'll be reading a lot when football is over.\\n-----\\nNo I don't work at a funeral home.\\n-----\\nOk I see, that's your halloween costume.\\n-----\\nWhat do you like to read? I like rock alternative music.\\n-----\\nI like anything to do with mystery.\\n-----\\nOh no it isn't it is my car lol.\\n-----\\nLol, oh I see, taught you own it.\\n-----\\nMe also what is your favorite?\\n-----\\nWell I like Sherlock holmes and others.\\n-----\\nAwesome.\",\n",
       " \"Hello friend, how is it going.\\n-----\\nI am well an you? I have a creepy ride. Guess.\\n-----\\nI'm great enjoying the football season.\\n-----\\nI drive around in a long black hearse an love this season.\\n-----\\nYou work for a funeral home?\\n-----\\nYes it is nice, halloween is my fav.\\n-----\\nLol, I can imagine. I'll be reading a lot when football is over.\\n-----\\nNo I don't work at a funeral home.\\n-----\\nOk I see, that's your halloween costume.\\n-----\\nWhat do you like to read? I like rock alternative music.\\n-----\\nI like anything to do with mystery.\\n-----\\nOh no it isn't it is my car lol.\\n-----\\nLol, oh I see, taught you own it.\\n-----\\nMe also what is your favorite?\\n-----\\nWell I like Sherlock holmes and others.\\n-----\\nThat sounds healthy actually to know your limits and interests.\",\n",
       " \"Hello friend, how is it going.\\n-----\\nI am well an you? I have a creepy ride. Guess.\\n-----\\nI'm great enjoying the football season.\\n-----\\nI drive around in a long black hearse an love this season.\\n-----\\nYou work for a funeral home?\\n-----\\nYes it is nice, halloween is my fav.\\n-----\\nLol, I can imagine. I'll be reading a lot when football is over.\\n-----\\nNo I don't work at a funeral home.\\n-----\\nOk I see, that's your halloween costume.\\n-----\\nWhat do you like to read? I like rock alternative music.\\n-----\\nI like anything to do with mystery.\\n-----\\nOh no it isn't it is my car lol.\\n-----\\nLol, oh I see, taught you own it.\\n-----\\nMe also what is your favorite?\\n-----\\nWell I like Sherlock holmes and others.\\n-----\\nDo you have any hobbies?\",\n",
       " \"Hello friend, how is it going.\\n-----\\nI am well an you? I have a creepy ride. Guess.\\n-----\\nI'm great enjoying the football season.\\n-----\\nI drive around in a long black hearse an love this season.\\n-----\\nYou work for a funeral home?\\n-----\\nYes it is nice, halloween is my fav.\\n-----\\nLol, I can imagine. I'll be reading a lot when football is over.\\n-----\\nNo I don't work at a funeral home.\\n-----\\nOk I see, that's your halloween costume.\\n-----\\nWhat do you like to read? I like rock alternative music.\\n-----\\nI like anything to do with mystery.\\n-----\\nOh no it isn't it is my car lol.\\n-----\\nLol, oh I see, taught you own it.\\n-----\\nMe also what is your favorite?\\n-----\\nWell I like Sherlock holmes and others.\\n-----\\nAh so do you stay up all night after the kids are asleep?\",\n",
       " \"Hello friend, how is it going.\\n-----\\nI am well an you? I have a creepy ride. Guess.\\n-----\\nI'm great enjoying the football season.\\n-----\\nI drive around in a long black hearse an love this season.\\n-----\\nYou work for a funeral home?\\n-----\\nYes it is nice, halloween is my fav.\\n-----\\nLol, I can imagine. I'll be reading a lot when football is over.\\n-----\\nNo I don't work at a funeral home.\\n-----\\nOk I see, that's your halloween costume.\\n-----\\nWhat do you like to read? I like rock alternative music.\\n-----\\nI like anything to do with mystery.\\n-----\\nOh no it isn't it is my car lol.\\n-----\\nLol, oh I see, taught you own it.\\n-----\\nMe also what is your favorite?\\n-----\\nWell I like Sherlock holmes and others.\\n-----\\nHi how are you today?\",\n",
       " \"Hello friend, how is it going.\\n-----\\nI am well an you? I have a creepy ride. Guess.\\n-----\\nI'm great enjoying the football season.\\n-----\\nI drive around in a long black hearse an love this season.\\n-----\\nYou work for a funeral home?\\n-----\\nYes it is nice, halloween is my fav.\\n-----\\nLol, I can imagine. I'll be reading a lot when football is over.\\n-----\\nNo I don't work at a funeral home.\\n-----\\nOk I see, that's your halloween costume.\\n-----\\nWhat do you like to read? I like rock alternative music.\\n-----\\nI like anything to do with mystery.\\n-----\\nOh no it isn't it is my car lol.\\n-----\\nLol, oh I see, taught you own it.\\n-----\\nMe also what is your favorite?\\n-----\\nWell I like Sherlock holmes and others.\\n-----\\nI am ten. I like shows about dogs and cats. Those are my favorite animals.\",\n",
       " \"Hello friend, how is it going.\\n-----\\nI am well an you? I have a creepy ride. Guess.\\n-----\\nI'm great enjoying the football season.\\n-----\\nI drive around in a long black hearse an love this season.\\n-----\\nYou work for a funeral home?\\n-----\\nYes it is nice, halloween is my fav.\\n-----\\nLol, I can imagine. I'll be reading a lot when football is over.\\n-----\\nNo I don't work at a funeral home.\\n-----\\nOk I see, that's your halloween costume.\\n-----\\nWhat do you like to read? I like rock alternative music.\\n-----\\nI like anything to do with mystery.\\n-----\\nOh no it isn't it is my car lol.\\n-----\\nLol, oh I see, taught you own it.\\n-----\\nMe also what is your favorite?\\n-----\\nWell I like Sherlock holmes and others.\\n-----\\nYea I hear ya. lol I watch a lot of foreign stuff to.\",\n",
       " \"Hello friend, how is it going.\\n-----\\nI am well an you? I have a creepy ride. Guess.\\n-----\\nI'm great enjoying the football season.\\n-----\\nI drive around in a long black hearse an love this season.\\n-----\\nYou work for a funeral home?\\n-----\\nYes it is nice, halloween is my fav.\\n-----\\nLol, I can imagine. I'll be reading a lot when football is over.\\n-----\\nNo I don't work at a funeral home.\\n-----\\nOk I see, that's your halloween costume.\\n-----\\nWhat do you like to read? I like rock alternative music.\\n-----\\nI like anything to do with mystery.\\n-----\\nOh no it isn't it is my car lol.\\n-----\\nLol, oh I see, taught you own it.\\n-----\\nMe also what is your favorite?\\n-----\\nWell I like Sherlock holmes and others.\\n-----\\nIt sure is a crazy world. I hope he answers your prayers. I'll be driving.\",\n",
       " \"Hello friend, how is it going.\\n-----\\nI am well an you? I have a creepy ride. Guess.\\n-----\\nI'm great enjoying the football season.\\n-----\\nI drive around in a long black hearse an love this season.\\n-----\\nYou work for a funeral home?\\n-----\\nYes it is nice, halloween is my fav.\\n-----\\nLol, I can imagine. I'll be reading a lot when football is over.\\n-----\\nNo I don't work at a funeral home.\\n-----\\nOk I see, that's your halloween costume.\\n-----\\nWhat do you like to read? I like rock alternative music.\\n-----\\nI like anything to do with mystery.\\n-----\\nOh no it isn't it is my car lol.\\n-----\\nLol, oh I see, taught you own it.\\n-----\\nMe also what is your favorite?\\n-----\\nWell I like Sherlock holmes and others.\\n-----\\nI love the lake, lay back and listen to music, you have a favorite musician?\",\n",
       " \"Hello friend, how is it going.\\n-----\\nI am well an you? I have a creepy ride. Guess.\\n-----\\nI'm great enjoying the football season.\\n-----\\nI drive around in a long black hearse an love this season.\\n-----\\nYou work for a funeral home?\\n-----\\nYes it is nice, halloween is my fav.\\n-----\\nLol, I can imagine. I'll be reading a lot when football is over.\\n-----\\nNo I don't work at a funeral home.\\n-----\\nOk I see, that's your halloween costume.\\n-----\\nWhat do you like to read? I like rock alternative music.\\n-----\\nI like anything to do with mystery.\\n-----\\nOh no it isn't it is my car lol.\\n-----\\nLol, oh I see, taught you own it.\\n-----\\nMe also what is your favorite?\\n-----\\nWell I like Sherlock holmes and others.\\n-----\\nI just got done cleaning up around the house, enjoying my husband being home today.\",\n",
       " \"Hello friend, how is it going.\\n-----\\nI am well an you? I have a creepy ride. Guess.\\n-----\\nI'm great enjoying the football season.\\n-----\\nI drive around in a long black hearse an love this season.\\n-----\\nYou work for a funeral home?\\n-----\\nYes it is nice, halloween is my fav.\\n-----\\nLol, I can imagine. I'll be reading a lot when football is over.\\n-----\\nNo I don't work at a funeral home.\\n-----\\nOk I see, that's your halloween costume.\\n-----\\nWhat do you like to read? I like rock alternative music.\\n-----\\nI like anything to do with mystery.\\n-----\\nOh no it isn't it is my car lol.\\n-----\\nLol, oh I see, taught you own it.\\n-----\\nMe also what is your favorite?\\n-----\\nWell I like Sherlock holmes and others.\\n-----\\nWow! I also work in the medical field and spend long hours working at the local hospital.\",\n",
       " \"Hello friend, how is it going.\\n-----\\nI am well an you? I have a creepy ride. Guess.\\n-----\\nI'm great enjoying the football season.\\n-----\\nI drive around in a long black hearse an love this season.\\n-----\\nYou work for a funeral home?\\n-----\\nYes it is nice, halloween is my fav.\\n-----\\nLol, I can imagine. I'll be reading a lot when football is over.\\n-----\\nNo I don't work at a funeral home.\\n-----\\nOk I see, that's your halloween costume.\\n-----\\nWhat do you like to read? I like rock alternative music.\\n-----\\nI like anything to do with mystery.\\n-----\\nOh no it isn't it is my car lol.\\n-----\\nLol, oh I see, taught you own it.\\n-----\\nMe also what is your favorite?\\n-----\\nWell I like Sherlock holmes and others.\\n-----\\nI do own it I think there is confusion?\",\n",
       " \"Rock on, I'm listening to my favorite band guns and roses.\\n-----\\nHi I'm great! Just finished up my latest work project! You?\",\n",
       " \"Rock on, I'm listening to my favorite band guns and roses.\\n-----\\nWell I volunteer at nursing homes when I've the chance.\",\n",
       " \"Rock on, I'm listening to my favorite band guns and roses.\\n-----\\nLizards are not allow in my condo.\",\n",
       " \"Rock on, I'm listening to my favorite band guns and roses.\\n-----\\nLol what do you do for a living?\",\n",
       " \"Rock on, I'm listening to my favorite band guns and roses.\\n-----\\nEspecially playing esports, its good to get outside. I do a lot of gardening to get outside.\",\n",
       " \"Rock on, I'm listening to my favorite band guns and roses.\\n-----\\nIts ok I can be your friend for now.\",\n",
       " \"Rock on, I'm listening to my favorite band guns and roses.\\n-----\\nI'm an old man and I love to garden.\",\n",
       " \"Rock on, I'm listening to my favorite band guns and roses.\\n-----\\nI like to wear jeans.\",\n",
       " \"Rock on, I'm listening to my favorite band guns and roses.\\n-----\\nIt is night time here now.\",\n",
       " \"Rock on, I'm listening to my favorite band guns and roses.\\n-----\\nI've a weird gene I can tell when people have eaten asparagus.\",\n",
       " \"Rock on, I'm listening to my favorite band guns and roses.\\n-----\\nI shop and look good.\",\n",
       " \"Rock on, I'm listening to my favorite band guns and roses.\\n-----\\nMarried for 5 years, with only one child!\",\n",
       " \"Rock on, I'm listening to my favorite band guns and roses.\\n-----\\nI enjoy it, but its difficult all at the same time.\",\n",
       " \"Rock on, I'm listening to my favorite band guns and roses.\\n-----\\nAhahah I did that once but it fell apart.\",\n",
       " \"Rock on, I'm listening to my favorite band guns and roses.\\n-----\\nI'm craving some iced tea right now haha. Even though its a bit chilly out.\",\n",
       " \"Rock on, I'm listening to my favorite band guns and roses.\\n-----\\nWhere do you work at.\",\n",
       " \"Rock on, I'm listening to my favorite band guns and roses.\\n-----\\nI like to sew and I wait tables. I lead a pretty boring life I guess.\",\n",
       " \"Rock on, I'm listening to my favorite band guns and roses.\\n-----\\nYou may need to contact someone immediately until you can get therapy. Hotlines are there.\",\n",
       " \"Rock on, I'm listening to my favorite band guns and roses.\\n-----\\nWhen I was 18 my family made their way across the country with a mobile home.\",\n",
       " \"Rock on, I'm listening to my favorite band guns and roses.\\n-----\\nNo kidding? I was just listening to the same thing while taking a bath.\",\n",
       " \"Rock on, I'm listening to my favorite band guns and roses.\\n-----\\nNo kidding? I was just listening to the same thing while taking a bath.\\n-----\\nOf course. I love to listen to rock.\\n-----\\nCubs won! You sing and dance? I do. bird peck at my eyes.\",\n",
       " \"Rock on, I'm listening to my favorite band guns and roses.\\n-----\\nNo kidding? I was just listening to the same thing while taking a bath.\\n-----\\nOf course. I love to listen to rock.\\n-----\\nOh. I am a vegetarian.\",\n",
       " \"Rock on, I'm listening to my favorite band guns and roses.\\n-----\\nNo kidding? I was just listening to the same thing while taking a bath.\\n-----\\nOf course. I love to listen to rock.\\n-----\\nI love corn. How long have you been gardening?\",\n",
       " \"Rock on, I'm listening to my favorite band guns and roses.\\n-----\\nNo kidding? I was just listening to the same thing while taking a bath.\\n-----\\nOf course. I love to listen to rock.\\n-----\\nWow sounds great God bless.\",\n",
       " \"Rock on, I'm listening to my favorite band guns and roses.\\n-----\\nNo kidding? I was just listening to the same thing while taking a bath.\\n-----\\nOf course. I love to listen to rock.\\n-----\\nI love animals I have a cat.\",\n",
       " \"Rock on, I'm listening to my favorite band guns and roses.\\n-----\\nNo kidding? I was just listening to the same thing while taking a bath.\\n-----\\nOf course. I love to listen to rock.\\n-----\\nI need someone like you in my life. I think too much.\",\n",
       " \"Rock on, I'm listening to my favorite band guns and roses.\\n-----\\nNo kidding? I was just listening to the same thing while taking a bath.\\n-----\\nOf course. I love to listen to rock.\\n-----\\nHave you put on a lot of weight or you have kept your normal weight.\",\n",
       " \"Rock on, I'm listening to my favorite band guns and roses.\\n-----\\nNo kidding? I was just listening to the same thing while taking a bath.\\n-----\\nOf course. I love to listen to rock.\\n-----\\nHi. I am fat. I need sleep.\",\n",
       " \"Rock on, I'm listening to my favorite band guns and roses.\\n-----\\nNo kidding? I was just listening to the same thing while taking a bath.\\n-----\\nOf course. I love to listen to rock.\\n-----\\nI will have to check it out. Can I find them on Youtube?\",\n",
       " \"Rock on, I'm listening to my favorite band guns and roses.\\n-----\\nNo kidding? I was just listening to the same thing while taking a bath.\\n-----\\nOf course. I love to listen to rock.\\n-----\\nOh geez. I teach yoga so am pretty fit. Do you work?\",\n",
       " \"Rock on, I'm listening to my favorite band guns and roses.\\n-----\\nNo kidding? I was just listening to the same thing while taking a bath.\\n-----\\nOf course. I love to listen to rock.\\n-----\\nI really love all music, but I guess reggae is my favorite.\",\n",
       " \"Rock on, I'm listening to my favorite band guns and roses.\\n-----\\nNo kidding? I was just listening to the same thing while taking a bath.\\n-----\\nOf course. I love to listen to rock.\\n-----\\nNo problem. So what do you do for fun my guy?\",\n",
       " \"Rock on, I'm listening to my favorite band guns and roses.\\n-----\\nNo kidding? I was just listening to the same thing while taking a bath.\\n-----\\nOf course. I love to listen to rock.\\n-----\\nDoing well, just a little tired, just got off of work, stocking at groceries.\",\n",
       " \"Rock on, I'm listening to my favorite band guns and roses.\\n-----\\nNo kidding? I was just listening to the same thing while taking a bath.\\n-----\\nOf course. I love to listen to rock.\\n-----\\nYeah, for sure! That would be a good time!\",\n",
       " \"Rock on, I'm listening to my favorite band guns and roses.\\n-----\\nNo kidding? I was just listening to the same thing while taking a bath.\\n-----\\nOf course. I love to listen to rock.\\n-----\\nHey there! Its Dave here from Las Vegas.\",\n",
       " \"Rock on, I'm listening to my favorite band guns and roses.\\n-----\\nNo kidding? I was just listening to the same thing while taking a bath.\\n-----\\nOf course. I love to listen to rock.\\n-----\\nI took karate once. Do you listen to music in class to get motivated?\",\n",
       " \"Rock on, I'm listening to my favorite band guns and roses.\\n-----\\nNo kidding? I was just listening to the same thing while taking a bath.\\n-----\\nOf course. I love to listen to rock.\\n-----\\nHi Zach my name how are you.\",\n",
       " \"Rock on, I'm listening to my favorite band guns and roses.\\n-----\\nNo kidding? I was just listening to the same thing while taking a bath.\\n-----\\nOf course. I love to listen to rock.\\n-----\\nHa. my little girl is too young to enjoy shopping.\",\n",
       " \"Rock on, I'm listening to my favorite band guns and roses.\\n-----\\nNo kidding? I was just listening to the same thing while taking a bath.\\n-----\\nOf course. I love to listen to rock.\\n-----\\nI am doing great, how about you?\",\n",
       " \"Rock on, I'm listening to my favorite band guns and roses.\\n-----\\nNo kidding? I was just listening to the same thing while taking a bath.\\n-----\\nOf course. I love to listen to rock.\\n-----\\nMan my boxer just peed on the carpet!\",\n",
       " \"Rock on, I'm listening to my favorite band guns and roses.\\n-----\\nNo kidding? I was just listening to the same thing while taking a bath.\\n-----\\nOf course. I love to listen to rock.\\n-----\\nMan my boxer just peed on the carpet!\\n-----\\nWell I'm into black everything. So at least it wouldn't show on my black carpet.\\n-----\\nI never been, I just moved to Virginia from Pennsylvania.\",\n",
       " \"Rock on, I'm listening to my favorite band guns and roses.\\n-----\\nNo kidding? I was just listening to the same thing while taking a bath.\\n-----\\nOf course. I love to listen to rock.\\n-----\\nMan my boxer just peed on the carpet!\\n-----\\nWell I'm into black everything. So at least it wouldn't show on my black carpet.\\n-----\\nHi angel, do you like breakfast?\",\n",
       " \"Rock on, I'm listening to my favorite band guns and roses.\\n-----\\nNo kidding? I was just listening to the same thing while taking a bath.\\n-----\\nOf course. I love to listen to rock.\\n-----\\nMan my boxer just peed on the carpet!\\n-----\\nWell I'm into black everything. So at least it wouldn't show on my black carpet.\\n-----\\nI'm well tired from hiking you?\",\n",
       " \"Rock on, I'm listening to my favorite band guns and roses.\\n-----\\nNo kidding? I was just listening to the same thing while taking a bath.\\n-----\\nOf course. I love to listen to rock.\\n-----\\nMan my boxer just peed on the carpet!\\n-----\\nWell I'm into black everything. So at least it wouldn't show on my black carpet.\\n-----\\nHey, will you do me a big favor?\",\n",
       " \"Rock on, I'm listening to my favorite band guns and roses.\\n-----\\nNo kidding? I was just listening to the same thing while taking a bath.\\n-----\\nOf course. I love to listen to rock.\\n-----\\nMan my boxer just peed on the carpet!\\n-----\\nWell I'm into black everything. So at least it wouldn't show on my black carpet.\\n-----\\nYep! My husband and I have them on 5 acres!\",\n",
       " \"Rock on, I'm listening to my favorite band guns and roses.\\n-----\\nNo kidding? I was just listening to the same thing while taking a bath.\\n-----\\nOf course. I love to listen to rock.\\n-----\\nMan my boxer just peed on the carpet!\\n-----\\nWell I'm into black everything. So at least it wouldn't show on my black carpet.\\n-----\\nHaha I enjoy bike riding, it is good exercise.\",\n",
       " \"Rock on, I'm listening to my favorite band guns and roses.\\n-----\\nNo kidding? I was just listening to the same thing while taking a bath.\\n-----\\nOf course. I love to listen to rock.\\n-----\\nMan my boxer just peed on the carpet!\\n-----\\nWell I'm into black everything. So at least it wouldn't show on my black carpet.\\n-----\\nI used to be in band as vocal when I was in school.\",\n",
       " \"Rock on, I'm listening to my favorite band guns and roses.\\n-----\\nNo kidding? I was just listening to the same thing while taking a bath.\\n-----\\nOf course. I love to listen to rock.\\n-----\\nMan my boxer just peed on the carpet!\\n-----\\nWell I'm into black everything. So at least it wouldn't show on my black carpet.\\n-----\\nShe's very rude. Break up.\",\n",
       " \"Rock on, I'm listening to my favorite band guns and roses.\\n-----\\nNo kidding? I was just listening to the same thing while taking a bath.\\n-----\\nOf course. I love to listen to rock.\\n-----\\nMan my boxer just peed on the carpet!\\n-----\\nWell I'm into black everything. So at least it wouldn't show on my black carpet.\\n-----\\nWhat did she teach? My mom stayed home with my and my 3 older siblings.\",\n",
       " \"Rock on, I'm listening to my favorite band guns and roses.\\n-----\\nNo kidding? I was just listening to the same thing while taking a bath.\\n-----\\nOf course. I love to listen to rock.\\n-----\\nMan my boxer just peed on the carpet!\\n-----\\nWell I'm into black everything. So at least it wouldn't show on my black carpet.\\n-----\\nWow. I have lost a important piece of jewelry at a fancy society gathering.\",\n",
       " \"Rock on, I'm listening to my favorite band guns and roses.\\n-----\\nNo kidding? I was just listening to the same thing while taking a bath.\\n-----\\nOf course. I love to listen to rock.\\n-----\\nMan my boxer just peed on the carpet!\\n-----\\nWell I'm into black everything. So at least it wouldn't show on my black carpet.\\n-----\\nHi, I'm from England. What about you?\",\n",
       " \"Rock on, I'm listening to my favorite band guns and roses.\\n-----\\nNo kidding? I was just listening to the same thing while taking a bath.\\n-----\\nOf course. I love to listen to rock.\\n-----\\nMan my boxer just peed on the carpet!\\n-----\\nWell I'm into black everything. So at least it wouldn't show on my black carpet.\\n-----\\nIt is. My mom reads palms at a fortune telling place.\",\n",
       " \"Rock on, I'm listening to my favorite band guns and roses.\\n-----\\nNo kidding? I was just listening to the same thing while taking a bath.\\n-----\\nOf course. I love to listen to rock.\\n-----\\nMan my boxer just peed on the carpet!\\n-----\\nWell I'm into black everything. So at least it wouldn't show on my black carpet.\\n-----\\nHow many? I love animals.\",\n",
       " \"Rock on, I'm listening to my favorite band guns and roses.\\n-----\\nNo kidding? I was just listening to the same thing while taking a bath.\\n-----\\nOf course. I love to listen to rock.\\n-----\\nMan my boxer just peed on the carpet!\\n-----\\nWell I'm into black everything. So at least it wouldn't show on my black carpet.\\n-----\\nUnfortunately no. grew up in the foster care system.\",\n",
       " \"Rock on, I'm listening to my favorite band guns and roses.\\n-----\\nNo kidding? I was just listening to the same thing while taking a bath.\\n-----\\nOf course. I love to listen to rock.\\n-----\\nMan my boxer just peed on the carpet!\\n-----\\nWell I'm into black everything. So at least it wouldn't show on my black carpet.\\n-----\\nLike celebrities. I have over two thousand of them so far.\",\n",
       " \"Rock on, I'm listening to my favorite band guns and roses.\\n-----\\nNo kidding? I was just listening to the same thing while taking a bath.\\n-----\\nOf course. I love to listen to rock.\\n-----\\nMan my boxer just peed on the carpet!\\n-----\\nWell I'm into black everything. So at least it wouldn't show on my black carpet.\\n-----\\nWitty is good that means you have a sense of humor.\",\n",
       " \"Rock on, I'm listening to my favorite band guns and roses.\\n-----\\nNo kidding? I was just listening to the same thing while taking a bath.\\n-----\\nOf course. I love to listen to rock.\\n-----\\nMan my boxer just peed on the carpet!\\n-----\\nWell I'm into black everything. So at least it wouldn't show on my black carpet.\\n-----\\nJust home from work. I think I'll keep my suit and tie on.\",\n",
       " \"Rock on, I'm listening to my favorite band guns and roses.\\n-----\\nNo kidding? I was just listening to the same thing while taking a bath.\\n-----\\nOf course. I love to listen to rock.\\n-----\\nMan my boxer just peed on the carpet!\\n-----\\nWell I'm into black everything. So at least it wouldn't show on my black carpet.\\n-----\\nHi. how are you today?\",\n",
       " \"Rock on, I'm listening to my favorite band guns and roses.\\n-----\\nNo kidding? I was just listening to the same thing while taking a bath.\\n-----\\nOf course. I love to listen to rock.\\n-----\\nMan my boxer just peed on the carpet!\\n-----\\nWell I'm into black everything. So at least it wouldn't show on my black carpet.\\n-----\\nI only eat pink, it is without a doubt the color I love!\",\n",
       " \"Rock on, I'm listening to my favorite band guns and roses.\\n-----\\nNo kidding? I was just listening to the same thing while taking a bath.\\n-----\\nOf course. I love to listen to rock.\\n-----\\nMan my boxer just peed on the carpet!\\n-----\\nWell I'm into black everything. So at least it wouldn't show on my black carpet.\\n-----\\nLl. I love black too! Guess I was playing my music too loud.\",\n",
       " \"Rock on, I'm listening to my favorite band guns and roses.\\n-----\\nNo kidding? I was just listening to the same thing while taking a bath.\\n-----\\nOf course. I love to listen to rock.\\n-----\\nMan my boxer just peed on the carpet!\\n-----\\nWell I'm into black everything. So at least it wouldn't show on my black carpet.\\n-----\\nLl. I love black too! Guess I was playing my music too loud.\\n-----\\nI've a black car, purse, wear all black.\\n-----\\nHow are you doing today?\",\n",
       " \"Rock on, I'm listening to my favorite band guns and roses.\\n-----\\nNo kidding? I was just listening to the same thing while taking a bath.\\n-----\\nOf course. I love to listen to rock.\\n-----\\nMan my boxer just peed on the carpet!\\n-----\\nWell I'm into black everything. So at least it wouldn't show on my black carpet.\\n-----\\nLl. I love black too! Guess I was playing my music too loud.\\n-----\\nI've a black car, purse, wear all black.\\n-----\\nI like electronic and classical music.\",\n",
       " \"Rock on, I'm listening to my favorite band guns and roses.\\n-----\\nNo kidding? I was just listening to the same thing while taking a bath.\\n-----\\nOf course. I love to listen to rock.\\n-----\\nMan my boxer just peed on the carpet!\\n-----\\nWell I'm into black everything. So at least it wouldn't show on my black carpet.\\n-----\\nLl. I love black too! Guess I was playing my music too loud.\\n-----\\nI've a black car, purse, wear all black.\\n-----\\nI am pretty good, just tired. How are you?\",\n",
       " \"Rock on, I'm listening to my favorite band guns and roses.\\n-----\\nNo kidding? I was just listening to the same thing while taking a bath.\\n-----\\nOf course. I love to listen to rock.\\n-----\\nMan my boxer just peed on the carpet!\\n-----\\nWell I'm into black everything. So at least it wouldn't show on my black carpet.\\n-----\\nLl. I love black too! Guess I was playing my music too loud.\\n-----\\nI've a black car, purse, wear all black.\\n-----\\nI am from Ohio. How about you?\",\n",
       " \"Rock on, I'm listening to my favorite band guns and roses.\\n-----\\nNo kidding? I was just listening to the same thing while taking a bath.\\n-----\\nOf course. I love to listen to rock.\\n-----\\nMan my boxer just peed on the carpet!\\n-----\\nWell I'm into black everything. So at least it wouldn't show on my black carpet.\\n-----\\nLl. I love black too! Guess I was playing my music too loud.\\n-----\\nI've a black car, purse, wear all black.\\n-----\\nI also work in the retail industry at the local department store.\",\n",
       " \"Rock on, I'm listening to my favorite band guns and roses.\\n-----\\nNo kidding? I was just listening to the same thing while taking a bath.\\n-----\\nOf course. I love to listen to rock.\\n-----\\nMan my boxer just peed on the carpet!\\n-----\\nWell I'm into black everything. So at least it wouldn't show on my black carpet.\\n-----\\nLl. I love black too! Guess I was playing my music too loud.\\n-----\\nI've a black car, purse, wear all black.\\n-----\\nThat sounds great, its cloudy here today.\",\n",
       " \"Rock on, I'm listening to my favorite band guns and roses.\\n-----\\nNo kidding? I was just listening to the same thing while taking a bath.\\n-----\\nOf course. I love to listen to rock.\\n-----\\nMan my boxer just peed on the carpet!\\n-----\\nWell I'm into black everything. So at least it wouldn't show on my black carpet.\\n-----\\nLl. I love black too! Guess I was playing my music too loud.\\n-----\\nI've a black car, purse, wear all black.\\n-----\\nWe just bought my daughter a car for graduation.\",\n",
       " \"Rock on, I'm listening to my favorite band guns and roses.\\n-----\\nNo kidding? I was just listening to the same thing while taking a bath.\\n-----\\nOf course. I love to listen to rock.\\n-----\\nMan my boxer just peed on the carpet!\\n-----\\nWell I'm into black everything. So at least it wouldn't show on my black carpet.\\n-----\\nLl. I love black too! Guess I was playing my music too loud.\\n-----\\nI've a black car, purse, wear all black.\\n-----\\nGood. how about you? Whats your job. I am a teacher.\",\n",
       " \"Rock on, I'm listening to my favorite band guns and roses.\\n-----\\nNo kidding? I was just listening to the same thing while taking a bath.\\n-----\\nOf course. I love to listen to rock.\\n-----\\nMan my boxer just peed on the carpet!\\n-----\\nWell I'm into black everything. So at least it wouldn't show on my black carpet.\\n-----\\nLl. I love black too! Guess I was playing my music too loud.\\n-----\\nI've a black car, purse, wear all black.\\n-----\\nHello, how are you tonight?\",\n",
       " \"Rock on, I'm listening to my favorite band guns and roses.\\n-----\\nNo kidding? I was just listening to the same thing while taking a bath.\\n-----\\nOf course. I love to listen to rock.\\n-----\\nMan my boxer just peed on the carpet!\\n-----\\nWell I'm into black everything. So at least it wouldn't show on my black carpet.\\n-----\\nLl. I love black too! Guess I was playing my music too loud.\\n-----\\nI've a black car, purse, wear all black.\\n-----\\nThat's awesome, I write poetry too.\",\n",
       " \"Rock on, I'm listening to my favorite band guns and roses.\\n-----\\nNo kidding? I was just listening to the same thing while taking a bath.\\n-----\\nOf course. I love to listen to rock.\\n-----\\nMan my boxer just peed on the carpet!\\n-----\\nWell I'm into black everything. So at least it wouldn't show on my black carpet.\\n-----\\nLl. I love black too! Guess I was playing my music too loud.\\n-----\\nI've a black car, purse, wear all black.\\n-----\\nNice do you like seafood.\",\n",
       " \"Rock on, I'm listening to my favorite band guns and roses.\\n-----\\nNo kidding? I was just listening to the same thing while taking a bath.\\n-----\\nOf course. I love to listen to rock.\\n-----\\nMan my boxer just peed on the carpet!\\n-----\\nWell I'm into black everything. So at least it wouldn't show on my black carpet.\\n-----\\nLl. I love black too! Guess I was playing my music too loud.\\n-----\\nI've a black car, purse, wear all black.\\n-----\\nPasta is my go to type of food.\",\n",
       " \"Rock on, I'm listening to my favorite band guns and roses.\\n-----\\nNo kidding? I was just listening to the same thing while taking a bath.\\n-----\\nOf course. I love to listen to rock.\\n-----\\nMan my boxer just peed on the carpet!\\n-----\\nWell I'm into black everything. So at least it wouldn't show on my black carpet.\\n-----\\nLl. I love black too! Guess I was playing my music too loud.\\n-----\\nI've a black car, purse, wear all black.\\n-----\\nHello there.\",\n",
       " \"Rock on, I'm listening to my favorite band guns and roses.\\n-----\\nNo kidding? I was just listening to the same thing while taking a bath.\\n-----\\nOf course. I love to listen to rock.\\n-----\\nMan my boxer just peed on the carpet!\\n-----\\nWell I'm into black everything. So at least it wouldn't show on my black carpet.\\n-----\\nLl. I love black too! Guess I was playing my music too loud.\\n-----\\nI've a black car, purse, wear all black.\\n-----\\nThat's cool. My wife was diagnosed with terminal cancer.\",\n",
       " \"Rock on, I'm listening to my favorite band guns and roses.\\n-----\\nNo kidding? I was just listening to the same thing while taking a bath.\\n-----\\nOf course. I love to listen to rock.\\n-----\\nMan my boxer just peed on the carpet!\\n-----\\nWell I'm into black everything. So at least it wouldn't show on my black carpet.\\n-----\\nLl. I love black too! Guess I was playing my music too loud.\\n-----\\nI've a black car, purse, wear all black.\\n-----\\nDo you like to keep fit? I try and eat healthy when I can.\",\n",
       " \"Rock on, I'm listening to my favorite band guns and roses.\\n-----\\nNo kidding? I was just listening to the same thing while taking a bath.\\n-----\\nOf course. I love to listen to rock.\\n-----\\nMan my boxer just peed on the carpet!\\n-----\\nWell I'm into black everything. So at least it wouldn't show on my black carpet.\\n-----\\nLl. I love black too! Guess I was playing my music too loud.\\n-----\\nI've a black car, purse, wear all black.\\n-----\\nI grow it on trees with a lot of work.\",\n",
       " \"Rock on, I'm listening to my favorite band guns and roses.\\n-----\\nNo kidding? I was just listening to the same thing while taking a bath.\\n-----\\nOf course. I love to listen to rock.\\n-----\\nMan my boxer just peed on the carpet!\\n-----\\nWell I'm into black everything. So at least it wouldn't show on my black carpet.\\n-----\\nLl. I love black too! Guess I was playing my music too loud.\\n-----\\nI've a black car, purse, wear all black.\\n-----\\nI've always wanted to try surfing.\",\n",
       " \"Rock on, I'm listening to my favorite band guns and roses.\\n-----\\nNo kidding? I was just listening to the same thing while taking a bath.\\n-----\\nOf course. I love to listen to rock.\\n-----\\nMan my boxer just peed on the carpet!\\n-----\\nWell I'm into black everything. So at least it wouldn't show on my black carpet.\\n-----\\nLl. I love black too! Guess I was playing my music too loud.\\n-----\\nI've a black car, purse, wear all black.\\n-----\\nYou go girl! You work long hours too? Sunsets perk me up though.\",\n",
       " \"Rock on, I'm listening to my favorite band guns and roses.\\n-----\\nNo kidding? I was just listening to the same thing while taking a bath.\\n-----\\nOf course. I love to listen to rock.\\n-----\\nMan my boxer just peed on the carpet!\\n-----\\nWell I'm into black everything. So at least it wouldn't show on my black carpet.\\n-----\\nLl. I love black too! Guess I was playing my music too loud.\\n-----\\nI've a black car, purse, wear all black.\\n-----\\nHey, whats a good senior quote?\",\n",
       " \"Rock on, I'm listening to my favorite band guns and roses.\\n-----\\nNo kidding? I was just listening to the same thing while taking a bath.\\n-----\\nOf course. I love to listen to rock.\\n-----\\nMan my boxer just peed on the carpet!\\n-----\\nWell I'm into black everything. So at least it wouldn't show on my black carpet.\\n-----\\nLl. I love black too! Guess I was playing my music too loud.\\n-----\\nI've a black car, purse, wear all black.\\n-----\\nMaybe I can borrow something as I am packing to visit my dad in China.\",\n",
       " \"Rock on, I'm listening to my favorite band guns and roses.\\n-----\\nNo kidding? I was just listening to the same thing while taking a bath.\\n-----\\nOf course. I love to listen to rock.\\n-----\\nMan my boxer just peed on the carpet!\\n-----\\nWell I'm into black everything. So at least it wouldn't show on my black carpet.\\n-----\\nLl. I love black too! Guess I was playing my music too loud.\\n-----\\nI've a black car, purse, wear all black.\\n-----\\nMaybe I can borrow something as I am packing to visit my dad in China.\\n-----\\nWow, does he live there or work?\\n-----\\nI love the band bon over but my colleagues at public relations hate them.\",\n",
       " \"Rock on, I'm listening to my favorite band guns and roses.\\n-----\\nNo kidding? I was just listening to the same thing while taking a bath.\\n-----\\nOf course. I love to listen to rock.\\n-----\\nMan my boxer just peed on the carpet!\\n-----\\nWell I'm into black everything. So at least it wouldn't show on my black carpet.\\n-----\\nLl. I love black too! Guess I was playing my music too loud.\\n-----\\nI've a black car, purse, wear all black.\\n-----\\nMaybe I can borrow something as I am packing to visit my dad in China.\\n-----\\nWow, does he live there or work?\\n-----\\nLl my mom is a palm reader. She's awesome.\",\n",
       " \"Rock on, I'm listening to my favorite band guns and roses.\\n-----\\nNo kidding? I was just listening to the same thing while taking a bath.\\n-----\\nOf course. I love to listen to rock.\\n-----\\nMan my boxer just peed on the carpet!\\n-----\\nWell I'm into black everything. So at least it wouldn't show on my black carpet.\\n-----\\nLl. I love black too! Guess I was playing my music too loud.\\n-----\\nI've a black car, purse, wear all black.\\n-----\\nMaybe I can borrow something as I am packing to visit my dad in China.\\n-----\\nWow, does he live there or work?\\n-----\\nOh definitely! I love some old school video games. What do you play?\",\n",
       " \"Rock on, I'm listening to my favorite band guns and roses.\\n-----\\nNo kidding? I was just listening to the same thing while taking a bath.\\n-----\\nOf course. I love to listen to rock.\\n-----\\nMan my boxer just peed on the carpet!\\n-----\\nWell I'm into black everything. So at least it wouldn't show on my black carpet.\\n-----\\nLl. I love black too! Guess I was playing my music too loud.\\n-----\\nI've a black car, purse, wear all black.\\n-----\\nMaybe I can borrow something as I am packing to visit my dad in China.\\n-----\\nWow, does he live there or work?\\n-----\\nMy life is great, I'm so happy I'm gonna be a father.\",\n",
       " \"Rock on, I'm listening to my favorite band guns and roses.\\n-----\\nNo kidding? I was just listening to the same thing while taking a bath.\\n-----\\nOf course. I love to listen to rock.\\n-----\\nMan my boxer just peed on the carpet!\\n-----\\nWell I'm into black everything. So at least it wouldn't show on my black carpet.\\n-----\\nLl. I love black too! Guess I was playing my music too loud.\\n-----\\nI've a black car, purse, wear all black.\\n-----\\nMaybe I can borrow something as I am packing to visit my dad in China.\\n-----\\nWow, does he live there or work?\\n-----\\nI need to being a restaurant manager is exhausting! And I cant stand my boss.\",\n",
       " \"Rock on, I'm listening to my favorite band guns and roses.\\n-----\\nNo kidding? I was just listening to the same thing while taking a bath.\\n-----\\nOf course. I love to listen to rock.\\n-----\\nMan my boxer just peed on the carpet!\\n-----\\nWell I'm into black everything. So at least it wouldn't show on my black carpet.\\n-----\\nLl. I love black too! Guess I was playing my music too loud.\\n-----\\nI've a black car, purse, wear all black.\\n-----\\nMaybe I can borrow something as I am packing to visit my dad in China.\\n-----\\nWow, does he live there or work?\\n-----\\nHi! whats your favorite band? Love red hot chili peppers!\",\n",
       " \"Rock on, I'm listening to my favorite band guns and roses.\\n-----\\nNo kidding? I was just listening to the same thing while taking a bath.\\n-----\\nOf course. I love to listen to rock.\\n-----\\nMan my boxer just peed on the carpet!\\n-----\\nWell I'm into black everything. So at least it wouldn't show on my black carpet.\\n-----\\nLl. I love black too! Guess I was playing my music too loud.\\n-----\\nI've a black car, purse, wear all black.\\n-----\\nMaybe I can borrow something as I am packing to visit my dad in China.\\n-----\\nWow, does he live there or work?\\n-----\\nReally? So you are a teacher?\",\n",
       " \"Rock on, I'm listening to my favorite band guns and roses.\\n-----\\nNo kidding? I was just listening to the same thing while taking a bath.\\n-----\\nOf course. I love to listen to rock.\\n-----\\nMan my boxer just peed on the carpet!\\n-----\\nWell I'm into black everything. So at least it wouldn't show on my black carpet.\\n-----\\nLl. I love black too! Guess I was playing my music too loud.\\n-----\\nI've a black car, purse, wear all black.\\n-----\\nMaybe I can borrow something as I am packing to visit my dad in China.\\n-----\\nWow, does he live there or work?\\n-----\\nGood evening. My name is jake.\",\n",
       " \"Rock on, I'm listening to my favorite band guns and roses.\\n-----\\nNo kidding? I was just listening to the same thing while taking a bath.\\n-----\\nOf course. I love to listen to rock.\\n-----\\nMan my boxer just peed on the carpet!\\n-----\\nWell I'm into black everything. So at least it wouldn't show on my black carpet.\\n-----\\nLl. I love black too! Guess I was playing my music too loud.\\n-----\\nI've a black car, purse, wear all black.\\n-----\\nMaybe I can borrow something as I am packing to visit my dad in China.\\n-----\\nWow, does he live there or work?\\n-----\\nWill you do me a favor?\",\n",
       " \"Rock on, I'm listening to my favorite band guns and roses.\\n-----\\nNo kidding? I was just listening to the same thing while taking a bath.\\n-----\\nOf course. I love to listen to rock.\\n-----\\nMan my boxer just peed on the carpet!\\n-----\\nWell I'm into black everything. So at least it wouldn't show on my black carpet.\\n-----\\nLl. I love black too! Guess I was playing my music too loud.\\n-----\\nI've a black car, purse, wear all black.\\n-----\\nMaybe I can borrow something as I am packing to visit my dad in China.\\n-----\\nWow, does he live there or work?\\n-----\\nI'm not doing too good. You?\",\n",
       " \"Rock on, I'm listening to my favorite band guns and roses.\\n-----\\nNo kidding? I was just listening to the same thing while taking a bath.\\n-----\\nOf course. I love to listen to rock.\\n-----\\nMan my boxer just peed on the carpet!\\n-----\\nWell I'm into black everything. So at least it wouldn't show on my black carpet.\\n-----\\nLl. I love black too! Guess I was playing my music too loud.\\n-----\\nI've a black car, purse, wear all black.\\n-----\\nMaybe I can borrow something as I am packing to visit my dad in China.\\n-----\\nWow, does he live there or work?\\n-----\\nI love red, reminds me of summer time.\",\n",
       " \"Rock on, I'm listening to my favorite band guns and roses.\\n-----\\nNo kidding? I was just listening to the same thing while taking a bath.\\n-----\\nOf course. I love to listen to rock.\\n-----\\nMan my boxer just peed on the carpet!\\n-----\\nWell I'm into black everything. So at least it wouldn't show on my black carpet.\\n-----\\nLl. I love black too! Guess I was playing my music too loud.\\n-----\\nI've a black car, purse, wear all black.\\n-----\\nMaybe I can borrow something as I am packing to visit my dad in China.\\n-----\\nWow, does he live there or work?\\n-----\\nI tried it once, but did not enjoy it.\",\n",
       " \"Rock on, I'm listening to my favorite band guns and roses.\\n-----\\nNo kidding? I was just listening to the same thing while taking a bath.\\n-----\\nOf course. I love to listen to rock.\\n-----\\nMan my boxer just peed on the carpet!\\n-----\\nWell I'm into black everything. So at least it wouldn't show on my black carpet.\\n-----\\nLl. I love black too! Guess I was playing my music too loud.\\n-----\\nI've a black car, purse, wear all black.\\n-----\\nMaybe I can borrow something as I am packing to visit my dad in China.\\n-----\\nWow, does he live there or work?\\n-----\\nWhat a nice victory dinner!\",\n",
       " \"Rock on, I'm listening to my favorite band guns and roses.\\n-----\\nNo kidding? I was just listening to the same thing while taking a bath.\\n-----\\nOf course. I love to listen to rock.\\n-----\\nMan my boxer just peed on the carpet!\\n-----\\nWell I'm into black everything. So at least it wouldn't show on my black carpet.\\n-----\\nLl. I love black too! Guess I was playing my music too loud.\\n-----\\nI've a black car, purse, wear all black.\\n-----\\nMaybe I can borrow something as I am packing to visit my dad in China.\\n-----\\nWow, does he live there or work?\\n-----\\nHow about video games? Do you like those? I do.\",\n",
       " \"Rock on, I'm listening to my favorite band guns and roses.\\n-----\\nNo kidding? I was just listening to the same thing while taking a bath.\\n-----\\nOf course. I love to listen to rock.\\n-----\\nMan my boxer just peed on the carpet!\\n-----\\nWell I'm into black everything. So at least it wouldn't show on my black carpet.\\n-----\\nLl. I love black too! Guess I was playing my music too loud.\\n-----\\nI've a black car, purse, wear all black.\\n-----\\nMaybe I can borrow something as I am packing to visit my dad in China.\\n-----\\nWow, does he live there or work?\\n-----\\nI love going fishing when I've time. What about you?\",\n",
       " \"Rock on, I'm listening to my favorite band guns and roses.\\n-----\\nNo kidding? I was just listening to the same thing while taking a bath.\\n-----\\nOf course. I love to listen to rock.\\n-----\\nMan my boxer just peed on the carpet!\\n-----\\nWell I'm into black everything. So at least it wouldn't show on my black carpet.\\n-----\\nLl. I love black too! Guess I was playing my music too loud.\\n-----\\nI've a black car, purse, wear all black.\\n-----\\nMaybe I can borrow something as I am packing to visit my dad in China.\\n-----\\nWow, does he live there or work?\\n-----\\nProbably. Do you listen to other singers?\",\n",
       " \"Rock on, I'm listening to my favorite band guns and roses.\\n-----\\nNo kidding? I was just listening to the same thing while taking a bath.\\n-----\\nOf course. I love to listen to rock.\\n-----\\nMan my boxer just peed on the carpet!\\n-----\\nWell I'm into black everything. So at least it wouldn't show on my black carpet.\\n-----\\nLl. I love black too! Guess I was playing my music too loud.\\n-----\\nI've a black car, purse, wear all black.\\n-----\\nMaybe I can borrow something as I am packing to visit my dad in China.\\n-----\\nWow, does he live there or work?\\n-----\\nI'm doing well, how are you?\",\n",
       " \"Rock on, I'm listening to my favorite band guns and roses.\\n-----\\nNo kidding? I was just listening to the same thing while taking a bath.\\n-----\\nOf course. I love to listen to rock.\\n-----\\nMan my boxer just peed on the carpet!\\n-----\\nWell I'm into black everything. So at least it wouldn't show on my black carpet.\\n-----\\nLl. I love black too! Guess I was playing my music too loud.\\n-----\\nI've a black car, purse, wear all black.\\n-----\\nMaybe I can borrow something as I am packing to visit my dad in China.\\n-----\\nWow, does he live there or work?\\n-----\\nNice I love to exercise everyday.\",\n",
       " \"Rock on, I'm listening to my favorite band guns and roses.\\n-----\\nNo kidding? I was just listening to the same thing while taking a bath.\\n-----\\nOf course. I love to listen to rock.\\n-----\\nMan my boxer just peed on the carpet!\\n-----\\nWell I'm into black everything. So at least it wouldn't show on my black carpet.\\n-----\\nLl. I love black too! Guess I was playing my music too loud.\\n-----\\nI've a black car, purse, wear all black.\\n-----\\nMaybe I can borrow something as I am packing to visit my dad in China.\\n-----\\nWow, does he live there or work?\\n-----\\nI'm of. I've to shop in the kids department.\",\n",
       " \"Rock on, I'm listening to my favorite band guns and roses.\\n-----\\nNo kidding? I was just listening to the same thing while taking a bath.\\n-----\\nOf course. I love to listen to rock.\\n-----\\nMan my boxer just peed on the carpet!\\n-----\\nWell I'm into black everything. So at least it wouldn't show on my black carpet.\\n-----\\nLl. I love black too! Guess I was playing my music too loud.\\n-----\\nI've a black car, purse, wear all black.\\n-----\\nMaybe I can borrow something as I am packing to visit my dad in China.\\n-----\\nWow, does he live there or work?\\n-----\\nLive. Moved there about ten years ago for a computer tech job.\",\n",
       " \"Rock on, I'm listening to my favorite band guns and roses.\\n-----\\nNo kidding? I was just listening to the same thing while taking a bath.\\n-----\\nOf course. I love to listen to rock.\\n-----\\nMan my boxer just peed on the carpet!\\n-----\\nWell I'm into black everything. So at least it wouldn't show on my black carpet.\\n-----\\nLl. I love black too! Guess I was playing my music too loud.\\n-----\\nI've a black car, purse, wear all black.\\n-----\\nMaybe I can borrow something as I am packing to visit my dad in China.\\n-----\\nWow, does he live there or work?\\n-----\\nLive. Moved there about ten years ago for a computer tech job.\\n-----\\nHave you visited him there before?\\n-----\\nThat's insane! Hopefully I can earn more money working in the federal court.\",\n",
       " \"Rock on, I'm listening to my favorite band guns and roses.\\n-----\\nNo kidding? I was just listening to the same thing while taking a bath.\\n-----\\nOf course. I love to listen to rock.\\n-----\\nMan my boxer just peed on the carpet!\\n-----\\nWell I'm into black everything. So at least it wouldn't show on my black carpet.\\n-----\\nLl. I love black too! Guess I was playing my music too loud.\\n-----\\nI've a black car, purse, wear all black.\\n-----\\nMaybe I can borrow something as I am packing to visit my dad in China.\\n-----\\nWow, does he live there or work?\\n-----\\nLive. Moved there about ten years ago for a computer tech job.\\n-----\\nHave you visited him there before?\\n-----\\nWell that's your fault. I am junna go barefoot in class tomorrow. Join me for notes.\",\n",
       " \"Rock on, I'm listening to my favorite band guns and roses.\\n-----\\nNo kidding? I was just listening to the same thing while taking a bath.\\n-----\\nOf course. I love to listen to rock.\\n-----\\nMan my boxer just peed on the carpet!\\n-----\\nWell I'm into black everything. So at least it wouldn't show on my black carpet.\\n-----\\nLl. I love black too! Guess I was playing my music too loud.\\n-----\\nI've a black car, purse, wear all black.\\n-----\\nMaybe I can borrow something as I am packing to visit my dad in China.\\n-----\\nWow, does he live there or work?\\n-----\\nLive. Moved there about ten years ago for a computer tech job.\\n-----\\nHave you visited him there before?\\n-----\\nI don't have any pets. Do you like going to the creek?\",\n",
       " \"Rock on, I'm listening to my favorite band guns and roses.\\n-----\\nNo kidding? I was just listening to the same thing while taking a bath.\\n-----\\nOf course. I love to listen to rock.\\n-----\\nMan my boxer just peed on the carpet!\\n-----\\nWell I'm into black everything. So at least it wouldn't show on my black carpet.\\n-----\\nLl. I love black too! Guess I was playing my music too loud.\\n-----\\nI've a black car, purse, wear all black.\\n-----\\nMaybe I can borrow something as I am packing to visit my dad in China.\\n-----\\nWow, does he live there or work?\\n-----\\nLive. Moved there about ten years ago for a computer tech job.\\n-----\\nHave you visited him there before?\\n-----\\nI have never been stabbed at all, have you? I don't sing.\",\n",
       " \"Rock on, I'm listening to my favorite band guns and roses.\\n-----\\nNo kidding? I was just listening to the same thing while taking a bath.\\n-----\\nOf course. I love to listen to rock.\\n-----\\nMan my boxer just peed on the carpet!\\n-----\\nWell I'm into black everything. So at least it wouldn't show on my black carpet.\\n-----\\nLl. I love black too! Guess I was playing my music too loud.\\n-----\\nI've a black car, purse, wear all black.\\n-----\\nMaybe I can borrow something as I am packing to visit my dad in China.\\n-----\\nWow, does he live there or work?\\n-----\\nLive. Moved there about ten years ago for a computer tech job.\\n-----\\nHave you visited him there before?\\n-----\\nI love horses! I love to craft too!\",\n",
       " \"Rock on, I'm listening to my favorite band guns and roses.\\n-----\\nNo kidding? I was just listening to the same thing while taking a bath.\\n-----\\nOf course. I love to listen to rock.\\n-----\\nMan my boxer just peed on the carpet!\\n-----\\nWell I'm into black everything. So at least it wouldn't show on my black carpet.\\n-----\\nLl. I love black too! Guess I was playing my music too loud.\\n-----\\nI've a black car, purse, wear all black.\\n-----\\nMaybe I can borrow something as I am packing to visit my dad in China.\\n-----\\nWow, does he live there or work?\\n-----\\nLive. Moved there about ten years ago for a computer tech job.\\n-----\\nHave you visited him there before?\\n-----\\nYum, I couldn't imagine being blind. If I couldn't see yellow, I'd die.\",\n",
       " \"Rock on, I'm listening to my favorite band guns and roses.\\n-----\\nNo kidding? I was just listening to the same thing while taking a bath.\\n-----\\nOf course. I love to listen to rock.\\n-----\\nMan my boxer just peed on the carpet!\\n-----\\nWell I'm into black everything. So at least it wouldn't show on my black carpet.\\n-----\\nLl. I love black too! Guess I was playing my music too loud.\\n-----\\nI've a black car, purse, wear all black.\\n-----\\nMaybe I can borrow something as I am packing to visit my dad in China.\\n-----\\nWow, does he live there or work?\\n-----\\nLive. Moved there about ten years ago for a computer tech job.\\n-----\\nHave you visited him there before?\\n-----\\nI am glad. My mom worked at a small hospital in the pnw. She loved it.\",\n",
       " \"Rock on, I'm listening to my favorite band guns and roses.\\n-----\\nNo kidding? I was just listening to the same thing while taking a bath.\\n-----\\nOf course. I love to listen to rock.\\n-----\\nMan my boxer just peed on the carpet!\\n-----\\nWell I'm into black everything. So at least it wouldn't show on my black carpet.\\n-----\\nLl. I love black too! Guess I was playing my music too loud.\\n-----\\nI've a black car, purse, wear all black.\\n-----\\nMaybe I can borrow something as I am packing to visit my dad in China.\\n-----\\nWow, does he live there or work?\\n-----\\nLive. Moved there about ten years ago for a computer tech job.\\n-----\\nHave you visited him there before?\\n-----\\nI remember those days, enjoy them while you can.\",\n",
       " \"Rock on, I'm listening to my favorite band guns and roses.\\n-----\\nNo kidding? I was just listening to the same thing while taking a bath.\\n-----\\nOf course. I love to listen to rock.\\n-----\\nMan my boxer just peed on the carpet!\\n-----\\nWell I'm into black everything. So at least it wouldn't show on my black carpet.\\n-----\\nLl. I love black too! Guess I was playing my music too loud.\\n-----\\nI've a black car, purse, wear all black.\\n-----\\nMaybe I can borrow something as I am packing to visit my dad in China.\\n-----\\nWow, does he live there or work?\\n-----\\nLive. Moved there about ten years ago for a computer tech job.\\n-----\\nHave you visited him there before?\\n-----\\nYou sound very artistic. Truthfully I am more left brained. I work with computers.\",\n",
       " \"Rock on, I'm listening to my favorite band guns and roses.\\n-----\\nNo kidding? I was just listening to the same thing while taking a bath.\\n-----\\nOf course. I love to listen to rock.\\n-----\\nMan my boxer just peed on the carpet!\\n-----\\nWell I'm into black everything. So at least it wouldn't show on my black carpet.\\n-----\\nLl. I love black too! Guess I was playing my music too loud.\\n-----\\nI've a black car, purse, wear all black.\\n-----\\nMaybe I can borrow something as I am packing to visit my dad in China.\\n-----\\nWow, does he live there or work?\\n-----\\nLive. Moved there about ten years ago for a computer tech job.\\n-----\\nHave you visited him there before?\\n-----\\nOh no. how bad is your commute?\",\n",
       " \"Rock on, I'm listening to my favorite band guns and roses.\\n-----\\nNo kidding? I was just listening to the same thing while taking a bath.\\n-----\\nOf course. I love to listen to rock.\\n-----\\nMan my boxer just peed on the carpet!\\n-----\\nWell I'm into black everything. So at least it wouldn't show on my black carpet.\\n-----\\nLl. I love black too! Guess I was playing my music too loud.\\n-----\\nI've a black car, purse, wear all black.\\n-----\\nMaybe I can borrow something as I am packing to visit my dad in China.\\n-----\\nWow, does he live there or work?\\n-----\\nLive. Moved there about ten years ago for a computer tech job.\\n-----\\nHave you visited him there before?\\n-----\\nDraw me a shark sometime and that a good talent.\",\n",
       " \"Rock on, I'm listening to my favorite band guns and roses.\\n-----\\nNo kidding? I was just listening to the same thing while taking a bath.\\n-----\\nOf course. I love to listen to rock.\\n-----\\nMan my boxer just peed on the carpet!\\n-----\\nWell I'm into black everything. So at least it wouldn't show on my black carpet.\\n-----\\nLl. I love black too! Guess I was playing my music too loud.\\n-----\\nI've a black car, purse, wear all black.\\n-----\\nMaybe I can borrow something as I am packing to visit my dad in China.\\n-----\\nWow, does he live there or work?\\n-----\\nLive. Moved there about ten years ago for a computer tech job.\\n-----\\nHave you visited him there before?\\n-----\\nI actually just have one cat, kibbles.\",\n",
       " \"Rock on, I'm listening to my favorite band guns and roses.\\n-----\\nNo kidding? I was just listening to the same thing while taking a bath.\\n-----\\nOf course. I love to listen to rock.\\n-----\\nMan my boxer just peed on the carpet!\\n-----\\nWell I'm into black everything. So at least it wouldn't show on my black carpet.\\n-----\\nLl. I love black too! Guess I was playing my music too loud.\\n-----\\nI've a black car, purse, wear all black.\\n-----\\nMaybe I can borrow something as I am packing to visit my dad in China.\\n-----\\nWow, does he live there or work?\\n-----\\nLive. Moved there about ten years ago for a computer tech job.\\n-----\\nHave you visited him there before?\\n-----\\nWhere do you work at.\",\n",
       " \"Rock on, I'm listening to my favorite band guns and roses.\\n-----\\nNo kidding? I was just listening to the same thing while taking a bath.\\n-----\\nOf course. I love to listen to rock.\\n-----\\nMan my boxer just peed on the carpet!\\n-----\\nWell I'm into black everything. So at least it wouldn't show on my black carpet.\\n-----\\nLl. I love black too! Guess I was playing my music too loud.\\n-----\\nI've a black car, purse, wear all black.\\n-----\\nMaybe I can borrow something as I am packing to visit my dad in China.\\n-----\\nWow, does he live there or work?\\n-----\\nLive. Moved there about ten years ago for a computer tech job.\\n-----\\nHave you visited him there before?\\n-----\\nIt is very hard and requires a lot of studying.\",\n",
       " \"Rock on, I'm listening to my favorite band guns and roses.\\n-----\\nNo kidding? I was just listening to the same thing while taking a bath.\\n-----\\nOf course. I love to listen to rock.\\n-----\\nMan my boxer just peed on the carpet!\\n-----\\nWell I'm into black everything. So at least it wouldn't show on my black carpet.\\n-----\\nLl. I love black too! Guess I was playing my music too loud.\\n-----\\nI've a black car, purse, wear all black.\\n-----\\nMaybe I can borrow something as I am packing to visit my dad in China.\\n-----\\nWow, does he live there or work?\\n-----\\nLive. Moved there about ten years ago for a computer tech job.\\n-----\\nHave you visited him there before?\\n-----\\nHi.\",\n",
       " \"Rock on, I'm listening to my favorite band guns and roses.\\n-----\\nNo kidding? I was just listening to the same thing while taking a bath.\\n-----\\nOf course. I love to listen to rock.\\n-----\\nMan my boxer just peed on the carpet!\\n-----\\nWell I'm into black everything. So at least it wouldn't show on my black carpet.\\n-----\\nLl. I love black too! Guess I was playing my music too loud.\\n-----\\nI've a black car, purse, wear all black.\\n-----\\nMaybe I can borrow something as I am packing to visit my dad in China.\\n-----\\nWow, does he live there or work?\\n-----\\nLive. Moved there about ten years ago for a computer tech job.\\n-----\\nHave you visited him there before?\\n-----\\nOh really? That's a great way to exercise.\",\n",
       " \"Rock on, I'm listening to my favorite band guns and roses.\\n-----\\nNo kidding? I was just listening to the same thing while taking a bath.\\n-----\\nOf course. I love to listen to rock.\\n-----\\nMan my boxer just peed on the carpet!\\n-----\\nWell I'm into black everything. So at least it wouldn't show on my black carpet.\\n-----\\nLl. I love black too! Guess I was playing my music too loud.\\n-----\\nI've a black car, purse, wear all black.\\n-----\\nMaybe I can borrow something as I am packing to visit my dad in China.\\n-----\\nWow, does he live there or work?\\n-----\\nLive. Moved there about ten years ago for a computer tech job.\\n-----\\nHave you visited him there before?\\n-----\\nYou are so smart. How did you know he is kung fu panda?\",\n",
       " \"Rock on, I'm listening to my favorite band guns and roses.\\n-----\\nNo kidding? I was just listening to the same thing while taking a bath.\\n-----\\nOf course. I love to listen to rock.\\n-----\\nMan my boxer just peed on the carpet!\\n-----\\nWell I'm into black everything. So at least it wouldn't show on my black carpet.\\n-----\\nLl. I love black too! Guess I was playing my music too loud.\\n-----\\nI've a black car, purse, wear all black.\\n-----\\nMaybe I can borrow something as I am packing to visit my dad in China.\\n-----\\nWow, does he live there or work?\\n-----\\nLive. Moved there about ten years ago for a computer tech job.\\n-----\\nHave you visited him there before?\\n-----\\nNot really, but I like to golf. Are you a runner?\",\n",
       " \"Rock on, I'm listening to my favorite band guns and roses.\\n-----\\nNo kidding? I was just listening to the same thing while taking a bath.\\n-----\\nOf course. I love to listen to rock.\\n-----\\nMan my boxer just peed on the carpet!\\n-----\\nWell I'm into black everything. So at least it wouldn't show on my black carpet.\\n-----\\nLl. I love black too! Guess I was playing my music too loud.\\n-----\\nI've a black car, purse, wear all black.\\n-----\\nMaybe I can borrow something as I am packing to visit my dad in China.\\n-----\\nWow, does he live there or work?\\n-----\\nLive. Moved there about ten years ago for a computer tech job.\\n-----\\nHave you visited him there before?\\n-----\\nI am trying to put my trust in God but it has been a difficult time.\",\n",
       " \"Rock on, I'm listening to my favorite band guns and roses.\\n-----\\nNo kidding? I was just listening to the same thing while taking a bath.\\n-----\\nOf course. I love to listen to rock.\\n-----\\nMan my boxer just peed on the carpet!\\n-----\\nWell I'm into black everything. So at least it wouldn't show on my black carpet.\\n-----\\nLl. I love black too! Guess I was playing my music too loud.\\n-----\\nI've a black car, purse, wear all black.\\n-----\\nMaybe I can borrow something as I am packing to visit my dad in China.\\n-----\\nWow, does he live there or work?\\n-----\\nLive. Moved there about ten years ago for a computer tech job.\\n-----\\nHave you visited him there before?\\n-----\\nOnce. You cannot even throw a gum wrapper or you can get arrested.\",\n",
       " \"Rock on, I'm listening to my favorite band guns and roses.\\n-----\\nNo kidding? I was just listening to the same thing while taking a bath.\\n-----\\nOf course. I love to listen to rock.\\n-----\\nMan my boxer just peed on the carpet!\\n-----\\nWell I'm into black everything. So at least it wouldn't show on my black carpet.\\n-----\\nLl. I love black too! Guess I was playing my music too loud.\\n-----\\nI've a black car, purse, wear all black.\\n-----\\nMaybe I can borrow something as I am packing to visit my dad in China.\\n-----\\nWow, does he live there or work?\\n-----\\nLive. Moved there about ten years ago for a computer tech job.\\n-----\\nHave you visited him there before?\\n-----\\nOnce. You cannot even throw a gum wrapper or you can get arrested.\\n-----\\nSounds a bit scary. I ve never been.\\n-----\\nYeah, I was never a fan of it. My friends played it often.\",\n",
       " \"Rock on, I'm listening to my favorite band guns and roses.\\n-----\\nNo kidding? I was just listening to the same thing while taking a bath.\\n-----\\nOf course. I love to listen to rock.\\n-----\\nMan my boxer just peed on the carpet!\\n-----\\nWell I'm into black everything. So at least it wouldn't show on my black carpet.\\n-----\\nLl. I love black too! Guess I was playing my music too loud.\\n-----\\nI've a black car, purse, wear all black.\\n-----\\nMaybe I can borrow something as I am packing to visit my dad in China.\\n-----\\nWow, does he live there or work?\\n-----\\nLive. Moved there about ten years ago for a computer tech job.\\n-----\\nHave you visited him there before?\\n-----\\nOnce. You cannot even throw a gum wrapper or you can get arrested.\\n-----\\nSounds a bit scary. I ve never been.\\n-----\\nI had a purple swimsuit, but my 3 dogs chewed it up.\",\n",
       " \"Rock on, I'm listening to my favorite band guns and roses.\\n-----\\nNo kidding? I was just listening to the same thing while taking a bath.\\n-----\\nOf course. I love to listen to rock.\\n-----\\nMan my boxer just peed on the carpet!\\n-----\\nWell I'm into black everything. So at least it wouldn't show on my black carpet.\\n-----\\nLl. I love black too! Guess I was playing my music too loud.\\n-----\\nI've a black car, purse, wear all black.\\n-----\\nMaybe I can borrow something as I am packing to visit my dad in China.\\n-----\\nWow, does he live there or work?\\n-----\\nLive. Moved there about ten years ago for a computer tech job.\\n-----\\nHave you visited him there before?\\n-----\\nOnce. You cannot even throw a gum wrapper or you can get arrested.\\n-----\\nSounds a bit scary. I ve never been.\\n-----\\nWhat kinds of big dogs.\",\n",
       " \"Rock on, I'm listening to my favorite band guns and roses.\\n-----\\nNo kidding? I was just listening to the same thing while taking a bath.\\n-----\\nOf course. I love to listen to rock.\\n-----\\nMan my boxer just peed on the carpet!\\n-----\\nWell I'm into black everything. So at least it wouldn't show on my black carpet.\\n-----\\nLl. I love black too! Guess I was playing my music too loud.\\n-----\\nI've a black car, purse, wear all black.\\n-----\\nMaybe I can borrow something as I am packing to visit my dad in China.\\n-----\\nWow, does he live there or work?\\n-----\\nLive. Moved there about ten years ago for a computer tech job.\\n-----\\nHave you visited him there before?\\n-----\\nOnce. You cannot even throw a gum wrapper or you can get arrested.\\n-----\\nSounds a bit scary. I ve never been.\\n-----\\nI would love it, how often do you run?\",\n",
       " \"Rock on, I'm listening to my favorite band guns and roses.\\n-----\\nNo kidding? I was just listening to the same thing while taking a bath.\\n-----\\nOf course. I love to listen to rock.\\n-----\\nMan my boxer just peed on the carpet!\\n-----\\nWell I'm into black everything. So at least it wouldn't show on my black carpet.\\n-----\\nLl. I love black too! Guess I was playing my music too loud.\\n-----\\nI've a black car, purse, wear all black.\\n-----\\nMaybe I can borrow something as I am packing to visit my dad in China.\\n-----\\nWow, does he live there or work?\\n-----\\nLive. Moved there about ten years ago for a computer tech job.\\n-----\\nHave you visited him there before?\\n-----\\nOnce. You cannot even throw a gum wrapper or you can get arrested.\\n-----\\nSounds a bit scary. I ve never been.\\n-----\\nOh I am sorry to hear that hope you feel better.\",\n",
       " \"Rock on, I'm listening to my favorite band guns and roses.\\n-----\\nNo kidding? I was just listening to the same thing while taking a bath.\\n-----\\nOf course. I love to listen to rock.\\n-----\\nMan my boxer just peed on the carpet!\\n-----\\nWell I'm into black everything. So at least it wouldn't show on my black carpet.\\n-----\\nLl. I love black too! Guess I was playing my music too loud.\\n-----\\nI've a black car, purse, wear all black.\\n-----\\nMaybe I can borrow something as I am packing to visit my dad in China.\\n-----\\nWow, does he live there or work?\\n-----\\nLive. Moved there about ten years ago for a computer tech job.\\n-----\\nHave you visited him there before?\\n-----\\nOnce. You cannot even throw a gum wrapper or you can get arrested.\\n-----\\nSounds a bit scary. I ve never been.\\n-----\\nYeah, I think most people do.\",\n",
       " \"Rock on, I'm listening to my favorite band guns and roses.\\n-----\\nNo kidding? I was just listening to the same thing while taking a bath.\\n-----\\nOf course. I love to listen to rock.\\n-----\\nMan my boxer just peed on the carpet!\\n-----\\nWell I'm into black everything. So at least it wouldn't show on my black carpet.\\n-----\\nLl. I love black too! Guess I was playing my music too loud.\\n-----\\nI've a black car, purse, wear all black.\\n-----\\nMaybe I can borrow something as I am packing to visit my dad in China.\\n-----\\nWow, does he live there or work?\\n-----\\nLive. Moved there about ten years ago for a computer tech job.\\n-----\\nHave you visited him there before?\\n-----\\nOnce. You cannot even throw a gum wrapper or you can get arrested.\\n-----\\nSounds a bit scary. I ve never been.\\n-----\\nI've an entire sleeve now! My favorite one is of my dogs who I love!\",\n",
       " \"Rock on, I'm listening to my favorite band guns and roses.\\n-----\\nNo kidding? I was just listening to the same thing while taking a bath.\\n-----\\nOf course. I love to listen to rock.\\n-----\\nMan my boxer just peed on the carpet!\\n-----\\nWell I'm into black everything. So at least it wouldn't show on my black carpet.\\n-----\\nLl. I love black too! Guess I was playing my music too loud.\\n-----\\nI've a black car, purse, wear all black.\\n-----\\nMaybe I can borrow something as I am packing to visit my dad in China.\\n-----\\nWow, does he live there or work?\\n-----\\nLive. Moved there about ten years ago for a computer tech job.\\n-----\\nHave you visited him there before?\\n-----\\nOnce. You cannot even throw a gum wrapper or you can get arrested.\\n-----\\nSounds a bit scary. I ve never been.\\n-----\\nKnow what is a hobby I am on leave from the navy.\",\n",
       " \"Rock on, I'm listening to my favorite band guns and roses.\\n-----\\nNo kidding? I was just listening to the same thing while taking a bath.\\n-----\\nOf course. I love to listen to rock.\\n-----\\nMan my boxer just peed on the carpet!\\n-----\\nWell I'm into black everything. So at least it wouldn't show on my black carpet.\\n-----\\nLl. I love black too! Guess I was playing my music too loud.\\n-----\\nI've a black car, purse, wear all black.\\n-----\\nMaybe I can borrow something as I am packing to visit my dad in China.\\n-----\\nWow, does he live there or work?\\n-----\\nLive. Moved there about ten years ago for a computer tech job.\\n-----\\nHave you visited him there before?\\n-----\\nOnce. You cannot even throw a gum wrapper or you can get arrested.\\n-----\\nSounds a bit scary. I ve never been.\\n-----\\nWhat kind of game were you playing?\",\n",
       " \"Rock on, I'm listening to my favorite band guns and roses.\\n-----\\nNo kidding? I was just listening to the same thing while taking a bath.\\n-----\\nOf course. I love to listen to rock.\\n-----\\nMan my boxer just peed on the carpet!\\n-----\\nWell I'm into black everything. So at least it wouldn't show on my black carpet.\\n-----\\nLl. I love black too! Guess I was playing my music too loud.\\n-----\\nI've a black car, purse, wear all black.\\n-----\\nMaybe I can borrow something as I am packing to visit my dad in China.\\n-----\\nWow, does he live there or work?\\n-----\\nLive. Moved there about ten years ago for a computer tech job.\\n-----\\nHave you visited him there before?\\n-----\\nOnce. You cannot even throw a gum wrapper or you can get arrested.\\n-----\\nSounds a bit scary. I ve never been.\\n-----\\nI am good tired though. I am pre law so I study alot.\",\n",
       " \"Rock on, I'm listening to my favorite band guns and roses.\\n-----\\nNo kidding? I was just listening to the same thing while taking a bath.\\n-----\\nOf course. I love to listen to rock.\\n-----\\nMan my boxer just peed on the carpet!\\n-----\\nWell I'm into black everything. So at least it wouldn't show on my black carpet.\\n-----\\nLl. I love black too! Guess I was playing my music too loud.\\n-----\\nI've a black car, purse, wear all black.\\n-----\\nMaybe I can borrow something as I am packing to visit my dad in China.\\n-----\\nWow, does he live there or work?\\n-----\\nLive. Moved there about ten years ago for a computer tech job.\\n-----\\nHave you visited him there before?\\n-----\\nOnce. You cannot even throw a gum wrapper or you can get arrested.\\n-----\\nSounds a bit scary. I ve never been.\\n-----\\nHi, how are you?\",\n",
       " \"Rock on, I'm listening to my favorite band guns and roses.\\n-----\\nNo kidding? I was just listening to the same thing while taking a bath.\\n-----\\nOf course. I love to listen to rock.\\n-----\\nMan my boxer just peed on the carpet!\\n-----\\nWell I'm into black everything. So at least it wouldn't show on my black carpet.\\n-----\\nLl. I love black too! Guess I was playing my music too loud.\\n-----\\nI've a black car, purse, wear all black.\\n-----\\nMaybe I can borrow something as I am packing to visit my dad in China.\\n-----\\nWow, does he live there or work?\\n-----\\nLive. Moved there about ten years ago for a computer tech job.\\n-----\\nHave you visited him there before?\\n-----\\nOnce. You cannot even throw a gum wrapper or you can get arrested.\\n-----\\nSounds a bit scary. I ve never been.\\n-----\\nAww haha. What do you do for a living.\",\n",
       " \"Rock on, I'm listening to my favorite band guns and roses.\\n-----\\nNo kidding? I was just listening to the same thing while taking a bath.\\n-----\\nOf course. I love to listen to rock.\\n-----\\nMan my boxer just peed on the carpet!\\n-----\\nWell I'm into black everything. So at least it wouldn't show on my black carpet.\\n-----\\nLl. I love black too! Guess I was playing my music too loud.\\n-----\\nI've a black car, purse, wear all black.\\n-----\\nMaybe I can borrow something as I am packing to visit my dad in China.\\n-----\\nWow, does he live there or work?\\n-----\\nLive. Moved there about ten years ago for a computer tech job.\\n-----\\nHave you visited him there before?\\n-----\\nOnce. You cannot even throw a gum wrapper or you can get arrested.\\n-----\\nSounds a bit scary. I ve never been.\\n-----\\nWhy not? Do you think they will laugh?\",\n",
       " \"Rock on, I'm listening to my favorite band guns and roses.\\n-----\\nNo kidding? I was just listening to the same thing while taking a bath.\\n-----\\nOf course. I love to listen to rock.\\n-----\\nMan my boxer just peed on the carpet!\\n-----\\nWell I'm into black everything. So at least it wouldn't show on my black carpet.\\n-----\\nLl. I love black too! Guess I was playing my music too loud.\\n-----\\nI've a black car, purse, wear all black.\\n-----\\nMaybe I can borrow something as I am packing to visit my dad in China.\\n-----\\nWow, does he live there or work?\\n-----\\nLive. Moved there about ten years ago for a computer tech job.\\n-----\\nHave you visited him there before?\\n-----\\nOnce. You cannot even throw a gum wrapper or you can get arrested.\\n-----\\nSounds a bit scary. I ve never been.\\n-----\\nOh too bad! I should not be eating it, trying to watch my figure lol.\",\n",
       " \"Rock on, I'm listening to my favorite band guns and roses.\\n-----\\nNo kidding? I was just listening to the same thing while taking a bath.\\n-----\\nOf course. I love to listen to rock.\\n-----\\nMan my boxer just peed on the carpet!\\n-----\\nWell I'm into black everything. So at least it wouldn't show on my black carpet.\\n-----\\nLl. I love black too! Guess I was playing my music too loud.\\n-----\\nI've a black car, purse, wear all black.\\n-----\\nMaybe I can borrow something as I am packing to visit my dad in China.\\n-----\\nWow, does he live there or work?\\n-----\\nLive. Moved there about ten years ago for a computer tech job.\\n-----\\nHave you visited him there before?\\n-----\\nOnce. You cannot even throw a gum wrapper or you can get arrested.\\n-----\\nSounds a bit scary. I ve never been.\\n-----\\nI am doing just great going to play soccer later with friends.\",\n",
       " \"Rock on, I'm listening to my favorite band guns and roses.\\n-----\\nNo kidding? I was just listening to the same thing while taking a bath.\\n-----\\nOf course. I love to listen to rock.\\n-----\\nMan my boxer just peed on the carpet!\\n-----\\nWell I'm into black everything. So at least it wouldn't show on my black carpet.\\n-----\\nLl. I love black too! Guess I was playing my music too loud.\\n-----\\nI've a black car, purse, wear all black.\\n-----\\nMaybe I can borrow something as I am packing to visit my dad in China.\\n-----\\nWow, does he live there or work?\\n-----\\nLive. Moved there about ten years ago for a computer tech job.\\n-----\\nHave you visited him there before?\\n-----\\nOnce. You cannot even throw a gum wrapper or you can get arrested.\\n-----\\nSounds a bit scary. I ve never been.\\n-----\\nOh I see. Grew up drawing did ya? what about cats?\",\n",
       " \"Rock on, I'm listening to my favorite band guns and roses.\\n-----\\nNo kidding? I was just listening to the same thing while taking a bath.\\n-----\\nOf course. I love to listen to rock.\\n-----\\nMan my boxer just peed on the carpet!\\n-----\\nWell I'm into black everything. So at least it wouldn't show on my black carpet.\\n-----\\nLl. I love black too! Guess I was playing my music too loud.\\n-----\\nI've a black car, purse, wear all black.\\n-----\\nMaybe I can borrow something as I am packing to visit my dad in China.\\n-----\\nWow, does he live there or work?\\n-----\\nLive. Moved there about ten years ago for a computer tech job.\\n-----\\nHave you visited him there before?\\n-----\\nOnce. You cannot even throw a gum wrapper or you can get arrested.\\n-----\\nSounds a bit scary. I ve never been.\\n-----\\nI do not know. But you run and it tracks your gps. It is fun.\",\n",
       " \"Rock on, I'm listening to my favorite band guns and roses.\\n-----\\nNo kidding? I was just listening to the same thing while taking a bath.\\n-----\\nOf course. I love to listen to rock.\\n-----\\nMan my boxer just peed on the carpet!\\n-----\\nWell I'm into black everything. So at least it wouldn't show on my black carpet.\\n-----\\nLl. I love black too! Guess I was playing my music too loud.\\n-----\\nI've a black car, purse, wear all black.\\n-----\\nMaybe I can borrow something as I am packing to visit my dad in China.\\n-----\\nWow, does he live there or work?\\n-----\\nLive. Moved there about ten years ago for a computer tech job.\\n-----\\nHave you visited him there before?\\n-----\\nOnce. You cannot even throw a gum wrapper or you can get arrested.\\n-----\\nSounds a bit scary. I ve never been.\\n-----\\nDo you want to give me money.\",\n",
       " \"Rock on, I'm listening to my favorite band guns and roses.\\n-----\\nNo kidding? I was just listening to the same thing while taking a bath.\\n-----\\nOf course. I love to listen to rock.\\n-----\\nMan my boxer just peed on the carpet!\\n-----\\nWell I'm into black everything. So at least it wouldn't show on my black carpet.\\n-----\\nLl. I love black too! Guess I was playing my music too loud.\\n-----\\nI've a black car, purse, wear all black.\\n-----\\nMaybe I can borrow something as I am packing to visit my dad in China.\\n-----\\nWow, does he live there or work?\\n-----\\nLive. Moved there about ten years ago for a computer tech job.\\n-----\\nHave you visited him there before?\\n-----\\nOnce. You cannot even throw a gum wrapper or you can get arrested.\\n-----\\nSounds a bit scary. I ve never been.\\n-----\\nHi I am great and you?\",\n",
       " \"Rock on, I'm listening to my favorite band guns and roses.\\n-----\\nNo kidding? I was just listening to the same thing while taking a bath.\\n-----\\nOf course. I love to listen to rock.\\n-----\\nMan my boxer just peed on the carpet!\\n-----\\nWell I'm into black everything. So at least it wouldn't show on my black carpet.\\n-----\\nLl. I love black too! Guess I was playing my music too loud.\\n-----\\nI've a black car, purse, wear all black.\\n-----\\nMaybe I can borrow something as I am packing to visit my dad in China.\\n-----\\nWow, does he live there or work?\\n-----\\nLive. Moved there about ten years ago for a computer tech job.\\n-----\\nHave you visited him there before?\\n-----\\nOnce. You cannot even throw a gum wrapper or you can get arrested.\\n-----\\nSounds a bit scary. I ve never been.\\n-----\\nWell not too much crime there, but a lot of people.\",\n",
       " ...]"
      ]
     },
     "execution_count": 16,
     "metadata": {},
     "output_type": "execute_result"
    }
   ],
   "source": [
    "dataset.map(chunking, batched=True, remove_columns=dataset[\"train\"].column_names)['train']['chunks']"
   ]
  },
  {
   "cell_type": "code",
   "execution_count": 27,
   "id": "b289afd1",
   "metadata": {},
   "outputs": [
    {
     "name": "stdout",
     "output_type": "stream",
     "text": [
      "tensor([[-0.0754,  1.3154,  1.8942, -1.5395, -1.9320],\n",
      "        [ 0.6195,  0.4196,  1.4826, -1.3767, -1.4139],\n",
      "        [-2.5223,  0.6830, -2.5059,  0.1596, -0.1500]], requires_grad=True)\n",
      "tensor([[0.1011, 0.0790, 0.1870, 0.4164, 0.2165],\n",
      "        [0.0636, 0.5943, 0.1131, 0.1221, 0.1070],\n",
      "        [0.5366, 0.0769, 0.0543, 0.3117, 0.0204]])\n"
     ]
    }
   ],
   "source": [
    "# Example of target with class probabilities\n",
    "loss = nn.CrossEntropyLoss()\n",
    "input = torch.randn(3, 5, requires_grad=True)\n",
    "print(input)\n",
    "target = torch.randn(3, 5).softmax(dim=1)\n",
    "print(target)\n",
    "output = loss(input, target)\n",
    "output.backward()"
   ]
  },
  {
   "cell_type": "code",
   "execution_count": null,
   "id": "f5289543",
   "metadata": {},
   "outputs": [],
   "source": []
  },
  {
   "cell_type": "code",
   "execution_count": 8,
   "id": "d9e46807",
   "metadata": {},
   "outputs": [
    {
     "name": "stdout",
     "output_type": "stream",
     "text": [
      "wandb initialized\n",
      "\n"
     ]
    },
    {
     "name": "stderr",
     "output_type": "stream",
     "text": [
      "  0%|          | 1/250 [00:33<2:18:05, 33.28s/it]"
     ]
    },
    {
     "name": "stdout",
     "output_type": "stream",
     "text": [
      "Train Loss: 5.8812384605407715\n"
     ]
    },
    {
     "name": "stderr",
     "output_type": "stream",
     "text": [
      "\r",
      "  1%|          | 2/250 [01:05<2:14:39, 32.58s/it]"
     ]
    },
    {
     "name": "stdout",
     "output_type": "stream",
     "text": [
      "Train Loss: 6.158038139343262\n"
     ]
    },
    {
     "name": "stderr",
     "output_type": "stream",
     "text": [
      "\r",
      "  1%|          | 3/250 [01:37<2:13:18, 32.38s/it]"
     ]
    },
    {
     "name": "stdout",
     "output_type": "stream",
     "text": [
      "Train Loss: 6.3185272216796875\n"
     ]
    },
    {
     "name": "stderr",
     "output_type": "stream",
     "text": [
      "\r",
      "  2%|▏         | 4/250 [02:09<2:11:27, 32.06s/it]"
     ]
    },
    {
     "name": "stdout",
     "output_type": "stream",
     "text": [
      "Train Loss: 5.083332538604736\n"
     ]
    },
    {
     "name": "stderr",
     "output_type": "stream",
     "text": [
      "\r",
      "  2%|▏         | 5/250 [02:41<2:10:55, 32.06s/it]"
     ]
    },
    {
     "name": "stdout",
     "output_type": "stream",
     "text": [
      "Train Loss: 5.77915620803833\n"
     ]
    },
    {
     "name": "stderr",
     "output_type": "stream",
     "text": [
      "\r",
      "  2%|▏         | 6/250 [03:12<2:09:15, 31.79s/it]"
     ]
    },
    {
     "name": "stdout",
     "output_type": "stream",
     "text": [
      "Train Loss: 5.025237560272217\n"
     ]
    },
    {
     "name": "stderr",
     "output_type": "stream",
     "text": [
      "\r",
      "  3%|▎         | 7/250 [03:42<2:07:07, 31.39s/it]"
     ]
    },
    {
     "name": "stdout",
     "output_type": "stream",
     "text": [
      "Train Loss: 6.119544506072998\n"
     ]
    },
    {
     "name": "stderr",
     "output_type": "stream",
     "text": [
      "\r",
      "  3%|▎         | 8/250 [04:13<2:05:23, 31.09s/it]"
     ]
    },
    {
     "name": "stdout",
     "output_type": "stream",
     "text": [
      "Train Loss: 5.077054023742676\n"
     ]
    },
    {
     "name": "stderr",
     "output_type": "stream",
     "text": [
      "\r",
      "  4%|▎         | 9/250 [04:44<2:04:24, 30.97s/it]"
     ]
    },
    {
     "name": "stdout",
     "output_type": "stream",
     "text": [
      "Train Loss: 4.961986064910889\n"
     ]
    },
    {
     "name": "stderr",
     "output_type": "stream",
     "text": [
      "\r",
      "  4%|▍         | 10/250 [05:14<2:03:27, 30.87s/it]"
     ]
    },
    {
     "name": "stdout",
     "output_type": "stream",
     "text": [
      "Train Loss: 5.047936916351318\n"
     ]
    },
    {
     "name": "stderr",
     "output_type": "stream",
     "text": [
      "\r",
      "  4%|▍         | 11/250 [05:45<2:03:11, 30.93s/it]"
     ]
    },
    {
     "name": "stdout",
     "output_type": "stream",
     "text": [
      "Train Loss: 4.147397518157959\n"
     ]
    },
    {
     "name": "stderr",
     "output_type": "stream",
     "text": [
      "\r",
      "  5%|▍         | 12/250 [06:19<2:05:49, 31.72s/it]"
     ]
    },
    {
     "name": "stdout",
     "output_type": "stream",
     "text": [
      "Train Loss: 5.502799987792969\n"
     ]
    },
    {
     "name": "stderr",
     "output_type": "stream",
     "text": [
      "\r",
      "  5%|▌         | 13/250 [06:52<2:06:44, 32.09s/it]"
     ]
    },
    {
     "name": "stdout",
     "output_type": "stream",
     "text": [
      "Train Loss: 5.048236846923828\n"
     ]
    },
    {
     "name": "stderr",
     "output_type": "stream",
     "text": [
      "\r",
      "  6%|▌         | 14/250 [07:23<2:05:33, 31.92s/it]"
     ]
    },
    {
     "name": "stdout",
     "output_type": "stream",
     "text": [
      "Train Loss: 4.592619895935059\n"
     ]
    },
    {
     "name": "stderr",
     "output_type": "stream",
     "text": [
      "\r",
      "  6%|▌         | 15/250 [07:55<2:04:50, 31.88s/it]"
     ]
    },
    {
     "name": "stdout",
     "output_type": "stream",
     "text": [
      "Train Loss: 4.619165897369385\n"
     ]
    },
    {
     "name": "stderr",
     "output_type": "stream",
     "text": [
      "\r",
      "  6%|▋         | 16/250 [08:26<2:03:24, 31.64s/it]"
     ]
    },
    {
     "name": "stdout",
     "output_type": "stream",
     "text": [
      "Train Loss: 4.7517499923706055\n"
     ]
    },
    {
     "name": "stderr",
     "output_type": "stream",
     "text": [
      "\r",
      "  7%|▋         | 17/250 [08:57<2:02:26, 31.53s/it]"
     ]
    },
    {
     "name": "stdout",
     "output_type": "stream",
     "text": [
      "Train Loss: 4.201253414154053\n"
     ]
    },
    {
     "name": "stderr",
     "output_type": "stream",
     "text": [
      "\r",
      "  7%|▋         | 18/250 [09:28<2:00:59, 31.29s/it]"
     ]
    },
    {
     "name": "stdout",
     "output_type": "stream",
     "text": [
      "Train Loss: 4.865632057189941\n"
     ]
    },
    {
     "name": "stderr",
     "output_type": "stream",
     "text": [
      "\r",
      "  8%|▊         | 19/250 [10:00<2:00:36, 31.33s/it]"
     ]
    },
    {
     "name": "stdout",
     "output_type": "stream",
     "text": [
      "Train Loss: 4.848703861236572\n"
     ]
    },
    {
     "name": "stderr",
     "output_type": "stream",
     "text": [
      "\r",
      "  8%|▊         | 20/250 [10:31<1:59:47, 31.25s/it]"
     ]
    },
    {
     "name": "stdout",
     "output_type": "stream",
     "text": [
      "Train Loss: 4.93528413772583\n"
     ]
    },
    {
     "name": "stderr",
     "output_type": "stream",
     "text": [
      "\r",
      "  8%|▊         | 21/250 [11:02<1:59:52, 31.41s/it]"
     ]
    },
    {
     "name": "stdout",
     "output_type": "stream",
     "text": [
      "Train Loss: 4.177621841430664\n"
     ]
    },
    {
     "name": "stderr",
     "output_type": "stream",
     "text": [
      "\r",
      "  9%|▉         | 22/250 [11:34<2:00:00, 31.58s/it]"
     ]
    },
    {
     "name": "stdout",
     "output_type": "stream",
     "text": [
      "Train Loss: 4.013919353485107\n"
     ]
    },
    {
     "name": "stderr",
     "output_type": "stream",
     "text": [
      "\r",
      "  9%|▉         | 23/250 [12:05<1:58:32, 31.33s/it]"
     ]
    },
    {
     "name": "stdout",
     "output_type": "stream",
     "text": [
      "Train Loss: 3.7343552112579346\n"
     ]
    },
    {
     "name": "stderr",
     "output_type": "stream",
     "text": [
      "\r",
      " 10%|▉         | 24/250 [12:37<1:58:46, 31.53s/it]"
     ]
    },
    {
     "name": "stdout",
     "output_type": "stream",
     "text": [
      "Train Loss: 4.407346248626709\n"
     ]
    },
    {
     "name": "stderr",
     "output_type": "stream",
     "text": [
      "\r",
      " 10%|█         | 25/250 [13:08<1:57:58, 31.46s/it]"
     ]
    },
    {
     "name": "stdout",
     "output_type": "stream",
     "text": [
      "Train Loss: 3.802149772644043\n"
     ]
    },
    {
     "name": "stderr",
     "output_type": "stream",
     "text": [
      "\r",
      " 10%|█         | 26/250 [13:39<1:56:23, 31.18s/it]"
     ]
    },
    {
     "name": "stdout",
     "output_type": "stream",
     "text": [
      "Train Loss: 3.6604557037353516\n"
     ]
    },
    {
     "name": "stderr",
     "output_type": "stream",
     "text": [
      "\r",
      " 11%|█         | 27/250 [14:10<1:55:14, 31.01s/it]"
     ]
    },
    {
     "name": "stdout",
     "output_type": "stream",
     "text": [
      "Train Loss: 4.012041091918945\n"
     ]
    },
    {
     "name": "stderr",
     "output_type": "stream",
     "text": [
      "\r",
      " 11%|█         | 28/250 [14:42<1:56:32, 31.50s/it]"
     ]
    },
    {
     "name": "stdout",
     "output_type": "stream",
     "text": [
      "Train Loss: 4.028496265411377\n"
     ]
    },
    {
     "name": "stderr",
     "output_type": "stream",
     "text": [
      "\r",
      " 12%|█▏        | 29/250 [15:16<1:57:59, 32.03s/it]"
     ]
    },
    {
     "name": "stdout",
     "output_type": "stream",
     "text": [
      "Train Loss: 3.9141862392425537\n"
     ]
    },
    {
     "name": "stderr",
     "output_type": "stream",
     "text": [
      "\r",
      " 12%|█▏        | 30/250 [15:47<1:57:05, 31.93s/it]"
     ]
    },
    {
     "name": "stdout",
     "output_type": "stream",
     "text": [
      "Train Loss: 3.6024794578552246\n"
     ]
    },
    {
     "name": "stderr",
     "output_type": "stream",
     "text": [
      "\r",
      " 12%|█▏        | 31/250 [16:17<1:54:41, 31.42s/it]"
     ]
    },
    {
     "name": "stdout",
     "output_type": "stream",
     "text": [
      "Train Loss: 3.8550846576690674\n"
     ]
    },
    {
     "name": "stderr",
     "output_type": "stream",
     "text": [
      "\r",
      " 13%|█▎        | 32/250 [16:48<1:53:08, 31.14s/it]"
     ]
    },
    {
     "name": "stdout",
     "output_type": "stream",
     "text": [
      "Train Loss: 3.7658965587615967\n"
     ]
    },
    {
     "name": "stderr",
     "output_type": "stream",
     "text": [
      "\r",
      " 13%|█▎        | 33/250 [17:18<1:51:57, 30.95s/it]"
     ]
    },
    {
     "name": "stdout",
     "output_type": "stream",
     "text": [
      "Train Loss: 3.674410581588745\n"
     ]
    },
    {
     "name": "stderr",
     "output_type": "stream",
     "text": [
      "\r",
      " 14%|█▎        | 34/250 [17:49<1:51:02, 30.84s/it]"
     ]
    },
    {
     "name": "stdout",
     "output_type": "stream",
     "text": [
      "Train Loss: 3.5821011066436768\n"
     ]
    },
    {
     "name": "stderr",
     "output_type": "stream",
     "text": [
      "\r",
      " 14%|█▍        | 35/250 [18:20<1:50:16, 30.77s/it]"
     ]
    },
    {
     "name": "stdout",
     "output_type": "stream",
     "text": [
      "Train Loss: 3.7951884269714355\n"
     ]
    },
    {
     "name": "stderr",
     "output_type": "stream",
     "text": [
      "\r",
      " 14%|█▍        | 36/250 [18:50<1:49:47, 30.78s/it]"
     ]
    },
    {
     "name": "stdout",
     "output_type": "stream",
     "text": [
      "Train Loss: 3.3672428131103516\n"
     ]
    },
    {
     "name": "stderr",
     "output_type": "stream",
     "text": [
      "\r",
      " 15%|█▍        | 37/250 [19:21<1:49:03, 30.72s/it]"
     ]
    },
    {
     "name": "stdout",
     "output_type": "stream",
     "text": [
      "Train Loss: 3.8997981548309326\n"
     ]
    },
    {
     "name": "stderr",
     "output_type": "stream",
     "text": [
      "\r",
      " 15%|█▌        | 38/250 [19:52<1:48:22, 30.67s/it]"
     ]
    },
    {
     "name": "stdout",
     "output_type": "stream",
     "text": [
      "Train Loss: 3.5416626930236816\n"
     ]
    },
    {
     "name": "stderr",
     "output_type": "stream",
     "text": [
      "\r",
      " 16%|█▌        | 39/250 [20:22<1:47:59, 30.71s/it]"
     ]
    },
    {
     "name": "stdout",
     "output_type": "stream",
     "text": [
      "Train Loss: 3.277491807937622\n"
     ]
    },
    {
     "name": "stderr",
     "output_type": "stream",
     "text": [
      "\r",
      " 16%|█▌        | 40/250 [20:52<1:46:34, 30.45s/it]"
     ]
    },
    {
     "name": "stdout",
     "output_type": "stream",
     "text": [
      "Train Loss: 3.5675172805786133\n"
     ]
    },
    {
     "name": "stderr",
     "output_type": "stream",
     "text": [
      "\r",
      " 16%|█▋        | 41/250 [21:23<1:45:58, 30.42s/it]"
     ]
    },
    {
     "name": "stdout",
     "output_type": "stream",
     "text": [
      "Train Loss: 3.488633632659912\n"
     ]
    },
    {
     "name": "stderr",
     "output_type": "stream",
     "text": [
      "\r",
      " 17%|█▋        | 42/250 [21:53<1:45:18, 30.38s/it]"
     ]
    },
    {
     "name": "stdout",
     "output_type": "stream",
     "text": [
      "Train Loss: 3.5238099098205566\n"
     ]
    },
    {
     "name": "stderr",
     "output_type": "stream",
     "text": [
      "\r",
      " 17%|█▋        | 43/250 [22:23<1:44:43, 30.35s/it]"
     ]
    },
    {
     "name": "stdout",
     "output_type": "stream",
     "text": [
      "Train Loss: 3.3181333541870117\n"
     ]
    },
    {
     "name": "stderr",
     "output_type": "stream",
     "text": [
      "\r",
      " 18%|█▊        | 44/250 [22:54<1:44:32, 30.45s/it]"
     ]
    },
    {
     "name": "stdout",
     "output_type": "stream",
     "text": [
      "Train Loss: 3.3862814903259277\n"
     ]
    },
    {
     "name": "stderr",
     "output_type": "stream",
     "text": [
      "\r",
      " 18%|█▊        | 45/250 [23:24<1:44:06, 30.47s/it]"
     ]
    },
    {
     "name": "stdout",
     "output_type": "stream",
     "text": [
      "Train Loss: 3.283531427383423\n"
     ]
    },
    {
     "name": "stderr",
     "output_type": "stream",
     "text": [
      "\r",
      " 18%|█▊        | 46/250 [23:55<1:44:04, 30.61s/it]"
     ]
    },
    {
     "name": "stdout",
     "output_type": "stream",
     "text": [
      "Train Loss: 3.437098503112793\n"
     ]
    },
    {
     "name": "stderr",
     "output_type": "stream",
     "text": [
      "\r",
      " 19%|█▉        | 47/250 [24:26<1:43:52, 30.70s/it]"
     ]
    },
    {
     "name": "stdout",
     "output_type": "stream",
     "text": [
      "Train Loss: 3.110487937927246\n"
     ]
    },
    {
     "name": "stderr",
     "output_type": "stream",
     "text": [
      "\r",
      " 19%|█▉        | 48/250 [24:57<1:43:56, 30.87s/it]"
     ]
    },
    {
     "name": "stdout",
     "output_type": "stream",
     "text": [
      "Train Loss: 3.411040782928467\n"
     ]
    },
    {
     "name": "stderr",
     "output_type": "stream",
     "text": [
      "\r",
      " 20%|█▉        | 49/250 [25:29<1:44:04, 31.07s/it]"
     ]
    },
    {
     "name": "stdout",
     "output_type": "stream",
     "text": [
      "Train Loss: 3.231167793273926\n"
     ]
    },
    {
     "name": "stderr",
     "output_type": "stream",
     "text": [
      "\r",
      " 20%|██        | 50/250 [26:01<1:44:19, 31.30s/it]"
     ]
    },
    {
     "name": "stdout",
     "output_type": "stream",
     "text": [
      "Train Loss: 3.13914155960083\n"
     ]
    },
    {
     "name": "stderr",
     "output_type": "stream",
     "text": [
      "\r",
      " 20%|██        | 51/250 [26:34<1:45:18, 31.75s/it]"
     ]
    },
    {
     "name": "stdout",
     "output_type": "stream",
     "text": [
      "Train Loss: 3.315136671066284\n"
     ]
    },
    {
     "name": "stderr",
     "output_type": "stream",
     "text": [
      "\r",
      " 21%|██        | 52/250 [27:05<1:44:41, 31.72s/it]"
     ]
    },
    {
     "name": "stdout",
     "output_type": "stream",
     "text": [
      "Train Loss: 3.284080743789673\n"
     ]
    },
    {
     "name": "stderr",
     "output_type": "stream",
     "text": [
      "\r",
      " 21%|██        | 53/250 [27:37<1:44:05, 31.70s/it]"
     ]
    },
    {
     "name": "stdout",
     "output_type": "stream",
     "text": [
      "Train Loss: 3.1710739135742188\n"
     ]
    },
    {
     "name": "stderr",
     "output_type": "stream",
     "text": [
      "\r",
      " 22%|██▏       | 54/250 [28:09<1:44:08, 31.88s/it]"
     ]
    },
    {
     "name": "stdout",
     "output_type": "stream",
     "text": [
      "Train Loss: 3.1664555072784424\n"
     ]
    },
    {
     "name": "stderr",
     "output_type": "stream",
     "text": [
      "\r",
      " 22%|██▏       | 55/250 [28:41<1:43:46, 31.93s/it]"
     ]
    },
    {
     "name": "stdout",
     "output_type": "stream",
     "text": [
      "Train Loss: 3.0723533630371094\n"
     ]
    },
    {
     "name": "stderr",
     "output_type": "stream",
     "text": [
      "\r",
      " 22%|██▏       | 56/250 [29:14<1:43:54, 32.14s/it]"
     ]
    },
    {
     "name": "stdout",
     "output_type": "stream",
     "text": [
      "Train Loss: 3.113518476486206\n"
     ]
    },
    {
     "name": "stderr",
     "output_type": "stream",
     "text": [
      "\r",
      " 23%|██▎       | 57/250 [29:46<1:43:33, 32.19s/it]"
     ]
    },
    {
     "name": "stdout",
     "output_type": "stream",
     "text": [
      "Train Loss: 2.8343820571899414\n"
     ]
    },
    {
     "name": "stderr",
     "output_type": "stream",
     "text": [
      "\r",
      " 23%|██▎       | 58/250 [30:19<1:43:53, 32.47s/it]"
     ]
    },
    {
     "name": "stdout",
     "output_type": "stream",
     "text": [
      "Train Loss: 3.1861753463745117\n"
     ]
    },
    {
     "name": "stderr",
     "output_type": "stream",
     "text": [
      "\r",
      " 24%|██▎       | 59/250 [30:53<1:44:12, 32.73s/it]"
     ]
    },
    {
     "name": "stdout",
     "output_type": "stream",
     "text": [
      "Train Loss: 2.976379871368408\n"
     ]
    },
    {
     "name": "stderr",
     "output_type": "stream",
     "text": [
      "\r",
      " 24%|██▍       | 60/250 [31:23<1:41:46, 32.14s/it]"
     ]
    },
    {
     "name": "stdout",
     "output_type": "stream",
     "text": [
      "Train Loss: 3.065255880355835\n"
     ]
    },
    {
     "name": "stderr",
     "output_type": "stream",
     "text": [
      "\r",
      " 24%|██▍       | 61/250 [31:56<1:41:35, 32.25s/it]"
     ]
    },
    {
     "name": "stdout",
     "output_type": "stream",
     "text": [
      "Train Loss: 3.0720670223236084\n"
     ]
    },
    {
     "name": "stderr",
     "output_type": "stream",
     "text": [
      "\r",
      " 25%|██▍       | 62/250 [32:28<1:40:50, 32.18s/it]"
     ]
    },
    {
     "name": "stdout",
     "output_type": "stream",
     "text": [
      "Train Loss: 2.7995290756225586\n"
     ]
    },
    {
     "name": "stderr",
     "output_type": "stream",
     "text": [
      "\r",
      " 25%|██▌       | 63/250 [33:00<1:40:30, 32.25s/it]"
     ]
    },
    {
     "name": "stdout",
     "output_type": "stream",
     "text": [
      "Train Loss: 2.917301893234253\n"
     ]
    },
    {
     "name": "stderr",
     "output_type": "stream",
     "text": [
      "\r",
      " 26%|██▌       | 64/250 [33:33<1:40:37, 32.46s/it]"
     ]
    },
    {
     "name": "stdout",
     "output_type": "stream",
     "text": [
      "Train Loss: 2.8905181884765625\n"
     ]
    },
    {
     "name": "stderr",
     "output_type": "stream",
     "text": [
      "\r",
      " 26%|██▌       | 65/250 [34:06<1:40:07, 32.47s/it]"
     ]
    },
    {
     "name": "stdout",
     "output_type": "stream",
     "text": [
      "Train Loss: 2.8617348670959473\n"
     ]
    },
    {
     "name": "stderr",
     "output_type": "stream",
     "text": [
      "\r",
      " 26%|██▋       | 66/250 [34:38<1:39:18, 32.38s/it]"
     ]
    },
    {
     "name": "stdout",
     "output_type": "stream",
     "text": [
      "Train Loss: 2.9991891384124756\n"
     ]
    },
    {
     "name": "stderr",
     "output_type": "stream",
     "text": [
      "\r",
      " 27%|██▋       | 67/250 [35:10<1:38:22, 32.25s/it]"
     ]
    },
    {
     "name": "stdout",
     "output_type": "stream",
     "text": [
      "Train Loss: 2.7494521141052246\n"
     ]
    },
    {
     "name": "stderr",
     "output_type": "stream",
     "text": [
      "\r",
      " 27%|██▋       | 68/250 [35:42<1:37:36, 32.18s/it]"
     ]
    },
    {
     "name": "stdout",
     "output_type": "stream",
     "text": [
      "Train Loss: 2.90533709526062\n"
     ]
    },
    {
     "name": "stderr",
     "output_type": "stream",
     "text": [
      "\r",
      " 28%|██▊       | 69/250 [36:14<1:36:39, 32.04s/it]"
     ]
    },
    {
     "name": "stdout",
     "output_type": "stream",
     "text": [
      "Train Loss: 2.8967907428741455\n"
     ]
    },
    {
     "name": "stderr",
     "output_type": "stream",
     "text": [
      "\r",
      " 28%|██▊       | 70/250 [36:45<1:35:39, 31.88s/it]"
     ]
    },
    {
     "name": "stdout",
     "output_type": "stream",
     "text": [
      "Train Loss: 2.866926670074463\n"
     ]
    },
    {
     "name": "stderr",
     "output_type": "stream",
     "text": [
      "\r",
      " 28%|██▊       | 71/250 [37:17<1:35:02, 31.86s/it]"
     ]
    },
    {
     "name": "stdout",
     "output_type": "stream",
     "text": [
      "Train Loss: 2.836390972137451\n"
     ]
    },
    {
     "name": "stderr",
     "output_type": "stream",
     "text": [
      "\r",
      " 29%|██▉       | 72/250 [37:49<1:34:59, 32.02s/it]"
     ]
    },
    {
     "name": "stdout",
     "output_type": "stream",
     "text": [
      "Train Loss: 2.85862398147583\n"
     ]
    },
    {
     "name": "stderr",
     "output_type": "stream",
     "text": [
      "\r",
      " 29%|██▉       | 73/250 [38:22<1:34:46, 32.13s/it]"
     ]
    },
    {
     "name": "stdout",
     "output_type": "stream",
     "text": [
      "Train Loss: 2.5076403617858887\n"
     ]
    },
    {
     "name": "stderr",
     "output_type": "stream",
     "text": [
      "\r",
      " 30%|██▉       | 74/250 [38:54<1:34:14, 32.13s/it]"
     ]
    },
    {
     "name": "stdout",
     "output_type": "stream",
     "text": [
      "Train Loss: 2.931793689727783\n"
     ]
    },
    {
     "name": "stderr",
     "output_type": "stream",
     "text": [
      "\r",
      " 30%|███       | 75/250 [39:26<1:33:59, 32.23s/it]"
     ]
    },
    {
     "name": "stdout",
     "output_type": "stream",
     "text": [
      "Train Loss: 2.7575552463531494\n"
     ]
    },
    {
     "name": "stderr",
     "output_type": "stream",
     "text": [
      "\r",
      " 30%|███       | 76/250 [39:59<1:33:44, 32.32s/it]"
     ]
    },
    {
     "name": "stdout",
     "output_type": "stream",
     "text": [
      "Train Loss: 2.8047196865081787\n"
     ]
    },
    {
     "name": "stderr",
     "output_type": "stream",
     "text": [
      "\r",
      " 31%|███       | 77/250 [40:31<1:33:18, 32.36s/it]"
     ]
    },
    {
     "name": "stdout",
     "output_type": "stream",
     "text": [
      "Train Loss: 2.7385048866271973\n"
     ]
    },
    {
     "name": "stderr",
     "output_type": "stream",
     "text": [
      "\r",
      " 31%|███       | 78/250 [41:04<1:32:38, 32.32s/it]"
     ]
    },
    {
     "name": "stdout",
     "output_type": "stream",
     "text": [
      "Train Loss: 2.5961692333221436\n"
     ]
    },
    {
     "name": "stderr",
     "output_type": "stream",
     "text": [
      "\r",
      " 32%|███▏      | 79/250 [41:35<1:31:43, 32.19s/it]"
     ]
    },
    {
     "name": "stdout",
     "output_type": "stream",
     "text": [
      "Train Loss: 2.6907615661621094\n"
     ]
    },
    {
     "name": "stderr",
     "output_type": "stream",
     "text": [
      "\r",
      " 32%|███▏      | 80/250 [42:07<1:30:59, 32.11s/it]"
     ]
    },
    {
     "name": "stdout",
     "output_type": "stream",
     "text": [
      "Train Loss: 2.7227864265441895\n"
     ]
    },
    {
     "name": "stderr",
     "output_type": "stream",
     "text": [
      "\r",
      " 32%|███▏      | 81/250 [42:39<1:29:56, 31.93s/it]"
     ]
    },
    {
     "name": "stdout",
     "output_type": "stream",
     "text": [
      "Train Loss: 2.743349313735962\n"
     ]
    },
    {
     "name": "stderr",
     "output_type": "stream",
     "text": [
      "\r",
      " 33%|███▎      | 82/250 [43:11<1:29:42, 32.04s/it]"
     ]
    },
    {
     "name": "stdout",
     "output_type": "stream",
     "text": [
      "Train Loss: 2.73982834815979\n"
     ]
    },
    {
     "name": "stderr",
     "output_type": "stream",
     "text": [
      "\r",
      " 33%|███▎      | 83/250 [43:42<1:28:19, 31.73s/it]"
     ]
    },
    {
     "name": "stdout",
     "output_type": "stream",
     "text": [
      "Train Loss: 2.6048011779785156\n"
     ]
    },
    {
     "name": "stderr",
     "output_type": "stream",
     "text": [
      "\r",
      " 34%|███▎      | 84/250 [44:14<1:28:10, 31.87s/it]"
     ]
    },
    {
     "name": "stdout",
     "output_type": "stream",
     "text": [
      "Train Loss: 2.677286148071289\n"
     ]
    },
    {
     "name": "stderr",
     "output_type": "stream",
     "text": [
      "\r",
      " 34%|███▍      | 85/250 [44:46<1:27:14, 31.72s/it]"
     ]
    },
    {
     "name": "stdout",
     "output_type": "stream",
     "text": [
      "Train Loss: 2.6447112560272217\n"
     ]
    },
    {
     "name": "stderr",
     "output_type": "stream",
     "text": [
      "\r",
      " 34%|███▍      | 86/250 [45:18<1:27:01, 31.84s/it]"
     ]
    },
    {
     "name": "stdout",
     "output_type": "stream",
     "text": [
      "Train Loss: 2.5557456016540527\n"
     ]
    },
    {
     "name": "stderr",
     "output_type": "stream",
     "text": [
      "\r",
      " 35%|███▍      | 87/250 [45:49<1:26:04, 31.68s/it]"
     ]
    },
    {
     "name": "stdout",
     "output_type": "stream",
     "text": [
      "Train Loss: 2.641582489013672\n"
     ]
    },
    {
     "name": "stderr",
     "output_type": "stream",
     "text": [
      "\r",
      " 35%|███▌      | 88/250 [46:20<1:25:00, 31.48s/it]"
     ]
    },
    {
     "name": "stdout",
     "output_type": "stream",
     "text": [
      "Train Loss: 2.6647748947143555\n"
     ]
    },
    {
     "name": "stderr",
     "output_type": "stream",
     "text": [
      "\r",
      " 36%|███▌      | 89/250 [46:52<1:24:25, 31.46s/it]"
     ]
    },
    {
     "name": "stdout",
     "output_type": "stream",
     "text": [
      "Train Loss: 2.713804244995117\n"
     ]
    },
    {
     "name": "stderr",
     "output_type": "stream",
     "text": [
      "\r",
      " 36%|███▌      | 90/250 [47:24<1:24:23, 31.65s/it]"
     ]
    },
    {
     "name": "stdout",
     "output_type": "stream",
     "text": [
      "Train Loss: 2.7313854694366455\n"
     ]
    },
    {
     "name": "stderr",
     "output_type": "stream",
     "text": [
      "\r",
      " 36%|███▋      | 91/250 [47:56<1:24:13, 31.78s/it]"
     ]
    },
    {
     "name": "stdout",
     "output_type": "stream",
     "text": [
      "Train Loss: 2.5104103088378906\n"
     ]
    },
    {
     "name": "stderr",
     "output_type": "stream",
     "text": [
      "\r",
      " 37%|███▋      | 92/250 [48:28<1:23:40, 31.77s/it]"
     ]
    },
    {
     "name": "stdout",
     "output_type": "stream",
     "text": [
      "Train Loss: 2.6287195682525635\n"
     ]
    },
    {
     "name": "stderr",
     "output_type": "stream",
     "text": [
      "\r",
      " 37%|███▋      | 93/250 [49:00<1:23:16, 31.82s/it]"
     ]
    },
    {
     "name": "stdout",
     "output_type": "stream",
     "text": [
      "Train Loss: 2.589596748352051\n"
     ]
    },
    {
     "name": "stderr",
     "output_type": "stream",
     "text": [
      "\r",
      " 38%|███▊      | 94/250 [49:31<1:22:25, 31.70s/it]"
     ]
    },
    {
     "name": "stdout",
     "output_type": "stream",
     "text": [
      "Train Loss: 2.6537177562713623\n"
     ]
    },
    {
     "name": "stderr",
     "output_type": "stream",
     "text": [
      "\r",
      " 38%|███▊      | 95/250 [50:03<1:21:58, 31.73s/it]"
     ]
    },
    {
     "name": "stdout",
     "output_type": "stream",
     "text": [
      "Train Loss: 2.460665702819824\n"
     ]
    },
    {
     "name": "stderr",
     "output_type": "stream",
     "text": [
      "\r",
      " 38%|███▊      | 96/250 [50:35<1:21:27, 31.74s/it]"
     ]
    },
    {
     "name": "stdout",
     "output_type": "stream",
     "text": [
      "Train Loss: 2.6272408962249756\n"
     ]
    },
    {
     "name": "stderr",
     "output_type": "stream",
     "text": [
      "\r",
      " 39%|███▉      | 97/250 [51:06<1:20:59, 31.76s/it]"
     ]
    },
    {
     "name": "stdout",
     "output_type": "stream",
     "text": [
      "Train Loss: 2.611649751663208\n"
     ]
    },
    {
     "name": "stderr",
     "output_type": "stream",
     "text": [
      "\r",
      " 39%|███▉      | 98/250 [51:37<1:19:41, 31.45s/it]"
     ]
    },
    {
     "name": "stdout",
     "output_type": "stream",
     "text": [
      "Train Loss: 2.44063663482666\n"
     ]
    },
    {
     "name": "stderr",
     "output_type": "stream",
     "text": [
      "\r",
      " 40%|███▉      | 99/250 [52:08<1:19:05, 31.43s/it]"
     ]
    },
    {
     "name": "stdout",
     "output_type": "stream",
     "text": [
      "Train Loss: 2.4935708045959473\n"
     ]
    },
    {
     "name": "stderr",
     "output_type": "stream",
     "text": [
      "\r",
      " 40%|████      | 100/250 [52:39<1:18:02, 31.21s/it]"
     ]
    },
    {
     "name": "stdout",
     "output_type": "stream",
     "text": [
      "Train Loss: 2.409193515777588\n"
     ]
    },
    {
     "name": "stderr",
     "output_type": "stream",
     "text": [
      "\r",
      " 40%|████      | 101/250 [53:10<1:17:08, 31.06s/it]"
     ]
    },
    {
     "name": "stdout",
     "output_type": "stream",
     "text": [
      "Train Loss: 2.5296080112457275\n"
     ]
    },
    {
     "name": "stderr",
     "output_type": "stream",
     "text": [
      "\r",
      " 41%|████      | 102/250 [53:40<1:16:11, 30.89s/it]"
     ]
    },
    {
     "name": "stdout",
     "output_type": "stream",
     "text": [
      "Train Loss: 2.4958877563476562\n"
     ]
    },
    {
     "name": "stderr",
     "output_type": "stream",
     "text": [
      "\r",
      " 41%|████      | 103/250 [54:12<1:15:54, 30.98s/it]"
     ]
    },
    {
     "name": "stdout",
     "output_type": "stream",
     "text": [
      "Train Loss: 2.590679168701172\n"
     ]
    },
    {
     "name": "stderr",
     "output_type": "stream",
     "text": [
      "\r",
      " 42%|████▏     | 104/250 [54:43<1:16:02, 31.25s/it]"
     ]
    },
    {
     "name": "stdout",
     "output_type": "stream",
     "text": [
      "Train Loss: 2.6269984245300293\n"
     ]
    },
    {
     "name": "stderr",
     "output_type": "stream",
     "text": [
      "\r",
      " 42%|████▏     | 105/250 [55:15<1:15:31, 31.25s/it]"
     ]
    },
    {
     "name": "stdout",
     "output_type": "stream",
     "text": [
      "Train Loss: 2.5811498165130615\n"
     ]
    },
    {
     "name": "stderr",
     "output_type": "stream",
     "text": [
      "\r",
      " 42%|████▏     | 106/250 [55:46<1:14:57, 31.23s/it]"
     ]
    },
    {
     "name": "stdout",
     "output_type": "stream",
     "text": [
      "Train Loss: 2.6402740478515625\n"
     ]
    },
    {
     "name": "stderr",
     "output_type": "stream",
     "text": [
      "\r",
      " 43%|████▎     | 107/250 [56:18<1:14:46, 31.37s/it]"
     ]
    },
    {
     "name": "stdout",
     "output_type": "stream",
     "text": [
      "Train Loss: 2.4228885173797607\n"
     ]
    },
    {
     "name": "stderr",
     "output_type": "stream",
     "text": [
      "\r",
      " 43%|████▎     | 108/250 [56:48<1:13:50, 31.20s/it]"
     ]
    },
    {
     "name": "stdout",
     "output_type": "stream",
     "text": [
      "Train Loss: 2.5843892097473145\n"
     ]
    },
    {
     "name": "stderr",
     "output_type": "stream",
     "text": [
      "\r",
      " 44%|████▎     | 109/250 [57:20<1:13:48, 31.41s/it]"
     ]
    },
    {
     "name": "stdout",
     "output_type": "stream",
     "text": [
      "Train Loss: 2.456522226333618\n"
     ]
    },
    {
     "name": "stderr",
     "output_type": "stream",
     "text": [
      "\r",
      " 44%|████▍     | 110/250 [57:52<1:13:13, 31.39s/it]"
     ]
    },
    {
     "name": "stdout",
     "output_type": "stream",
     "text": [
      "Train Loss: 2.5367212295532227\n"
     ]
    },
    {
     "name": "stderr",
     "output_type": "stream",
     "text": [
      "\r",
      " 44%|████▍     | 111/250 [58:23<1:13:01, 31.52s/it]"
     ]
    },
    {
     "name": "stdout",
     "output_type": "stream",
     "text": [
      "Train Loss: 2.433985471725464\n"
     ]
    },
    {
     "name": "stderr",
     "output_type": "stream",
     "text": [
      "\r",
      " 45%|████▍     | 112/250 [58:54<1:11:43, 31.19s/it]"
     ]
    },
    {
     "name": "stdout",
     "output_type": "stream",
     "text": [
      "Train Loss: 2.5998218059539795\n"
     ]
    },
    {
     "name": "stderr",
     "output_type": "stream",
     "text": [
      "\r",
      " 45%|████▌     | 113/250 [59:25<1:11:03, 31.12s/it]"
     ]
    },
    {
     "name": "stdout",
     "output_type": "stream",
     "text": [
      "Train Loss: 2.5738017559051514\n"
     ]
    },
    {
     "name": "stderr",
     "output_type": "stream",
     "text": [
      "\r",
      " 46%|████▌     | 114/250 [59:55<1:10:00, 30.89s/it]"
     ]
    },
    {
     "name": "stdout",
     "output_type": "stream",
     "text": [
      "Train Loss: 2.423733711242676\n"
     ]
    },
    {
     "name": "stderr",
     "output_type": "stream",
     "text": [
      "\r",
      " 46%|████▌     | 115/250 [1:00:26<1:09:27, 30.87s/it]"
     ]
    },
    {
     "name": "stdout",
     "output_type": "stream",
     "text": [
      "Train Loss: 2.607238531112671\n"
     ]
    },
    {
     "name": "stderr",
     "output_type": "stream",
     "text": [
      "\r",
      " 46%|████▋     | 116/250 [1:00:57<1:08:47, 30.80s/it]"
     ]
    },
    {
     "name": "stdout",
     "output_type": "stream",
     "text": [
      "Train Loss: 2.523813486099243\n"
     ]
    },
    {
     "name": "stderr",
     "output_type": "stream",
     "text": [
      "\r",
      " 47%|████▋     | 117/250 [1:01:27<1:07:55, 30.65s/it]"
     ]
    },
    {
     "name": "stdout",
     "output_type": "stream",
     "text": [
      "Train Loss: 2.329479455947876\n"
     ]
    },
    {
     "name": "stderr",
     "output_type": "stream",
     "text": [
      "\r",
      " 47%|████▋     | 118/250 [1:01:57<1:07:13, 30.56s/it]"
     ]
    },
    {
     "name": "stdout",
     "output_type": "stream",
     "text": [
      "Train Loss: 2.5054357051849365\n"
     ]
    },
    {
     "name": "stderr",
     "output_type": "stream",
     "text": [
      "\r",
      " 48%|████▊     | 119/250 [1:02:28<1:07:05, 30.73s/it]"
     ]
    },
    {
     "name": "stdout",
     "output_type": "stream",
     "text": [
      "Train Loss: 2.51655650138855\n"
     ]
    },
    {
     "name": "stderr",
     "output_type": "stream",
     "text": [
      "\r",
      " 48%|████▊     | 120/250 [1:02:59<1:06:13, 30.57s/it]"
     ]
    },
    {
     "name": "stdout",
     "output_type": "stream",
     "text": [
      "Train Loss: 2.380293846130371\n"
     ]
    },
    {
     "name": "stderr",
     "output_type": "stream",
     "text": [
      "\r",
      " 48%|████▊     | 121/250 [1:03:30<1:05:57, 30.68s/it]"
     ]
    },
    {
     "name": "stdout",
     "output_type": "stream",
     "text": [
      "Train Loss: 2.4686641693115234\n"
     ]
    },
    {
     "name": "stderr",
     "output_type": "stream",
     "text": [
      "\r",
      " 49%|████▉     | 122/250 [1:04:00<1:05:17, 30.60s/it]"
     ]
    },
    {
     "name": "stdout",
     "output_type": "stream",
     "text": [
      "Train Loss: 2.3209757804870605\n"
     ]
    },
    {
     "name": "stderr",
     "output_type": "stream",
     "text": [
      "\r",
      " 49%|████▉     | 123/250 [1:04:31<1:04:52, 30.65s/it]"
     ]
    },
    {
     "name": "stdout",
     "output_type": "stream",
     "text": [
      "Train Loss: 2.400566577911377\n"
     ]
    },
    {
     "name": "stderr",
     "output_type": "stream",
     "text": [
      "\r",
      " 50%|████▉     | 124/250 [1:05:02<1:04:31, 30.73s/it]"
     ]
    },
    {
     "name": "stdout",
     "output_type": "stream",
     "text": [
      "Train Loss: 2.312504291534424\n"
     ]
    },
    {
     "name": "stderr",
     "output_type": "stream",
     "text": [
      "\r",
      " 50%|█████     | 125/250 [1:05:32<1:03:54, 30.68s/it]"
     ]
    },
    {
     "name": "stdout",
     "output_type": "stream",
     "text": [
      "Train Loss: 2.4093875885009766\n"
     ]
    },
    {
     "name": "stderr",
     "output_type": "stream",
     "text": [
      "\r",
      " 50%|█████     | 126/250 [1:06:03<1:03:32, 30.75s/it]"
     ]
    },
    {
     "name": "stdout",
     "output_type": "stream",
     "text": [
      "Train Loss: 2.3602957725524902\n"
     ]
    },
    {
     "name": "stderr",
     "output_type": "stream",
     "text": [
      "\r",
      " 51%|█████     | 127/250 [1:06:34<1:03:24, 30.93s/it]"
     ]
    },
    {
     "name": "stdout",
     "output_type": "stream",
     "text": [
      "Train Loss: 2.359422206878662\n"
     ]
    },
    {
     "name": "stderr",
     "output_type": "stream",
     "text": [
      "\r",
      " 51%|█████     | 128/250 [1:07:05<1:02:58, 30.97s/it]"
     ]
    },
    {
     "name": "stdout",
     "output_type": "stream",
     "text": [
      "Train Loss: 2.5276870727539062\n"
     ]
    },
    {
     "name": "stderr",
     "output_type": "stream",
     "text": [
      "\r",
      " 52%|█████▏    | 129/250 [1:07:36<1:02:13, 30.85s/it]"
     ]
    },
    {
     "name": "stdout",
     "output_type": "stream",
     "text": [
      "Train Loss: 2.5789918899536133\n"
     ]
    },
    {
     "name": "stderr",
     "output_type": "stream",
     "text": [
      "\r",
      " 52%|█████▏    | 130/250 [1:08:07<1:01:38, 30.82s/it]"
     ]
    },
    {
     "name": "stdout",
     "output_type": "stream",
     "text": [
      "Train Loss: 2.35882568359375\n"
     ]
    },
    {
     "name": "stderr",
     "output_type": "stream",
     "text": [
      "\r",
      " 52%|█████▏    | 131/250 [1:08:37<1:01:01, 30.76s/it]"
     ]
    },
    {
     "name": "stdout",
     "output_type": "stream",
     "text": [
      "Train Loss: 2.3288216590881348\n"
     ]
    },
    {
     "name": "stderr",
     "output_type": "stream",
     "text": [
      "\r",
      " 53%|█████▎    | 132/250 [1:09:08<1:00:36, 30.82s/it]"
     ]
    },
    {
     "name": "stdout",
     "output_type": "stream",
     "text": [
      "Train Loss: 2.2998480796813965\n"
     ]
    },
    {
     "name": "stderr",
     "output_type": "stream",
     "text": [
      "\r",
      " 53%|█████▎    | 133/250 [1:09:39<59:50, 30.69s/it]  "
     ]
    },
    {
     "name": "stdout",
     "output_type": "stream",
     "text": [
      "Train Loss: 2.510432004928589\n"
     ]
    },
    {
     "name": "stderr",
     "output_type": "stream",
     "text": [
      "\r",
      " 54%|█████▎    | 134/250 [1:10:09<58:59, 30.51s/it]"
     ]
    },
    {
     "name": "stdout",
     "output_type": "stream",
     "text": [
      "Train Loss: 2.402573823928833\n"
     ]
    },
    {
     "name": "stderr",
     "output_type": "stream",
     "text": [
      "\r",
      " 54%|█████▍    | 135/250 [1:10:39<58:17, 30.42s/it]"
     ]
    },
    {
     "name": "stdout",
     "output_type": "stream",
     "text": [
      "Train Loss: 2.456371545791626\n"
     ]
    },
    {
     "name": "stderr",
     "output_type": "stream",
     "text": [
      "\r",
      " 54%|█████▍    | 136/250 [1:11:09<57:31, 30.28s/it]"
     ]
    },
    {
     "name": "stdout",
     "output_type": "stream",
     "text": [
      "Train Loss: 2.3318004608154297\n"
     ]
    },
    {
     "name": "stderr",
     "output_type": "stream",
     "text": [
      "\r",
      " 55%|█████▍    | 137/250 [1:11:40<57:09, 30.35s/it]"
     ]
    },
    {
     "name": "stdout",
     "output_type": "stream",
     "text": [
      "Train Loss: 2.559959888458252\n"
     ]
    },
    {
     "name": "stderr",
     "output_type": "stream",
     "text": [
      "\r",
      " 55%|█████▌    | 138/250 [1:12:10<56:45, 30.40s/it]"
     ]
    },
    {
     "name": "stdout",
     "output_type": "stream",
     "text": [
      "Train Loss: 2.565134048461914\n"
     ]
    },
    {
     "name": "stderr",
     "output_type": "stream",
     "text": [
      "\r",
      " 56%|█████▌    | 139/250 [1:12:41<56:46, 30.68s/it]"
     ]
    },
    {
     "name": "stdout",
     "output_type": "stream",
     "text": [
      "Train Loss: 2.296376943588257\n"
     ]
    },
    {
     "name": "stderr",
     "output_type": "stream",
     "text": [
      "\r",
      " 56%|█████▌    | 140/250 [1:13:13<56:38, 30.90s/it]"
     ]
    },
    {
     "name": "stdout",
     "output_type": "stream",
     "text": [
      "Train Loss: 2.386653423309326\n"
     ]
    },
    {
     "name": "stderr",
     "output_type": "stream",
     "text": [
      "\r",
      " 56%|█████▋    | 141/250 [1:13:44<56:15, 30.97s/it]"
     ]
    },
    {
     "name": "stdout",
     "output_type": "stream",
     "text": [
      "Train Loss: 2.3849446773529053\n"
     ]
    },
    {
     "name": "stderr",
     "output_type": "stream",
     "text": [
      "\r",
      " 57%|█████▋    | 142/250 [1:14:15<55:32, 30.86s/it]"
     ]
    },
    {
     "name": "stdout",
     "output_type": "stream",
     "text": [
      "Train Loss: 2.2451601028442383\n"
     ]
    },
    {
     "name": "stderr",
     "output_type": "stream",
     "text": [
      "\r",
      " 57%|█████▋    | 143/250 [1:14:45<54:58, 30.82s/it]"
     ]
    },
    {
     "name": "stdout",
     "output_type": "stream",
     "text": [
      "Train Loss: 2.289623498916626\n"
     ]
    },
    {
     "name": "stderr",
     "output_type": "stream",
     "text": [
      "\r",
      " 58%|█████▊    | 144/250 [1:15:16<54:12, 30.69s/it]"
     ]
    },
    {
     "name": "stdout",
     "output_type": "stream",
     "text": [
      "Train Loss: 2.3907856941223145\n"
     ]
    },
    {
     "name": "stderr",
     "output_type": "stream",
     "text": [
      "\r",
      " 58%|█████▊    | 145/250 [1:15:46<53:41, 30.68s/it]"
     ]
    },
    {
     "name": "stdout",
     "output_type": "stream",
     "text": [
      "Train Loss: 2.3045554161071777\n"
     ]
    },
    {
     "name": "stderr",
     "output_type": "stream",
     "text": [
      "\r",
      " 58%|█████▊    | 146/250 [1:16:18<53:30, 30.87s/it]"
     ]
    },
    {
     "name": "stdout",
     "output_type": "stream",
     "text": [
      "Train Loss: 2.3177802562713623\n"
     ]
    },
    {
     "name": "stderr",
     "output_type": "stream",
     "text": [
      "\r",
      " 59%|█████▉    | 147/250 [1:16:49<53:16, 31.03s/it]"
     ]
    },
    {
     "name": "stdout",
     "output_type": "stream",
     "text": [
      "Train Loss: 2.443358898162842\n"
     ]
    },
    {
     "name": "stderr",
     "output_type": "stream",
     "text": [
      "\r",
      " 59%|█████▉    | 148/250 [1:17:19<52:16, 30.75s/it]"
     ]
    },
    {
     "name": "stdout",
     "output_type": "stream",
     "text": [
      "Train Loss: 2.441258668899536\n"
     ]
    },
    {
     "name": "stderr",
     "output_type": "stream",
     "text": [
      "\r",
      " 60%|█████▉    | 149/250 [1:17:50<51:37, 30.67s/it]"
     ]
    },
    {
     "name": "stdout",
     "output_type": "stream",
     "text": [
      "Train Loss: 2.512977123260498\n"
     ]
    },
    {
     "name": "stderr",
     "output_type": "stream",
     "text": [
      "\r",
      " 60%|██████    | 150/250 [1:18:21<51:18, 30.78s/it]"
     ]
    },
    {
     "name": "stdout",
     "output_type": "stream",
     "text": [
      "Train Loss: 2.459224224090576\n"
     ]
    },
    {
     "name": "stderr",
     "output_type": "stream",
     "text": [
      "\r",
      " 60%|██████    | 151/250 [1:18:51<50:26, 30.57s/it]"
     ]
    },
    {
     "name": "stdout",
     "output_type": "stream",
     "text": [
      "Train Loss: 2.1266398429870605\n"
     ]
    },
    {
     "name": "stderr",
     "output_type": "stream",
     "text": [
      "\r",
      " 61%|██████    | 152/250 [1:19:21<49:46, 30.47s/it]"
     ]
    },
    {
     "name": "stdout",
     "output_type": "stream",
     "text": [
      "Train Loss: 2.375915765762329\n"
     ]
    },
    {
     "name": "stderr",
     "output_type": "stream",
     "text": [
      "\r",
      " 61%|██████    | 153/250 [1:19:51<49:12, 30.43s/it]"
     ]
    },
    {
     "name": "stdout",
     "output_type": "stream",
     "text": [
      "Train Loss: 2.252338409423828\n"
     ]
    },
    {
     "name": "stderr",
     "output_type": "stream",
     "text": [
      "\r",
      " 62%|██████▏   | 154/250 [1:20:21<48:28, 30.29s/it]"
     ]
    },
    {
     "name": "stdout",
     "output_type": "stream",
     "text": [
      "Train Loss: 2.1460061073303223\n"
     ]
    },
    {
     "name": "stderr",
     "output_type": "stream",
     "text": [
      "\r",
      " 62%|██████▏   | 155/250 [1:20:52<48:12, 30.45s/it]"
     ]
    },
    {
     "name": "stdout",
     "output_type": "stream",
     "text": [
      "Train Loss: 2.251965045928955\n"
     ]
    },
    {
     "name": "stderr",
     "output_type": "stream",
     "text": [
      "\r",
      " 62%|██████▏   | 156/250 [1:21:22<47:39, 30.42s/it]"
     ]
    },
    {
     "name": "stdout",
     "output_type": "stream",
     "text": [
      "Train Loss: 2.22326922416687\n"
     ]
    },
    {
     "name": "stderr",
     "output_type": "stream",
     "text": [
      "\r",
      " 63%|██████▎   | 157/250 [1:21:52<46:55, 30.28s/it]"
     ]
    },
    {
     "name": "stdout",
     "output_type": "stream",
     "text": [
      "Train Loss: 2.284468412399292\n"
     ]
    },
    {
     "name": "stderr",
     "output_type": "stream",
     "text": [
      "\r",
      " 63%|██████▎   | 158/250 [1:22:23<46:42, 30.47s/it]"
     ]
    },
    {
     "name": "stdout",
     "output_type": "stream",
     "text": [
      "Train Loss: 2.23396635055542\n"
     ]
    },
    {
     "name": "stderr",
     "output_type": "stream",
     "text": [
      "\r",
      " 64%|██████▎   | 159/250 [1:22:53<45:58, 30.32s/it]"
     ]
    },
    {
     "name": "stdout",
     "output_type": "stream",
     "text": [
      "Train Loss: 2.2709875106811523\n"
     ]
    },
    {
     "name": "stderr",
     "output_type": "stream",
     "text": [
      "\r",
      " 64%|██████▍   | 160/250 [1:23:23<45:23, 30.26s/it]"
     ]
    },
    {
     "name": "stdout",
     "output_type": "stream",
     "text": [
      "Train Loss: 2.2408230304718018\n"
     ]
    },
    {
     "name": "stderr",
     "output_type": "stream",
     "text": [
      "\r",
      " 64%|██████▍   | 161/250 [1:23:54<44:54, 30.27s/it]"
     ]
    },
    {
     "name": "stdout",
     "output_type": "stream",
     "text": [
      "Train Loss: 2.5437631607055664\n"
     ]
    },
    {
     "name": "stderr",
     "output_type": "stream",
     "text": [
      "\r",
      " 65%|██████▍   | 162/250 [1:24:24<44:22, 30.26s/it]"
     ]
    },
    {
     "name": "stdout",
     "output_type": "stream",
     "text": [
      "Train Loss: 2.2765543460845947\n"
     ]
    },
    {
     "name": "stderr",
     "output_type": "stream",
     "text": [
      "\r",
      " 65%|██████▌   | 163/250 [1:24:54<43:55, 30.30s/it]"
     ]
    },
    {
     "name": "stdout",
     "output_type": "stream",
     "text": [
      "Train Loss: 2.1473639011383057\n"
     ]
    },
    {
     "name": "stderr",
     "output_type": "stream",
     "text": [
      "\r",
      " 66%|██████▌   | 164/250 [1:25:25<43:42, 30.49s/it]"
     ]
    },
    {
     "name": "stdout",
     "output_type": "stream",
     "text": [
      "Train Loss: 2.2796924114227295\n"
     ]
    },
    {
     "name": "stderr",
     "output_type": "stream",
     "text": [
      "\r",
      " 66%|██████▌   | 165/250 [1:25:56<43:18, 30.56s/it]"
     ]
    },
    {
     "name": "stdout",
     "output_type": "stream",
     "text": [
      "Train Loss: 2.464749336242676\n"
     ]
    },
    {
     "name": "stderr",
     "output_type": "stream",
     "text": [
      "\r",
      " 66%|██████▋   | 166/250 [1:26:27<42:54, 30.65s/it]"
     ]
    },
    {
     "name": "stdout",
     "output_type": "stream",
     "text": [
      "Train Loss: 2.226282835006714\n"
     ]
    },
    {
     "name": "stderr",
     "output_type": "stream",
     "text": [
      "\r",
      " 67%|██████▋   | 167/250 [1:26:58<42:37, 30.82s/it]"
     ]
    },
    {
     "name": "stdout",
     "output_type": "stream",
     "text": [
      "Train Loss: 2.433509588241577\n"
     ]
    },
    {
     "name": "stderr",
     "output_type": "stream",
     "text": [
      "\r",
      " 67%|██████▋   | 168/250 [1:27:28<41:51, 30.63s/it]"
     ]
    },
    {
     "name": "stdout",
     "output_type": "stream",
     "text": [
      "Train Loss: 2.271265983581543\n"
     ]
    },
    {
     "name": "stderr",
     "output_type": "stream",
     "text": [
      "\r",
      " 68%|██████▊   | 169/250 [1:27:59<41:23, 30.67s/it]"
     ]
    },
    {
     "name": "stdout",
     "output_type": "stream",
     "text": [
      "Train Loss: 2.311041831970215\n"
     ]
    },
    {
     "name": "stderr",
     "output_type": "stream",
     "text": [
      "\r",
      " 68%|██████▊   | 170/250 [1:28:29<40:37, 30.46s/it]"
     ]
    },
    {
     "name": "stdout",
     "output_type": "stream",
     "text": [
      "Train Loss: 2.4015541076660156\n"
     ]
    },
    {
     "name": "stderr",
     "output_type": "stream",
     "text": [
      "\r",
      " 68%|██████▊   | 171/250 [1:29:00<40:17, 30.60s/it]"
     ]
    },
    {
     "name": "stdout",
     "output_type": "stream",
     "text": [
      "Train Loss: 2.2536227703094482\n"
     ]
    },
    {
     "name": "stderr",
     "output_type": "stream",
     "text": [
      "\r",
      " 69%|██████▉   | 172/250 [1:29:31<39:51, 30.67s/it]"
     ]
    },
    {
     "name": "stdout",
     "output_type": "stream",
     "text": [
      "Train Loss: 2.180079936981201\n"
     ]
    },
    {
     "name": "stderr",
     "output_type": "stream",
     "text": [
      "\r",
      " 69%|██████▉   | 173/250 [1:30:01<39:20, 30.66s/it]"
     ]
    },
    {
     "name": "stdout",
     "output_type": "stream",
     "text": [
      "Train Loss: 2.14896821975708\n"
     ]
    },
    {
     "name": "stderr",
     "output_type": "stream",
     "text": [
      "\r",
      " 70%|██████▉   | 174/250 [1:30:32<38:45, 30.60s/it]"
     ]
    },
    {
     "name": "stdout",
     "output_type": "stream",
     "text": [
      "Train Loss: 2.179696559906006\n"
     ]
    },
    {
     "name": "stderr",
     "output_type": "stream",
     "text": [
      "\r",
      " 70%|███████   | 175/250 [1:31:03<38:25, 30.74s/it]"
     ]
    },
    {
     "name": "stdout",
     "output_type": "stream",
     "text": [
      "Train Loss: 2.284982442855835\n"
     ]
    },
    {
     "name": "stderr",
     "output_type": "stream",
     "text": [
      "\r",
      " 70%|███████   | 176/250 [1:31:34<38:01, 30.83s/it]"
     ]
    },
    {
     "name": "stdout",
     "output_type": "stream",
     "text": [
      "Train Loss: 2.1029622554779053\n"
     ]
    },
    {
     "name": "stderr",
     "output_type": "stream",
     "text": [
      "\r",
      " 71%|███████   | 177/250 [1:32:06<37:51, 31.12s/it]"
     ]
    },
    {
     "name": "stdout",
     "output_type": "stream",
     "text": [
      "Train Loss: 2.0492265224456787\n"
     ]
    },
    {
     "name": "stderr",
     "output_type": "stream",
     "text": [
      "\r",
      " 71%|███████   | 178/250 [1:32:36<37:07, 30.94s/it]"
     ]
    },
    {
     "name": "stdout",
     "output_type": "stream",
     "text": [
      "Train Loss: 2.1655073165893555\n"
     ]
    },
    {
     "name": "stderr",
     "output_type": "stream",
     "text": [
      "\r",
      " 72%|███████▏  | 179/250 [1:33:08<36:51, 31.14s/it]"
     ]
    },
    {
     "name": "stdout",
     "output_type": "stream",
     "text": [
      "Train Loss: 2.145443916320801\n"
     ]
    },
    {
     "name": "stderr",
     "output_type": "stream",
     "text": [
      "\r",
      " 72%|███████▏  | 180/250 [1:33:39<36:29, 31.28s/it]"
     ]
    },
    {
     "name": "stdout",
     "output_type": "stream",
     "text": [
      "Train Loss: 2.6361117362976074\n"
     ]
    },
    {
     "name": "stderr",
     "output_type": "stream",
     "text": [
      "\r",
      " 72%|███████▏  | 181/250 [1:34:10<35:53, 31.20s/it]"
     ]
    },
    {
     "name": "stdout",
     "output_type": "stream",
     "text": [
      "Train Loss: 2.139732837677002\n"
     ]
    },
    {
     "name": "stderr",
     "output_type": "stream",
     "text": [
      "\r",
      " 73%|███████▎  | 182/250 [1:34:41<35:05, 30.97s/it]"
     ]
    },
    {
     "name": "stdout",
     "output_type": "stream",
     "text": [
      "Train Loss: 2.198423147201538\n"
     ]
    },
    {
     "name": "stderr",
     "output_type": "stream",
     "text": [
      "\r",
      " 73%|███████▎  | 183/250 [1:35:11<34:23, 30.80s/it]"
     ]
    },
    {
     "name": "stdout",
     "output_type": "stream",
     "text": [
      "Train Loss: 2.24401593208313\n"
     ]
    },
    {
     "name": "stderr",
     "output_type": "stream",
     "text": [
      "\r",
      " 74%|███████▎  | 184/250 [1:35:42<33:44, 30.68s/it]"
     ]
    },
    {
     "name": "stdout",
     "output_type": "stream",
     "text": [
      "Train Loss: 2.069396734237671\n"
     ]
    },
    {
     "name": "stderr",
     "output_type": "stream",
     "text": [
      "\r",
      " 74%|███████▍  | 185/250 [1:36:12<33:12, 30.66s/it]"
     ]
    },
    {
     "name": "stdout",
     "output_type": "stream",
     "text": [
      "Train Loss: 2.0441231727600098\n"
     ]
    },
    {
     "name": "stderr",
     "output_type": "stream",
     "text": [
      "\r",
      " 74%|███████▍  | 186/250 [1:36:43<32:38, 30.60s/it]"
     ]
    },
    {
     "name": "stdout",
     "output_type": "stream",
     "text": [
      "Train Loss: 2.036651849746704\n"
     ]
    },
    {
     "name": "stderr",
     "output_type": "stream",
     "text": [
      "\r",
      " 75%|███████▍  | 187/250 [1:37:13<32:06, 30.59s/it]"
     ]
    },
    {
     "name": "stdout",
     "output_type": "stream",
     "text": [
      "Train Loss: 2.105814218521118\n"
     ]
    },
    {
     "name": "stderr",
     "output_type": "stream",
     "text": [
      "\r",
      " 75%|███████▌  | 188/250 [1:37:44<31:43, 30.70s/it]"
     ]
    },
    {
     "name": "stdout",
     "output_type": "stream",
     "text": [
      "Train Loss: 2.1078715324401855\n"
     ]
    },
    {
     "name": "stderr",
     "output_type": "stream",
     "text": [
      "\r",
      " 76%|███████▌  | 189/250 [1:38:15<31:08, 30.63s/it]"
     ]
    },
    {
     "name": "stdout",
     "output_type": "stream",
     "text": [
      "Train Loss: 2.1771240234375\n"
     ]
    },
    {
     "name": "stderr",
     "output_type": "stream",
     "text": [
      "\r",
      " 76%|███████▌  | 190/250 [1:38:46<30:42, 30.71s/it]"
     ]
    },
    {
     "name": "stdout",
     "output_type": "stream",
     "text": [
      "Train Loss: 2.1337177753448486\n"
     ]
    },
    {
     "name": "stderr",
     "output_type": "stream",
     "text": [
      "\r",
      " 76%|███████▋  | 191/250 [1:39:16<30:04, 30.58s/it]"
     ]
    },
    {
     "name": "stdout",
     "output_type": "stream",
     "text": [
      "Train Loss: 1.9625576734542847\n"
     ]
    },
    {
     "name": "stderr",
     "output_type": "stream",
     "text": [
      "\r",
      " 77%|███████▋  | 192/250 [1:39:46<29:30, 30.52s/it]"
     ]
    },
    {
     "name": "stdout",
     "output_type": "stream",
     "text": [
      "Train Loss: 2.1983182430267334\n"
     ]
    },
    {
     "name": "stderr",
     "output_type": "stream",
     "text": [
      "\r",
      " 77%|███████▋  | 193/250 [1:40:16<28:51, 30.37s/it]"
     ]
    },
    {
     "name": "stdout",
     "output_type": "stream",
     "text": [
      "Train Loss: 2.4785044193267822\n"
     ]
    },
    {
     "name": "stderr",
     "output_type": "stream",
     "text": [
      "\r",
      " 78%|███████▊  | 194/250 [1:40:46<28:14, 30.25s/it]"
     ]
    },
    {
     "name": "stdout",
     "output_type": "stream",
     "text": [
      "Train Loss: 2.002462148666382\n"
     ]
    },
    {
     "name": "stderr",
     "output_type": "stream",
     "text": [
      "\r",
      " 78%|███████▊  | 195/250 [1:41:16<27:40, 30.18s/it]"
     ]
    },
    {
     "name": "stdout",
     "output_type": "stream",
     "text": [
      "Train Loss: 2.2556262016296387\n"
     ]
    },
    {
     "name": "stderr",
     "output_type": "stream",
     "text": [
      "\r",
      " 78%|███████▊  | 196/250 [1:41:47<27:10, 30.20s/it]"
     ]
    },
    {
     "name": "stdout",
     "output_type": "stream",
     "text": [
      "Train Loss: 2.34643292427063\n"
     ]
    },
    {
     "name": "stderr",
     "output_type": "stream",
     "text": [
      "\r",
      " 79%|███████▉  | 197/250 [1:42:17<26:47, 30.34s/it]"
     ]
    },
    {
     "name": "stdout",
     "output_type": "stream",
     "text": [
      "Train Loss: 2.522667407989502\n"
     ]
    },
    {
     "name": "stderr",
     "output_type": "stream",
     "text": [
      "\r",
      " 79%|███████▉  | 198/250 [1:42:49<26:32, 30.63s/it]"
     ]
    },
    {
     "name": "stdout",
     "output_type": "stream",
     "text": [
      "Train Loss: 2.169942617416382\n"
     ]
    },
    {
     "name": "stderr",
     "output_type": "stream",
     "text": [
      "\r",
      " 80%|███████▉  | 199/250 [1:43:19<26:00, 30.59s/it]"
     ]
    },
    {
     "name": "stdout",
     "output_type": "stream",
     "text": [
      "Train Loss: 2.2558305263519287\n"
     ]
    },
    {
     "name": "stderr",
     "output_type": "stream",
     "text": [
      " 80%|███████▉  | 199/250 [1:43:21<26:29, 31.16s/it]\n"
     ]
    },
    {
     "ename": "KeyboardInterrupt",
     "evalue": "",
     "output_type": "error",
     "traceback": [
      "\u001B[0;31m---------------------------------------------------------------------------\u001B[0m",
      "\u001B[0;31mKeyboardInterrupt\u001B[0m                         Traceback (most recent call last)",
      "Cell \u001B[0;32mIn [8], line 20\u001B[0m\n\u001B[1;32m     17\u001B[0m batch \u001B[38;5;241m=\u001B[39m {k: v\u001B[38;5;241m.\u001B[39mto(DEVICE) \u001B[38;5;28;01mfor\u001B[39;00m k, v \u001B[38;5;129;01min\u001B[39;00m batch\u001B[38;5;241m.\u001B[39mitems()}\n\u001B[1;32m     19\u001B[0m model\u001B[38;5;241m.\u001B[39mtrain()\n\u001B[0;32m---> 20\u001B[0m outputs \u001B[38;5;241m=\u001B[39m \u001B[43mmodel\u001B[49m\u001B[43m(\u001B[49m\u001B[38;5;241;43m*\u001B[39;49m\u001B[38;5;241;43m*\u001B[39;49m\u001B[43mbatch\u001B[49m\u001B[43m)\u001B[49m\n\u001B[1;32m     21\u001B[0m loss \u001B[38;5;241m=\u001B[39m outputs\u001B[38;5;241m.\u001B[39mloss\n\u001B[1;32m     22\u001B[0m loss\u001B[38;5;241m.\u001B[39mbackward()\n",
      "File \u001B[0;32m~/personalized-chat-bot/env/lib/python3.8/site-packages/torch/nn/modules/module.py:1130\u001B[0m, in \u001B[0;36mModule._call_impl\u001B[0;34m(self, *input, **kwargs)\u001B[0m\n\u001B[1;32m   1126\u001B[0m \u001B[38;5;66;03m# If we don't have any hooks, we want to skip the rest of the logic in\u001B[39;00m\n\u001B[1;32m   1127\u001B[0m \u001B[38;5;66;03m# this function, and just call forward.\u001B[39;00m\n\u001B[1;32m   1128\u001B[0m \u001B[38;5;28;01mif\u001B[39;00m \u001B[38;5;129;01mnot\u001B[39;00m (\u001B[38;5;28mself\u001B[39m\u001B[38;5;241m.\u001B[39m_backward_hooks \u001B[38;5;129;01mor\u001B[39;00m \u001B[38;5;28mself\u001B[39m\u001B[38;5;241m.\u001B[39m_forward_hooks \u001B[38;5;129;01mor\u001B[39;00m \u001B[38;5;28mself\u001B[39m\u001B[38;5;241m.\u001B[39m_forward_pre_hooks \u001B[38;5;129;01mor\u001B[39;00m _global_backward_hooks\n\u001B[1;32m   1129\u001B[0m         \u001B[38;5;129;01mor\u001B[39;00m _global_forward_hooks \u001B[38;5;129;01mor\u001B[39;00m _global_forward_pre_hooks):\n\u001B[0;32m-> 1130\u001B[0m     \u001B[38;5;28;01mreturn\u001B[39;00m \u001B[43mforward_call\u001B[49m\u001B[43m(\u001B[49m\u001B[38;5;241;43m*\u001B[39;49m\u001B[38;5;28;43minput\u001B[39;49m\u001B[43m,\u001B[49m\u001B[43m \u001B[49m\u001B[38;5;241;43m*\u001B[39;49m\u001B[38;5;241;43m*\u001B[39;49m\u001B[43mkwargs\u001B[49m\u001B[43m)\u001B[49m\n\u001B[1;32m   1131\u001B[0m \u001B[38;5;66;03m# Do not call functions when jit is used\u001B[39;00m\n\u001B[1;32m   1132\u001B[0m full_backward_hooks, non_full_backward_hooks \u001B[38;5;241m=\u001B[39m [], []\n",
      "File \u001B[0;32m~/personalized-chat-bot/notebooks/gilyazev/../../../petals/src/bloom/model.py:350\u001B[0m, in \u001B[0;36mBloomForCausalLM.forward\u001B[0;34m(self, input_ids, past_key_values, attention_mask, position_ids, head_mask, inputs_embeds, labels, use_cache, output_attentions, output_hidden_states, return_dict)\u001B[0m\n\u001B[1;32m    342\u001B[0m \u001B[38;5;124mr\u001B[39m\u001B[38;5;124;03m\"\"\"\u001B[39;00m\n\u001B[1;32m    343\u001B[0m \u001B[38;5;124;03mlabels (`torch.LongTensor` of shape `(batch_size, sequence_length)`, *optional*):\u001B[39;00m\n\u001B[1;32m    344\u001B[0m \u001B[38;5;124;03m    Labels for language modeling. Note that the labels **are shifted** inside the model, i.e. you can set\u001B[39;00m\n\u001B[1;32m    345\u001B[0m \u001B[38;5;124;03m    `labels = input_ids` Indices are selected in `[-100, 0, ..., config.vocab_size]` All labels set to `-100`\u001B[39;00m\n\u001B[1;32m    346\u001B[0m \u001B[38;5;124;03m    are ignored (masked), the loss is only computed for labels in `[0, ..., config.vocab_size]`\u001B[39;00m\n\u001B[1;32m    347\u001B[0m \u001B[38;5;124;03m\"\"\"\u001B[39;00m\n\u001B[1;32m    348\u001B[0m return_dict \u001B[38;5;241m=\u001B[39m return_dict \u001B[38;5;28;01mif\u001B[39;00m return_dict \u001B[38;5;129;01mis\u001B[39;00m \u001B[38;5;129;01mnot\u001B[39;00m \u001B[38;5;28;01mNone\u001B[39;00m \u001B[38;5;28;01melse\u001B[39;00m \u001B[38;5;28mself\u001B[39m\u001B[38;5;241m.\u001B[39mconfig\u001B[38;5;241m.\u001B[39muse_return_dict\n\u001B[0;32m--> 350\u001B[0m transformer_outputs \u001B[38;5;241m=\u001B[39m \u001B[38;5;28;43mself\u001B[39;49m\u001B[38;5;241;43m.\u001B[39;49m\u001B[43mtransformer\u001B[49m\u001B[43m(\u001B[49m\n\u001B[1;32m    351\u001B[0m \u001B[43m    \u001B[49m\u001B[43minput_ids\u001B[49m\u001B[43m,\u001B[49m\n\u001B[1;32m    352\u001B[0m \u001B[43m    \u001B[49m\u001B[43mpast_key_values\u001B[49m\u001B[38;5;241;43m=\u001B[39;49m\u001B[43mpast_key_values\u001B[49m\u001B[43m,\u001B[49m\n\u001B[1;32m    353\u001B[0m \u001B[43m    \u001B[49m\u001B[43mattention_mask\u001B[49m\u001B[38;5;241;43m=\u001B[39;49m\u001B[43mattention_mask\u001B[49m\u001B[43m,\u001B[49m\n\u001B[1;32m    354\u001B[0m \u001B[43m    \u001B[49m\u001B[43mposition_ids\u001B[49m\u001B[38;5;241;43m=\u001B[39;49m\u001B[43mposition_ids\u001B[49m\u001B[43m,\u001B[49m\n\u001B[1;32m    355\u001B[0m \u001B[43m    \u001B[49m\u001B[43mhead_mask\u001B[49m\u001B[38;5;241;43m=\u001B[39;49m\u001B[43mhead_mask\u001B[49m\u001B[43m,\u001B[49m\n\u001B[1;32m    356\u001B[0m \u001B[43m    \u001B[49m\u001B[43minputs_embeds\u001B[49m\u001B[38;5;241;43m=\u001B[39;49m\u001B[43minputs_embeds\u001B[49m\u001B[43m,\u001B[49m\n\u001B[1;32m    357\u001B[0m \u001B[43m    \u001B[49m\u001B[43muse_cache\u001B[49m\u001B[38;5;241;43m=\u001B[39;49m\u001B[43muse_cache\u001B[49m\u001B[43m,\u001B[49m\n\u001B[1;32m    358\u001B[0m \u001B[43m    \u001B[49m\u001B[43moutput_attentions\u001B[49m\u001B[38;5;241;43m=\u001B[39;49m\u001B[43moutput_attentions\u001B[49m\u001B[43m,\u001B[49m\n\u001B[1;32m    359\u001B[0m \u001B[43m    \u001B[49m\u001B[43moutput_hidden_states\u001B[49m\u001B[38;5;241;43m=\u001B[39;49m\u001B[43moutput_hidden_states\u001B[49m\u001B[43m,\u001B[49m\n\u001B[1;32m    360\u001B[0m \u001B[43m    \u001B[49m\u001B[43mreturn_dict\u001B[49m\u001B[38;5;241;43m=\u001B[39;49m\u001B[43mreturn_dict\u001B[49m\u001B[43m,\u001B[49m\n\u001B[1;32m    361\u001B[0m \u001B[43m\u001B[49m\u001B[43m)\u001B[49m\n\u001B[1;32m    362\u001B[0m hidden_states \u001B[38;5;241m=\u001B[39m transformer_outputs[\u001B[38;5;241m0\u001B[39m]\n\u001B[1;32m    364\u001B[0m lm_logits \u001B[38;5;241m=\u001B[39m \u001B[38;5;28mself\u001B[39m\u001B[38;5;241m.\u001B[39mlm_head(hidden_states)\n",
      "File \u001B[0;32m~/personalized-chat-bot/env/lib/python3.8/site-packages/torch/nn/modules/module.py:1130\u001B[0m, in \u001B[0;36mModule._call_impl\u001B[0;34m(self, *input, **kwargs)\u001B[0m\n\u001B[1;32m   1126\u001B[0m \u001B[38;5;66;03m# If we don't have any hooks, we want to skip the rest of the logic in\u001B[39;00m\n\u001B[1;32m   1127\u001B[0m \u001B[38;5;66;03m# this function, and just call forward.\u001B[39;00m\n\u001B[1;32m   1128\u001B[0m \u001B[38;5;28;01mif\u001B[39;00m \u001B[38;5;129;01mnot\u001B[39;00m (\u001B[38;5;28mself\u001B[39m\u001B[38;5;241m.\u001B[39m_backward_hooks \u001B[38;5;129;01mor\u001B[39;00m \u001B[38;5;28mself\u001B[39m\u001B[38;5;241m.\u001B[39m_forward_hooks \u001B[38;5;129;01mor\u001B[39;00m \u001B[38;5;28mself\u001B[39m\u001B[38;5;241m.\u001B[39m_forward_pre_hooks \u001B[38;5;129;01mor\u001B[39;00m _global_backward_hooks\n\u001B[1;32m   1129\u001B[0m         \u001B[38;5;129;01mor\u001B[39;00m _global_forward_hooks \u001B[38;5;129;01mor\u001B[39;00m _global_forward_pre_hooks):\n\u001B[0;32m-> 1130\u001B[0m     \u001B[38;5;28;01mreturn\u001B[39;00m \u001B[43mforward_call\u001B[49m\u001B[43m(\u001B[49m\u001B[38;5;241;43m*\u001B[39;49m\u001B[38;5;28;43minput\u001B[39;49m\u001B[43m,\u001B[49m\u001B[43m \u001B[49m\u001B[38;5;241;43m*\u001B[39;49m\u001B[38;5;241;43m*\u001B[39;49m\u001B[43mkwargs\u001B[49m\u001B[43m)\u001B[49m\n\u001B[1;32m   1131\u001B[0m \u001B[38;5;66;03m# Do not call functions when jit is used\u001B[39;00m\n\u001B[1;32m   1132\u001B[0m full_backward_hooks, non_full_backward_hooks \u001B[38;5;241m=\u001B[39m [], []\n",
      "File \u001B[0;32m~/personalized-chat-bot/notebooks/gilyazev/../../../petals/src/client/remote_model.py:135\u001B[0m, in \u001B[0;36mDistributedBloomModel.forward\u001B[0;34m(self, input_ids, inputs_embeds, attention_mask, **kwargs)\u001B[0m\n\u001B[1;32m    132\u001B[0m output_shape \u001B[38;5;241m=\u001B[39m input_shape \u001B[38;5;241m+\u001B[39m (hidden_states\u001B[38;5;241m.\u001B[39msize(\u001B[38;5;241m-\u001B[39m\u001B[38;5;241m1\u001B[39m),)\n\u001B[1;32m    134\u001B[0m \u001B[38;5;28;01mif\u001B[39;00m \u001B[38;5;28mself\u001B[39m\u001B[38;5;241m.\u001B[39mconfig\u001B[38;5;241m.\u001B[39mtuning_mode \u001B[38;5;129;01mand\u001B[39;00m \u001B[38;5;124m\"\u001B[39m\u001B[38;5;124mptune\u001B[39m\u001B[38;5;124m\"\u001B[39m \u001B[38;5;129;01min\u001B[39;00m \u001B[38;5;28mself\u001B[39m\u001B[38;5;241m.\u001B[39mconfig\u001B[38;5;241m.\u001B[39mtuning_mode:\n\u001B[0;32m--> 135\u001B[0m     hidden_states \u001B[38;5;241m=\u001B[39m \u001B[38;5;28;43mself\u001B[39;49m\u001B[38;5;241;43m.\u001B[39;49m\u001B[43mh\u001B[49m\u001B[43m(\u001B[49m\u001B[43mhidden_states\u001B[49m\u001B[43m,\u001B[49m\u001B[43m \u001B[49m\u001B[43mprompts\u001B[49m\u001B[38;5;241;43m=\u001B[39;49m\u001B[43mintermediate_prompts\u001B[49m\u001B[43m)\u001B[49m\n\u001B[1;32m    136\u001B[0m \u001B[38;5;28;01melse\u001B[39;00m:\n\u001B[1;32m    137\u001B[0m     hidden_states \u001B[38;5;241m=\u001B[39m \u001B[38;5;28mself\u001B[39m\u001B[38;5;241m.\u001B[39mh(hidden_states)\n",
      "File \u001B[0;32m~/personalized-chat-bot/env/lib/python3.8/site-packages/torch/nn/modules/module.py:1130\u001B[0m, in \u001B[0;36mModule._call_impl\u001B[0;34m(self, *input, **kwargs)\u001B[0m\n\u001B[1;32m   1126\u001B[0m \u001B[38;5;66;03m# If we don't have any hooks, we want to skip the rest of the logic in\u001B[39;00m\n\u001B[1;32m   1127\u001B[0m \u001B[38;5;66;03m# this function, and just call forward.\u001B[39;00m\n\u001B[1;32m   1128\u001B[0m \u001B[38;5;28;01mif\u001B[39;00m \u001B[38;5;129;01mnot\u001B[39;00m (\u001B[38;5;28mself\u001B[39m\u001B[38;5;241m.\u001B[39m_backward_hooks \u001B[38;5;129;01mor\u001B[39;00m \u001B[38;5;28mself\u001B[39m\u001B[38;5;241m.\u001B[39m_forward_hooks \u001B[38;5;129;01mor\u001B[39;00m \u001B[38;5;28mself\u001B[39m\u001B[38;5;241m.\u001B[39m_forward_pre_hooks \u001B[38;5;129;01mor\u001B[39;00m _global_backward_hooks\n\u001B[1;32m   1129\u001B[0m         \u001B[38;5;129;01mor\u001B[39;00m _global_forward_hooks \u001B[38;5;129;01mor\u001B[39;00m _global_forward_pre_hooks):\n\u001B[0;32m-> 1130\u001B[0m     \u001B[38;5;28;01mreturn\u001B[39;00m \u001B[43mforward_call\u001B[49m\u001B[43m(\u001B[49m\u001B[38;5;241;43m*\u001B[39;49m\u001B[38;5;28;43minput\u001B[39;49m\u001B[43m,\u001B[49m\u001B[43m \u001B[49m\u001B[38;5;241;43m*\u001B[39;49m\u001B[38;5;241;43m*\u001B[39;49m\u001B[43mkwargs\u001B[49m\u001B[43m)\u001B[49m\n\u001B[1;32m   1131\u001B[0m \u001B[38;5;66;03m# Do not call functions when jit is used\u001B[39;00m\n\u001B[1;32m   1132\u001B[0m full_backward_hooks, non_full_backward_hooks \u001B[38;5;241m=\u001B[39m [], []\n",
      "File \u001B[0;32m~/personalized-chat-bot/notebooks/gilyazev/../../../petals/src/client/remote_sequential.py:54\u001B[0m, in \u001B[0;36mRemoteSequential.forward\u001B[0;34m(self, inputs, prompts)\u001B[0m\n\u001B[1;32m     53\u001B[0m \u001B[38;5;28;01mdef\u001B[39;00m \u001B[38;5;21mforward\u001B[39m(\u001B[38;5;28mself\u001B[39m, inputs: torch\u001B[38;5;241m.\u001B[39mTensor, prompts: torch\u001B[38;5;241m.\u001B[39mTensor \u001B[38;5;241m=\u001B[39m DUMMY):\n\u001B[0;32m---> 54\u001B[0m     outputs \u001B[38;5;241m=\u001B[39m \u001B[43m_RemoteSequentialAutogradFunction\u001B[49m\u001B[38;5;241;43m.\u001B[39;49m\u001B[43mapply\u001B[49m\u001B[43m(\u001B[49m\u001B[43minputs\u001B[49m\u001B[43m,\u001B[49m\u001B[43m \u001B[49m\u001B[43mprompts\u001B[49m\u001B[43m,\u001B[49m\u001B[43m \u001B[49m\u001B[38;5;28;43mself\u001B[39;49m\u001B[38;5;241;43m.\u001B[39;49m\u001B[43msequence_manager\u001B[49m\u001B[43m)\u001B[49m\n\u001B[1;32m     55\u001B[0m     \u001B[38;5;28;01mreturn\u001B[39;00m outputs\n",
      "File \u001B[0;32m~/personalized-chat-bot/notebooks/gilyazev/../../../petals/src/client/sequential_autograd.py:159\u001B[0m, in \u001B[0;36m_RemoteSequentialAutogradFunction.forward\u001B[0;34m(ctx, inputs, prompts, sequence_manager)\u001B[0m\n\u001B[1;32m    156\u001B[0m     prompt_batches: Sequence[torch\u001B[38;5;241m.\u001B[39mTensor] \u001B[38;5;241m=\u001B[39m prompts\u001B[38;5;241m.\u001B[39mdetach()\u001B[38;5;241m.\u001B[39msplit(batch_size, dim\u001B[38;5;241m=\u001B[39m\u001B[38;5;241m1\u001B[39m)\n\u001B[1;32m    158\u001B[0m sequence_manager\u001B[38;5;241m.\u001B[39mrpc_info  \u001B[38;5;66;03m# lazy init\u001B[39;00m\n\u001B[0;32m--> 159\u001B[0m outputs \u001B[38;5;241m=\u001B[39m \u001B[43mRemoteExpertWorker\u001B[49m\u001B[38;5;241;43m.\u001B[39;49m\u001B[43mrun_coroutine\u001B[49m\u001B[43m(\u001B[49m\u001B[43m_gather_forward\u001B[49m\u001B[43m(\u001B[49m\u001B[43minput_batches\u001B[49m\u001B[43m,\u001B[49m\u001B[43m \u001B[49m\u001B[43mprompt_batches\u001B[49m\u001B[43m,\u001B[49m\u001B[43m \u001B[49m\u001B[43msequence_manager\u001B[49m\u001B[43m)\u001B[49m\u001B[43m)\u001B[49m\n\u001B[1;32m    160\u001B[0m \u001B[38;5;28;01massert\u001B[39;00m \u001B[38;5;28mlen\u001B[39m(outputs) \u001B[38;5;241m==\u001B[39m \u001B[38;5;28mlen\u001B[39m(input_batches)\n\u001B[1;32m    162\u001B[0m output_batches \u001B[38;5;241m=\u001B[39m [output[\u001B[38;5;241m0\u001B[39m] \u001B[38;5;28;01mfor\u001B[39;00m output \u001B[38;5;129;01min\u001B[39;00m outputs]\n",
      "File \u001B[0;32m~/personalized-chat-bot/env/lib/python3.8/site-packages/hivemind/moe/client/remote_expert_worker.py:47\u001B[0m, in \u001B[0;36mRemoteExpertWorker.run_coroutine\u001B[0;34m(cls, coro, return_future)\u001B[0m\n\u001B[1;32m     44\u001B[0m \u001B[38;5;28;01mif\u001B[39;00m return_future:\n\u001B[1;32m     45\u001B[0m     \u001B[38;5;28;01mreturn\u001B[39;00m future\n\u001B[0;32m---> 47\u001B[0m result \u001B[38;5;241m=\u001B[39m \u001B[43mfuture\u001B[49m\u001B[38;5;241;43m.\u001B[39;49m\u001B[43mresult\u001B[49m\u001B[43m(\u001B[49m\u001B[43m)\u001B[49m\n\u001B[1;32m     48\u001B[0m \u001B[38;5;28;01mreturn\u001B[39;00m result\n",
      "File \u001B[0;32m/usr/lib/python3.8/concurrent/futures/_base.py:439\u001B[0m, in \u001B[0;36mFuture.result\u001B[0;34m(self, timeout)\u001B[0m\n\u001B[1;32m    436\u001B[0m \u001B[38;5;28;01melif\u001B[39;00m \u001B[38;5;28mself\u001B[39m\u001B[38;5;241m.\u001B[39m_state \u001B[38;5;241m==\u001B[39m FINISHED:\n\u001B[1;32m    437\u001B[0m     \u001B[38;5;28;01mreturn\u001B[39;00m \u001B[38;5;28mself\u001B[39m\u001B[38;5;241m.\u001B[39m__get_result()\n\u001B[0;32m--> 439\u001B[0m \u001B[38;5;28;43mself\u001B[39;49m\u001B[38;5;241;43m.\u001B[39;49m\u001B[43m_condition\u001B[49m\u001B[38;5;241;43m.\u001B[39;49m\u001B[43mwait\u001B[49m\u001B[43m(\u001B[49m\u001B[43mtimeout\u001B[49m\u001B[43m)\u001B[49m\n\u001B[1;32m    441\u001B[0m \u001B[38;5;28;01mif\u001B[39;00m \u001B[38;5;28mself\u001B[39m\u001B[38;5;241m.\u001B[39m_state \u001B[38;5;129;01min\u001B[39;00m [CANCELLED, CANCELLED_AND_NOTIFIED]:\n\u001B[1;32m    442\u001B[0m     \u001B[38;5;28;01mraise\u001B[39;00m CancelledError()\n",
      "File \u001B[0;32m/usr/lib/python3.8/threading.py:302\u001B[0m, in \u001B[0;36mCondition.wait\u001B[0;34m(self, timeout)\u001B[0m\n\u001B[1;32m    300\u001B[0m \u001B[38;5;28;01mtry\u001B[39;00m:    \u001B[38;5;66;03m# restore state no matter what (e.g., KeyboardInterrupt)\u001B[39;00m\n\u001B[1;32m    301\u001B[0m     \u001B[38;5;28;01mif\u001B[39;00m timeout \u001B[38;5;129;01mis\u001B[39;00m \u001B[38;5;28;01mNone\u001B[39;00m:\n\u001B[0;32m--> 302\u001B[0m         \u001B[43mwaiter\u001B[49m\u001B[38;5;241;43m.\u001B[39;49m\u001B[43macquire\u001B[49m\u001B[43m(\u001B[49m\u001B[43m)\u001B[49m\n\u001B[1;32m    303\u001B[0m         gotit \u001B[38;5;241m=\u001B[39m \u001B[38;5;28;01mTrue\u001B[39;00m\n\u001B[1;32m    304\u001B[0m     \u001B[38;5;28;01melse\u001B[39;00m:\n",
      "\u001B[0;31mKeyboardInterrupt\u001B[0m: "
     ]
    }
   ],
   "source": [
    "# wandb.init(\n",
    "#     project=\"bloom-personachat\",\n",
    "#     config={\n",
    "#         \"num_samples\": NUM_SAMPLES,\n",
    "#         \"batch_size\": BATCH_SIZE,\n",
    "#         \"learning_rate\": LR,\n",
    "#         \"weight_decay\": WEIGHT_DECAY,\n",
    "#         \"num_prefix_tokens\": NUM_PREFIX_TOKENS,\n",
    "#         \"model_name\": MODEL_NAME,\n",
    "#         \"seed\": SEED,\n",
    "#     }\n",
    "# )\n",
    "loss_hist = []\n",
    "print('wandb initialized\\n')\n",
    "\n",
    "for batch in tqdm(train_dataloader):\n",
    "    batch = {k: v.to(DEVICE) for k, v in batch.items()}\n",
    "\n",
    "    model.train()\n",
    "    outputs = model(**batch)\n",
    "    loss = outputs.loss\n",
    "    loss.backward()\n",
    "\n",
    "    optimizer.step()\n",
    "    lr_scheduler.step()\n",
    "    optimizer.zero_grad()\n",
    "    print(f\"Train Loss: {loss}\")\n",
    "    loss_hist.append(loss)\n",
    "\n",
    "    wandb.log({\"Train Loss\": loss})"
   ]
  },
  {
   "cell_type": "code",
   "execution_count": 16,
   "id": "5b0e6d92",
   "metadata": {},
   "outputs": [
    {
     "name": "stdout",
     "output_type": "stream",
     "text": [
      "CPU times: user 28min 16s, sys: 7.11 s, total: 28min 23s\n",
      "Wall time: 1min 57s\n"
     ]
    }
   ],
   "source": [
    "%%time\n",
    "outputs = model.generate(\n",
    "    tokenizer(['something'], return_tensors='pt')['input_ids'],\n",
    "    temperature=1.0,\n",
    "    do_sample=True,\n",
    "    top_k=10,\n",
    "    eos_token_id=tokenizer.eos_token_id,\n",
    "    max_new_tokens=250,\n",
    ")"
   ]
  },
  {
   "cell_type": "code",
   "execution_count": 20,
   "id": "950ce3fa",
   "metadata": {},
   "outputs": [
    {
     "name": "stdout",
     "output_type": "stream",
     "text": [
      "something else, it shouldnt be able to recognize the word \"engineer\", as it does not exist in its lexicon.\n",
      "Is it possible to do this?\n",
      "Thanks in advance,\n",
      "Alex.\n",
      "\n",
      "A:\n",
      "\n",
      "The problem is that the \"engineer\" word isn't in your lexicon, therefore, when you run the model and the model sees \"engineer\", it doesn't understand it. You can try the following code to make it understand it (just replace \"engineer\" with the word you want):\n",
      "from __future__ import print_function\n",
      "\n",
      "from gensim import models\n",
      "from sklearn.externals.joblib import Parallel, delayed\n",
      "from sklearn.preprocessing import StandardScaler\n",
      "from gensim.models import Word2Vec, SkipGramModel\n",
      "from gensim.models.word2vec.utils import pad_sequences\n",
      "\n",
      "import numpy as np\n",
      "from scipy.sparse import csr_matrix \n",
      "from sklearn import preprocessing\n",
      "from sklearn.feature_selection import f_classif\n",
      "from sklearn.cross_validation import KfoldCV as sklearnCV\n",
      "from gensim.models import Word2Vec, SkipGramModel\n",
      "from gensim.models.word2vec.utils import pad_sequences\n",
      "from sklearn.metrics\n"
     ]
    }
   ],
   "source": [
    "print(tokenizer.decode(outputs[0]))"
   ]
  },
  {
   "cell_type": "markdown",
   "id": "0f36cb80",
   "metadata": {},
   "source": [
    "Try to talk with the trained model! Submit an empty input to stop the execution.\n",
    "\n",
    "\n",
    "__Note__: In this example, we the whole dialogue as a prefix when generating each new replica. In the future, we will support a faster \"interactive\" dialogue mode, so generating a new replica will be able to reuse inference caches from the previous replica."
   ]
  },
  {
   "cell_type": "code",
   "execution_count": null,
   "id": "720181b7",
   "metadata": {},
   "outputs": [],
   "source": [
    "MAX_TOKENS = 16\n",
    "TOP_K = 100\n",
    "TEMPERATURE = 0.6\n",
    "dialog = \"\"\n",
    "\n",
    "while True:\n",
    "    user_phrase = input()\n",
    "    if len(user_phrase) == 0:\n",
    "        break\n",
    "    dialog += f\"{user_phrase}\\n-----\\n\"\n",
    "    inputs = tokenizer([dialog], return_tensors='pt')['input_ids']\n",
    "    outputs = model.generate(\n",
    "        inputs,\n",
    "        temperature=TEMPERATURE,\n",
    "        do_sample=True,\n",
    "        top_k=TOP_K,\n",
    "        eos_token_id=tokenizer.eos_token_id,\n",
    "        max_new_tokens=MAX_TOKENS,\n",
    "    )\n",
    "    bloom_answer = tokenizer.batch_decode(outputs)[0]\n",
    "    bloom_answer = bloom_answer[len(dialog):].split(\"\\n\")[0]\n",
    "    print(bloom_answer)\n",
    "    dialog += f\"{bloom_answer}\\n-----\\n\""
   ]
  }
 ],
 "metadata": {
  "kernelspec": {
   "display_name": "env",
   "language": "python",
   "name": "env"
  },
  "language_info": {
   "codemirror_mode": {
    "name": "ipython",
    "version": 3
   },
   "file_extension": ".py",
   "mimetype": "text/x-python",
   "name": "python",
   "nbconvert_exporter": "python",
   "pygments_lexer": "ipython3",
   "version": "3.8.10"
  }
 },
 "nbformat": 4,
 "nbformat_minor": 5
}